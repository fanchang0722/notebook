{
 "cells": [
  {
   "cell_type": "code",
   "execution_count": 1,
   "metadata": {},
   "outputs": [],
   "source": [
    "import matplotlib.pylab as plt\n",
    "import numpy as np\n",
    "import pandas as pd\n",
    "import os\n",
    "import seaborn as sns"
   ]
  },
  {
   "cell_type": "code",
   "execution_count": 58,
   "metadata": {},
   "outputs": [
    {
     "data": {
      "text/html": [
       "<div>\n",
       "<style scoped>\n",
       "    .dataframe tbody tr th:only-of-type {\n",
       "        vertical-align: middle;\n",
       "    }\n",
       "\n",
       "    .dataframe tbody tr th {\n",
       "        vertical-align: top;\n",
       "    }\n",
       "\n",
       "    .dataframe thead th {\n",
       "        text-align: right;\n",
       "    }\n",
       "</style>\n",
       "<table border=\"1\" class=\"dataframe\">\n",
       "  <thead>\n",
       "    <tr style=\"text-align: right;\">\n",
       "      <th></th>\n",
       "      <th>Station</th>\n",
       "      <th>sn</th>\n",
       "      <th>Operator</th>\n",
       "      <th>Phase</th>\n",
       "      <th>SFR_55lp_60IH_BL_H</th>\n",
       "      <th>SFR_55lp_60IH_TL_H</th>\n",
       "      <th>SFR_55lp_60IH_TR_V</th>\n",
       "      <th>SFR_55lp_30IH_TR_H</th>\n",
       "      <th>SFR_55lp_Center_V</th>\n",
       "      <th>SFR_55lp_30IH_BL_V</th>\n",
       "      <th>...</th>\n",
       "      <th>SFR_55lp_60IH_TR_H</th>\n",
       "      <th>SFR_55lp_30IH_BR_H</th>\n",
       "      <th>corner_balance_IH60_H</th>\n",
       "      <th>SFR_55lp_30IH_TL_H</th>\n",
       "      <th>SFR_55lp_Center_H</th>\n",
       "      <th>SFR_55lp_30IH_BL_H</th>\n",
       "      <th>SFR_55lp_60IH_BR_H</th>\n",
       "      <th>SFR_55lp_30IH_TR_V</th>\n",
       "      <th>SFR_55lp_60IH_TL_V</th>\n",
       "      <th>SFR_55lp_60IH_BL_V</th>\n",
       "    </tr>\n",
       "  </thead>\n",
       "  <tbody>\n",
       "    <tr>\n",
       "      <th>0</th>\n",
       "      <td>G501_COMBO3_N2</td>\n",
       "      <td>92GBA02624</td>\n",
       "      <td>OP1</td>\n",
       "      <td>FrontSfrUDLCollect</td>\n",
       "      <td>0.4394</td>\n",
       "      <td>0.4068</td>\n",
       "      <td>0.4204</td>\n",
       "      <td>0.4948</td>\n",
       "      <td>0.5216</td>\n",
       "      <td>0.4825</td>\n",
       "      <td>...</td>\n",
       "      <td>0.4243</td>\n",
       "      <td>0.4828</td>\n",
       "      <td>0.1532</td>\n",
       "      <td>0.4894</td>\n",
       "      <td>0.5107</td>\n",
       "      <td>0.4964</td>\n",
       "      <td>0.4804</td>\n",
       "      <td>0.4947</td>\n",
       "      <td>0.2786</td>\n",
       "      <td>0.4038</td>\n",
       "    </tr>\n",
       "    <tr>\n",
       "      <th>1</th>\n",
       "      <td>G501_COMBO3_N2</td>\n",
       "      <td>92GBA02624</td>\n",
       "      <td>OP1</td>\n",
       "      <td>FrontSfrUDLCollect</td>\n",
       "      <td>0.4202</td>\n",
       "      <td>0.4151</td>\n",
       "      <td>0.4275</td>\n",
       "      <td>0.5013</td>\n",
       "      <td>0.5033</td>\n",
       "      <td>0.4510</td>\n",
       "      <td>...</td>\n",
       "      <td>0.4322</td>\n",
       "      <td>0.4979</td>\n",
       "      <td>0.0724</td>\n",
       "      <td>0.4885</td>\n",
       "      <td>0.5164</td>\n",
       "      <td>0.4782</td>\n",
       "      <td>0.4475</td>\n",
       "      <td>0.4653</td>\n",
       "      <td>0.2885</td>\n",
       "      <td>0.4217</td>\n",
       "    </tr>\n",
       "    <tr>\n",
       "      <th>2</th>\n",
       "      <td>G501_COMBO3_N2</td>\n",
       "      <td>92GBA02624</td>\n",
       "      <td>OP1</td>\n",
       "      <td>FrontSfrUDLCollect</td>\n",
       "      <td>0.4067</td>\n",
       "      <td>0.4735</td>\n",
       "      <td>0.4402</td>\n",
       "      <td>0.4731</td>\n",
       "      <td>0.4921</td>\n",
       "      <td>0.4647</td>\n",
       "      <td>...</td>\n",
       "      <td>0.4249</td>\n",
       "      <td>0.5080</td>\n",
       "      <td>0.1411</td>\n",
       "      <td>0.5067</td>\n",
       "      <td>0.5349</td>\n",
       "      <td>0.4841</td>\n",
       "      <td>0.4429</td>\n",
       "      <td>0.4556</td>\n",
       "      <td>0.3935</td>\n",
       "      <td>0.4533</td>\n",
       "    </tr>\n",
       "    <tr>\n",
       "      <th>3</th>\n",
       "      <td>G501_COMBO3_N2</td>\n",
       "      <td>92GBA02624</td>\n",
       "      <td>OP2</td>\n",
       "      <td>FrontSfrUDLCollect</td>\n",
       "      <td>0.4363</td>\n",
       "      <td>0.4298</td>\n",
       "      <td>0.4351</td>\n",
       "      <td>0.5364</td>\n",
       "      <td>0.4792</td>\n",
       "      <td>0.4884</td>\n",
       "      <td>...</td>\n",
       "      <td>0.4328</td>\n",
       "      <td>0.4987</td>\n",
       "      <td>0.0940</td>\n",
       "      <td>0.4944</td>\n",
       "      <td>0.5245</td>\n",
       "      <td>0.5141</td>\n",
       "      <td>0.4744</td>\n",
       "      <td>0.4695</td>\n",
       "      <td>0.4213</td>\n",
       "      <td>0.4437</td>\n",
       "    </tr>\n",
       "    <tr>\n",
       "      <th>4</th>\n",
       "      <td>G501_COMBO3_N2</td>\n",
       "      <td>92GBA02624</td>\n",
       "      <td>OP2</td>\n",
       "      <td>FrontSfrUDLCollect</td>\n",
       "      <td>0.4406</td>\n",
       "      <td>0.3240</td>\n",
       "      <td>0.4347</td>\n",
       "      <td>0.5248</td>\n",
       "      <td>0.4852</td>\n",
       "      <td>0.4826</td>\n",
       "      <td>...</td>\n",
       "      <td>0.4411</td>\n",
       "      <td>0.4976</td>\n",
       "      <td>0.2811</td>\n",
       "      <td>0.4928</td>\n",
       "      <td>0.4914</td>\n",
       "      <td>0.4913</td>\n",
       "      <td>0.4507</td>\n",
       "      <td>0.4826</td>\n",
       "      <td>0.2825</td>\n",
       "      <td>0.4527</td>\n",
       "    </tr>\n",
       "  </tbody>\n",
       "</table>\n",
       "<p>5 rows × 24 columns</p>\n",
       "</div>"
      ],
      "text/plain": [
       "          Station          sn Operator               Phase  \\\n",
       "0  G501_COMBO3_N2  92GBA02624      OP1  FrontSfrUDLCollect   \n",
       "1  G501_COMBO3_N2  92GBA02624      OP1  FrontSfrUDLCollect   \n",
       "2  G501_COMBO3_N2  92GBA02624      OP1  FrontSfrUDLCollect   \n",
       "3  G501_COMBO3_N2  92GBA02624      OP2  FrontSfrUDLCollect   \n",
       "4  G501_COMBO3_N2  92GBA02624      OP2  FrontSfrUDLCollect   \n",
       "\n",
       "   SFR_55lp_60IH_BL_H  SFR_55lp_60IH_TL_H  SFR_55lp_60IH_TR_V  \\\n",
       "0              0.4394              0.4068              0.4204   \n",
       "1              0.4202              0.4151              0.4275   \n",
       "2              0.4067              0.4735              0.4402   \n",
       "3              0.4363              0.4298              0.4351   \n",
       "4              0.4406              0.3240              0.4347   \n",
       "\n",
       "   SFR_55lp_30IH_TR_H  SFR_55lp_Center_V  SFR_55lp_30IH_BL_V  \\\n",
       "0              0.4948             0.5216              0.4825   \n",
       "1              0.5013             0.5033              0.4510   \n",
       "2              0.4731             0.4921              0.4647   \n",
       "3              0.5364             0.4792              0.4884   \n",
       "4              0.5248             0.4852              0.4826   \n",
       "\n",
       "          ...          SFR_55lp_60IH_TR_H  SFR_55lp_30IH_BR_H  \\\n",
       "0         ...                      0.4243              0.4828   \n",
       "1         ...                      0.4322              0.4979   \n",
       "2         ...                      0.4249              0.5080   \n",
       "3         ...                      0.4328              0.4987   \n",
       "4         ...                      0.4411              0.4976   \n",
       "\n",
       "   corner_balance_IH60_H  SFR_55lp_30IH_TL_H  SFR_55lp_Center_H  \\\n",
       "0                 0.1532              0.4894             0.5107   \n",
       "1                 0.0724              0.4885             0.5164   \n",
       "2                 0.1411              0.5067             0.5349   \n",
       "3                 0.0940              0.4944             0.5245   \n",
       "4                 0.2811              0.4928             0.4914   \n",
       "\n",
       "   SFR_55lp_30IH_BL_H  SFR_55lp_60IH_BR_H  SFR_55lp_30IH_TR_V  \\\n",
       "0              0.4964              0.4804              0.4947   \n",
       "1              0.4782              0.4475              0.4653   \n",
       "2              0.4841              0.4429              0.4556   \n",
       "3              0.5141              0.4744              0.4695   \n",
       "4              0.4913              0.4507              0.4826   \n",
       "\n",
       "   SFR_55lp_60IH_TL_V  SFR_55lp_60IH_BL_V  \n",
       "0              0.2786              0.4038  \n",
       "1              0.2885              0.4217  \n",
       "2              0.3935              0.4533  \n",
       "3              0.4213              0.4437  \n",
       "4              0.2825              0.4527  \n",
       "\n",
       "[5 rows x 24 columns]"
      ]
     },
     "execution_count": 58,
     "metadata": {},
     "output_type": "execute_result"
    }
   ],
   "source": [
    "df = pd.read_csv(r'C:\\Users\\fanchang\\python_fun\\G501_COMBO3_N2_phase_11_out.csv')\n",
    "df.head()"
   ]
  },
  {
   "cell_type": "code",
   "execution_count": 59,
   "metadata": {},
   "outputs": [
    {
     "data": {
      "text/plain": [
       "Index([u'Station', u'sn', u'Operator', u'Phase', u'SFR_55lp_60IH_BL_H',\n",
       "       u'SFR_55lp_60IH_TL_H', u'SFR_55lp_60IH_TR_V', u'SFR_55lp_30IH_TR_H',\n",
       "       u'SFR_55lp_Center_V', u'SFR_55lp_30IH_BL_V', u'SFR_55lp_30IH_TL_V',\n",
       "       u'corner_balance_IH60_V', u'SFR_55lp_30IH_BR_V', u'SFR_55lp_60IH_BR_V',\n",
       "       u'SFR_55lp_60IH_TR_H', u'SFR_55lp_30IH_BR_H', u'corner_balance_IH60_H',\n",
       "       u'SFR_55lp_30IH_TL_H', u'SFR_55lp_Center_H', u'SFR_55lp_30IH_BL_H',\n",
       "       u'SFR_55lp_60IH_BR_H', u'SFR_55lp_30IH_TR_V', u'SFR_55lp_60IH_TL_V',\n",
       "       u'SFR_55lp_60IH_BL_V'],\n",
       "      dtype='object')"
      ]
     },
     "execution_count": 59,
     "metadata": {},
     "output_type": "execute_result"
    }
   ],
   "source": [
    "df.columns"
   ]
  },
  {
   "cell_type": "code",
   "execution_count": 60,
   "metadata": {},
   "outputs": [
    {
     "data": {
      "text/plain": [
       "(90, 24)"
      ]
     },
     "execution_count": 60,
     "metadata": {},
     "output_type": "execute_result"
    }
   ],
   "source": [
    "df.shape"
   ]
  },
  {
   "cell_type": "code",
   "execution_count": 7,
   "metadata": {},
   "outputs": [
    {
     "data": {
      "text/plain": [
       "0.4353"
      ]
     },
     "execution_count": 7,
     "metadata": {},
     "output_type": "execute_result"
    }
   ],
   "source": [
    "grandMean = df['SFR_55lp_60IH_BL_H'].mean()\n",
    "np.round(grandMean, 4)"
   ]
  },
  {
   "cell_type": "code",
   "execution_count": 20,
   "metadata": {},
   "outputs": [
    {
     "name": "stdout",
     "output_type": "stream",
     "text": [
      "(10L, 20L)\n",
      "[[0.43033333 0.39985556 0.43053333 0.50125556 0.49164444 0.4749\n",
      "  0.49422222 0.22662222 0.46793333 0.41468889 0.42341111 0.49586667\n",
      "  0.15894444 0.49394444 0.51015556 0.49223333 0.46202222 0.47393333\n",
      "  0.34815556 0.44063333]\n",
      " [0.39265556 0.38324444 0.34443333 0.47727778 0.49132222 0.46802222\n",
      "  0.49721111 0.22944444 0.48095556 0.39246667 0.40412222 0.4626\n",
      "  0.22336667 0.46938889 0.48796667 0.49135556 0.48053333 0.46382222\n",
      "  0.41002222 0.36241111]\n",
      " [0.47225556 0.45717778 0.46087778 0.44595556 0.49452222 0.50251111\n",
      "  0.49237778 0.22761111 0.45517778 0.37694444 0.44496667 0.4613\n",
      "  0.15725556 0.4861     0.50916667 0.50772222 0.3982     0.31403333\n",
      "  0.43712222 0.48865556]\n",
      " [0.4598     0.45273333 0.39915556 0.50915556 0.52217778 0.48404444\n",
      "  0.4854     0.27211111 0.46572222 0.33755556 0.42077778 0.40206667\n",
      "  0.23244444 0.48396667 0.49934444 0.49417778 0.35838889 0.49727778\n",
      "  0.46445556 0.42591111]\n",
      " [0.40438889 0.35857778 0.37511111 0.47287778 0.46306667 0.46061111\n",
      "  0.46314444 0.17201111 0.42732222 0.42426667 0.37341111 0.42901111\n",
      "  0.1527     0.46105556 0.4718     0.47566667 0.40355556 0.46241111\n",
      "  0.36891111 0.39991111]\n",
      " [0.52738889 0.50686667 0.38       0.51333333 0.49472222 0.48796667\n",
      "  0.48126667 0.17295556 0.42113333 0.39845556 0.40438889 0.43257778\n",
      "  0.24322222 0.49146667 0.51076667 0.52293333 0.42717778 0.51866667\n",
      "  0.45072222 0.44225556]\n",
      " [0.46278889 0.35016667 0.4105     0.36473333 0.50605556 0.51095556\n",
      "  0.46734444 0.28831111 0.48716667 0.33557778 0.4323     0.47458889\n",
      "  0.32894444 0.4659     0.4844     0.51442222 0.31108889 0.33806667\n",
      "  0.33243333 0.45412222]\n",
      " [0.39042222 0.4157     0.32668889 0.48963333 0.48327778 0.44396667\n",
      "  0.47222222 0.26093333 0.4529     0.38784444 0.39394444 0.4581\n",
      "  0.15472222 0.47166667 0.49638889 0.48441111 0.44015556 0.47478889\n",
      "  0.4346     0.33655556]\n",
      " [0.44581111 0.48465556 0.37671111 0.48725556 0.51998889 0.49827778\n",
      "  0.50058889 0.2064     0.48113333 0.39417778 0.39456667 0.49686667\n",
      "  0.24302222 0.52125556 0.52138889 0.52607778 0.3666     0.46567778\n",
      "  0.47083333 0.41635556]\n",
      " [0.36677778 0.43703333 0.39227778 0.47435556 0.48664444 0.43511111\n",
      "  0.48744444 0.24646667 0.48177778 0.44841111 0.39466667 0.48044444\n",
      "  0.2142     0.50242222 0.49695556 0.46914444 0.46344444 0.44844444\n",
      "  0.44832222 0.34394444]]\n",
      "[0.42289333 0.42614333 0.42476667]\n"
     ]
    }
   ],
   "source": [
    "meanOfPart = np.array(df.groupby('sn').mean())\n",
    "print(np.shape(meanOfPart))\n",
    "print(meanOfPart)\n",
    "meanOfOperator = np.array(df.groupby('Operator').mean())[:, 1]\n",
    "print(meanOfOperator)"
   ]
  },
  {
   "cell_type": "code",
   "execution_count": 14,
   "metadata": {},
   "outputs": [],
   "source": [
    "numberOfOperators = 3\n",
    "numberOfReplicates = 3\n",
    "numberOfParts = 10"
   ]
  },
  {
   "cell_type": "code",
   "execution_count": 15,
   "metadata": {},
   "outputs": [
    {
     "name": "stdout",
     "output_type": "stream",
     "text": [
      "13.2558\n",
      "0.0104\n"
     ]
    }
   ],
   "source": [
    "SSpart = numberOfOperators*numberOfReplicates*np.sum((meanOfPart-grandMean)**2)\n",
    "print np.round(SSpart, 4)\n",
    "SSoperator = numberOfParts*numberOfReplicates*np.sum((meanOfOperator-grandMean)**2)\n",
    "print np.round(SSoperator, 4)"
   ]
  },
  {
   "cell_type": "code",
   "execution_count": 38,
   "metadata": {},
   "outputs": [
    {
     "data": {
      "text/plain": [
       "3.117899999999989"
      ]
     },
     "execution_count": 38,
     "metadata": {},
     "output_type": "execute_result"
    }
   ],
   "source": [
    "# SSrepeatability = \n",
    "SStotal = np.sum((np.array(df['Measurement'])-grandMean)**2)\n",
    "np.round(SStotal, 4)-np.round(SSpart, 4)-np.round(SSoperator, 4)"
   ]
  },
  {
   "cell_type": "code",
   "execution_count": 39,
   "metadata": {},
   "outputs": [
    {
     "data": {
      "text/plain": [
       "94.6471"
      ]
     },
     "execution_count": 39,
     "metadata": {},
     "output_type": "execute_result"
    }
   ],
   "source": [
    "88.3619+3.1673+.3590+2.7589"
   ]
  },
  {
   "cell_type": "code",
   "execution_count": 77,
   "metadata": {},
   "outputs": [
    {
     "data": {
      "text/html": [
       "<div>\n",
       "<style scoped>\n",
       "    .dataframe tbody tr th:only-of-type {\n",
       "        vertical-align: middle;\n",
       "    }\n",
       "\n",
       "    .dataframe tbody tr th {\n",
       "        vertical-align: top;\n",
       "    }\n",
       "\n",
       "    .dataframe thead th {\n",
       "        text-align: right;\n",
       "    }\n",
       "</style>\n",
       "<table border=\"1\" class=\"dataframe\">\n",
       "  <thead>\n",
       "    <tr style=\"text-align: right;\">\n",
       "      <th></th>\n",
       "      <th>Operator</th>\n",
       "      <th>Part</th>\n",
       "      <th>Measurement</th>\n",
       "    </tr>\n",
       "  </thead>\n",
       "  <tbody>\n",
       "    <tr>\n",
       "      <th>0</th>\n",
       "      <td>A</td>\n",
       "      <td>1</td>\n",
       "      <td>0.446667</td>\n",
       "    </tr>\n",
       "    <tr>\n",
       "      <th>1</th>\n",
       "      <td>A</td>\n",
       "      <td>2</td>\n",
       "      <td>-0.606667</td>\n",
       "    </tr>\n",
       "    <tr>\n",
       "      <th>2</th>\n",
       "      <td>A</td>\n",
       "      <td>3</td>\n",
       "      <td>1.260000</td>\n",
       "    </tr>\n",
       "    <tr>\n",
       "      <th>3</th>\n",
       "      <td>A</td>\n",
       "      <td>4</td>\n",
       "      <td>0.536667</td>\n",
       "    </tr>\n",
       "    <tr>\n",
       "      <th>4</th>\n",
       "      <td>A</td>\n",
       "      <td>5</td>\n",
       "      <td>-0.853333</td>\n",
       "    </tr>\n",
       "    <tr>\n",
       "      <th>5</th>\n",
       "      <td>A</td>\n",
       "      <td>6</td>\n",
       "      <td>-0.100000</td>\n",
       "    </tr>\n",
       "    <tr>\n",
       "      <th>6</th>\n",
       "      <td>A</td>\n",
       "      <td>7</td>\n",
       "      <td>0.666667</td>\n",
       "    </tr>\n",
       "    <tr>\n",
       "      <th>7</th>\n",
       "      <td>A</td>\n",
       "      <td>8</td>\n",
       "      <td>-0.226667</td>\n",
       "    </tr>\n",
       "    <tr>\n",
       "      <th>8</th>\n",
       "      <td>A</td>\n",
       "      <td>9</td>\n",
       "      <td>2.086667</td>\n",
       "    </tr>\n",
       "    <tr>\n",
       "      <th>9</th>\n",
       "      <td>A</td>\n",
       "      <td>10</td>\n",
       "      <td>-1.306667</td>\n",
       "    </tr>\n",
       "    <tr>\n",
       "      <th>10</th>\n",
       "      <td>B</td>\n",
       "      <td>1</td>\n",
       "      <td>0.133333</td>\n",
       "    </tr>\n",
       "    <tr>\n",
       "      <th>11</th>\n",
       "      <td>B</td>\n",
       "      <td>2</td>\n",
       "      <td>-0.790000</td>\n",
       "    </tr>\n",
       "    <tr>\n",
       "      <th>12</th>\n",
       "      <td>B</td>\n",
       "      <td>3</td>\n",
       "      <td>1.156667</td>\n",
       "    </tr>\n",
       "    <tr>\n",
       "      <th>13</th>\n",
       "      <td>B</td>\n",
       "      <td>4</td>\n",
       "      <td>0.413333</td>\n",
       "    </tr>\n",
       "    <tr>\n",
       "      <th>14</th>\n",
       "      <td>B</td>\n",
       "      <td>5</td>\n",
       "      <td>-1.013333</td>\n",
       "    </tr>\n",
       "    <tr>\n",
       "      <th>15</th>\n",
       "      <td>B</td>\n",
       "      <td>6</td>\n",
       "      <td>0.026667</td>\n",
       "    </tr>\n",
       "    <tr>\n",
       "      <th>16</th>\n",
       "      <td>B</td>\n",
       "      <td>7</td>\n",
       "      <td>0.616667</td>\n",
       "    </tr>\n",
       "    <tr>\n",
       "      <th>17</th>\n",
       "      <td>B</td>\n",
       "      <td>8</td>\n",
       "      <td>-0.296667</td>\n",
       "    </tr>\n",
       "    <tr>\n",
       "      <th>18</th>\n",
       "      <td>B</td>\n",
       "      <td>9</td>\n",
       "      <td>2.036667</td>\n",
       "    </tr>\n",
       "    <tr>\n",
       "      <th>19</th>\n",
       "      <td>B</td>\n",
       "      <td>10</td>\n",
       "      <td>-1.600000</td>\n",
       "    </tr>\n",
       "    <tr>\n",
       "      <th>20</th>\n",
       "      <td>C</td>\n",
       "      <td>1</td>\n",
       "      <td>-0.073333</td>\n",
       "    </tr>\n",
       "    <tr>\n",
       "      <th>21</th>\n",
       "      <td>C</td>\n",
       "      <td>2</td>\n",
       "      <td>-1.156667</td>\n",
       "    </tr>\n",
       "    <tr>\n",
       "      <th>22</th>\n",
       "      <td>C</td>\n",
       "      <td>3</td>\n",
       "      <td>0.880000</td>\n",
       "    </tr>\n",
       "    <tr>\n",
       "      <th>23</th>\n",
       "      <td>C</td>\n",
       "      <td>4</td>\n",
       "      <td>0.150000</td>\n",
       "    </tr>\n",
       "    <tr>\n",
       "      <th>24</th>\n",
       "      <td>C</td>\n",
       "      <td>5</td>\n",
       "      <td>-1.326667</td>\n",
       "    </tr>\n",
       "    <tr>\n",
       "      <th>25</th>\n",
       "      <td>C</td>\n",
       "      <td>6</td>\n",
       "      <td>-0.483333</td>\n",
       "    </tr>\n",
       "    <tr>\n",
       "      <th>26</th>\n",
       "      <td>C</td>\n",
       "      <td>7</td>\n",
       "      <td>0.080000</td>\n",
       "    </tr>\n",
       "    <tr>\n",
       "      <th>27</th>\n",
       "      <td>C</td>\n",
       "      <td>8</td>\n",
       "      <td>-0.503333</td>\n",
       "    </tr>\n",
       "    <tr>\n",
       "      <th>28</th>\n",
       "      <td>C</td>\n",
       "      <td>9</td>\n",
       "      <td>1.696667</td>\n",
       "    </tr>\n",
       "    <tr>\n",
       "      <th>29</th>\n",
       "      <td>C</td>\n",
       "      <td>10</td>\n",
       "      <td>-1.806667</td>\n",
       "    </tr>\n",
       "  </tbody>\n",
       "</table>\n",
       "</div>"
      ],
      "text/plain": [
       "   Operator  Part  Measurement\n",
       "0         A     1     0.446667\n",
       "1         A     2    -0.606667\n",
       "2         A     3     1.260000\n",
       "3         A     4     0.536667\n",
       "4         A     5    -0.853333\n",
       "5         A     6    -0.100000\n",
       "6         A     7     0.666667\n",
       "7         A     8    -0.226667\n",
       "8         A     9     2.086667\n",
       "9         A    10    -1.306667\n",
       "10        B     1     0.133333\n",
       "11        B     2    -0.790000\n",
       "12        B     3     1.156667\n",
       "13        B     4     0.413333\n",
       "14        B     5    -1.013333\n",
       "15        B     6     0.026667\n",
       "16        B     7     0.616667\n",
       "17        B     8    -0.296667\n",
       "18        B     9     2.036667\n",
       "19        B    10    -1.600000\n",
       "20        C     1    -0.073333\n",
       "21        C     2    -1.156667\n",
       "22        C     3     0.880000\n",
       "23        C     4     0.150000\n",
       "24        C     5    -1.326667\n",
       "25        C     6    -0.483333\n",
       "26        C     7     0.080000\n",
       "27        C     8    -0.503333\n",
       "28        C     9     1.696667\n",
       "29        C    10    -1.806667"
      ]
     },
     "execution_count": 77,
     "metadata": {},
     "output_type": "execute_result"
    }
   ],
   "source": [
    "meanOfeachfactor = df.groupby(['Operator', 'Part',]).mean().reset_index()\n",
    "meanOfeachfactor[]"
   ]
  },
  {
   "cell_type": "code",
   "execution_count": 76,
   "metadata": {},
   "outputs": [
    {
     "name": "stdout",
     "output_type": "stream",
     "text": [
      "['A', 'C', 'B']\n"
     ]
    }
   ],
   "source": [
    "operator = dict(df['Operator'].value_counts()).keys()"
   ]
  },
  {
   "cell_type": "code",
   "execution_count": 66,
   "metadata": {},
   "outputs": [],
   "source": [
    "part = dict(df['Part'].value_counts()).keys()"
   ]
  },
  {
   "cell_type": "code",
   "execution_count": 95,
   "metadata": {},
   "outputs": [
    {
     "data": {
      "text/plain": [
       "0    0.446667\n",
       "Name: Measurement, dtype: float64"
      ]
     },
     "execution_count": 95,
     "metadata": {},
     "output_type": "execute_result"
    }
   ],
   "source": [
    "meanOfeachfactor[np.logical_and(meanOfeachfactor['Operator']==idxOperator, meanOfeachfactor['Part']==idxPart)]['Measurement']"
   ]
  },
  {
   "cell_type": "code",
   "execution_count": 109,
   "metadata": {},
   "outputs": [
    {
     "data": {
      "text/plain": [
       "(array([0], dtype=int64),)"
      ]
     },
     "execution_count": 109,
     "metadata": {},
     "output_type": "execute_result"
    }
   ],
   "source": [
    "np.logical_and(meanOfeachfactor['Operator']==idxOperator, meanOfeachfactor['Part']==idxPart).nonzero()"
   ]
  },
  {
   "cell_type": "code",
   "execution_count": 133,
   "metadata": {},
   "outputs": [
    {
     "name": "stdout",
     "output_type": "stream",
     "text": [
      "2.7589\n",
      "0.359\n"
     ]
    }
   ],
   "source": [
    "SSrepeatability = 0\n",
    "for element in range(len(df)):\n",
    "    temp = (df.loc[element]['Measurement']-np.array(meanOfeachfactor[np.logical_and(meanOfeachfactor['Operator']==df.loc[element]['Operator'], meanOfeachfactor['Part']==df.loc[element]['Part'])]['Measurement'])[0])**2\n",
    "    SSrepeatability += temp\n",
    "print np.round(SSrepeatability, 4)\n",
    "SSpartxoperator = SStotal - SSpart - SSoperator - SSrepeatability\n",
    "print np.round(SSpartxoperator, 4)"
   ]
  },
  {
   "cell_type": "code",
   "execution_count": 123,
   "metadata": {},
   "outputs": [
    {
     "data": {
      "text/plain": [
       "9.817992716049382"
      ]
     },
     "execution_count": 123,
     "metadata": {},
     "output_type": "execute_result"
    }
   ],
   "source": [
    "SSpart/9"
   ]
  },
  {
   "cell_type": "code",
   "execution_count": 124,
   "metadata": {},
   "outputs": [
    {
     "data": {
      "text/plain": [
       "9"
      ]
     },
     "execution_count": 124,
     "metadata": {},
     "output_type": "execute_result"
    }
   ],
   "source": [
    "DFpart = numberOfParts - 1\n",
    "DFpart"
   ]
  },
  {
   "cell_type": "code",
   "execution_count": 125,
   "metadata": {},
   "outputs": [
    {
     "data": {
      "text/plain": [
       "2"
      ]
     },
     "execution_count": 125,
     "metadata": {},
     "output_type": "execute_result"
    }
   ],
   "source": [
    "DFoperator = numberOfOperators - 1\n",
    "DFoperator"
   ]
  },
  {
   "cell_type": "code",
   "execution_count": 135,
   "metadata": {},
   "outputs": [
    {
     "data": {
      "text/plain": [
       "18"
      ]
     },
     "execution_count": 135,
     "metadata": {},
     "output_type": "execute_result"
    }
   ],
   "source": [
    "DFpartxoperator = (numberOfParts - 1)*(numberOfOperators - 1)\n",
    "DFpartxoperator"
   ]
  },
  {
   "cell_type": "code",
   "execution_count": 127,
   "metadata": {},
   "outputs": [
    {
     "data": {
      "text/plain": [
       "60"
      ]
     },
     "execution_count": 127,
     "metadata": {},
     "output_type": "execute_result"
    }
   ],
   "source": [
    "DFrepeatability = numberOfParts*numberOfOperators*(numberOfReplicates - 1)\n",
    "DFrepeatability"
   ]
  },
  {
   "cell_type": "code",
   "execution_count": 128,
   "metadata": {},
   "outputs": [
    {
     "data": {
      "text/plain": [
       "89"
      ]
     },
     "execution_count": 128,
     "metadata": {},
     "output_type": "execute_result"
    }
   ],
   "source": [
    "DFtotal = numberOfParts*numberOfOperators*numberOfReplicates - 1\n",
    "DFtotal"
   ]
  },
  {
   "cell_type": "code",
   "execution_count": 129,
   "metadata": {},
   "outputs": [
    {
     "data": {
      "text/plain": [
       "9.817992716049382"
      ]
     },
     "execution_count": 129,
     "metadata": {},
     "output_type": "execute_result"
    }
   ],
   "source": [
    "MSpart = SSpart/DFpart\n",
    "MSpart"
   ]
  },
  {
   "cell_type": "code",
   "execution_count": 130,
   "metadata": {},
   "outputs": [
    {
     "data": {
      "text/plain": [
       "1.583631111111111"
      ]
     },
     "execution_count": 130,
     "metadata": {},
     "output_type": "execute_result"
    }
   ],
   "source": [
    "MSoperator = SSoperator/DFoperator\n",
    "MSoperator"
   ]
  },
  {
   "cell_type": "code",
   "execution_count": 131,
   "metadata": {},
   "outputs": [
    {
     "data": {
      "text/plain": [
       "0.04598222222222222"
      ]
     },
     "execution_count": 131,
     "metadata": {},
     "output_type": "execute_result"
    }
   ],
   "source": [
    "MSrepeatability = SSrepeatability/DFrepeatability\n",
    "MSrepeatability"
   ]
  },
  {
   "cell_type": "code",
   "execution_count": 136,
   "metadata": {},
   "outputs": [
    {
     "data": {
      "text/plain": [
       "0.01994345679012414"
      ]
     },
     "execution_count": 136,
     "metadata": {},
     "output_type": "execute_result"
    }
   ],
   "source": [
    "MSpartxoperator = SSpartxoperator/DFpartxoperator\n",
    "MSpartxoperator"
   ]
  },
  {
   "cell_type": "code",
   "execution_count": 137,
   "metadata": {},
   "outputs": [
    {
     "data": {
      "text/plain": [
       "492.291422664058"
      ]
     },
     "execution_count": 137,
     "metadata": {},
     "output_type": "execute_result"
    }
   ],
   "source": [
    "Fpart = MSpart/MSpartxoperator\n",
    "Fpart"
   ]
  },
  {
   "cell_type": "code",
   "execution_count": 139,
   "metadata": {},
   "outputs": [
    {
     "data": {
      "text/plain": [
       "79.4060492008243"
      ]
     },
     "execution_count": 139,
     "metadata": {},
     "output_type": "execute_result"
    }
   ],
   "source": [
    "Foperator = MSoperator/MSpartxoperator\n",
    "Foperator"
   ]
  },
  {
   "cell_type": "code",
   "execution_count": 140,
   "metadata": {},
   "outputs": [
    {
     "data": {
      "text/plain": [
       "0.4337210301351181"
      ]
     },
     "execution_count": 140,
     "metadata": {},
     "output_type": "execute_result"
    }
   ],
   "source": [
    "Fpartxoperator = MSpartxoperator/MSrepeatability\n",
    "Fpartxoperator"
   ]
  },
  {
   "cell_type": "code",
   "execution_count": 141,
   "metadata": {},
   "outputs": [
    {
     "data": {
      "text/plain": [
       "0.04598222222222222"
      ]
     },
     "execution_count": 141,
     "metadata": {},
     "output_type": "execute_result"
    }
   ],
   "source": [
    "Repeatability = MSrepeatability\n",
    "Repeatability"
   ]
  },
  {
   "cell_type": "code",
   "execution_count": 142,
   "metadata": {},
   "outputs": [
    {
     "data": {
      "text/plain": [
       "2.7589333333333332"
      ]
     },
     "execution_count": 142,
     "metadata": {},
     "output_type": "execute_result"
    }
   ],
   "source": [
    "SSrepeatability"
   ]
  },
  {
   "cell_type": "code",
   "execution_count": 144,
   "metadata": {},
   "outputs": [
    {
     "data": {
      "text/plain": [
       "3.1179155555555678"
      ]
     },
     "execution_count": 144,
     "metadata": {},
     "output_type": "execute_result"
    }
   ],
   "source": [
    "SStotal-SSpart-SSoperator"
   ]
  },
  {
   "cell_type": "code",
   "execution_count": 145,
   "metadata": {},
   "outputs": [
    {
     "data": {
      "text/plain": [
       "0.05212292181069956"
      ]
     },
     "execution_count": 145,
     "metadata": {},
     "output_type": "execute_result"
    }
   ],
   "source": [
    "Operator = (MSoperator-MSpartxoperator)/(numberOfParts*numberOfReplicates)\n",
    "Operator"
   ]
  },
  {
   "cell_type": "code",
   "execution_count": 146,
   "metadata": {},
   "outputs": [
    {
     "data": {
      "text/plain": [
       "1.583631111111111"
      ]
     },
     "execution_count": 146,
     "metadata": {},
     "output_type": "execute_result"
    }
   ],
   "source": [
    "MSoperator"
   ]
  },
  {
   "cell_type": "code",
   "execution_count": 147,
   "metadata": {},
   "outputs": [
    {
     "data": {
      "text/plain": [
       "0.01994345679012414"
      ]
     },
     "execution_count": 147,
     "metadata": {},
     "output_type": "execute_result"
    }
   ],
   "source": [
    "MSpartxoperator"
   ]
  },
  {
   "cell_type": "code",
   "execution_count": 152,
   "metadata": {},
   "outputs": [
    {
     "data": {
      "text/plain": [
       "0.03983111111111093"
      ]
     },
     "execution_count": 152,
     "metadata": {},
     "output_type": "execute_result"
    }
   ],
   "source": [
    "MSoperator-0.05146*30"
   ]
  },
  {
   "cell_type": "code",
   "execution_count": 151,
   "metadata": {},
   "outputs": [
    {
     "data": {
      "text/plain": [
       "30"
      ]
     },
     "execution_count": 151,
     "metadata": {},
     "output_type": "execute_result"
    }
   ],
   "source": [
    "numberOfParts*numberOfReplicates"
   ]
  },
  {
   "cell_type": "code",
   "execution_count": 154,
   "metadata": {},
   "outputs": [
    {
     "data": {
      "text/plain": [
       "1.0864469684499314"
      ]
     },
     "execution_count": 154,
     "metadata": {},
     "output_type": "execute_result"
    }
   ],
   "source": [
    "(MSpart-.03997)/(numberOfOperators*numberOfReplicates)"
   ]
  },
  {
   "cell_type": "code",
   "execution_count": 155,
   "metadata": {},
   "outputs": [
    {
     "data": {
      "text/plain": [
       "0.3023739406761105"
      ]
     },
     "execution_count": 155,
     "metadata": {},
     "output_type": "execute_result"
    }
   ],
   "source": [
    "np.sqrt(.09143)"
   ]
  },
  {
   "cell_type": "code",
   "execution_count": 158,
   "metadata": {},
   "outputs": [
    {
     "data": {
      "text/plain": [
       "0.08685849999999999"
      ]
     },
     "execution_count": 158,
     "metadata": {},
     "output_type": "execute_result"
    }
   ],
   "source": [
    ".09143*.95"
   ]
  },
  {
   "cell_type": "code",
   "execution_count": 160,
   "metadata": {},
   "outputs": [
    {
     "data": {
      "text/plain": [
       "1.1778799999999998"
      ]
     },
     "execution_count": 160,
     "metadata": {},
     "output_type": "execute_result"
    }
   ],
   "source": [
    ".09143+1.08645"
   ]
  },
  {
   "cell_type": "code",
   "execution_count": 22,
   "metadata": {},
   "outputs": [
    {
     "data": {
      "text/html": [
       "<div>\n",
       "<style scoped>\n",
       "    .dataframe tbody tr th:only-of-type {\n",
       "        vertical-align: middle;\n",
       "    }\n",
       "\n",
       "    .dataframe tbody tr th {\n",
       "        vertical-align: top;\n",
       "    }\n",
       "\n",
       "    .dataframe thead th {\n",
       "        text-align: right;\n",
       "    }\n",
       "</style>\n",
       "<table border=\"1\" class=\"dataframe\">\n",
       "  <thead>\n",
       "    <tr style=\"text-align: right;\">\n",
       "      <th></th>\n",
       "      <th>SFR_55lp_60IH_BL_H</th>\n",
       "      <th>SFR_55lp_60IH_TL_H</th>\n",
       "      <th>SFR_55lp_60IH_TR_V</th>\n",
       "      <th>SFR_55lp_30IH_TR_H</th>\n",
       "      <th>SFR_55lp_Center_V</th>\n",
       "      <th>SFR_55lp_30IH_BL_V</th>\n",
       "      <th>SFR_55lp_30IH_TL_V</th>\n",
       "      <th>corner_balance_IH60_V</th>\n",
       "      <th>SFR_55lp_30IH_BR_V</th>\n",
       "      <th>SFR_55lp_60IH_BR_V</th>\n",
       "      <th>SFR_55lp_60IH_TR_H</th>\n",
       "      <th>SFR_55lp_30IH_BR_H</th>\n",
       "      <th>corner_balance_IH60_H</th>\n",
       "      <th>SFR_55lp_30IH_TL_H</th>\n",
       "      <th>SFR_55lp_Center_H</th>\n",
       "      <th>SFR_55lp_30IH_BL_H</th>\n",
       "      <th>SFR_55lp_60IH_BR_H</th>\n",
       "      <th>SFR_55lp_30IH_TR_V</th>\n",
       "      <th>SFR_55lp_60IH_TL_V</th>\n",
       "      <th>SFR_55lp_60IH_BL_V</th>\n",
       "    </tr>\n",
       "    <tr>\n",
       "      <th>sn</th>\n",
       "      <th></th>\n",
       "      <th></th>\n",
       "      <th></th>\n",
       "      <th></th>\n",
       "      <th></th>\n",
       "      <th></th>\n",
       "      <th></th>\n",
       "      <th></th>\n",
       "      <th></th>\n",
       "      <th></th>\n",
       "      <th></th>\n",
       "      <th></th>\n",
       "      <th></th>\n",
       "      <th></th>\n",
       "      <th></th>\n",
       "      <th></th>\n",
       "      <th></th>\n",
       "      <th></th>\n",
       "      <th></th>\n",
       "      <th></th>\n",
       "    </tr>\n",
       "  </thead>\n",
       "  <tbody>\n",
       "    <tr>\n",
       "      <th>92GBA02624</th>\n",
       "      <td>0.430333</td>\n",
       "      <td>0.399856</td>\n",
       "      <td>0.430533</td>\n",
       "      <td>0.501256</td>\n",
       "      <td>0.491644</td>\n",
       "      <td>0.474900</td>\n",
       "      <td>0.494222</td>\n",
       "      <td>0.226622</td>\n",
       "      <td>0.467933</td>\n",
       "      <td>0.414689</td>\n",
       "      <td>0.423411</td>\n",
       "      <td>0.495867</td>\n",
       "      <td>0.158944</td>\n",
       "      <td>0.493944</td>\n",
       "      <td>0.510156</td>\n",
       "      <td>0.492233</td>\n",
       "      <td>0.462022</td>\n",
       "      <td>0.473933</td>\n",
       "      <td>0.348156</td>\n",
       "      <td>0.440633</td>\n",
       "    </tr>\n",
       "    <tr>\n",
       "      <th>92LBA03869</th>\n",
       "      <td>0.392656</td>\n",
       "      <td>0.383244</td>\n",
       "      <td>0.344433</td>\n",
       "      <td>0.477278</td>\n",
       "      <td>0.491322</td>\n",
       "      <td>0.468022</td>\n",
       "      <td>0.497211</td>\n",
       "      <td>0.229444</td>\n",
       "      <td>0.480956</td>\n",
       "      <td>0.392467</td>\n",
       "      <td>0.404122</td>\n",
       "      <td>0.462600</td>\n",
       "      <td>0.223367</td>\n",
       "      <td>0.469389</td>\n",
       "      <td>0.487967</td>\n",
       "      <td>0.491356</td>\n",
       "      <td>0.480533</td>\n",
       "      <td>0.463822</td>\n",
       "      <td>0.410022</td>\n",
       "      <td>0.362411</td>\n",
       "    </tr>\n",
       "    <tr>\n",
       "      <th>92LBA03872</th>\n",
       "      <td>0.472256</td>\n",
       "      <td>0.457178</td>\n",
       "      <td>0.460878</td>\n",
       "      <td>0.445956</td>\n",
       "      <td>0.494522</td>\n",
       "      <td>0.502511</td>\n",
       "      <td>0.492378</td>\n",
       "      <td>0.227611</td>\n",
       "      <td>0.455178</td>\n",
       "      <td>0.376944</td>\n",
       "      <td>0.444967</td>\n",
       "      <td>0.461300</td>\n",
       "      <td>0.157256</td>\n",
       "      <td>0.486100</td>\n",
       "      <td>0.509167</td>\n",
       "      <td>0.507722</td>\n",
       "      <td>0.398200</td>\n",
       "      <td>0.314033</td>\n",
       "      <td>0.437122</td>\n",
       "      <td>0.488656</td>\n",
       "    </tr>\n",
       "    <tr>\n",
       "      <th>92LBA04564</th>\n",
       "      <td>0.459800</td>\n",
       "      <td>0.452733</td>\n",
       "      <td>0.399156</td>\n",
       "      <td>0.509156</td>\n",
       "      <td>0.522178</td>\n",
       "      <td>0.484044</td>\n",
       "      <td>0.485400</td>\n",
       "      <td>0.272111</td>\n",
       "      <td>0.465722</td>\n",
       "      <td>0.337556</td>\n",
       "      <td>0.420778</td>\n",
       "      <td>0.402067</td>\n",
       "      <td>0.232444</td>\n",
       "      <td>0.483967</td>\n",
       "      <td>0.499344</td>\n",
       "      <td>0.494178</td>\n",
       "      <td>0.358389</td>\n",
       "      <td>0.497278</td>\n",
       "      <td>0.464456</td>\n",
       "      <td>0.425911</td>\n",
       "    </tr>\n",
       "    <tr>\n",
       "      <th>92SBA05832</th>\n",
       "      <td>0.404389</td>\n",
       "      <td>0.358578</td>\n",
       "      <td>0.375111</td>\n",
       "      <td>0.472878</td>\n",
       "      <td>0.463067</td>\n",
       "      <td>0.460611</td>\n",
       "      <td>0.463144</td>\n",
       "      <td>0.172011</td>\n",
       "      <td>0.427322</td>\n",
       "      <td>0.424267</td>\n",
       "      <td>0.373411</td>\n",
       "      <td>0.429011</td>\n",
       "      <td>0.152700</td>\n",
       "      <td>0.461056</td>\n",
       "      <td>0.471800</td>\n",
       "      <td>0.475667</td>\n",
       "      <td>0.403556</td>\n",
       "      <td>0.462411</td>\n",
       "      <td>0.368911</td>\n",
       "      <td>0.399911</td>\n",
       "    </tr>\n",
       "    <tr>\n",
       "      <th>92TBA06393</th>\n",
       "      <td>0.527389</td>\n",
       "      <td>0.506867</td>\n",
       "      <td>0.380000</td>\n",
       "      <td>0.513333</td>\n",
       "      <td>0.494722</td>\n",
       "      <td>0.487967</td>\n",
       "      <td>0.481267</td>\n",
       "      <td>0.172956</td>\n",
       "      <td>0.421133</td>\n",
       "      <td>0.398456</td>\n",
       "      <td>0.404389</td>\n",
       "      <td>0.432578</td>\n",
       "      <td>0.243222</td>\n",
       "      <td>0.491467</td>\n",
       "      <td>0.510767</td>\n",
       "      <td>0.522933</td>\n",
       "      <td>0.427178</td>\n",
       "      <td>0.518667</td>\n",
       "      <td>0.450722</td>\n",
       "      <td>0.442256</td>\n",
       "    </tr>\n",
       "    <tr>\n",
       "      <th>931BA06723</th>\n",
       "      <td>0.462789</td>\n",
       "      <td>0.350167</td>\n",
       "      <td>0.410500</td>\n",
       "      <td>0.364733</td>\n",
       "      <td>0.506056</td>\n",
       "      <td>0.510956</td>\n",
       "      <td>0.467344</td>\n",
       "      <td>0.288311</td>\n",
       "      <td>0.487167</td>\n",
       "      <td>0.335578</td>\n",
       "      <td>0.432300</td>\n",
       "      <td>0.474589</td>\n",
       "      <td>0.328944</td>\n",
       "      <td>0.465900</td>\n",
       "      <td>0.484400</td>\n",
       "      <td>0.514422</td>\n",
       "      <td>0.311089</td>\n",
       "      <td>0.338067</td>\n",
       "      <td>0.332433</td>\n",
       "      <td>0.454122</td>\n",
       "    </tr>\n",
       "    <tr>\n",
       "      <th>931BA06758</th>\n",
       "      <td>0.390422</td>\n",
       "      <td>0.415700</td>\n",
       "      <td>0.326689</td>\n",
       "      <td>0.489633</td>\n",
       "      <td>0.483278</td>\n",
       "      <td>0.443967</td>\n",
       "      <td>0.472222</td>\n",
       "      <td>0.260933</td>\n",
       "      <td>0.452900</td>\n",
       "      <td>0.387844</td>\n",
       "      <td>0.393944</td>\n",
       "      <td>0.458100</td>\n",
       "      <td>0.154722</td>\n",
       "      <td>0.471667</td>\n",
       "      <td>0.496389</td>\n",
       "      <td>0.484411</td>\n",
       "      <td>0.440156</td>\n",
       "      <td>0.474789</td>\n",
       "      <td>0.434600</td>\n",
       "      <td>0.336556</td>\n",
       "    </tr>\n",
       "    <tr>\n",
       "      <th>931BA06967</th>\n",
       "      <td>0.445811</td>\n",
       "      <td>0.484656</td>\n",
       "      <td>0.376711</td>\n",
       "      <td>0.487256</td>\n",
       "      <td>0.519989</td>\n",
       "      <td>0.498278</td>\n",
       "      <td>0.500589</td>\n",
       "      <td>0.206400</td>\n",
       "      <td>0.481133</td>\n",
       "      <td>0.394178</td>\n",
       "      <td>0.394567</td>\n",
       "      <td>0.496867</td>\n",
       "      <td>0.243022</td>\n",
       "      <td>0.521256</td>\n",
       "      <td>0.521389</td>\n",
       "      <td>0.526078</td>\n",
       "      <td>0.366600</td>\n",
       "      <td>0.465678</td>\n",
       "      <td>0.470833</td>\n",
       "      <td>0.416356</td>\n",
       "    </tr>\n",
       "    <tr>\n",
       "      <th>931BA07009</th>\n",
       "      <td>0.366778</td>\n",
       "      <td>0.437033</td>\n",
       "      <td>0.392278</td>\n",
       "      <td>0.474356</td>\n",
       "      <td>0.486644</td>\n",
       "      <td>0.435111</td>\n",
       "      <td>0.487444</td>\n",
       "      <td>0.246467</td>\n",
       "      <td>0.481778</td>\n",
       "      <td>0.448411</td>\n",
       "      <td>0.394667</td>\n",
       "      <td>0.480444</td>\n",
       "      <td>0.214200</td>\n",
       "      <td>0.502422</td>\n",
       "      <td>0.496956</td>\n",
       "      <td>0.469144</td>\n",
       "      <td>0.463444</td>\n",
       "      <td>0.448444</td>\n",
       "      <td>0.448322</td>\n",
       "      <td>0.343944</td>\n",
       "    </tr>\n",
       "  </tbody>\n",
       "</table>\n",
       "</div>"
      ],
      "text/plain": [
       "            SFR_55lp_60IH_BL_H  SFR_55lp_60IH_TL_H  SFR_55lp_60IH_TR_V  \\\n",
       "sn                                                                       \n",
       "92GBA02624            0.430333            0.399856            0.430533   \n",
       "92LBA03869            0.392656            0.383244            0.344433   \n",
       "92LBA03872            0.472256            0.457178            0.460878   \n",
       "92LBA04564            0.459800            0.452733            0.399156   \n",
       "92SBA05832            0.404389            0.358578            0.375111   \n",
       "92TBA06393            0.527389            0.506867            0.380000   \n",
       "931BA06723            0.462789            0.350167            0.410500   \n",
       "931BA06758            0.390422            0.415700            0.326689   \n",
       "931BA06967            0.445811            0.484656            0.376711   \n",
       "931BA07009            0.366778            0.437033            0.392278   \n",
       "\n",
       "            SFR_55lp_30IH_TR_H  SFR_55lp_Center_V  SFR_55lp_30IH_BL_V  \\\n",
       "sn                                                                      \n",
       "92GBA02624            0.501256           0.491644            0.474900   \n",
       "92LBA03869            0.477278           0.491322            0.468022   \n",
       "92LBA03872            0.445956           0.494522            0.502511   \n",
       "92LBA04564            0.509156           0.522178            0.484044   \n",
       "92SBA05832            0.472878           0.463067            0.460611   \n",
       "92TBA06393            0.513333           0.494722            0.487967   \n",
       "931BA06723            0.364733           0.506056            0.510956   \n",
       "931BA06758            0.489633           0.483278            0.443967   \n",
       "931BA06967            0.487256           0.519989            0.498278   \n",
       "931BA07009            0.474356           0.486644            0.435111   \n",
       "\n",
       "            SFR_55lp_30IH_TL_V  corner_balance_IH60_V  SFR_55lp_30IH_BR_V  \\\n",
       "sn                                                                          \n",
       "92GBA02624            0.494222               0.226622            0.467933   \n",
       "92LBA03869            0.497211               0.229444            0.480956   \n",
       "92LBA03872            0.492378               0.227611            0.455178   \n",
       "92LBA04564            0.485400               0.272111            0.465722   \n",
       "92SBA05832            0.463144               0.172011            0.427322   \n",
       "92TBA06393            0.481267               0.172956            0.421133   \n",
       "931BA06723            0.467344               0.288311            0.487167   \n",
       "931BA06758            0.472222               0.260933            0.452900   \n",
       "931BA06967            0.500589               0.206400            0.481133   \n",
       "931BA07009            0.487444               0.246467            0.481778   \n",
       "\n",
       "            SFR_55lp_60IH_BR_V  SFR_55lp_60IH_TR_H  SFR_55lp_30IH_BR_H  \\\n",
       "sn                                                                       \n",
       "92GBA02624            0.414689            0.423411            0.495867   \n",
       "92LBA03869            0.392467            0.404122            0.462600   \n",
       "92LBA03872            0.376944            0.444967            0.461300   \n",
       "92LBA04564            0.337556            0.420778            0.402067   \n",
       "92SBA05832            0.424267            0.373411            0.429011   \n",
       "92TBA06393            0.398456            0.404389            0.432578   \n",
       "931BA06723            0.335578            0.432300            0.474589   \n",
       "931BA06758            0.387844            0.393944            0.458100   \n",
       "931BA06967            0.394178            0.394567            0.496867   \n",
       "931BA07009            0.448411            0.394667            0.480444   \n",
       "\n",
       "            corner_balance_IH60_H  SFR_55lp_30IH_TL_H  SFR_55lp_Center_H  \\\n",
       "sn                                                                         \n",
       "92GBA02624               0.158944            0.493944           0.510156   \n",
       "92LBA03869               0.223367            0.469389           0.487967   \n",
       "92LBA03872               0.157256            0.486100           0.509167   \n",
       "92LBA04564               0.232444            0.483967           0.499344   \n",
       "92SBA05832               0.152700            0.461056           0.471800   \n",
       "92TBA06393               0.243222            0.491467           0.510767   \n",
       "931BA06723               0.328944            0.465900           0.484400   \n",
       "931BA06758               0.154722            0.471667           0.496389   \n",
       "931BA06967               0.243022            0.521256           0.521389   \n",
       "931BA07009               0.214200            0.502422           0.496956   \n",
       "\n",
       "            SFR_55lp_30IH_BL_H  SFR_55lp_60IH_BR_H  SFR_55lp_30IH_TR_V  \\\n",
       "sn                                                                       \n",
       "92GBA02624            0.492233            0.462022            0.473933   \n",
       "92LBA03869            0.491356            0.480533            0.463822   \n",
       "92LBA03872            0.507722            0.398200            0.314033   \n",
       "92LBA04564            0.494178            0.358389            0.497278   \n",
       "92SBA05832            0.475667            0.403556            0.462411   \n",
       "92TBA06393            0.522933            0.427178            0.518667   \n",
       "931BA06723            0.514422            0.311089            0.338067   \n",
       "931BA06758            0.484411            0.440156            0.474789   \n",
       "931BA06967            0.526078            0.366600            0.465678   \n",
       "931BA07009            0.469144            0.463444            0.448444   \n",
       "\n",
       "            SFR_55lp_60IH_TL_V  SFR_55lp_60IH_BL_V  \n",
       "sn                                                  \n",
       "92GBA02624            0.348156            0.440633  \n",
       "92LBA03869            0.410022            0.362411  \n",
       "92LBA03872            0.437122            0.488656  \n",
       "92LBA04564            0.464456            0.425911  \n",
       "92SBA05832            0.368911            0.399911  \n",
       "92TBA06393            0.450722            0.442256  \n",
       "931BA06723            0.332433            0.454122  \n",
       "931BA06758            0.434600            0.336556  \n",
       "931BA06967            0.470833            0.416356  \n",
       "931BA07009            0.448322            0.343944  "
      ]
     },
     "execution_count": 22,
     "metadata": {},
     "output_type": "execute_result"
    }
   ],
   "source": [
    "df.groupby('sn').mean()"
   ]
  },
  {
   "cell_type": "code",
   "execution_count": 263,
   "metadata": {},
   "outputs": [
    {
     "data": {
      "text/html": [
       "<div>\n",
       "<style scoped>\n",
       "    .dataframe tbody tr th:only-of-type {\n",
       "        vertical-align: middle;\n",
       "    }\n",
       "\n",
       "    .dataframe tbody tr th {\n",
       "        vertical-align: top;\n",
       "    }\n",
       "\n",
       "    .dataframe thead th {\n",
       "        text-align: right;\n",
       "    }\n",
       "</style>\n",
       "<table border=\"1\" class=\"dataframe\">\n",
       "  <thead>\n",
       "    <tr style=\"text-align: right;\">\n",
       "      <th></th>\n",
       "      <th>Station</th>\n",
       "      <th>sn</th>\n",
       "      <th>Operator</th>\n",
       "      <th>Phase</th>\n",
       "      <th>SFR_55lp_60IH_TL_H</th>\n",
       "    </tr>\n",
       "  </thead>\n",
       "  <tbody>\n",
       "    <tr>\n",
       "      <th>0</th>\n",
       "      <td>G501_COMBO3_N2</td>\n",
       "      <td>92GBA02624</td>\n",
       "      <td>OP1</td>\n",
       "      <td>FrontSfrUDLCollect</td>\n",
       "      <td>0.4068</td>\n",
       "    </tr>\n",
       "    <tr>\n",
       "      <th>1</th>\n",
       "      <td>G501_COMBO3_N2</td>\n",
       "      <td>92GBA02624</td>\n",
       "      <td>OP1</td>\n",
       "      <td>FrontSfrUDLCollect</td>\n",
       "      <td>0.4151</td>\n",
       "    </tr>\n",
       "    <tr>\n",
       "      <th>2</th>\n",
       "      <td>G501_COMBO3_N2</td>\n",
       "      <td>92GBA02624</td>\n",
       "      <td>OP1</td>\n",
       "      <td>FrontSfrUDLCollect</td>\n",
       "      <td>0.4735</td>\n",
       "    </tr>\n",
       "    <tr>\n",
       "      <th>3</th>\n",
       "      <td>G501_COMBO3_N2</td>\n",
       "      <td>92GBA02624</td>\n",
       "      <td>OP2</td>\n",
       "      <td>FrontSfrUDLCollect</td>\n",
       "      <td>0.4298</td>\n",
       "    </tr>\n",
       "    <tr>\n",
       "      <th>4</th>\n",
       "      <td>G501_COMBO3_N2</td>\n",
       "      <td>92GBA02624</td>\n",
       "      <td>OP2</td>\n",
       "      <td>FrontSfrUDLCollect</td>\n",
       "      <td>0.3240</td>\n",
       "    </tr>\n",
       "  </tbody>\n",
       "</table>\n",
       "</div>"
      ],
      "text/plain": [
       "          Station          sn Operator               Phase  SFR_55lp_60IH_TL_H\n",
       "0  G501_COMBO3_N2  92GBA02624      OP1  FrontSfrUDLCollect              0.4068\n",
       "1  G501_COMBO3_N2  92GBA02624      OP1  FrontSfrUDLCollect              0.4151\n",
       "2  G501_COMBO3_N2  92GBA02624      OP1  FrontSfrUDLCollect              0.4735\n",
       "3  G501_COMBO3_N2  92GBA02624      OP2  FrontSfrUDLCollect              0.4298\n",
       "4  G501_COMBO3_N2  92GBA02624      OP2  FrontSfrUDLCollect              0.3240"
      ]
     },
     "execution_count": 263,
     "metadata": {},
     "output_type": "execute_result"
    }
   ],
   "source": []
  },
  {
   "cell_type": "code",
   "execution_count": 294,
   "metadata": {},
   "outputs": [],
   "source": [
    "def grr_cal(newdf, flag='no_interact', LSL=0.2, USL=1.0, k=6.0, debug=True):\n",
    "    \"\"\"\n",
    "    Function to calculate the Gage Repeatability and Reproducibility\n",
    "    \n",
    "    Parameters: \n",
    "    newdf: Python Pandas DataFrame \n",
    "    flag: operator and part interaction\n",
    "    LSL: \n",
    "    USL:\n",
    "    k:\n",
    "    debug:\n",
    "  \n",
    "    Returns: tuple\n",
    "    (contri_grr, tolerance_grr, ndc) \n",
    "    \"\"\"\n",
    "    number_of_operator=len(newdf[df.columns[2]].unique())    \n",
    "    number_of_part=len(newdf[newdf.columns[1]].unique())\n",
    "    number_of_repeat = newdf.shape[0]/number_of_operator/number_of_part\n",
    "    \n",
    "    '''column[1] is for part'''\n",
    "    mean_of_part = np.array(newdf.groupby([newdf.columns[1]]).mean())\n",
    "    \n",
    "    '''column[2] is for operator'''\n",
    "    mean_of_operator = np.array(newdf.groupby([newdf.columns[2]]).mean())\n",
    "    \n",
    "    mean_of_part_operator = newdf.groupby([newdf.columns[1],newdf.columns[2]]).mean().reset_index()\n",
    "    \n",
    "    '''column[-1] is the last column (GRR metrics)'''\n",
    "    grand_mean = newdf[newdf.columns[-1]].mean()\n",
    "    \n",
    "    sum_square_part = number_of_operator*number_of_repeat*np.sum((mean_of_part-grand_mean)**2) \n",
    "    sum_square_operator = number_of_part*number_of_repeat*np.sum((mean_of_operator-grand_mean)**2)\n",
    "    sum_square_total = np.sum((np.array(newdf[newdf.columns[-1]])-grand_mean)**2) \n",
    "    if flag=='no_interact':\n",
    "        sum_square_repeat = sum_square_total-sum_square_part-sum_square_operator\n",
    "    \n",
    "#     sum_square_repeat_with_interaction = 0\n",
    "#     for element in range(len(newdf)):   \n",
    "#         matched_metrics=mean_of_part_operator[np.logical_and(mean_of_part_operator[mean_of_part_operator.columns[0]]==newdf.loc[element][1], mean_of_part_operator[mean_of_part_operator.columns[1]]==newdf.loc[element][2])]\n",
    "#         temp = (newdf.loc[element][newdf.columns[-1]]-np.array(matched_metrics[matched_metrics.columns[-1]])[0])**2\n",
    "#         sum_square_repeat_with_interaction += temp\n",
    "    \n",
    "#     sum_square_part_operator = sum_square_repeat_without_interaction - sum_square_repeat_with_interaction\n",
    "#     print(\"sum of square part is {}\".format(sum_square_part))\n",
    "#     print(\"sum of square operator is {}\".format(sum_square_operator))\n",
    "#     print(\"sum of square repeat without interaction is {}\".format(sum_square_repeat_without_interaction))\n",
    "#     print(\"sum of square repeat with interaction is {}\".format(sum_square_repeat_with_interaction))\n",
    "#     print(\"sum of square part with operator is {}\".format(sum_square_part_operator))\n",
    "#     print(\"sum of square total is {}\".format(sum_square_total))\n",
    "    \n",
    "    df_part = number_of_part-1\n",
    "    df_operator = number_of_operator-1\n",
    "    df_part_operator = (number_of_part-1)*(number_of_operator-1)\n",
    "    df_repeat = df_operator*number_of_repeat*number_of_part\n",
    "    df_total= number_of_operator*number_of_repeat*number_of_part-1\n",
    "    \n",
    "    mean_square_part = sum_square_part/df_part\n",
    "    mean_square_operator = sum_square_operator/df_operator\n",
    "    mean_square_repeat=sum_square_repeat/(df_part_operator+df_repeat)     \n",
    "    \n",
    "    var_repeat = mean_square_repeat\n",
    "    var_operator = (mean_square_operator-mean_square_repeat)/(number_of_part*number_of_repeat)\n",
    "    if var_operator < 0:\n",
    "        var_operator = 0    \n",
    "    var_reproduce = var_operator\n",
    "    var_part2part = (mean_square_part-mean_square_repeat)/(number_of_operator*number_of_repeat)\n",
    "    if var_part2part < 0:\n",
    "        var_part2part = 0       \n",
    "    var_grr = var_repeat + var_reproduce     \n",
    "    var_total = var_grr + var_part2part    \n",
    "    \n",
    "    contri_grr = 100.*var_grr/var_total\n",
    "    study_grr = 100*np.sqrt(var_grr/var_total)\n",
    "    tolerance_grr = 100*k*np.sqrt(var_grr)/(USL-LSL) \n",
    "    ndc = np.floor(1.41*(np.sqrt(var_part2part/var_grr)))\n",
    "    \n",
    "    if debug == True:\n",
    "        print(\"Sum of square part is {}\".format(sum_square_part))\n",
    "        print(\"Sum of square operator is {}\".format(sum_square_operator)) \n",
    "        print(\"Sum of square repeat is {}\".format(sum_square_repeat))\n",
    "        print(\"Sum of square total is {}\".format(sum_square_total)) \n",
    "        print('-'*50)\n",
    "        print(\"Mean of square part is {}\".format(mean_square_part))\n",
    "        print(\"Mean of square operator is {}\".format(mean_square_operator))\n",
    "        print(\"Mean of square repeat is {}\".format(mean_square_repeat)) \n",
    "        print('-'*50)\n",
    "        print(\"Variance Component repeatability is {}\".format(var_repeat)) \n",
    "        print(\"Variance Component operator is {}\".format(var_operator))\n",
    "        print(\"Variance Component reproducibility is {}\".format(var_reproduce))\n",
    "        print(\"Variance Component part to part is {}\".format(var_part2part))\n",
    "        print(\"Variance Component total GRR is {}\".format(var_grr))\n",
    "        print(\"Variance Component total Variation is {}\".format(var_total))\n",
    "        print('-'*50)\n",
    "        print(\"%Contribution of VarComp is {}\".format(np.round(contri_grr,2)))\n",
    "#         print(\"%Study Var is {}\".format(np.round(study_grr, 2)))\n",
    "        print(\"%Tolerance (SV/Toler) is {}\".format(np.round(tolerance_grr, 2)))\n",
    "        print(\"Number of Distince Categories is {}\".format(ndc))\n",
    "        print('-'*50)\n",
    "    return (contri_grr, tolerance_grr, ndc)"
   ]
  },
  {
   "cell_type": "code",
   "execution_count": 295,
   "metadata": {},
   "outputs": [
    {
     "name": "stdout",
     "output_type": "stream",
     "text": [
      "Sum of square part is 0.200100104\n",
      "Sum of square operator is 0.000108005555556\n",
      "Sum of square repeat is 0.05269753\n",
      "Sum of square total is 0.252905639556\n",
      "--------------------------------------------------\n",
      "Mean of square part is 0.0222333448889\n",
      "Mean of square operator is 5.40027777778e-05\n",
      "Mean of square repeat is 0.000675609358974\n",
      "--------------------------------------------------\n",
      "Variance Component repeatability is 0.000675609358974\n",
      "Variance Component operator is 0\n",
      "Variance Component reproducibility is 0\n",
      "Variance Component part to part is 0.00239530394777\n",
      "Variance Component total GRR is 0.000675609358974\n",
      "Variance Component total Variation is 0.00307091330674\n",
      "--------------------------------------------------\n",
      "%Contribution of VarComp is 22.0\n",
      "%Tolerance (SV/Toler) is 19.49\n",
      "Number of Distince Categories is 2.0\n",
      "--------------------------------------------------\n",
      "22.000274559719998\n",
      "19.494364940235318\n",
      "2.0\n"
     ]
    }
   ],
   "source": [
    "newdf = df[[u'Station', u'sn', u'Operator', u'Phase', u'SFR_55lp_60IH_TL_V']]\n",
    "newdf.head()\n",
    "(contri_grr, tolerance_grr, ndc)=grr_cal(newdf)\n",
    "print contri_grr\n",
    "print tolerance_grr\n",
    "print ndc"
   ]
  },
  {
   "cell_type": "code",
   "execution_count": 120,
   "metadata": {},
   "outputs": [
    {
     "name": "stdout",
     "output_type": "stream",
     "text": [
      "[[0.43033333]\n",
      " [0.39265556]\n",
      " [0.47225556]\n",
      " [0.4598    ]\n",
      " [0.40438889]\n",
      " [0.52738889]\n",
      " [0.46278889]\n",
      " [0.39042222]\n",
      " [0.44581111]\n",
      " [0.36677778]]\n",
      "[[0.43369667]\n",
      " [0.43707333]\n",
      " [0.43501667]]\n"
     ]
    }
   ],
   "source": [
    "mean_of_part = np.array(newdf.groupby([newdf.columns[1]]).mean())\n",
    "print(mean_of_part)\n",
    "mean_of_operator = np.array(newdf.groupby([newdf.columns[2]]).mean())\n",
    "print(mean_of_operator)"
   ]
  },
  {
   "cell_type": "code",
   "execution_count": 121,
   "metadata": {},
   "outputs": [
    {
     "name": "stdout",
     "output_type": "stream",
     "text": [
      "0.43526222222222216\n"
     ]
    }
   ],
   "source": [
    "grand_mean = newdf[newdf.columns[-1]].mean()\n",
    "print(grand_mean)"
   ]
  },
  {
   "cell_type": "code",
   "execution_count": 122,
   "metadata": {},
   "outputs": [
    {
     "name": "stdout",
     "output_type": "stream",
     "text": [
      "3\n",
      "10\n",
      "3\n"
     ]
    }
   ],
   "source": [
    "number_of_operator=len(newdf[df.columns[2]].unique())\n",
    "number_of_part=len(newdf[df.columns[1]].unique())\n",
    "number_of_repeat = newdf.shape[0]/count_of_operator/count_of_sn\n",
    "print(number_of_operator)\n",
    "print(number_of_part)\n",
    "print(number_of_repeat)"
   ]
  },
  {
   "cell_type": "code",
   "execution_count": 123,
   "metadata": {},
   "outputs": [
    {
     "data": {
      "text/plain": [
       "0.18738412044444427"
      ]
     },
     "execution_count": 123,
     "metadata": {},
     "output_type": "execute_result"
    }
   ],
   "source": [
    "sum_square_part = number_of_operator*number_of_repeat*np.sum((mean_of_part-grand_mean)**2)\n",
    "sum_square_part"
   ]
  },
  {
   "cell_type": "code",
   "execution_count": 124,
   "metadata": {},
   "outputs": [
    {
     "data": {
      "text/plain": [
       "0.00017374155555554066"
      ]
     },
     "execution_count": 124,
     "metadata": {},
     "output_type": "execute_result"
    }
   ],
   "source": [
    "sum_square_operator = number_of_part*number_of_repeat*np.sum((mean_of_operator-grand_mean)**2)\n",
    "sum_square_operator"
   ]
  },
  {
   "cell_type": "code",
   "execution_count": 125,
   "metadata": {},
   "outputs": [
    {
     "data": {
      "text/plain": [
       "0.21625839155555557"
      ]
     },
     "execution_count": 125,
     "metadata": {},
     "output_type": "execute_result"
    }
   ],
   "source": [
    "sum_square_total = np.sum((np.array(newdf[newdf.columns[-1]])-grand_mean)**2)\n",
    "sum_square_total"
   ]
  },
  {
   "cell_type": "code",
   "execution_count": 126,
   "metadata": {},
   "outputs": [
    {
     "name": "stdout",
     "output_type": "stream",
     "text": [
      "sum of square repeat is 0.0287005295556\n"
     ]
    }
   ],
   "source": [
    "sum_square_repeat = sum_square_total-sum_square_part-sum_square_operator\n",
    "print(\"sum of square repeat is {}\".format(sum_square_repeat))"
   ]
  },
  {
   "cell_type": "code",
   "execution_count": 185,
   "metadata": {},
   "outputs": [
    {
     "data": {
      "text/html": [
       "<div>\n",
       "<style scoped>\n",
       "    .dataframe tbody tr th:only-of-type {\n",
       "        vertical-align: middle;\n",
       "    }\n",
       "\n",
       "    .dataframe tbody tr th {\n",
       "        vertical-align: top;\n",
       "    }\n",
       "\n",
       "    .dataframe thead th {\n",
       "        text-align: right;\n",
       "    }\n",
       "</style>\n",
       "<table border=\"1\" class=\"dataframe\">\n",
       "  <thead>\n",
       "    <tr style=\"text-align: right;\">\n",
       "      <th></th>\n",
       "      <th>sn</th>\n",
       "      <th>Operator</th>\n",
       "      <th>SFR_55lp_60IH_BL_H</th>\n",
       "    </tr>\n",
       "  </thead>\n",
       "  <tbody>\n",
       "    <tr>\n",
       "      <th>0</th>\n",
       "      <td>92GBA02624</td>\n",
       "      <td>OP1</td>\n",
       "      <td>0.422100</td>\n",
       "    </tr>\n",
       "    <tr>\n",
       "      <th>1</th>\n",
       "      <td>92GBA02624</td>\n",
       "      <td>OP2</td>\n",
       "      <td>0.428933</td>\n",
       "    </tr>\n",
       "    <tr>\n",
       "      <th>2</th>\n",
       "      <td>92GBA02624</td>\n",
       "      <td>OP3</td>\n",
       "      <td>0.439967</td>\n",
       "    </tr>\n",
       "    <tr>\n",
       "      <th>3</th>\n",
       "      <td>92LBA03869</td>\n",
       "      <td>OP1</td>\n",
       "      <td>0.384267</td>\n",
       "    </tr>\n",
       "    <tr>\n",
       "      <th>4</th>\n",
       "      <td>92LBA03869</td>\n",
       "      <td>OP2</td>\n",
       "      <td>0.395067</td>\n",
       "    </tr>\n",
       "  </tbody>\n",
       "</table>\n",
       "</div>"
      ],
      "text/plain": [
       "           sn Operator  SFR_55lp_60IH_BL_H\n",
       "0  92GBA02624      OP1            0.422100\n",
       "1  92GBA02624      OP2            0.428933\n",
       "2  92GBA02624      OP3            0.439967\n",
       "3  92LBA03869      OP1            0.384267\n",
       "4  92LBA03869      OP2            0.395067"
      ]
     },
     "execution_count": 185,
     "metadata": {},
     "output_type": "execute_result"
    }
   ],
   "source": [
    "mean_of_part_operator = newdf.groupby([newdf.columns[1],newdf.columns[2]]).mean().reset_index()\n",
    "mean_of_part_operator.head()"
   ]
  },
  {
   "cell_type": "code",
   "execution_count": 184,
   "metadata": {},
   "outputs": [
    {
     "name": "stdout",
     "output_type": "stream",
     "text": [
      "0.02260076000000002\n"
     ]
    }
   ],
   "source": [
    "sum_square_repeat = 0\n",
    "for element in range(len(newdf)):   \n",
    "    matched_metrics=mean_of_part_operator[np.logical_and(mean_of_part_operator[mean_of_part_operator.columns[0]]==newdf.loc[element][1], mean_of_part_operator[mean_of_part_operator.columns[1]]==newdf.loc[element][2])]\n",
    "    temp = (newdf.loc[element][newdf.columns[-1]]-np.array(matched_metrics[matched_metrics.columns[-1]])[0])**2\n",
    "    sum_square_repeat += temp\n",
    "print sum_square_repeat"
   ]
  },
  {
   "cell_type": "code",
   "execution_count": 204,
   "metadata": {},
   "outputs": [
    {
     "name": "stdout",
     "output_type": "stream",
     "text": [
      "9\n",
      "2\n",
      "18\n",
      "60\n",
      "89\n"
     ]
    }
   ],
   "source": [
    "df_part = number_of_part-1\n",
    "df_operator = number_of_operator-1\n",
    "df_part_operator = (number_of_part-1)*(number_of_operator-1)\n",
    "df_repeat = df_opertor*number_of_repeat*number_of_part\n",
    "df_total= number_of_operator*number_of_repeat*number_of_part-1\n",
    "print df_part\n",
    "print df_operator\n",
    "print df_part_operator\n",
    "print df_repeat\n",
    "print df_total"
   ]
  },
  {
   "cell_type": "code",
   "execution_count": 198,
   "metadata": {},
   "outputs": [],
   "source": [
    "grand_mean = newdf[newdf.columns[-1]].mean()\n",
    "    \n",
    "sum_square_part = number_of_operator*number_of_repeat*np.sum((mean_of_part-grand_mean)**2)\n",
    "    \n",
    "sum_square_operator = number_of_part*number_of_repeat*np.sum((mean_of_operator-grand_mean)**2)\n",
    "    \n",
    "sum_square_total = np.sum((np.array(newdf[newdf.columns[-1]])-grand_mean)**2)   \n",
    "    \n",
    "sum_square_repeat_without_interaction = sum_square_total-sum_square_part-sum_square_operator\n",
    "    \n",
    "sum_square_repeat_with_interaction = 0\n",
    "for element in range(len(newdf)):   \n",
    "    matched_metrics=mean_of_part_operator[np.logical_and(mean_of_part_operator[mean_of_part_operator.columns[0]]==newdf.loc[element][1], mean_of_part_operator[mean_of_part_operator.columns[1]]==newdf.loc[element][2])]\n",
    "    temp = (newdf.loc[element][newdf.columns[-1]]-np.array(matched_metrics[matched_metrics.columns[-1]])[0])**2\n",
    "    sum_square_repeat_with_interaction += temp\n",
    "    \n",
    "sum_square_part_operator = sum_square_repeat_without_interaction - sum_square_repeat_with_interaction"
   ]
  },
  {
   "cell_type": "code",
   "execution_count": 191,
   "metadata": {},
   "outputs": [
    {
     "data": {
      "text/plain": [
       "0.020820457827160476"
      ]
     },
     "execution_count": 191,
     "metadata": {},
     "output_type": "execute_result"
    }
   ],
   "source": [
    "mean_square_part = sum_square_part/df_part\n",
    "mean_square_part"
   ]
  },
  {
   "cell_type": "code",
   "execution_count": 192,
   "metadata": {},
   "outputs": [
    {
     "data": {
      "text/plain": [
       "8.687077777777033e-05"
      ]
     },
     "execution_count": 192,
     "metadata": {},
     "output_type": "execute_result"
    }
   ],
   "source": [
    "mean_square_operator = sum_square_operator/df_operator\n",
    "mean_square_operator"
   ]
  },
  {
   "cell_type": "code",
   "execution_count": 201,
   "metadata": {},
   "outputs": [
    {
     "data": {
      "text/plain": [
       "0.00033887608641976306"
      ]
     },
     "execution_count": 201,
     "metadata": {},
     "output_type": "execute_result"
    }
   ],
   "source": [
    "mean_square_part_operator = sum_square_part_operator/df_part_operator\n",
    "mean_square_part_operator"
   ]
  },
  {
   "cell_type": "code",
   "execution_count": 199,
   "metadata": {},
   "outputs": [
    {
     "data": {
      "text/plain": [
       "0.02260076000000002"
      ]
     },
     "execution_count": 199,
     "metadata": {},
     "output_type": "execute_result"
    }
   ],
   "source": [
    "sum_square_repeat_with_interaction"
   ]
  },
  {
   "cell_type": "code",
   "execution_count": 202,
   "metadata": {},
   "outputs": [
    {
     "data": {
      "text/plain": [
       "61.439737595913876"
      ]
     },
     "execution_count": 202,
     "metadata": {},
     "output_type": "execute_result"
    }
   ],
   "source": [
    "F_part = mean_square_part/mean_square_part_operator\n",
    "F_part"
   ]
  },
  {
   "cell_type": "code",
   "execution_count": 208,
   "metadata": {},
   "outputs": [
    {
     "data": {
      "text/plain": [
       "0.00036795550712250967"
      ]
     },
     "execution_count": 208,
     "metadata": {},
     "output_type": "execute_result"
    }
   ],
   "source": [
    "mean_square_repeat=sum_square_repeat_without_interaction/(df_part_operator+df_repeat)\n",
    "mean_square_repeat"
   ]
  },
  {
   "cell_type": "code",
   "execution_count": 207,
   "metadata": {},
   "outputs": [
    {
     "data": {
      "text/plain": [
       "0.006099769555555735"
      ]
     },
     "execution_count": 207,
     "metadata": {},
     "output_type": "execute_result"
    }
   ],
   "source": [
    "sum_square_part_operator"
   ]
  },
  {
   "cell_type": "code",
   "execution_count": 209,
   "metadata": {},
   "outputs": [
    {
     "data": {
      "text/plain": [
       "0.00036795550712250967"
      ]
     },
     "execution_count": 209,
     "metadata": {},
     "output_type": "execute_result"
    }
   ],
   "source": [
    "var_repeat = mean_square_repeat\n",
    "var_repeat"
   ]
  },
  {
   "cell_type": "code",
   "execution_count": 211,
   "metadata": {},
   "outputs": [
    {
     "data": {
      "text/plain": [
       "0.0006817500773345989"
      ]
     },
     "execution_count": 211,
     "metadata": {},
     "output_type": "execute_result"
    }
   ],
   "source": [
    "var_part2part = (mean_square_part-mean_square_repeat)/(number_of_operator*number_of_part)\n",
    "var_part2part"
   ]
  },
  {
   "cell_type": "code",
   "execution_count": 212,
   "metadata": {},
   "outputs": [
    {
     "data": {
      "text/plain": [
       "0.00036795550712250967"
      ]
     },
     "execution_count": 212,
     "metadata": {},
     "output_type": "execute_result"
    }
   ],
   "source": [
    "mean_square_repeat"
   ]
  },
  {
   "cell_type": "code",
   "execution_count": 260,
   "metadata": {},
   "outputs": [
    {
     "name": "stdout",
     "output_type": "stream",
     "text": [
      "\n",
      "    Function to calculate the Gage Repeatability and Reproducibility\n",
      "    \n",
      "    Parameters: \n",
      "    newdf: Python Pandas DataFrame \n",
      "    flag: operator and part interaction\n",
      "    LSL: \n",
      "    USL:\n",
      "    k:\n",
      "    debug:\n",
      "  \n",
      "    Returns: tuple\n",
      "    (contri_grr, tolerance_grr, ndc) \n",
      "    \n"
     ]
    }
   ],
   "source": [
    "print grr_cal.__doc__"
   ]
  },
  {
   "cell_type": "code",
   "execution_count": null,
   "metadata": {},
   "outputs": [],
   "source": [
    "grr_cal()"
   ]
  }
 ],
 "metadata": {
  "kernelspec": {
   "display_name": "Python 2",
   "language": "python",
   "name": "python2"
  },
  "language_info": {
   "codemirror_mode": {
    "name": "ipython",
    "version": 2
   },
   "file_extension": ".py",
   "mimetype": "text/x-python",
   "name": "python",
   "nbconvert_exporter": "python",
   "pygments_lexer": "ipython2",
   "version": "2.7.15"
  }
 },
 "nbformat": 4,
 "nbformat_minor": 2
}
