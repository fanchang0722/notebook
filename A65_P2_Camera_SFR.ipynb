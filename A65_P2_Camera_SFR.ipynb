{
 "cells": [
  {
   "cell_type": "code",
   "execution_count": 1,
   "metadata": {
    "collapsed": true
   },
   "outputs": [],
   "source": [
    "import sys, os\n",
    "import numpy as np\n",
    "import pandas as pd\n",
    "import matplotlib.pylab as plt\n",
    "import seaborn as sns\n",
    "%matplotlib inline"
   ]
  },
  {
   "cell_type": "code",
   "execution_count": 21,
   "metadata": {
    "collapsed": true
   },
   "outputs": [],
   "source": [
    "dataFile = r'/Users/fanchang/Downloads/A65_6DoF_SFR_20170807153032.csv'\n",
    "dateparse = lambda x: pd.datetime.strptime(x, '%Y-%m-%d')\n",
    "df = pd.read_csv(dataFile, parse_dates=['date'], date_parser=dateparse)"
   ]
  },
  {
   "cell_type": "code",
   "execution_count": 3,
   "metadata": {},
   "outputs": [
    {
     "data": {
      "text/html": [
       "<div>\n",
       "<table border=\"1\" class=\"dataframe\">\n",
       "  <thead>\n",
       "    <tr style=\"text-align: right;\">\n",
       "      <th></th>\n",
       "      <th>serial_number</th>\n",
       "      <th>status</th>\n",
       "      <th>name</th>\n",
       "      <th>date</th>\n",
       "      <th>time</th>\n",
       "      <th>numeric_value</th>\n",
       "      <th>numeric_min</th>\n",
       "      <th>numeric_max</th>\n",
       "    </tr>\n",
       "  </thead>\n",
       "  <tbody>\n",
       "    <tr>\n",
       "      <th>0</th>\n",
       "      <td>7512P00001</td>\n",
       "      <td>PASS</td>\n",
       "      <td>BottomLeft_SFR_Ny2_V</td>\n",
       "      <td>2017-05-17</td>\n",
       "      <td>06:59:09</td>\n",
       "      <td>0.2889</td>\n",
       "      <td>0.28</td>\n",
       "      <td>1.0</td>\n",
       "    </tr>\n",
       "    <tr>\n",
       "      <th>1</th>\n",
       "      <td>7512P00001</td>\n",
       "      <td>PASS</td>\n",
       "      <td>BottomRight_SFR_Ny4_V</td>\n",
       "      <td>2017-05-17</td>\n",
       "      <td>06:59:09</td>\n",
       "      <td>0.6377</td>\n",
       "      <td>0.40</td>\n",
       "      <td>1.0</td>\n",
       "    </tr>\n",
       "    <tr>\n",
       "      <th>2</th>\n",
       "      <td>7512P00001</td>\n",
       "      <td>PASS</td>\n",
       "      <td>Center_SFR_Ny4_V</td>\n",
       "      <td>2017-05-17</td>\n",
       "      <td>06:59:09</td>\n",
       "      <td>0.8242</td>\n",
       "      <td>0.60</td>\n",
       "      <td>1.0</td>\n",
       "    </tr>\n",
       "    <tr>\n",
       "      <th>3</th>\n",
       "      <td>7512P00001</td>\n",
       "      <td>PASS</td>\n",
       "      <td>TopRight_SFR_Ny4_V</td>\n",
       "      <td>2017-05-17</td>\n",
       "      <td>06:59:09</td>\n",
       "      <td>0.6348</td>\n",
       "      <td>0.40</td>\n",
       "      <td>1.0</td>\n",
       "    </tr>\n",
       "    <tr>\n",
       "      <th>4</th>\n",
       "      <td>7512P00001</td>\n",
       "      <td>PASS</td>\n",
       "      <td>BottomLeft_SFR_Ny2_H</td>\n",
       "      <td>2017-05-17</td>\n",
       "      <td>06:59:09</td>\n",
       "      <td>0.4862</td>\n",
       "      <td>0.28</td>\n",
       "      <td>1.0</td>\n",
       "    </tr>\n",
       "  </tbody>\n",
       "</table>\n",
       "</div>"
      ],
      "text/plain": [
       "  serial_number status                   name        date       time  \\\n",
       "0    7512P00001   PASS   BottomLeft_SFR_Ny2_V  2017-05-17   06:59:09   \n",
       "1    7512P00001   PASS  BottomRight_SFR_Ny4_V  2017-05-17   06:59:09   \n",
       "2    7512P00001   PASS       Center_SFR_Ny4_V  2017-05-17   06:59:09   \n",
       "3    7512P00001   PASS     TopRight_SFR_Ny4_V  2017-05-17   06:59:09   \n",
       "4    7512P00001   PASS   BottomLeft_SFR_Ny2_H  2017-05-17   06:59:09   \n",
       "\n",
       "   numeric_value  numeric_min  numeric_max  \n",
       "0         0.2889         0.28          1.0  \n",
       "1         0.6377         0.40          1.0  \n",
       "2         0.8242         0.60          1.0  \n",
       "3         0.6348         0.40          1.0  \n",
       "4         0.4862         0.28          1.0  "
      ]
     },
     "execution_count": 3,
     "metadata": {},
     "output_type": "execute_result"
    }
   ],
   "source": [
    "df.head()"
   ]
  },
  {
   "cell_type": "code",
   "execution_count": 15,
   "metadata": {},
   "outputs": [],
   "source": [
    "sfrStatus=df.status.unique()"
   ]
  },
  {
   "cell_type": "code",
   "execution_count": 8,
   "metadata": {},
   "outputs": [],
   "source": [
    "sfrMetrics=df.name.unique()"
   ]
  },
  {
   "cell_type": "code",
   "execution_count": 7,
   "metadata": {},
   "outputs": [
    {
     "data": {
      "text/plain": [
       "61"
      ]
     },
     "execution_count": 7,
     "metadata": {},
     "output_type": "execute_result"
    }
   ],
   "source": [
    "len(df.name.unique())"
   ]
  },
  {
   "cell_type": "code",
   "execution_count": 18,
   "metadata": {},
   "outputs": [],
   "source": [
    "for status in sfrStatus:\n",
    "    for metrics in sfrMetrics:\n",
    "        temp = df[df.status==status]\n",
    "        temp[temp.name==metrics].to_csv(str(metrics)+'_'+str(status)+'.csv',sep=',')"
   ]
  },
  {
   "cell_type": "code",
   "execution_count": 22,
   "metadata": {},
   "outputs": [
    {
     "data": {
      "text/plain": [
       "pandas.core.series.Series"
      ]
     },
     "execution_count": 22,
     "metadata": {},
     "output_type": "execute_result"
    }
   ],
   "source": [
    "type(df.date)"
   ]
  },
  {
   "cell_type": "code",
   "execution_count": 24,
   "metadata": {},
   "outputs": [],
   "source": [
    "df2 = pd.read_csv('Center_SFR_Ny4_H_1_PASS.csv')"
   ]
  },
  {
   "cell_type": "code",
   "execution_count": 27,
   "metadata": {},
   "outputs": [
    {
     "data": {
      "text/html": [
       "<div>\n",
       "<table border=\"1\" class=\"dataframe\">\n",
       "  <thead>\n",
       "    <tr style=\"text-align: right;\">\n",
       "      <th></th>\n",
       "      <th>Unnamed: 0</th>\n",
       "      <th>serial_number</th>\n",
       "      <th>status</th>\n",
       "      <th>name</th>\n",
       "      <th>date</th>\n",
       "      <th>time</th>\n",
       "      <th>numeric_value</th>\n",
       "      <th>numeric_min</th>\n",
       "      <th>numeric_max</th>\n",
       "    </tr>\n",
       "  </thead>\n",
       "  <tbody>\n",
       "    <tr>\n",
       "      <th>0</th>\n",
       "      <td>12216</td>\n",
       "      <td>0</td>\n",
       "      <td>PASS</td>\n",
       "      <td>Center_SFR_Ny4_H_1</td>\n",
       "      <td>2017-07-19</td>\n",
       "      <td>03:58:38</td>\n",
       "      <td>0.8691</td>\n",
       "      <td>0.6</td>\n",
       "      <td>1.0</td>\n",
       "    </tr>\n",
       "    <tr>\n",
       "      <th>1</th>\n",
       "      <td>12307</td>\n",
       "      <td>7520P00002</td>\n",
       "      <td>PASS</td>\n",
       "      <td>Center_SFR_Ny4_H_1</td>\n",
       "      <td>2017-07-19</td>\n",
       "      <td>10:35:33</td>\n",
       "      <td>0.8838</td>\n",
       "      <td>0.6</td>\n",
       "      <td>1.0</td>\n",
       "    </tr>\n",
       "    <tr>\n",
       "      <th>2</th>\n",
       "      <td>12333</td>\n",
       "      <td>7520P00002</td>\n",
       "      <td>PASS</td>\n",
       "      <td>Center_SFR_Ny4_H_1</td>\n",
       "      <td>2017-07-19</td>\n",
       "      <td>04:01:37</td>\n",
       "      <td>0.8789</td>\n",
       "      <td>0.6</td>\n",
       "      <td>1.0</td>\n",
       "    </tr>\n",
       "    <tr>\n",
       "      <th>3</th>\n",
       "      <td>12735</td>\n",
       "      <td>7520P00002</td>\n",
       "      <td>PASS</td>\n",
       "      <td>Center_SFR_Ny4_H_1</td>\n",
       "      <td>2017-07-20</td>\n",
       "      <td>06:11:48</td>\n",
       "      <td>0.8486</td>\n",
       "      <td>0.6</td>\n",
       "      <td>1.0</td>\n",
       "    </tr>\n",
       "    <tr>\n",
       "      <th>4</th>\n",
       "      <td>12837</td>\n",
       "      <td>7520P00002</td>\n",
       "      <td>PASS</td>\n",
       "      <td>Center_SFR_Ny4_H_1</td>\n",
       "      <td>2017-07-20</td>\n",
       "      <td>06:26:30</td>\n",
       "      <td>0.8716</td>\n",
       "      <td>0.6</td>\n",
       "      <td>1.0</td>\n",
       "    </tr>\n",
       "  </tbody>\n",
       "</table>\n",
       "</div>"
      ],
      "text/plain": [
       "   Unnamed: 0 serial_number status                name        date       time  \\\n",
       "0       12216             0   PASS  Center_SFR_Ny4_H_1  2017-07-19   03:58:38   \n",
       "1       12307    7520P00002   PASS  Center_SFR_Ny4_H_1  2017-07-19   10:35:33   \n",
       "2       12333    7520P00002   PASS  Center_SFR_Ny4_H_1  2017-07-19   04:01:37   \n",
       "3       12735    7520P00002   PASS  Center_SFR_Ny4_H_1  2017-07-20   06:11:48   \n",
       "4       12837    7520P00002   PASS  Center_SFR_Ny4_H_1  2017-07-20   06:26:30   \n",
       "\n",
       "   numeric_value  numeric_min  numeric_max  \n",
       "0         0.8691          0.6          1.0  \n",
       "1         0.8838          0.6          1.0  \n",
       "2         0.8789          0.6          1.0  \n",
       "3         0.8486          0.6          1.0  \n",
       "4         0.8716          0.6          1.0  "
      ]
     },
     "execution_count": 27,
     "metadata": {},
     "output_type": "execute_result"
    }
   ],
   "source": [
    "df2.head()"
   ]
  },
  {
   "cell_type": "code",
   "execution_count": 52,
   "metadata": {},
   "outputs": [],
   "source": [
    "testDate = df2.date.unique()\n",
    "dailyCount = np.zeros(len(testDate))\n",
    "for index in range(len(testDate)):\n",
    "    dutSN=df2[df2.date==testDate[index]].serial_number.unique()\n",
    "    dailyCount[index] = countSN(dutSN, 10)\n",
    "    "
   ]
  },
  {
   "cell_type": "code",
   "execution_count": 44,
   "metadata": {},
   "outputs": [],
   "source": [
    "dutSN=df2[df2.date=='2017-07-19'].serial_number.unique()"
   ]
  },
  {
   "cell_type": "code",
   "execution_count": 50,
   "metadata": {},
   "outputs": [],
   "source": [
    "def countSN(dutSN, digit):\n",
    "    count = 1\n",
    "    for index in range(len(dutSN)):\n",
    "        if len(dutSN)>digit: \n",
    "            count += 1\n",
    "    return count"
   ]
  },
  {
   "cell_type": "code",
   "execution_count": 51,
   "metadata": {},
   "outputs": [
    {
     "data": {
      "text/plain": [
       "1"
      ]
     },
     "execution_count": 51,
     "metadata": {},
     "output_type": "execute_result"
    }
   ],
   "source": [
    "countSN(dutSN,10)"
   ]
  },
  {
   "cell_type": "code",
   "execution_count": 53,
   "metadata": {},
   "outputs": [
    {
     "data": {
      "text/plain": [
       "array([   1.,   16.,   46.,   33.,  133.,  103.,   45.,   52.,   42.,\n",
       "         12.,   23.,    1.,    1.,    1.,    1.,    1.,    1.])"
      ]
     },
     "execution_count": 53,
     "metadata": {},
     "output_type": "execute_result"
    }
   ],
   "source": [
    "dailyCount"
   ]
  },
  {
   "cell_type": "code",
   "execution_count": 64,
   "metadata": {},
   "outputs": [
    {
     "name": "stdout",
     "output_type": "stream",
     "text": [
      "['2017-07-19' '2017-07-20' '2017-07-21' '2017-07-22' '2017-07-24'\n",
      " '2017-07-25' '2017-07-26' '2017-07-27' '2017-07-28' '2017-07-29'\n",
      " '2017-07-31' '2017-08-01' '2017-08-02' '2017-08-03' '2017-08-04'\n",
      " '2017-08-05' '2017-08-07']\n"
     ]
    }
   ],
   "source": [
    "import matplotlib.dates\n",
    "print testDate"
   ]
  },
  {
   "cell_type": "code",
   "execution_count": 75,
   "metadata": {},
   "outputs": [
    {
     "data": {
      "text/plain": [
       "[<matplotlib.lines.Line2D at 0x115fe9990>]"
      ]
     },
     "execution_count": 75,
     "metadata": {},
     "output_type": "execute_result"
    },
    {
     "data": {
      "image/png": "[encoded data removed]",
      "text/plain": [
       "<matplotlib.figure.Figure at 0x115ad2850>"
      ]
     },
     "metadata": {},
     "output_type": "display_data"
    }
   ],
   "source": [
    "plt.figure(figsize=(12,9))\n",
    "plt.plot_date(testDate, dailyCount,'-o',lw=2)"
   ]
  },
  {
   "cell_type": "code",
   "execution_count": null,
   "metadata": {
    "collapsed": true
   },
   "outputs": [],
   "source": []
  }
 ],
 "metadata": {
  "kernelspec": {
   "display_name": "Python 2",
   "language": "python",
   "name": "python2"
  },
  "language_info": {
   "codemirror_mode": {
    "name": "ipython",
    "version": 2
   },
   "file_extension": ".py",
   "mimetype": "text/x-python",
   "name": "python",
   "nbconvert_exporter": "python",
   "pygments_lexer": "ipython2",
   "version": "2.7.15"
  }
 },
 "nbformat": 4,
 "nbformat_minor": 2
}
