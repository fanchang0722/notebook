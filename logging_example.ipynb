{
 "metadata": {
  "name": ""
 },
 "nbformat": 3,
 "nbformat_minor": 0,
 "worksheets": [
  {
   "cells": [
    {
     "cell_type": "code",
     "collapsed": false,
     "input": [
      "import logging\n",
      "FORMAT = '%(asctime)-15s %(clientip)s %(user)-8s %(message)s'\n",
      "logging.basicConfig(format=FORMAT)\n",
      "d = {'clientip': '192.168.0.1', 'user': 'fbloggs'}\n",
      "logger = logging.getLogger('tcpserver')\n",
      "logger.warning('Protocol problem: %s', 'connection reset', extra=d)"
     ],
     "language": "python",
     "metadata": {},
     "outputs": [
      {
       "output_type": "stream",
       "stream": "stderr",
       "text": [
        "WARNING:tcpserver:Protocol problem: connection reset\n"
       ]
      }
     ],
     "prompt_number": 1
    },
    {
     "cell_type": "code",
     "collapsed": false,
     "input": [
      "ORANGE = '\\033[33m'\n",
      "RED = '\\033[31m'\n",
      "GREEN = '\\033[32m'\n",
      "BLUE = '\\033[34m'\n",
      "RESET = '\\033[0m'\n",
      "print ORANGE + \"Chinese New Year\" + RESET\n",
      "\n"
     ],
     "language": "python",
     "metadata": {},
     "outputs": [
      {
       "output_type": "stream",
       "stream": "stdout",
       "text": [
        "\u001b[33mChinese New Year\u001b[0m\n"
       ]
      }
     ],
     "prompt_number": 2
    },
    {
     "cell_type": "code",
     "collapsed": false,
     "input": [
      "print GREEN + \"Chinese\" + GREEN + \"New\" + BLUE + \"Year\" + RESET"
     ],
     "language": "python",
     "metadata": {},
     "outputs": [
      {
       "output_type": "stream",
       "stream": "stdout",
       "text": [
        "\u001b[32mChinese\u001b[32mNew\u001b[34mYear\u001b[0m\n"
       ]
      }
     ],
     "prompt_number": 3
    },
    {
     "cell_type": "code",
     "collapsed": false,
     "input": [
      "case = {}\n",
      "\n",
      "def switch_on(*values):\n",
      "    def case_func(f):\n",
      "        case.update((v, f) for v in values)\n",
      "        return f\n",
      "    return case_func\n",
      "\n",
      "@switch_on(0, 3, 5)\n",
      "def case_a(): print \"   case A\"\n",
      "\n",
      "@switch_on(1,2,4)\n",
      "def case_b(): print \"   case B\"\n",
      "\n",
      "def default(): print \"   default\"\n",
      "\n",
      "for i in (0,2,3,5,22):\n",
      "    print \"Case: %i\" % i\n",
      "    try: \n",
      "        case[i]()\n",
      "    except KeyError:\n",
      "        default()\n",
      "    "
     ],
     "language": "python",
     "metadata": {},
     "outputs": [
      {
       "output_type": "stream",
       "stream": "stdout",
       "text": [
        "Case: 0\n",
        "   case A\n",
        "Case: 2\n",
        "   case B\n",
        "Case: 3\n",
        "   case A\n",
        "Case: 5\n",
        "   case A\n",
        "Case: 22\n",
        "   default\n"
       ]
      }
     ],
     "prompt_number": 4
    },
    {
     "cell_type": "code",
     "collapsed": false,
     "input": [],
     "language": "python",
     "metadata": {},
     "outputs": []
    }
   ],
   "metadata": {}
  }
 ]
}