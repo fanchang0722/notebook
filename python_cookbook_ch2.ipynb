{
 "cells": [
  {
   "cell_type": "code",
   "execution_count": 6,
   "metadata": {
    "collapsed": false
   },
   "outputs": [
    {
     "name": "stdout",
     "output_type": "stream",
     "text": [
      "[1, 3, 2, 8, 5, 100, 4]\n",
      "[1, 2, 3, 4, 5, 8, 100]\n"
     ]
    }
   ],
   "source": [
    "a=[1,3,2,8,5,100,4]\n",
    "print a\n",
    "a.sort()\n",
    "print a"
   ]
  },
  {
   "cell_type": "code",
   "execution_count": 10,
   "metadata": {
    "collapsed": false
   },
   "outputs": [
    {
     "name": "stdout",
     "output_type": "stream",
     "text": [
      "{'blue': 2, 'green': 3, 'red': 1}\n"
     ]
    }
   ],
   "source": [
    "def makedict(**kwargs):\n",
    "    return kwargs\n",
    "data=makedict(red=1,green=3,blue=2)\n",
    "print data"
   ]
  },
  {
   "cell_type": "code",
   "execution_count": 30,
   "metadata": {
    "collapsed": false
   },
   "outputs": [
    {
     "name": "stdout",
     "output_type": "stream",
     "text": [
      "[('blue', 2), ('green', 3), ('red', 1)]\n",
      "[2, 3, 1]\n"
     ]
    }
   ],
   "source": [
    "def sortDictValues1(adict):\n",
    "    items=adict.items()\n",
    "    items.sort()\n",
    "    print items\n",
    "    return [value for key, value in items]\n",
    "\n",
    "print sortDictValues1(data)\n",
    "    "
   ]
  },
  {
   "cell_type": "code",
   "execution_count": 35,
   "metadata": {
    "collapsed": false
   },
   "outputs": [
    {
     "name": "stdout",
     "output_type": "stream",
     "text": [
      "[2, 3, 1]\n"
     ]
    }
   ],
   "source": [
    "def sortDictValues2(adict):\n",
    "    keys=adict.keys()\n",
    "    keys.sort()\n",
    "    return [adict[key] for key in keys]\n",
    "print sortDictValues2(data)"
   ]
  },
  {
   "cell_type": "code",
   "execution_count": 36,
   "metadata": {
    "collapsed": false
   },
   "outputs": [
    {
     "name": "stdout",
     "output_type": "stream",
     "text": [
      "[2, 3, 1]\n"
     ]
    }
   ],
   "source": [
    "def sortDictValues3(adict):\n",
    "    keys=adict.keys()\n",
    "    keys.sort()\n",
    "    return map(adict.get, keys)\n",
    "print sortDictValues3(data)"
   ]
  },
  {
   "cell_type": "code",
   "execution_count": 62,
   "metadata": {
    "collapsed": false
   },
   "outputs": [
    {
     "name": "stdout",
     "output_type": "stream",
     "text": [
      "[1, 100, 3, 4, 5]\n"
     ]
    }
   ],
   "source": [
    "data2={'1.2':1,'3.0':3,'4.0':4,'100.0':100,'5.0':5}\n",
    "#print data2\n",
    "print sortDictValues3(data2)"
   ]
  },
  {
   "cell_type": "code",
   "execution_count": 65,
   "metadata": {
    "collapsed": false
   },
   "outputs": [
    {
     "name": "stdout",
     "output_type": "stream",
     "text": [
      "[1.2, 3.0, 4.0, 5.0, 100.0]\n",
      "['1.2', '3.0', '4.0', '5.0', '100.0']\n",
      "[1, 3, 4, 5, 100]\n"
     ]
    }
   ],
   "source": [
    "def sortDictValues4(adict):\n",
    "    keys=adict.keys()\n",
    "    keys=[float(key) for key in keys]\n",
    "    keys.sort()\n",
    "    print keys\n",
    "    keys=[str(key) for key in keys]\n",
    "    print keys\n",
    "    return [adict[key] for key in keys]\n",
    "    #return map(adict.get, keys)\n",
    "\n",
    "print sortDictValues4(data2)"
   ]
  },
  {
   "cell_type": "code",
   "execution_count": 113,
   "metadata": {
    "collapsed": false
   },
   "outputs": [
    {
     "name": "stdout",
     "output_type": "stream",
     "text": [
      "[[  1.2   2.    5.4   3.   10.    7. ]\n",
      " [  2.    3.    4.    5.    6.    7. ]]\n"
     ]
    }
   ],
   "source": [
    "import numpy as np\n",
    "a = np.array([[1.2,2,5.4,3,10,7],[2,3,4,5,6,7]])\n",
    "print a\n",
    "#print a[0,0]\n",
    "#print len(a[0])"
   ]
  },
  {
   "cell_type": "code",
   "execution_count": 125,
   "metadata": {
    "collapsed": false
   },
   "outputs": [
    {
     "name": "stdout",
     "output_type": "stream",
     "text": [
      "[0, 1, 3, 2, 5, 4]\n",
      "[  1.2   2.    3.    5.4   7.   10. ]\n",
      "[ 2.  3.  5.  4.  7.  6.]\n"
     ]
    }
   ],
   "source": [
    "d={}\n",
    "for i in range(len(a[0,])):\n",
    "    d[a[0,i]]=i\n",
    "#print d\n",
    "keys=d.keys()\n",
    "keys.sort()\n",
    "print [d[key] for key in keys]\n",
    "#print d.get(keys)\n",
    "print a[0,[d[key] for key in keys]]\n",
    "print a[1,[d[key] for key in keys]]\n"
   ]
  },
  {
   "cell_type": "code",
   "execution_count": null,
   "metadata": {
    "collapsed": true
   },
   "outputs": [],
   "source": []
  }
 ],
 "metadata": {
  "kernelspec": {
   "display_name": "Python 2",
   "language": "python",
   "name": "python2"
  },
  "language_info": {
   "codemirror_mode": {
    "name": "ipython",
    "version": 2
   },
   "file_extension": ".py",
   "mimetype": "text/x-python",
   "name": "python",
   "nbconvert_exporter": "python",
   "pygments_lexer": "ipython2",
   "version": "2.7.11"
  }
 },
 "nbformat": 4,
 "nbformat_minor": 0
}
