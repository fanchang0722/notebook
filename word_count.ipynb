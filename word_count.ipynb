{
 "metadata": {
  "name": ""
 },
 "nbformat": 3,
 "nbformat_minor": 0,
 "worksheets": [
  {
   "cells": [
    {
     "cell_type": "code",
     "collapsed": false,
     "input": [
      "from collections import defaultdict\n",
      "def word_count3(items):\n",
      "    counts = defaultdict(int)\n",
      "    for i in items:\n",
      "        counts[i] += 1\n",
      "    return counts\n",
      "\n",
      "items = ['apple','red','apple','red','red','pear']\n",
      "%timeit word_count3(items)"
     ],
     "language": "python",
     "metadata": {},
     "outputs": [
      {
       "output_type": "stream",
       "stream": "stdout",
       "text": [
        "1000000 loops, best of 3: 731 ns per loop\n"
       ]
      }
     ],
     "prompt_number": 23
    },
    {
     "cell_type": "code",
     "collapsed": false,
     "input": [
      "def word_count1(items):\n",
      "    counts = dict()\n",
      "    for i in items:\n",
      "        counts[i] = counts.get(i, 0) + 1\n",
      "    return counts\n",
      "items = ['apple','red','apple','red','red','pear']\n",
      "%timeit word_count1(items)"
     ],
     "language": "python",
     "metadata": {},
     "outputs": [
      {
       "output_type": "stream",
       "stream": "stdout",
       "text": [
        "1000000 loops, best of 3: 723 ns per loop\n"
       ]
      }
     ],
     "prompt_number": 24
    },
    {
     "cell_type": "code",
     "collapsed": false,
     "input": [
      "def word_count2(items):\n",
      "    counts = dict()\n",
      "    for i in items:\n",
      "        if i not in counts:\n",
      "            counts[i] = 1\n",
      "        else:\n",
      "            counts[i] += 1\n",
      "    return counts\n",
      "items = ['apple','red','apple','red','red','pear']\n",
      "%timeit word_count2(items)"
     ],
     "language": "python",
     "metadata": {},
     "outputs": [
      {
       "output_type": "stream",
       "stream": "stdout",
       "text": [
        "1000000 loops, best of 3: 482 ns per loop\n"
       ]
      }
     ],
     "prompt_number": 25
    },
    {
     "cell_type": "code",
     "collapsed": false,
     "input": [
      "from collections import Counter\n",
      "def word_count4(items):\n",
      "    return Counter(items)\n",
      "items = ['apple','red','apple','red','red','pear','apple','red','apple','red','red','pear','apple','red',\n",
      "         'apple','red','red','pear','apple','red','apple','red','red','pear','apple','red','apple','red',\n",
      "         'red','pear','apple','red','apple','red','red','pear','apple','red','apple','red','red','pear','apple','red','apple','red','red','pear','apple','red',\n",
      "         'apple','red','red','pear','apple','red','apple','red','red','pear','apple','red','apple','red',\n",
      "         'red','pear','apple','red','apple','red','red','pear','apple','red','apple','red','red','pear','apple','red','apple','red','red','pear','apple','red',\n",
      "         'apple','red','red','pear','apple','red','apple','red','red','pear','apple','red','apple','red',\n",
      "         'red','pear','apple','red','apple','red','red','pear','apple','red','apple','red','red','pear','apple','red','apple','red','red','pear','apple','red',\n",
      "         'apple','red','red','pear','apple','red','apple','red','red','pear','apple','red','apple','red',\n",
      "         'red','pear','apple','red','apple','red','red','pear','apple','red','apple','red','red','pear','apple','red','apple','red','red','pear','apple','red',\n",
      "         'apple','red','red','pear','apple','red','apple','red','red','pear','apple','red','apple','red',\n",
      "         'red','pear','apple','red','apple','red','red','pear','apple','red','apple','red','red','pear','apple','red','apple','red','red','pear','apple','red',\n",
      "         'apple','red','red','pear','apple','red','apple','red','red','pear','apple','red','apple','red',\n",
      "         'red','pear','apple','red','apple','red','red','pear','apple','red','apple','red','red','pear','apple','red','apple','red','red','pear','apple','red',\n",
      "         'apple','red','red','pear','apple','red','apple','red','red','pear','apple','red','apple','red',\n",
      "         'red','pear','apple','red','apple','red','red','pear','apple','red','apple','red','red','pear','apple','red','apple','red','red','pear','apple','red',\n",
      "         'apple','red','red','pear','apple','red','apple','red','red','pear','apple','red','apple','red',\n",
      "         'red','pear','apple','red','apple','red','red','pear']\n",
      "word_count4(items)"
     ],
     "language": "python",
     "metadata": {},
     "outputs": [
      {
       "metadata": {},
       "output_type": "pyout",
       "prompt_number": 35,
       "text": [
        "Counter({'red': 144, 'apple': 96, 'pear': 48})"
       ]
      }
     ],
     "prompt_number": 35
    },
    {
     "cell_type": "code",
     "collapsed": false,
     "input": [
      "items = ['apple','red','apple','red','red','pear','apple','red','apple','red','red','pear','apple','red',\n",
      "         'apple','red','red','pear','apple','red','apple','red','red','pear','apple','red','apple','red',\n",
      "         'red','pear','apple','red','apple','red','red','pear','apple','red','apple','red','red','pear','apple','red','apple','red','red','pear','apple','red',\n",
      "         'apple','red','red','pear','apple','red','apple','red','red','pear','apple','red','apple','red',\n",
      "         'red','pear','apple','red','apple','red','red','pear','apple','red','apple','red','red','pear','apple','red','apple','red','red','pear','apple','red',\n",
      "         'apple','red','red','pear','apple','red','apple','red','red','pear','apple','red','apple','red',\n",
      "         'red','pear','apple','red','apple','red','red','pear','apple','red','apple','red','red','pear','apple','red','apple','red','red','pear','apple','red',\n",
      "         'apple','red','red','pear','apple','red','apple','red','red','pear','apple','red','apple','red',\n",
      "         'red','pear','apple','red','apple','red','red','pear','apple','red','apple','red','red','pear','apple','red','apple','red','red','pear','apple','red',\n",
      "         'apple','red','red','pear','apple','red','apple','red','red','pear','apple','red','apple','red',\n",
      "         'red','pear','apple','red','apple','red','red','pear','apple','red','apple','red','red','pear','apple','red','apple','red','red','pear','apple','red',\n",
      "         'apple','red','red','pear','apple','red','apple','red','red','pear','apple','red','apple','red',\n",
      "         'red','pear','apple','red','apple','red','red','pear','apple','red','apple','red','red','pear','apple','red','apple','red','red','pear','apple','red',\n",
      "         'apple','red','red','pear','apple','red','apple','red','red','pear','apple','red','apple','red',\n",
      "         'red','pear','apple','red','apple','red','red','pear','apple','red','apple','red','red','pear','apple','red','apple','red','red','pear','apple','red',\n",
      "         'apple','red','red','pear','apple','red','apple','red','red','pear','apple','red','apple','red',\n",
      "         'red','pear','apple','red','apple','red','red','pear']\n",
      "%timeit word_count1(items)\n",
      "%timeit word_count2(items)\n",
      "%timeit word_count3(items)\n",
      "%timeit word_count4(items)"
     ],
     "language": "python",
     "metadata": {},
     "outputs": [
      {
       "output_type": "stream",
       "stream": "stdout",
       "text": [
        "10000 loops, best of 3: 24.7 \u00b5s per loop\n",
        "100000 loops, best of 3: 17 \u00b5s per loop"
       ]
      },
      {
       "output_type": "stream",
       "stream": "stdout",
       "text": [
        "\n",
        "100000 loops, best of 3: 12.8 \u00b5s per loop"
       ]
      },
      {
       "output_type": "stream",
       "stream": "stdout",
       "text": [
        "\n",
        "10000 loops, best of 3: 43.1 \u00b5s per loop"
       ]
      },
      {
       "output_type": "stream",
       "stream": "stdout",
       "text": [
        "\n"
       ]
      }
     ],
     "prompt_number": 38
    },
    {
     "cell_type": "code",
     "collapsed": false,
     "input": [],
     "language": "python",
     "metadata": {},
     "outputs": []
    }
   ],
   "metadata": {}
  }
 ]
}