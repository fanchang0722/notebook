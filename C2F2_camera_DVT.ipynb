{
 "cells": [
  {
   "cell_type": "code",
   "execution_count": 1,
   "metadata": {},
   "outputs": [],
   "source": [
    "%matplotlib inline\n",
    "import os\n",
    "import numpy as np\n",
    "from scipy import stats\n",
    "import pandas as pd\n",
    "import matplotlib.pylab as plt\n",
    "import seaborn as sns"
   ]
  },
  {
   "cell_type": "code",
   "execution_count": 2,
   "metadata": {},
   "outputs": [],
   "source": [
    "def correlation_study(df, station1, station2, parameter, isplot=1):\n",
    "    newdf=df[['Station', 'sn', parameter]]\n",
    "#     print(parameter)\n",
    "#     print(newdf[newdf['Station']==station1].groupby('sn').mean().reset_index()[parameter])\n",
    "    gradient, intercept, r_value, p_value, std_err = stats.linregress(newdf[newdf['Station']==station1].groupby('sn').mean().reset_index()[parameter], \n",
    "                                                                  newdf[newdf['Station']==station2].groupby('sn').mean().reset_index()[parameter])\n",
    "#     print('Linear regression using stats.linregress')\n",
    "#     print('regression: a=%.2f b=%.2f, std error= %.3f' % (gradient, intercept, std_err))\n",
    "    if isplot:\n",
    "        p = np.poly1d(np.array([gradient, intercept]))\n",
    "        p(newdf[newdf['Station']==station1].groupby('sn').mean().reset_index()[parameter])\n",
    "        plt.plot(newdf[newdf['Station']==station1].groupby('sn').mean(), \n",
    "                 newdf[newdf['Station']==station2].groupby('sn').mean(), 'o')\n",
    "        plt.plot(newdf[newdf['Station']==station1].groupby('sn').mean().reset_index()[parameter],\n",
    "                p(newdf[newdf['Station']==station1].groupby('sn').mean().reset_index()[parameter]))\n",
    "        plt.title(parameter+'_correlation '+' m='+str(round(gradient,3))+' b='+str(round(intercept,3))+' R^2='+str(round(r_value**2, 3)))\n",
    "        plt.xlabel(station1)\n",
    "        plt.ylabel(station2)\n",
    "        plt.grid()\n",
    "        plt.savefig(station1+'-'+station2+'_'+df.Phase.unique()[0]+'_'+parameter+'.png', dpi=240)\n",
    "        plt.close()\n",
    "    return [df.Phase.unique()[0], round(gradient, 3), round(intercept, 3), round(r_value**2, 3), round(std_err, 3)]"
   ]
  },
  {
   "cell_type": "code",
   "execution_count": 9,
   "metadata": {},
   "outputs": [],
   "source": [
    "def calculation(df, station1, station2):\n",
    "    outdf=pd.DataFrame()\n",
    "    for parameter in df.columns[4:]:\n",
    "#         print parameter\n",
    "        result = correlation_study(df, station1, station2, parameter, isplot=1)\n",
    "#         print [station1, station2,  result[0], parameter, result[1], result[2], result[3], result[4]]\n",
    "        testdf = pd.DataFrame({'Station1':[station1], 'Station2':[station2], 'Phase':[result[0]], \n",
    "                             'Parameter':[parameter], 'Slope':[result[1]], 'Intercept':[result[2]], \n",
    "                             'R_square':[result[3]], 'MSE':[result[4]]})\n",
    "        outdf = outdf.append(testdf, ignore_index = True)\n",
    "\n",
    "        columnsTitles = ['Station1', 'Station2', 'Phase', 'Parameter', 'Slope', 'Intercept', 'R_square', 'MSE']\n",
    "    outdf = outdf.reindex(columns=columnsTitles)\n",
    "    outdf = outdf.sort_values(by=['Parameter'])\n",
    "    outdf.to_csv(station1+'-'+station2+'_'+result[0]+'_correlation.csv', index=False)"
   ]
  },
  {
   "cell_type": "code",
   "execution_count": 51,
   "metadata": {},
   "outputs": [
    {
     "name": "stdout",
     "output_type": "stream",
     "text": [
      "G501_FGEO_02 G501_FGEO_03\n",
      "G501_FGEO_02 G502_FGEO_01\n",
      "G501_FGEO_02 G502_FGEO_03\n",
      "G501_FGEO_03 G502_FGEO_01\n",
      "G501_FGEO_03 G502_FGEO_03\n",
      "G502_FGEO_01 G502_FGEO_03\n"
     ]
    }
   ],
   "source": [
    "# read dataframe\n",
    "df1 = pd.read_csv(r'C:\\Users\\fanchang\\fan_python\\G501_FGEO_02\\G501_FGEO_02_phase_03_out.csv')\n",
    "# df2 = pd.read_csv(r'C:\\Users\\fanchang\\fan_python\\FGEO_G601_02\\FGEO_G601_02_phase_03_out.csv')\n",
    "df3 = pd.read_csv(r'C:\\Users\\fanchang\\fan_python\\G501_FGEO_03\\G501_FGEO_03_phase_03_out.csv')\n",
    "df4 = pd.read_csv(r'C:\\Users\\fanchang\\fan_python\\G502_FGEO_01\\G502_FGEO_01_phase_03_out.csv')\n",
    "df5 = pd.read_csv(r'C:\\Users\\fanchang\\fan_python\\G502_FGEO_03\\G502_FGEO_03_phase_03_out.csv')\n",
    "# df6 = pd.read_csv(r'/home/fan/Downloads/G502_COMBO3_N3/G502_COMBO3_N3_phase_12_out.csv')\n",
    "# df7 = pd.read_csv(os.path.join(folder, files[6])\n",
    "# df8 = pd.read_csv(os.path.join(folder, files[7]))\n",
    "\n",
    "# reformat dataframe to drop index\n",
    "# df = pd.concat([df1, df2, df3, df4, df5, df6]).reset_index()\n",
    "df = pd.concat([df1, df3, df4, df5]).reset_index()\n",
    "df = df[df.columns[1:]]\n",
    "\n",
    "# stations = [name.split('.')[0] for name in files]\n",
    "stations =['G501_FGEO_02',  'G501_FGEO_03', 'G502_FGEO_01', 'G502_FGEO_03']\n",
    "fullname = stations\n",
    "for idx in range(len(fullname)):\n",
    "    for idy in range(len(fullname)):\n",
    "        if idx < idy:\n",
    "            print fullname[idx], fullname[idy]\n",
    "            calculation(df, fullname[idx], fullname[idy])"
   ]
  },
  {
   "cell_type": "code",
   "execution_count": null,
   "metadata": {},
   "outputs": [],
   "source": [
    "station1 = 'G501_COMBO3_N1'\n",
    "station2 = 'G501_COMBO3_N2'\n",
    "parameter = 'SFR_Center_V'\n",
    "correlation_study(df, station1, station2, parameter)"
   ]
  },
  {
   "cell_type": "code",
   "execution_count": null,
   "metadata": {
    "scrolled": true
   },
   "outputs": [],
   "source": [
    "station1 = 'G501_COMBO3_N1'\n",
    "station2 = 'G502_COMBO3_N1'\n",
    "\n",
    "outdf=pd.DataFrame()\n",
    "for parameter in df.columns[4:]:\n",
    "    result = correlation_study(df, station1, station2, parameter, isplot=1)\n",
    "    print [station1, station2,  result[0], parameter, result[1], result[2], result[3], result[4]]\n",
    "    testdf = pd.DataFrame({'Station1':[station1], 'Station2':[station2], 'Phase':[result[0]], \n",
    "                         'Parameter':[parameter], 'Slope':[result[1]], 'Intercept':[result[2]], \n",
    "                         'R_square':[result[3]], 'MSE':[result[4]]})\n",
    "    outdf = outdf.append(testdf, ignore_index = True)\n",
    "\n",
    "    columnsTitles = ['Station1', 'Station2', 'Phase', 'Parameter', 'Slope', 'Intercept', 'R_square', 'MSE']\n",
    "outdf = outdf.reindex(columns=columnsTitles)\n",
    "outdf = outdf.sort_values(by=['Parameter'])\n",
    "outdf.to_csv(station1+'-'+station2+'_'+result[0]+'_correlation.csv', index=False)"
   ]
  },
  {
   "cell_type": "code",
   "execution_count": null,
   "metadata": {},
   "outputs": [],
   "source": [
    "station1 = 'G501_COMBO3_N1'\n",
    "station2 = 'G502_COMBO3_N2'\n",
    "parameter = 'SFR_80IH_BL_V'\n",
    "newdf=df[['Station', 'sn', parameter]]\n",
    "gradient, intercept, r_value, p_value, std_err = stats.linregress(newdf[newdf['Station']==station1].groupby('sn').mean().reset_index()[parameter], \n",
    "                                                                  newdf[newdf['Station']==station2].groupby('sn').mean().reset_index()[parameter])\n",
    "print('Linear regression using stats.linregress')\n",
    "print('regression: a=%.2f b=%.2f, std error= %.3f' % (gradient, intercept, std_err))\n",
    "p = np.poly1d(np.array([gradient, intercept]))\n",
    "x = newdf[newdf['Station']==station1].groupby('sn').mean().reset_index()[parameter]\n",
    "y = newdf[newdf['Station']==station2].groupby('sn').mean().reset_index()[parameter]\n",
    "yhat = p(x)                         # or [p(z) for z in x]\n",
    "ybar = np.sum(y)/len(y)          # or sum(y)/len(y)\n",
    "ssreg = np.sum((yhat-ybar)**2)   # or sum([ (yihat - ybar)**2 for yihat in yhat])\n",
    "sstot = np.sum((y - ybar)**2)\n",
    "ssreg / sstot"
   ]
  },
  {
   "cell_type": "code",
   "execution_count": null,
   "metadata": {
    "scrolled": false
   },
   "outputs": [],
   "source": [
    "phase = 'RearSfrTestMacroCollect'\n",
    "result = pd.DataFrame()\n",
    "df = pd.concat([df1, df2, df3, df4, df5, df6]).reset_index()\n",
    "df = df[df.columns[1:]]\n",
    "for idx in range(len(fullname)):\n",
    "    for idy in range(len(fullname)):\n",
    "        if idx < idy:\n",
    "#             print fullname[idx]+'-'+fullname[idy]+'_'+phase+'_correlation.csv'\n",
    "            temp=pd.read_csv(fullname[idx]+'-'+fullname[idy]+'_'+phase+'_correlation.csv')\n",
    "            result = result.append(temp, ignore_index = True)\n",
    "result[(result.R_square < 0.4) & (result.Slope < .5)].sort_values(by='Parameter')\n",
    "# result.sort_values(by='Parameter')\n",
    "plt.hist(result.Slope)\n",
    "plt.figure()\n",
    "plt.hist(result.Intercept)\n",
    "plt.figure()\n",
    "plt.hist(result.R_square)"
   ]
  },
  {
   "cell_type": "code",
   "execution_count": null,
   "metadata": {},
   "outputs": [],
   "source": [
    "phase = 'RearSfrTestInfCollect'\n",
    "result = pd.DataFrame()\n",
    "df = pd.concat([df1, df2, df3, df4, df5, df6]).reset_index()\n",
    "df = df[df.columns[1:]]\n",
    "for idx in range(len(fullname)):\n",
    "    for idy in range(len(fullname)):\n",
    "        if idx < idy:\n",
    "#             print fullname[idx]+'-'+fullname[idy]+'_'+phase+'_correlation.csv'\n",
    "            temp=pd.read_csv(fullname[idx]+'-'+fullname[idy]+'_'+phase+'_correlation.csv')\n",
    "            result = result.append(temp, ignore_index = True)\n",
    "result[(result.R_square < 0.4) & (result.Slope < .5)].sort_values(by='Parameter')\n",
    "plt.hist(result.Slope)\n",
    "plt.figure()\n",
    "plt.hist(result.Intercept)\n",
    "plt.figure()\n",
    "plt.hist(result.R_square)"
   ]
  },
  {
   "cell_type": "code",
   "execution_count": null,
   "metadata": {},
   "outputs": [],
   "source": [
    "result.head()"
   ]
  },
  {
   "cell_type": "code",
   "execution_count": null,
   "metadata": {},
   "outputs": [],
   "source": [
    "plt.hist(result.Slope)"
   ]
  },
  {
   "cell_type": "code",
   "execution_count": null,
   "metadata": {},
   "outputs": [],
   "source": [
    "plt.hist(result.Intercept)"
   ]
  },
  {
   "cell_type": "code",
   "execution_count": null,
   "metadata": {},
   "outputs": [],
   "source": [
    "plt.hist(result.R_square)"
   ]
  },
  {
   "cell_type": "code",
   "execution_count": null,
   "metadata": {},
   "outputs": [],
   "source": [
    "result[(result.R_square < 0.4) & (result.Slope < .5)].sort_values(by='Parameter')"
   ]
  },
  {
   "cell_type": "code",
   "execution_count": null,
   "metadata": {},
   "outputs": [],
   "source": [
    "df4 = pd.read_csv(r'/home/fan/Downloads/G502_COMBO_N1/G502_COMBO_N1_phase_07_out.csv')"
   ]
  },
  {
   "cell_type": "code",
   "execution_count": null,
   "metadata": {},
   "outputs": [],
   "source": [
    "df4"
   ]
  },
  {
   "cell_type": "code",
   "execution_count": null,
   "metadata": {},
   "outputs": [],
   "source": [
    "df.columns"
   ]
  },
  {
   "cell_type": "code",
   "execution_count": null,
   "metadata": {},
   "outputs": [],
   "source": [
    "df.head()"
   ]
  },
  {
   "cell_type": "code",
   "execution_count": null,
   "metadata": {},
   "outputs": [],
   "source": [
    "correlation_study(df, fullname[idx], fullname[idy], 'ov7251_slave.optical_center_y', isplot=1)\n"
   ]
  },
  {
   "cell_type": "code",
   "execution_count": null,
   "metadata": {},
   "outputs": [],
   "source": [
    "station1=fullname[idx]\n",
    "station2=fullname[idy]\n",
    "parameter='imx520.reprojection_error_mean'\n",
    "stats.linregress(newdf[newdf['Station']==station1].groupby('sn').mean().reset_index()[parameter], \n",
    "                                                                  newdf[newdf['Station']==station2].groupby('sn').mean().reset_index()[parameter])"
   ]
  },
  {
   "cell_type": "code",
   "execution_count": 21,
   "metadata": {},
   "outputs": [
    {
     "name": "stdout",
     "output_type": "stream",
     "text": [
      "G602_RGEO_N1_Slot1 G602_RGEO_N1_Slot2\n",
      "G602_RGEO_N1_Slot1 G602_RGEO_N1_Slot3\n",
      "G602_RGEO_N1_Slot2 G602_RGEO_N1_Slot3\n"
     ]
    }
   ],
   "source": [
    "df1 = pd.read_csv(r'C:\\Users\\fanchang\\Downloads\\G602_RGEO_N1_Slot1_phase_09_out.csv')\n",
    "df2 = pd.read_csv(r'C:\\Users\\fanchang\\Downloads\\G602_RGEO_N1_Slot2_phase_09_out.csv')\n",
    "df3 = pd.read_csv(r'C:\\Users\\fanchang\\Downloads\\G602_RGEO_N1_Slot3_phase_09_out.csv')\n",
    "# df4 = pd.read_csv(r'C:\\Users\\fanchang\\fan_python\\FGEO_G602_01\\FGEO_G602_01_phase_03_out.csv')\n",
    "# df5 = pd.read_csv(r'C:\\Users\\fanchang\\fan_python\\FGEO_G602_02\\FGEO_G602_02_phase_03_out.csv')\n",
    "# df6 = pd.read_csv(r'/home/fan/Downloads/G502_COMBO3_N3/G502_COMBO3_N3_phase_12_out.csv')\n",
    "# df7 = pd.read_csv(os.path.join(folder, files[6])\n",
    "# df8 = pd.read_csv(os.path.join(folder, files[7]))\n",
    "\n",
    "# reformat dataframe to drop index\n",
    "# df = pd.concat([df1, df2, df3, df4, df5, df6]).reset_index()\n",
    "df = pd.concat([df1, df2, df3]).reset_index()\n",
    "df = df[df.columns[1:]]\n",
    "\n",
    "# stations = [name.split('.')[0] for name in files]\n",
    "stations =['G602_RGEO_N1_Slot1', 'G602_RGEO_N1_Slot2', 'G602_RGEO_N1_Slot3',]\n",
    "fullname = stations\n",
    "for idx in range(len(fullname)):\n",
    "    for idy in range(len(fullname)):\n",
    "        if idx < idy:\n",
    "            print fullname[idx], fullname[idy]\n",
    "            calculation(df, fullname[idx], fullname[idy])"
   ]
  },
  {
   "cell_type": "code",
   "execution_count": 27,
   "metadata": {},
   "outputs": [],
   "source": [
    "# read dataframe\n",
    "df1 = pd.read_csv(r'C:\\Users\\fanchang\\fan_python\\FGEO_G601_01\\FGEO_G601_01_phase_03_out.csv')\n",
    "df2 = pd.read_csv(r'C:\\Users\\fanchang\\fan_python\\FGEO_G601_02\\FGEO_G601_02_phase_03_out.csv')\n",
    "df3 = pd.read_csv(r'C:\\Users\\fanchang\\fan_python\\FGEO_G601_03\\FGEO_G601_03_phase_03_out.csv')\n",
    "df4 = pd.read_csv(r'C:\\Users\\fanchang\\fan_python\\FGEO_G602_01\\FGEO_G602_01_phase_03_out.csv')\n",
    "df5 = pd.read_csv(r'C:\\Users\\fanchang\\fan_python\\FGEO_G602_02\\FGEO_G602_02_phase_03_out.csv')\n",
    "# df6 = pd.read_csv(r'/home/fan/Downloads/G502_COMBO_N3/G502_COMBO_N3_phase_09_out.csv')\n",
    "\n",
    "# reformat dataframe to drop index\n",
    "df = pd.concat([df1, df2, df3, df4, df5]).reset_index()\n",
    "df = df[df.columns[1:]]\n",
    "\n",
    "fullname=['FGEO_G601_01', 'FGEO_G601_02', 'FGEO_G601_03', 'FGEO_G602_01', 'FGEO_G602_02']\n",
    "# for line in ['G501', 'G502']:\n",
    "#     for station in ['N1', 'N2', 'N3']:\n",
    "#         fullname.append(line+'_'+camera+'_'+station)\n",
    "        \n",
    "# for idx in range(len(fullname)):\n",
    "#     for idy in range(len(fullname)):\n",
    "#         if idx < idy:\n",
    "#             print fullname[idx], fullname[idy]\n",
    "#             calculation(df, fullname[idx], fullname[idy])"
   ]
  },
  {
   "cell_type": "code",
   "execution_count": 20,
   "metadata": {},
   "outputs": [
    {
     "name": "stdout",
     "output_type": "stream",
     "text": [
      "('FGEO_G601_01', 'FGEO_G601_02')\n"
     ]
    }
   ],
   "source": [
    "print(fullname[idx], fullname[idy])"
   ]
  },
  {
   "cell_type": "code",
   "execution_count": 22,
   "metadata": {},
   "outputs": [
    {
     "data": {
      "text/html": [
       "<div>\n",
       "<style scoped>\n",
       "    .dataframe tbody tr th:only-of-type {\n",
       "        vertical-align: middle;\n",
       "    }\n",
       "\n",
       "    .dataframe tbody tr th {\n",
       "        vertical-align: top;\n",
       "    }\n",
       "\n",
       "    .dataframe thead th {\n",
       "        text-align: right;\n",
       "    }\n",
       "</style>\n",
       "<table border=\"1\" class=\"dataframe\">\n",
       "  <thead>\n",
       "    <tr style=\"text-align: right;\">\n",
       "      <th></th>\n",
       "      <th>Station</th>\n",
       "      <th>sn</th>\n",
       "      <th>Operator</th>\n",
       "      <th>Phase</th>\n",
       "      <th>imx481_tele.reprojection_error_median</th>\n",
       "      <th>imx363_wide.reprojection_error_median</th>\n",
       "      <th>imx363_wide.pose_x</th>\n",
       "      <th>imx363_wide.pose_y</th>\n",
       "      <th>imx363_wide.pose_z</th>\n",
       "      <th>imx481_tele.reprojection_error_mean</th>\n",
       "      <th>...</th>\n",
       "      <th>imx481_tele.reprojection_error_samples</th>\n",
       "      <th>imx363_wide.tangential_distortion_p2</th>\n",
       "      <th>imx363_wide.radial_distortion_k1</th>\n",
       "      <th>imx481_tele.tangential_distortion_p2</th>\n",
       "      <th>imx363_wide.radial_distortion_k3</th>\n",
       "      <th>imx363_wide.radial_distortion_k2</th>\n",
       "      <th>imx481_tele.position_z</th>\n",
       "      <th>imx363_wide.reprojection_error_samples</th>\n",
       "      <th>imx481_tele.position_x</th>\n",
       "      <th>imx481_tele.position_y</th>\n",
       "    </tr>\n",
       "  </thead>\n",
       "  <tbody>\n",
       "    <tr>\n",
       "      <th>0</th>\n",
       "      <td>G602_RGEO_N1_Slot1</td>\n",
       "      <td>94KAZ00C9Q</td>\n",
       "      <td>OP1</td>\n",
       "      <td>Config4_Collect_GEO_DATA</td>\n",
       "      <td>0.482229</td>\n",
       "      <td>0.535810</td>\n",
       "      <td>0</td>\n",
       "      <td>0</td>\n",
       "      <td>0</td>\n",
       "      <td>0.554670</td>\n",
       "      <td>...</td>\n",
       "      <td>614</td>\n",
       "      <td>0</td>\n",
       "      <td>0.083718</td>\n",
       "      <td>0</td>\n",
       "      <td>0.182881</td>\n",
       "      <td>-0.237436</td>\n",
       "      <td>-0.001949</td>\n",
       "      <td>1155</td>\n",
       "      <td>0.000753</td>\n",
       "      <td>0.012764</td>\n",
       "    </tr>\n",
       "    <tr>\n",
       "      <th>1</th>\n",
       "      <td>G602_RGEO_N1_Slot1</td>\n",
       "      <td>94KAZ00BUP</td>\n",
       "      <td>OP1</td>\n",
       "      <td>Config4_Collect_GEO_DATA</td>\n",
       "      <td>0.510877</td>\n",
       "      <td>0.547743</td>\n",
       "      <td>0</td>\n",
       "      <td>0</td>\n",
       "      <td>0</td>\n",
       "      <td>0.587681</td>\n",
       "      <td>...</td>\n",
       "      <td>611</td>\n",
       "      <td>0</td>\n",
       "      <td>0.079963</td>\n",
       "      <td>0</td>\n",
       "      <td>0.191590</td>\n",
       "      <td>-0.242286</td>\n",
       "      <td>-0.002483</td>\n",
       "      <td>1152</td>\n",
       "      <td>0.000524</td>\n",
       "      <td>0.012433</td>\n",
       "    </tr>\n",
       "    <tr>\n",
       "      <th>2</th>\n",
       "      <td>G602_RGEO_N1_Slot1</td>\n",
       "      <td>941AZ07400</td>\n",
       "      <td>OP1</td>\n",
       "      <td>Config4_Collect_GEO_DATA</td>\n",
       "      <td>0.472702</td>\n",
       "      <td>0.574515</td>\n",
       "      <td>0</td>\n",
       "      <td>0</td>\n",
       "      <td>0</td>\n",
       "      <td>0.543611</td>\n",
       "      <td>...</td>\n",
       "      <td>613</td>\n",
       "      <td>0</td>\n",
       "      <td>0.085887</td>\n",
       "      <td>0</td>\n",
       "      <td>0.211338</td>\n",
       "      <td>-0.255645</td>\n",
       "      <td>-0.001548</td>\n",
       "      <td>1156</td>\n",
       "      <td>0.000325</td>\n",
       "      <td>0.012828</td>\n",
       "    </tr>\n",
       "    <tr>\n",
       "      <th>3</th>\n",
       "      <td>G602_RGEO_N1_Slot1</td>\n",
       "      <td>948AZ08175</td>\n",
       "      <td>OP1</td>\n",
       "      <td>Config4_Collect_GEO_DATA</td>\n",
       "      <td>0.465288</td>\n",
       "      <td>0.568672</td>\n",
       "      <td>0</td>\n",
       "      <td>0</td>\n",
       "      <td>0</td>\n",
       "      <td>0.551731</td>\n",
       "      <td>...</td>\n",
       "      <td>613</td>\n",
       "      <td>0</td>\n",
       "      <td>0.080203</td>\n",
       "      <td>0</td>\n",
       "      <td>0.182093</td>\n",
       "      <td>-0.234890</td>\n",
       "      <td>-0.001414</td>\n",
       "      <td>1160</td>\n",
       "      <td>0.000149</td>\n",
       "      <td>0.013116</td>\n",
       "    </tr>\n",
       "    <tr>\n",
       "      <th>4</th>\n",
       "      <td>G602_RGEO_N1_Slot1</td>\n",
       "      <td>94KAZ00C1Y</td>\n",
       "      <td>OP3</td>\n",
       "      <td>Config4_Collect_GEO_DATA</td>\n",
       "      <td>0.491132</td>\n",
       "      <td>0.546167</td>\n",
       "      <td>0</td>\n",
       "      <td>0</td>\n",
       "      <td>0</td>\n",
       "      <td>0.566849</td>\n",
       "      <td>...</td>\n",
       "      <td>612</td>\n",
       "      <td>0</td>\n",
       "      <td>0.081493</td>\n",
       "      <td>0</td>\n",
       "      <td>0.183650</td>\n",
       "      <td>-0.238204</td>\n",
       "      <td>-0.001630</td>\n",
       "      <td>1150</td>\n",
       "      <td>0.000170</td>\n",
       "      <td>0.012815</td>\n",
       "    </tr>\n",
       "  </tbody>\n",
       "</table>\n",
       "<p>5 rows × 38 columns</p>\n",
       "</div>"
      ],
      "text/plain": [
       "              Station          sn Operator                     Phase  \\\n",
       "0  G602_RGEO_N1_Slot1  94KAZ00C9Q      OP1  Config4_Collect_GEO_DATA   \n",
       "1  G602_RGEO_N1_Slot1  94KAZ00BUP      OP1  Config4_Collect_GEO_DATA   \n",
       "2  G602_RGEO_N1_Slot1  941AZ07400      OP1  Config4_Collect_GEO_DATA   \n",
       "3  G602_RGEO_N1_Slot1  948AZ08175      OP1  Config4_Collect_GEO_DATA   \n",
       "4  G602_RGEO_N1_Slot1  94KAZ00C1Y      OP3  Config4_Collect_GEO_DATA   \n",
       "\n",
       "   imx481_tele.reprojection_error_median  \\\n",
       "0                               0.482229   \n",
       "1                               0.510877   \n",
       "2                               0.472702   \n",
       "3                               0.465288   \n",
       "4                               0.491132   \n",
       "\n",
       "   imx363_wide.reprojection_error_median  imx363_wide.pose_x  \\\n",
       "0                               0.535810                   0   \n",
       "1                               0.547743                   0   \n",
       "2                               0.574515                   0   \n",
       "3                               0.568672                   0   \n",
       "4                               0.546167                   0   \n",
       "\n",
       "   imx363_wide.pose_y  imx363_wide.pose_z  \\\n",
       "0                   0                   0   \n",
       "1                   0                   0   \n",
       "2                   0                   0   \n",
       "3                   0                   0   \n",
       "4                   0                   0   \n",
       "\n",
       "   imx481_tele.reprojection_error_mean           ...            \\\n",
       "0                             0.554670           ...             \n",
       "1                             0.587681           ...             \n",
       "2                             0.543611           ...             \n",
       "3                             0.551731           ...             \n",
       "4                             0.566849           ...             \n",
       "\n",
       "   imx481_tele.reprojection_error_samples  \\\n",
       "0                                     614   \n",
       "1                                     611   \n",
       "2                                     613   \n",
       "3                                     613   \n",
       "4                                     612   \n",
       "\n",
       "   imx363_wide.tangential_distortion_p2  imx363_wide.radial_distortion_k1  \\\n",
       "0                                     0                          0.083718   \n",
       "1                                     0                          0.079963   \n",
       "2                                     0                          0.085887   \n",
       "3                                     0                          0.080203   \n",
       "4                                     0                          0.081493   \n",
       "\n",
       "   imx481_tele.tangential_distortion_p2  imx363_wide.radial_distortion_k3  \\\n",
       "0                                     0                          0.182881   \n",
       "1                                     0                          0.191590   \n",
       "2                                     0                          0.211338   \n",
       "3                                     0                          0.182093   \n",
       "4                                     0                          0.183650   \n",
       "\n",
       "   imx363_wide.radial_distortion_k2  imx481_tele.position_z  \\\n",
       "0                         -0.237436               -0.001949   \n",
       "1                         -0.242286               -0.002483   \n",
       "2                         -0.255645               -0.001548   \n",
       "3                         -0.234890               -0.001414   \n",
       "4                         -0.238204               -0.001630   \n",
       "\n",
       "   imx363_wide.reprojection_error_samples  imx481_tele.position_x  \\\n",
       "0                                    1155                0.000753   \n",
       "1                                    1152                0.000524   \n",
       "2                                    1156                0.000325   \n",
       "3                                    1160                0.000149   \n",
       "4                                    1150                0.000170   \n",
       "\n",
       "   imx481_tele.position_y  \n",
       "0                0.012764  \n",
       "1                0.012433  \n",
       "2                0.012828  \n",
       "3                0.013116  \n",
       "4                0.012815  \n",
       "\n",
       "[5 rows x 38 columns]"
      ]
     },
     "execution_count": 22,
     "metadata": {},
     "output_type": "execute_result"
    }
   ],
   "source": [
    "df.head()"
   ]
  },
  {
   "cell_type": "code",
   "execution_count": 29,
   "metadata": {},
   "outputs": [
    {
     "data": {
      "text/plain": [
       "array(['FGEO_G601_01', 'FGEO_G601_02', 'FGEO_G601_03', 'FGEO_G602_01',\n",
       "       'FGEO_G602_02'], dtype=object)"
      ]
     },
     "execution_count": 29,
     "metadata": {},
     "output_type": "execute_result"
    }
   ],
   "source": [
    "df.Station.unique()"
   ]
  },
  {
   "cell_type": "code",
   "execution_count": 30,
   "metadata": {},
   "outputs": [
    {
     "data": {
      "text/plain": [
       "Index([u'Station', u'sn', u'Operator', u'Phase',\n",
       "       u'imx520.reprojection_error_mean', u'ov7251_slave.optical_center_y',\n",
       "       u'ov7251_master.position_z', u'ov7251_master.position_y',\n",
       "       u'ov7251_master.position_x', u'ov7251_master.reprojection_error_mean',\n",
       "       u'ov7251_slave.reprojection_error_mean', u'IRtoIR.pitch',\n",
       "       u'ov7251_slave.reprojection_error_samples', u'IRtoIR.roll',\n",
       "       u'ov7251_slave.radial_distortion_k1',\n",
       "       u'ov7251_slave.radial_distortion_k2',\n",
       "       u'ov7251_slave.radial_distortion_k3', u'imx520.optical_center_y',\n",
       "       u'imx520.optical_center_x', u'ov7251_slave.pose_z',\n",
       "       u'ov7251_slave.tangential_distortion_p1', u'imx520.position_x',\n",
       "       u'imx520.position_y', u'imx520.position_z',\n",
       "       u'ov7251_slave.focal_length', u'imx520.reprojection_error_samples',\n",
       "       u'imx520.pose_y', u'ov7251_master.pose_y', u'ov7251_master.pose_x',\n",
       "       u'ov7251_slave.position_y', u'ov7251_master.pose_z',\n",
       "       u'imx520.focal_length', u'ov7251_master.tangential_distortion_p2',\n",
       "       u'ov7251_master.tangential_distortion_p1',\n",
       "       u'ov7251_master.reprojection_error_samples', u'ov7251_slave.pose_x',\n",
       "       u'ov7251_slave.tangential_distortion_p2',\n",
       "       u'imx520.tangential_distortion_p1', u'imx520.tangential_distortion_p2',\n",
       "       u'ov7251_master.optical_center_x', u'ov7251_master.optical_center_y',\n",
       "       u'ov7251_slave.position_z', u'imx520.radial_distortion_k3',\n",
       "       u'ov7251_master.radial_distortion_k1', u'imx520.radial_distortion_k1',\n",
       "       u'ov7251_master.radial_distortion_k3', u'ov7251_slave.optical_center_x',\n",
       "       u'ov7251_slave.position_x', u'imx520.pose_z', u'imx520.pose_x',\n",
       "       u'imx520.radial_distortion_k2', u'ov7251_slave.pose_y',\n",
       "       u'ov7251_master.radial_distortion_k2', u'IRtoIR.yaw',\n",
       "       u'ov7251_master.focal_length'],\n",
       "      dtype='object')"
      ]
     },
     "execution_count": 30,
     "metadata": {},
     "output_type": "execute_result"
    }
   ],
   "source": [
    "df.columns"
   ]
  },
  {
   "cell_type": "code",
   "execution_count": 70,
   "metadata": {},
   "outputs": [
    {
     "name": "stdout",
     "output_type": "stream",
     "text": [
      "G601RGEO01_Slot1 G601RGEO01_Slot2\n",
      "G601RGEO01_Slot1 G601RGEO01_Slot3\n",
      "G601RGEO01_Slot1 G601_RGEO_N2_Slot1\n",
      "G601RGEO01_Slot1 G601_RGEO_N2_Slot2\n",
      "G601RGEO01_Slot1 G601_RGEO_N2_Slot3\n",
      "G601RGEO01_Slot1 G602_RGEO_N1_Slot1\n",
      "G601RGEO01_Slot1 G602_RGEO_N1_Slot2\n",
      "G601RGEO01_Slot1 G602_RGEO_N1_Slot3\n",
      "G601RGEO01_Slot1 G602_RGEO_N2_Slot1\n",
      "G601RGEO01_Slot1 G602_RGEO_N2_Slot2\n",
      "G601RGEO01_Slot1 G602_RGEO_N2_Slot3\n",
      "G601RGEO01_Slot2 G601RGEO01_Slot3\n",
      "G601RGEO01_Slot2 G601_RGEO_N2_Slot1\n",
      "G601RGEO01_Slot2 G601_RGEO_N2_Slot2\n",
      "G601RGEO01_Slot2 G601_RGEO_N2_Slot3\n",
      "G601RGEO01_Slot2 G602_RGEO_N1_Slot1\n",
      "G601RGEO01_Slot2 G602_RGEO_N1_Slot2\n",
      "G601RGEO01_Slot2 G602_RGEO_N1_Slot3\n",
      "G601RGEO01_Slot2 G602_RGEO_N2_Slot1\n",
      "G601RGEO01_Slot2 G602_RGEO_N2_Slot2\n",
      "G601RGEO01_Slot2 G602_RGEO_N2_Slot3\n",
      "G601RGEO01_Slot3 G601_RGEO_N2_Slot1\n",
      "G601RGEO01_Slot3 G601_RGEO_N2_Slot2\n",
      "G601RGEO01_Slot3 G601_RGEO_N2_Slot3\n",
      "G601RGEO01_Slot3 G602_RGEO_N1_Slot1\n",
      "G601RGEO01_Slot3 G602_RGEO_N1_Slot2\n",
      "G601RGEO01_Slot3 G602_RGEO_N1_Slot3\n",
      "G601RGEO01_Slot3 G602_RGEO_N2_Slot1\n",
      "G601RGEO01_Slot3 G602_RGEO_N2_Slot2\n",
      "G601RGEO01_Slot3 G602_RGEO_N2_Slot3\n",
      "G601_RGEO_N2_Slot1 G601_RGEO_N2_Slot2\n",
      "G601_RGEO_N2_Slot1 G601_RGEO_N2_Slot3\n",
      "G601_RGEO_N2_Slot1 G602_RGEO_N1_Slot1\n",
      "G601_RGEO_N2_Slot1 G602_RGEO_N1_Slot2\n",
      "G601_RGEO_N2_Slot1 G602_RGEO_N1_Slot3\n",
      "G601_RGEO_N2_Slot1 G602_RGEO_N2_Slot1\n",
      "G601_RGEO_N2_Slot1 G602_RGEO_N2_Slot2\n",
      "G601_RGEO_N2_Slot1 G602_RGEO_N2_Slot3\n",
      "G601_RGEO_N2_Slot2 G601_RGEO_N2_Slot3\n",
      "G601_RGEO_N2_Slot2 G602_RGEO_N1_Slot1\n",
      "G601_RGEO_N2_Slot2 G602_RGEO_N1_Slot2\n",
      "G601_RGEO_N2_Slot2 G602_RGEO_N1_Slot3\n",
      "G601_RGEO_N2_Slot2 G602_RGEO_N2_Slot1\n",
      "G601_RGEO_N2_Slot2 G602_RGEO_N2_Slot2\n",
      "G601_RGEO_N2_Slot2 G602_RGEO_N2_Slot3\n",
      "G601_RGEO_N2_Slot3 G602_RGEO_N1_Slot1\n",
      "G601_RGEO_N2_Slot3 G602_RGEO_N1_Slot2\n",
      "G601_RGEO_N2_Slot3 G602_RGEO_N1_Slot3\n",
      "G601_RGEO_N2_Slot3 G602_RGEO_N2_Slot1\n",
      "G601_RGEO_N2_Slot3 G602_RGEO_N2_Slot2\n",
      "G601_RGEO_N2_Slot3 G602_RGEO_N2_Slot3\n",
      "G602_RGEO_N1_Slot1 G602_RGEO_N1_Slot2\n",
      "G602_RGEO_N1_Slot1 G602_RGEO_N1_Slot3\n",
      "G602_RGEO_N1_Slot1 G602_RGEO_N2_Slot1\n",
      "G602_RGEO_N1_Slot1 G602_RGEO_N2_Slot2\n",
      "G602_RGEO_N1_Slot1 G602_RGEO_N2_Slot3\n",
      "G602_RGEO_N1_Slot2 G602_RGEO_N1_Slot3\n",
      "G602_RGEO_N1_Slot2 G602_RGEO_N2_Slot1\n",
      "G602_RGEO_N1_Slot2 G602_RGEO_N2_Slot2\n",
      "G602_RGEO_N1_Slot2 G602_RGEO_N2_Slot3\n",
      "G602_RGEO_N1_Slot3 G602_RGEO_N2_Slot1\n",
      "G602_RGEO_N1_Slot3 G602_RGEO_N2_Slot2\n",
      "G602_RGEO_N1_Slot3 G602_RGEO_N2_Slot3\n",
      "G602_RGEO_N2_Slot1 G602_RGEO_N2_Slot2\n",
      "G602_RGEO_N2_Slot1 G602_RGEO_N2_Slot3\n",
      "G602_RGEO_N2_Slot2 G602_RGEO_N2_Slot3\n"
     ]
    }
   ],
   "source": [
    "# read dataframe\n",
    "df1 = pd.read_csv(r'C:\\Users\\fanchang\\fan_python\\C2F2_RGEO\\G601_RGEO_N1_Slot1\\G601RGEO01_Slot1_phase_09_out.csv')\n",
    "df2 = pd.read_csv(r'C:\\Users\\fanchang\\fan_python\\C2F2_RGEO\\G601_RGEO_N1_Slot2\\G601RGEO01_Slot2_phase_09_out.csv')\n",
    "df3 = pd.read_csv(r'C:\\Users\\fanchang\\fan_python\\C2F2_RGEO\\G601_RGEO_N1_Slot3\\G601RGEO01_Slot3_phase_09_out.csv')\n",
    "df4 = pd.read_csv(r'C:\\Users\\fanchang\\fan_python\\C2F2_RGEO\\G601_RGEO_N2_Slot1\\G601_RGEO_N2_Slot1_phase_09_out.csv')\n",
    "df5 = pd.read_csv(r'C:\\Users\\fanchang\\fan_python\\C2F2_RGEO\\G601_RGEO_N2_Slot2\\G601_RGEO_N2_Slot2_phase_09_out.csv')\n",
    "df6 = pd.read_csv(r'C:\\Users\\fanchang\\fan_python\\C2F2_RGEO\\G601_RGEO_N2_Slot3\\G601_RGEO_N2_Slot3_phase_09_out.csv')\n",
    "df7 = pd.read_csv(r'C:\\Users\\fanchang\\fan_python\\C2F2_RGEO\\G602_RGEO_N1_Slot1\\G602_RGEO_N1_Slot1_phase_09_out.csv')\n",
    "df8 = pd.read_csv(r'C:\\Users\\fanchang\\fan_python\\C2F2_RGEO\\G602_RGEO_N1_Slot2\\G602_RGEO_N1_Slot2_phase_09_out.csv')\n",
    "df9 = pd.read_csv(r'C:\\Users\\fanchang\\fan_python\\C2F2_RGEO\\G602_RGEO_N1_Slot3\\G602_RGEO_N1_Slot3_phase_09_out.csv')\n",
    "df10 = pd.read_csv(r'C:\\Users\\fanchang\\fan_python\\C2F2_RGEO\\G602_RGEO_N2_Slot1\\G602_RGEO_N2_Slot1_phase_09_out.csv')\n",
    "df11 = pd.read_csv(r'C:\\Users\\fanchang\\fan_python\\C2F2_RGEO\\G602_RGEO_N2_Slot2\\G602_RGEO_N2_Slot2_phase_09_out.csv')\n",
    "df12 = pd.read_csv(r'C:\\Users\\fanchang\\fan_python\\C2F2_RGEO\\G602_RGEO_N2_Slot3\\G602_RGEO_N2_Slot3_phase_09_out.csv')\n",
    "# df7 = pd.read_csv(os.path.join(folder, files[6])\n",
    "# df8 = pd.read_csv(os.path.join(folder, files[7]))\n",
    "\n",
    "# reformat dataframe to drop index\n",
    "df = pd.concat([df1, df2, df3, df4, df5, df6, df7, df8, df9, df10, df11, df12]).reset_index()\n",
    "\n",
    "df = df[df.columns[1:]]\n",
    "\n",
    "# stations = [name.split('.')[0] for name in files]\n",
    "stations =['G601RGEO01_Slot1',  'G601RGEO01_Slot2', 'G601RGEO01_Slot3',\n",
    "           'G601_RGEO_N2_Slot1',  'G601_RGEO_N2_Slot2', 'G601_RGEO_N2_Slot3',\n",
    "           'G602_RGEO_N1_Slot1',  'G602_RGEO_N1_Slot2', 'G602_RGEO_N1_Slot3',\n",
    "           'G602_RGEO_N2_Slot1',  'G602_RGEO_N2_Slot2', 'G602_RGEO_N2_Slot3',\n",
    "          ]\n",
    "fullname = stations\n",
    "for idx in range(len(fullname)):\n",
    "    for idy in range(len(fullname)):\n",
    "        if idx < idy:\n",
    "            print fullname[idx], fullname[idy]\n",
    "            calculation(df, fullname[idx], fullname[idy])"
   ]
  },
  {
   "cell_type": "code",
   "execution_count": 64,
   "metadata": {},
   "outputs": [
    {
     "ename": "SyntaxError",
     "evalue": "invalid syntax (<ipython-input-64-e334f081b334>, line 1)",
     "output_type": "error",
     "traceback": [
      "\u001b[1;36m  File \u001b[1;32m\"<ipython-input-64-e334f081b334>\"\u001b[1;36m, line \u001b[1;32m1\u001b[0m\n\u001b[1;33m    filename=ls *Config1*.csv\u001b[0m\n\u001b[1;37m                         ^\u001b[0m\n\u001b[1;31mSyntaxError\u001b[0m\u001b[1;31m:\u001b[0m invalid syntax\n"
     ]
    }
   ],
   "source": [
    "import os\n",
    "import re\n",
    "filenames = os.listdir(os.getcwd())\n",
    "for filename in filenames:\n",
    "    if filename.endswith('.csv'):\n",
    "        print filename"
   ]
  },
  {
   "cell_type": "code",
   "execution_count": 72,
   "metadata": {},
   "outputs": [
    {
     "name": "stdout",
     "output_type": "stream",
     "text": [
      "                                 Parameter  Slope  R_square\n",
      "13   imx363_wide.reprojection_error_median  0.257     0.146\n",
      "25                  imx481_tele.position_z  0.123     0.116\n",
      "31  imx481_tele.reprojection_error_samples  0.023     0.002\n"
     ]
    }
   ],
   "source": [
    "temp = pd.read_csv(r'G501_RGEO_N1_Slot1-G501_RGEO_N1_Slot2_Config1_Collect_GEO_DATA_correlation.csv')\n",
    "temp = temp.dropna()\n",
    "result = temp[(temp.R_square < 0.4) & (temp.Slope < .5)].sort_values(by='Parameter')\n",
    "print result[['Parameter', 'Slope', 'R_square']]"
   ]
  },
  {
   "cell_type": "code",
   "execution_count": null,
   "metadata": {},
   "outputs": [],
   "source": []
  }
 ],
 "metadata": {
  "kernelspec": {
   "display_name": "Python 2",
   "language": "python",
   "name": "python2"
  },
  "language_info": {
   "codemirror_mode": {
    "name": "ipython",
    "version": 2
   },
   "file_extension": ".py",
   "mimetype": "text/x-python",
   "name": "python",
   "nbconvert_exporter": "python",
   "pygments_lexer": "ipython2",
   "version": "2.7.15"
  }
 },
 "nbformat": 4,
 "nbformat_minor": 2
}
