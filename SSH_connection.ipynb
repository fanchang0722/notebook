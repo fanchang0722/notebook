{
 "cells": [
  {
   "cell_type": "code",
   "execution_count": 24,
   "metadata": {
    "collapsed": true
   },
   "outputs": [],
   "source": [
    "import spur"
   ]
  },
  {
   "cell_type": "code",
   "execution_count": 25,
   "metadata": {
    "collapsed": true
   },
   "outputs": [],
   "source": [
    "IP = '10.0.0.230'\n",
    "username = 'ops'\n",
    "password = 'Stie2017@'\n",
    "shell = spur.SshShell(IP, username=username, password=password)"
   ]
  },
  {
   "cell_type": "code",
   "execution_count": 26,
   "metadata": {
    "collapsed": false
   },
   "outputs": [],
   "source": [
    "result = shell.run(['pwd'])"
   ]
  },
  {
   "cell_type": "code",
   "execution_count": 27,
   "metadata": {
    "collapsed": false
   },
   "outputs": [
    {
     "name": "stdout",
     "output_type": "stream",
     "text": [
      "/home/ops\n",
      "\n"
     ]
    }
   ],
   "source": [
    "print(result.output)"
   ]
  },
  {
   "cell_type": "code",
   "execution_count": 29,
   "metadata": {
    "collapsed": false
   },
   "outputs": [
    {
     "name": "stdout",
     "output_type": "stream",
     "text": [
      "6DOF_Controller\n",
      "A20D250D1801_SFRFull_Fisheye1_ROI.png\n",
      "A20D250D1801_SFRFull_Fisheye1_SFR.png\n",
      "A20D25392201_SFRFull_Fisheye2_ROI.png\n",
      "A20D25392201_SFRFull_Fisheye2_SFR.png\n",
      "A50\n",
      "A50_EVT\n",
      "Asub-0425\n",
      "camera-0426\n",
      "Fisheye_SFR\n",
      "Fisheye_SFR.py\n",
      "Fisheye_SFR_station_100001_1490906321561.result\n",
      "Fisheye_spec.py\n",
      "Fisheye_spec.pyc\n",
      "Fisheye.yaml\n",
      "focus\n",
      "for_testing\n",
      "GTAL_source\n",
      "LOE65001063010A7320001BAI06BF12000_145851_Multi-ROI_2017-04-26_15-38-02.png\n",
      "LOE65001063010A73200084AI06BF12000_192813_Multi-ROI_2017-04-26_15-39-54.png\n",
      "matlab\n",
      "MyPic.jpg\n",
      "opencv.sh\n",
      "Python4DataAnalysis.pdf\n",
      "R-intro.pdf\n",
      "temp\n",
      "ToF_SFR\n",
      "ToF_SFR.py\n",
      "ToF.spec\n",
      "ToF_spec.py\n",
      "tof_vali\n",
      "ToF.yaml\n",
      "\n"
     ]
    }
   ],
   "source": [
    "result = shell.run(['ls','/home/ops/Downloads'])\n",
    "print(result.output)"
   ]
  },
  {
   "cell_type": "code",
   "execution_count": 18,
   "metadata": {
    "collapsed": false
   },
   "outputs": [],
   "source": [
    "result = shell.run(['scp','/home/ops/a65/ChangeLog.txt','.'], allow_error=True)"
   ]
  },
  {
   "cell_type": "code",
   "execution_count": 19,
   "metadata": {
    "collapsed": false
   },
   "outputs": [
    {
     "name": "stdout",
     "output_type": "stream",
     "text": [
      "/home/ops\n",
      "\n"
     ]
    }
   ],
   "source": [
    "result = shell.run(['pwd'])\n",
    "print(result.output)"
   ]
  },
  {
   "cell_type": "code",
   "execution_count": null,
   "metadata": {
    "collapsed": true
   },
   "outputs": [],
   "source": []
  }
 ],
 "metadata": {
  "kernelspec": {
   "display_name": "Python 2",
   "language": "python",
   "name": "python2"
  },
  "language_info": {
   "codemirror_mode": {
    "name": "ipython",
    "version": 2
   },
   "file_extension": ".py",
   "mimetype": "text/x-python",
   "name": "python",
   "nbconvert_exporter": "python",
   "pygments_lexer": "ipython2",
   "version": "2.7.13"
  }
 },
 "nbformat": 4,
 "nbformat_minor": 2
}
