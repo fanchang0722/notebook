{
 "cells": [
  {
   "cell_type": "code",
   "execution_count": 3,
   "metadata": {},
   "outputs": [
    {
     "name": "stdout",
     "output_type": "stream",
     "text": [
      "Populating the interactive namespace from numpy and matplotlib\n",
      "Linear regression using polyfit\n",
      "parameters: a=0.80 b=-4.00 \n",
      "regression: a=0.72 b=-4.14, ms error= 0.922\n"
     ]
    },
    {
     "name": "stderr",
     "output_type": "stream",
     "text": [
      "WARNING: pylab import has clobbered these variables: ['sqrt']\n",
      "`%matplotlib` prevents importing * from pylab and numpy\n"
     ]
    },
    {
     "data": {
      "image/png": "[encoded data removed]",
      "text/plain": [
       "<matplotlib.figure.Figure at 0x104fd6150>"
      ]
     },
     "metadata": {},
     "output_type": "display_data"
    },
    {
     "name": "stdout",
     "output_type": "stream",
     "text": [
      "Linear regression using stats.linregress\n",
      "parameters: a=0.80 b=-4.00 \n",
      "regression: a=0.72 b=-4.14, std error= 0.045\n"
     ]
    }
   ],
   "source": [
    "%pylab inline\n",
    "from scipy import linspace, polyval, polyfit, sqrt, stats, randn\n",
    "from pylab import plot, title, show , legend\n",
    "\n",
    "#Linear regression example\n",
    "# This is a very simple example of using two scipy tools\n",
    "# for linear regression, polyfit and stats.linregress\n",
    "\n",
    "#Sample data creation\n",
    "#number of points\n",
    "n=50\n",
    "t=linspace(-5,5,n)\n",
    "#parameters\n",
    "a=0.8; b=-4\n",
    "x=polyval([a,b],t)\n",
    "#add some noise\n",
    "xn=x+randn(n)\n",
    "\n",
    "#Linear regressison -polyfit - polyfit can be used other orders polys\n",
    "(ar,br)=polyfit(t,xn,1)\n",
    "xr=polyval([ar,br],t)\n",
    "#compute the mean square error\n",
    "err=sqrt(sum((xr-xn)**2)/n)\n",
    "\n",
    "print('Linear regression using polyfit')\n",
    "print('parameters: a=%.2f b=%.2f \\nregression: a=%.2f b=%.2f, ms error= %.3f' % (a,b,ar,br,err))\n",
    "\n",
    "#matplotlib ploting\n",
    "title('Linear Regression Example')\n",
    "plot(t,x,'gx')\n",
    "plot(t,xn,'ko')\n",
    "plot(t,xr,'r.-')\n",
    "legend(['original','plus noise', 'regression'])\n",
    "\n",
    "show()\n",
    "\n",
    "#Linear regression using stats.linregress\n",
    "(a_s,b_s,r,tt,stderr)=stats.linregress(t,xn)\n",
    "print('Linear regression using stats.linregress')\n",
    "print('parameters: a=%.2f b=%.2f \\nregression: a=%.2f b=%.2f, std error= %.3f' % (a,b,a_s,b_s,stderr))"
   ]
  },
  {
   "cell_type": "code",
   "execution_count": null,
   "metadata": {
    "collapsed": true
   },
   "outputs": [],
   "source": []
  }
 ],
 "metadata": {
  "kernelspec": {
   "display_name": "Python 2",
   "language": "python",
   "name": "python2"
  },
  "language_info": {
   "codemirror_mode": {
    "name": "ipython",
    "version": 2
   },
   "file_extension": ".py",
   "mimetype": "text/x-python",
   "name": "python",
   "nbconvert_exporter": "python",
   "pygments_lexer": "ipython2",
   "version": "2.7.15"
  }
 },
 "nbformat": 4,
 "nbformat_minor": 1
}
