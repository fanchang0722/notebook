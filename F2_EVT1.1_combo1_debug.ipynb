{
 "cells": [
  {
   "cell_type": "code",
   "execution_count": 1,
   "metadata": {},
   "outputs": [],
   "source": [
    "%matplotlib inline"
   ]
  },
  {
   "cell_type": "code",
   "execution_count": 2,
   "metadata": {},
   "outputs": [],
   "source": [
    "import numpy as np\n",
    "import scipy as sp\n",
    "import matplotlib.pylab as plt\n",
    "import pandas as pd\n",
    "import seaborn as sns"
   ]
  },
  {
   "cell_type": "code",
   "execution_count": 3,
   "metadata": {},
   "outputs": [
    {
     "data": {
      "text/html": [
       "<div>\n",
       "<style scoped>\n",
       "    .dataframe tbody tr th:only-of-type {\n",
       "        vertical-align: middle;\n",
       "    }\n",
       "\n",
       "    .dataframe tbody tr th {\n",
       "        vertical-align: top;\n",
       "    }\n",
       "\n",
       "    .dataframe thead th {\n",
       "        text-align: right;\n",
       "    }\n",
       "</style>\n",
       "<table border=\"1\" class=\"dataframe\">\n",
       "  <thead>\n",
       "    <tr style=\"text-align: right;\">\n",
       "      <th></th>\n",
       "      <th>China Date Time</th>\n",
       "      <th>Test Name</th>\n",
       "      <th>Station Id</th>\n",
       "      <th>Slot Id</th>\n",
       "      <th>Overall Status</th>\n",
       "      <th>Phase Time</th>\n",
       "      <th>Phase Name</th>\n",
       "      <th>Measurement Name</th>\n",
       "      <th>Measurement Status</th>\n",
       "      <th>LSL</th>\n",
       "      <th>RESULT</th>\n",
       "      <th>USL</th>\n",
       "      <th>RESULT TEXT</th>\n",
       "      <th>Failure Code</th>\n",
       "    </tr>\n",
       "  </thead>\n",
       "  <tbody>\n",
       "    <tr>\n",
       "      <th>0</th>\n",
       "      <td>2019-04-10 11:31:05</td>\n",
       "      <td>COMBO</td>\n",
       "      <td>F7-3F-G601COMBO01</td>\n",
       "      <td>0</td>\n",
       "      <td>FAIL</td>\n",
       "      <td>0.044</td>\n",
       "      <td>FrontSfrTestInfCollect</td>\n",
       "      <td>SFR_110lp_Center_V</td>\n",
       "      <td>PASS</td>\n",
       "      <td>0.46</td>\n",
       "      <td>0.5651</td>\n",
       "      <td>1.0</td>\n",
       "      <td>0.5651</td>\n",
       "      <td>NaN</td>\n",
       "    </tr>\n",
       "    <tr>\n",
       "      <th>1</th>\n",
       "      <td>2019-04-10 11:31:05</td>\n",
       "      <td>COMBO</td>\n",
       "      <td>F7-3F-G601COMBO01</td>\n",
       "      <td>0</td>\n",
       "      <td>FAIL</td>\n",
       "      <td>0.044</td>\n",
       "      <td>FrontSfrTestInfCollect</td>\n",
       "      <td>SFR_110lp_Center_H</td>\n",
       "      <td>PASS</td>\n",
       "      <td>0.46</td>\n",
       "      <td>0.6094</td>\n",
       "      <td>1.0</td>\n",
       "      <td>0.6094</td>\n",
       "      <td>NaN</td>\n",
       "    </tr>\n",
       "    <tr>\n",
       "      <th>2</th>\n",
       "      <td>2019-04-10 11:31:05</td>\n",
       "      <td>COMBO</td>\n",
       "      <td>F7-3F-G601COMBO01</td>\n",
       "      <td>0</td>\n",
       "      <td>FAIL</td>\n",
       "      <td>0.044</td>\n",
       "      <td>FrontSfrTestInfCollect</td>\n",
       "      <td>SFR_110lp_30IH_TL_V</td>\n",
       "      <td>PASS</td>\n",
       "      <td>0.35</td>\n",
       "      <td>0.6610</td>\n",
       "      <td>1.0</td>\n",
       "      <td>0.6610</td>\n",
       "      <td>NaN</td>\n",
       "    </tr>\n",
       "    <tr>\n",
       "      <th>3</th>\n",
       "      <td>2019-04-10 11:31:05</td>\n",
       "      <td>COMBO</td>\n",
       "      <td>F7-3F-G601COMBO01</td>\n",
       "      <td>0</td>\n",
       "      <td>FAIL</td>\n",
       "      <td>0.044</td>\n",
       "      <td>FrontSfrTestInfCollect</td>\n",
       "      <td>SFR_110lp_30IH_TL_H</td>\n",
       "      <td>PASS</td>\n",
       "      <td>0.35</td>\n",
       "      <td>0.6439</td>\n",
       "      <td>1.0</td>\n",
       "      <td>0.6439</td>\n",
       "      <td>NaN</td>\n",
       "    </tr>\n",
       "    <tr>\n",
       "      <th>4</th>\n",
       "      <td>2019-04-10 11:31:05</td>\n",
       "      <td>COMBO</td>\n",
       "      <td>F7-3F-G601COMBO01</td>\n",
       "      <td>0</td>\n",
       "      <td>FAIL</td>\n",
       "      <td>0.044</td>\n",
       "      <td>FrontSfrTestInfCollect</td>\n",
       "      <td>SFR_110lp_30IH_TR_V</td>\n",
       "      <td>PASS</td>\n",
       "      <td>0.35</td>\n",
       "      <td>0.6645</td>\n",
       "      <td>1.0</td>\n",
       "      <td>0.6645</td>\n",
       "      <td>NaN</td>\n",
       "    </tr>\n",
       "  </tbody>\n",
       "</table>\n",
       "</div>"
      ],
      "text/plain": [
       "       China Date Time Test Name         Station Id  Slot Id Overall Status  \\\n",
       "0  2019-04-10 11:31:05     COMBO  F7-3F-G601COMBO01        0           FAIL   \n",
       "1  2019-04-10 11:31:05     COMBO  F7-3F-G601COMBO01        0           FAIL   \n",
       "2  2019-04-10 11:31:05     COMBO  F7-3F-G601COMBO01        0           FAIL   \n",
       "3  2019-04-10 11:31:05     COMBO  F7-3F-G601COMBO01        0           FAIL   \n",
       "4  2019-04-10 11:31:05     COMBO  F7-3F-G601COMBO01        0           FAIL   \n",
       "\n",
       "   Phase Time              Phase Name     Measurement Name Measurement Status  \\\n",
       "0       0.044  FrontSfrTestInfCollect   SFR_110lp_Center_V               PASS   \n",
       "1       0.044  FrontSfrTestInfCollect   SFR_110lp_Center_H               PASS   \n",
       "2       0.044  FrontSfrTestInfCollect  SFR_110lp_30IH_TL_V               PASS   \n",
       "3       0.044  FrontSfrTestInfCollect  SFR_110lp_30IH_TL_H               PASS   \n",
       "4       0.044  FrontSfrTestInfCollect  SFR_110lp_30IH_TR_V               PASS   \n",
       "\n",
       "    LSL  RESULT  USL  RESULT TEXT  Failure Code  \n",
       "0  0.46  0.5651  1.0       0.5651           NaN  \n",
       "1  0.46  0.6094  1.0       0.6094           NaN  \n",
       "2  0.35  0.6610  1.0       0.6610           NaN  \n",
       "3  0.35  0.6439  1.0       0.6439           NaN  \n",
       "4  0.35  0.6645  1.0       0.6645           NaN  "
      ]
     },
     "execution_count": 3,
     "metadata": {},
     "output_type": "execute_result"
    }
   ],
   "source": [
    "filename = r'/Users/fanchang/Downloads/948AZ07907_combo1_retest.csv'\n",
    "df = pd.read_csv(filename)\n",
    "df.head()"
   ]
  },
  {
   "cell_type": "code",
   "execution_count": 4,
   "metadata": {},
   "outputs": [
    {
     "data": {
      "text/plain": [
       "Index([u'China Date Time', u'Test Name', u'Station Id', u'Slot Id',\n",
       "       u'Overall Status', u'Phase Time', u'Phase Name', u'Measurement Name',\n",
       "       u'Measurement Status', u'LSL', u'RESULT', u'USL', u'RESULT TEXT',\n",
       "       u'Failure Code'],\n",
       "      dtype='object')"
      ]
     },
     "execution_count": 4,
     "metadata": {},
     "output_type": "execute_result"
    }
   ],
   "source": [
    "df.columns"
   ]
  },
  {
   "cell_type": "code",
   "execution_count": 5,
   "metadata": {},
   "outputs": [
    {
     "data": {
      "text/html": [
       "<div>\n",
       "<style scoped>\n",
       "    .dataframe tbody tr th:only-of-type {\n",
       "        vertical-align: middle;\n",
       "    }\n",
       "\n",
       "    .dataframe tbody tr th {\n",
       "        vertical-align: top;\n",
       "    }\n",
       "\n",
       "    .dataframe thead th {\n",
       "        text-align: right;\n",
       "    }\n",
       "</style>\n",
       "<table border=\"1\" class=\"dataframe\">\n",
       "  <thead>\n",
       "    <tr style=\"text-align: right;\">\n",
       "      <th></th>\n",
       "      <th>China Date Time</th>\n",
       "      <th>Test Name</th>\n",
       "      <th>Station Id</th>\n",
       "      <th>Slot Id</th>\n",
       "      <th>Overall Status</th>\n",
       "      <th>Phase Time</th>\n",
       "      <th>Phase Name</th>\n",
       "      <th>Measurement Name</th>\n",
       "      <th>Measurement Status</th>\n",
       "      <th>LSL</th>\n",
       "      <th>RESULT</th>\n",
       "      <th>USL</th>\n",
       "      <th>RESULT TEXT</th>\n",
       "    </tr>\n",
       "  </thead>\n",
       "  <tbody>\n",
       "    <tr>\n",
       "      <th>0</th>\n",
       "      <td>2019-04-10 11:31:05</td>\n",
       "      <td>COMBO</td>\n",
       "      <td>F7-3F-G601COMBO01</td>\n",
       "      <td>0</td>\n",
       "      <td>FAIL</td>\n",
       "      <td>0.044</td>\n",
       "      <td>FrontSfrTestInfCollect</td>\n",
       "      <td>SFR_110lp_Center_V</td>\n",
       "      <td>PASS</td>\n",
       "      <td>0.46</td>\n",
       "      <td>0.5651</td>\n",
       "      <td>1.0</td>\n",
       "      <td>0.5651</td>\n",
       "    </tr>\n",
       "    <tr>\n",
       "      <th>1</th>\n",
       "      <td>2019-04-10 11:31:05</td>\n",
       "      <td>COMBO</td>\n",
       "      <td>F7-3F-G601COMBO01</td>\n",
       "      <td>0</td>\n",
       "      <td>FAIL</td>\n",
       "      <td>0.044</td>\n",
       "      <td>FrontSfrTestInfCollect</td>\n",
       "      <td>SFR_110lp_Center_H</td>\n",
       "      <td>PASS</td>\n",
       "      <td>0.46</td>\n",
       "      <td>0.6094</td>\n",
       "      <td>1.0</td>\n",
       "      <td>0.6094</td>\n",
       "    </tr>\n",
       "    <tr>\n",
       "      <th>2</th>\n",
       "      <td>2019-04-10 11:31:05</td>\n",
       "      <td>COMBO</td>\n",
       "      <td>F7-3F-G601COMBO01</td>\n",
       "      <td>0</td>\n",
       "      <td>FAIL</td>\n",
       "      <td>0.044</td>\n",
       "      <td>FrontSfrTestInfCollect</td>\n",
       "      <td>SFR_110lp_30IH_TL_V</td>\n",
       "      <td>PASS</td>\n",
       "      <td>0.35</td>\n",
       "      <td>0.6610</td>\n",
       "      <td>1.0</td>\n",
       "      <td>0.6610</td>\n",
       "    </tr>\n",
       "    <tr>\n",
       "      <th>3</th>\n",
       "      <td>2019-04-10 11:31:05</td>\n",
       "      <td>COMBO</td>\n",
       "      <td>F7-3F-G601COMBO01</td>\n",
       "      <td>0</td>\n",
       "      <td>FAIL</td>\n",
       "      <td>0.044</td>\n",
       "      <td>FrontSfrTestInfCollect</td>\n",
       "      <td>SFR_110lp_30IH_TL_H</td>\n",
       "      <td>PASS</td>\n",
       "      <td>0.35</td>\n",
       "      <td>0.6439</td>\n",
       "      <td>1.0</td>\n",
       "      <td>0.6439</td>\n",
       "    </tr>\n",
       "    <tr>\n",
       "      <th>4</th>\n",
       "      <td>2019-04-10 11:31:05</td>\n",
       "      <td>COMBO</td>\n",
       "      <td>F7-3F-G601COMBO01</td>\n",
       "      <td>0</td>\n",
       "      <td>FAIL</td>\n",
       "      <td>0.044</td>\n",
       "      <td>FrontSfrTestInfCollect</td>\n",
       "      <td>SFR_110lp_30IH_TR_V</td>\n",
       "      <td>PASS</td>\n",
       "      <td>0.35</td>\n",
       "      <td>0.6645</td>\n",
       "      <td>1.0</td>\n",
       "      <td>0.6645</td>\n",
       "    </tr>\n",
       "  </tbody>\n",
       "</table>\n",
       "</div>"
      ],
      "text/plain": [
       "       China Date Time Test Name         Station Id  Slot Id Overall Status  \\\n",
       "0  2019-04-10 11:31:05     COMBO  F7-3F-G601COMBO01        0           FAIL   \n",
       "1  2019-04-10 11:31:05     COMBO  F7-3F-G601COMBO01        0           FAIL   \n",
       "2  2019-04-10 11:31:05     COMBO  F7-3F-G601COMBO01        0           FAIL   \n",
       "3  2019-04-10 11:31:05     COMBO  F7-3F-G601COMBO01        0           FAIL   \n",
       "4  2019-04-10 11:31:05     COMBO  F7-3F-G601COMBO01        0           FAIL   \n",
       "\n",
       "   Phase Time              Phase Name     Measurement Name Measurement Status  \\\n",
       "0       0.044  FrontSfrTestInfCollect   SFR_110lp_Center_V               PASS   \n",
       "1       0.044  FrontSfrTestInfCollect   SFR_110lp_Center_H               PASS   \n",
       "2       0.044  FrontSfrTestInfCollect  SFR_110lp_30IH_TL_V               PASS   \n",
       "3       0.044  FrontSfrTestInfCollect  SFR_110lp_30IH_TL_H               PASS   \n",
       "4       0.044  FrontSfrTestInfCollect  SFR_110lp_30IH_TR_V               PASS   \n",
       "\n",
       "    LSL  RESULT  USL  RESULT TEXT  \n",
       "0  0.46  0.5651  1.0       0.5651  \n",
       "1  0.46  0.6094  1.0       0.6094  \n",
       "2  0.35  0.6610  1.0       0.6610  \n",
       "3  0.35  0.6439  1.0       0.6439  \n",
       "4  0.35  0.6645  1.0       0.6645  "
      ]
     },
     "execution_count": 5,
     "metadata": {},
     "output_type": "execute_result"
    }
   ],
   "source": [
    "df = df.drop(columns=['Failure Code'])\n",
    "df.head()"
   ]
  },
  {
   "cell_type": "code",
   "execution_count": 6,
   "metadata": {},
   "outputs": [
    {
     "data": {
      "text/plain": [
       "14"
      ]
     },
     "execution_count": 6,
     "metadata": {},
     "output_type": "execute_result"
    }
   ],
   "source": [
    "df_fail = df[df['Measurement Status']=='FAIL']\n",
    "len(df_fail)"
   ]
  },
  {
   "cell_type": "code",
   "execution_count": 7,
   "metadata": {},
   "outputs": [
    {
     "data": {
      "text/plain": [
       "<bound method Series.value_counts of 13       SFR_110lp_60IH_TR_H\n",
       "21       SFR_110lp_80IH_TR_H\n",
       "27     corner_balance_IH80_H\n",
       "69       SFR_110lp_60IH_TR_H\n",
       "76       SFR_110lp_80IH_TR_V\n",
       "77       SFR_110lp_80IH_TR_H\n",
       "79       SFR_110lp_80IH_BR_H\n",
       "82     corner_balance_IH80_V\n",
       "83     corner_balance_IH80_H\n",
       "97       SFR_110lp_60IH_TR_H\n",
       "99       SFR_110lp_60IH_BR_H\n",
       "105      SFR_110lp_80IH_TR_H\n",
       "107      SFR_110lp_80IH_BR_H\n",
       "111    corner_balance_IH80_H\n",
       "Name: Measurement Name, dtype: object>"
      ]
     },
     "execution_count": 7,
     "metadata": {},
     "output_type": "execute_result"
    }
   ],
   "source": [
    "df_fail['Measurement Name'].value_counts"
   ]
  },
  {
   "cell_type": "code",
   "execution_count": 8,
   "metadata": {},
   "outputs": [
    {
     "data": {
      "text/plain": [
       "SFR_110lp_60IH_BR_H      1\n",
       "SFR_110lp_60IH_TR_H      3\n",
       "SFR_110lp_80IH_BR_H      2\n",
       "SFR_110lp_80IH_TR_H      3\n",
       "SFR_110lp_80IH_TR_V      1\n",
       "corner_balance_IH80_H    3\n",
       "corner_balance_IH80_V    1\n",
       "Name: Measurement Name, dtype: int64"
      ]
     },
     "execution_count": 8,
     "metadata": {},
     "output_type": "execute_result"
    }
   ],
   "source": [
    "pd.value_counts(df_fail['Measurement Name']).sort_index()"
   ]
  },
  {
   "cell_type": "code",
   "execution_count": 9,
   "metadata": {},
   "outputs": [
    {
     "data": {
      "text/plain": [
       "SFR_110lp_60IH_TR_H      3\n",
       "corner_balance_IH80_H    3\n",
       "SFR_110lp_80IH_TR_H      3\n",
       "SFR_110lp_80IH_BR_H      2\n",
       "SFR_110lp_80IH_TR_V      1\n",
       "SFR_110lp_60IH_BR_H      1\n",
       "corner_balance_IH80_V    1\n",
       "Name: Measurement Name, dtype: int64"
      ]
     },
     "execution_count": 9,
     "metadata": {},
     "output_type": "execute_result"
    }
   ],
   "source": [
    "pd.value_counts(df_fail['Measurement Name'])"
   ]
  },
  {
   "cell_type": "code",
   "execution_count": 10,
   "metadata": {},
   "outputs": [],
   "source": [
    "def histogram_boxplot(data, xlabel = None, title = None, font_scale=1.2, figsize=(8, 6), bins = None):\n",
    "    \"\"\" Boxplot and histogram combined\n",
    "    data: 1-d data array\n",
    "    xlabel: xlabel \n",
    "    title: title\n",
    "    font_scale: the scale of the font (default 1.2)\n",
    "    figsize: size of fig (default (8, 6))\n",
    "    bins: number of bins (default None / auto)\n",
    "\n",
    "    example use: histogram_boxplot(np.random.rand(100), bins = 20, title=\"Fancy plot\")\n",
    "    \"\"\"\n",
    "\n",
    "    sns.set(font_scale=font_scale)\n",
    "    f2, (ax_box2, ax_hist2) = plt.subplots(2, sharex=True, gridspec_kw={\"height_ratios\": (.15, .85)}, figsize=figsize)\n",
    "    sns.boxplot(data, ax=ax_box2)\n",
    "    sns.distplot(data, ax=ax_hist2, bins=bins) if bins else sns.distplot(data, ax=ax_hist2)\n",
    "    ax_box2.set(xlabel='')\n",
    "    if xlabel: ax_hist2.set(xlabel=xlabel)\n",
    "    if title: ax_box2.set(title=title)\n",
    "    plt.show()"
   ]
  },
  {
   "cell_type": "code",
   "execution_count": 13,
   "metadata": {},
   "outputs": [
    {
     "name": "stdout",
     "output_type": "stream",
     "text": [
      "       China Date Time Test Name         Station Id  Slot Id Overall Status  \\\n",
      "0  2019-04-10 11:31:05     COMBO  F7-3F-G601COMBO01        0           FAIL   \n",
      "1  2019-04-10 11:31:05     COMBO  F7-3F-G601COMBO01        0           FAIL   \n",
      "2  2019-04-10 11:31:05     COMBO  F7-3F-G601COMBO01        0           FAIL   \n",
      "3  2019-04-10 11:31:05     COMBO  F7-3F-G601COMBO01        0           FAIL   \n",
      "4  2019-04-10 11:31:05     COMBO  F7-3F-G601COMBO01        0           FAIL   \n",
      "\n",
      "   Phase Time              Phase Name     Measurement Name Measurement Status  \\\n",
      "0       0.044  FrontSfrTestInfCollect   SFR_110lp_Center_V               PASS   \n",
      "1       0.044  FrontSfrTestInfCollect   SFR_110lp_Center_H               PASS   \n",
      "2       0.044  FrontSfrTestInfCollect  SFR_110lp_30IH_TL_V               PASS   \n",
      "3       0.044  FrontSfrTestInfCollect  SFR_110lp_30IH_TL_H               PASS   \n",
      "4       0.044  FrontSfrTestInfCollect  SFR_110lp_30IH_TR_V               PASS   \n",
      "\n",
      "    LSL  RESULT  USL  RESULT TEXT  \n",
      "0  0.46  0.5651  1.0       0.5651  \n",
      "1  0.46  0.6094  1.0       0.6094  \n",
      "2  0.35  0.6610  1.0       0.6610  \n",
      "3  0.35  0.6439  1.0       0.6439  \n",
      "4  0.35  0.6645  1.0       0.6645  \n"
     ]
    },
    {
     "data": {
      "image/png": "[encoded data removed]",
      "text/plain": [
       "<Figure size 576x432 with 2 Axes>"
      ]
     },
     "metadata": {},
     "output_type": "display_data"
    }
   ],
   "source": [
    "print(df.head())\n",
    "histogram_boxplot(df[df.columns[9]])"
   ]
  },
  {
   "cell_type": "code",
   "execution_count": 12,
   "metadata": {},
   "outputs": [
    {
     "ename": "LinAlgError",
     "evalue": "singular matrix",
     "output_type": "error",
     "traceback": [
      "\u001b[0;31m---------------------------------------------------------------------------\u001b[0m",
      "\u001b[0;31mLinAlgError\u001b[0m                               Traceback (most recent call last)",
      "\u001b[0;32m<ipython-input-12-95e2a003619a>\u001b[0m in \u001b[0;36m<module>\u001b[0;34m()\u001b[0m\n\u001b[1;32m      1\u001b[0m \u001b[0mnewdf\u001b[0m\u001b[0;34m=\u001b[0m\u001b[0mdf\u001b[0m\u001b[0;34m[\u001b[0m\u001b[0mdf\u001b[0m\u001b[0;34m[\u001b[0m\u001b[0;34m'Measurement Name'\u001b[0m\u001b[0;34m]\u001b[0m\u001b[0;34m==\u001b[0m\u001b[0;34m'SFR_110lp_Center_V'\u001b[0m\u001b[0;34m]\u001b[0m\u001b[0;34m\u001b[0m\u001b[0m\n\u001b[0;32m----> 2\u001b[0;31m \u001b[0mhistogram_boxplot\u001b[0m\u001b[0;34m(\u001b[0m\u001b[0mnewdf\u001b[0m\u001b[0;34m[\u001b[0m\u001b[0mnewdf\u001b[0m\u001b[0;34m.\u001b[0m\u001b[0mcolumns\u001b[0m\u001b[0;34m[\u001b[0m\u001b[0;36m9\u001b[0m\u001b[0;34m]\u001b[0m\u001b[0;34m]\u001b[0m\u001b[0;34m)\u001b[0m\u001b[0;34m\u001b[0m\u001b[0m\n\u001b[0m",
      "\u001b[0;32m<ipython-input-10-f627c176c0d9>\u001b[0m in \u001b[0;36mhistogram_boxplot\u001b[0;34m(data, xlabel, title, font_scale, figsize, bins)\u001b[0m\n\u001b[1;32m     14\u001b[0m     \u001b[0mf2\u001b[0m\u001b[0;34m,\u001b[0m \u001b[0;34m(\u001b[0m\u001b[0max_box2\u001b[0m\u001b[0;34m,\u001b[0m \u001b[0max_hist2\u001b[0m\u001b[0;34m)\u001b[0m \u001b[0;34m=\u001b[0m \u001b[0mplt\u001b[0m\u001b[0;34m.\u001b[0m\u001b[0msubplots\u001b[0m\u001b[0;34m(\u001b[0m\u001b[0;36m2\u001b[0m\u001b[0;34m,\u001b[0m \u001b[0msharex\u001b[0m\u001b[0;34m=\u001b[0m\u001b[0mTrue\u001b[0m\u001b[0;34m,\u001b[0m \u001b[0mgridspec_kw\u001b[0m\u001b[0;34m=\u001b[0m\u001b[0;34m{\u001b[0m\u001b[0;34m\"height_ratios\"\u001b[0m\u001b[0;34m:\u001b[0m \u001b[0;34m(\u001b[0m\u001b[0;36m.15\u001b[0m\u001b[0;34m,\u001b[0m \u001b[0;36m.85\u001b[0m\u001b[0;34m)\u001b[0m\u001b[0;34m}\u001b[0m\u001b[0;34m,\u001b[0m \u001b[0mfigsize\u001b[0m\u001b[0;34m=\u001b[0m\u001b[0mfigsize\u001b[0m\u001b[0;34m)\u001b[0m\u001b[0;34m\u001b[0m\u001b[0m\n\u001b[1;32m     15\u001b[0m     \u001b[0msns\u001b[0m\u001b[0;34m.\u001b[0m\u001b[0mboxplot\u001b[0m\u001b[0;34m(\u001b[0m\u001b[0mdata\u001b[0m\u001b[0;34m,\u001b[0m \u001b[0max\u001b[0m\u001b[0;34m=\u001b[0m\u001b[0max_box2\u001b[0m\u001b[0;34m)\u001b[0m\u001b[0;34m\u001b[0m\u001b[0m\n\u001b[0;32m---> 16\u001b[0;31m     \u001b[0msns\u001b[0m\u001b[0;34m.\u001b[0m\u001b[0mdistplot\u001b[0m\u001b[0;34m(\u001b[0m\u001b[0mdata\u001b[0m\u001b[0;34m,\u001b[0m \u001b[0max\u001b[0m\u001b[0;34m=\u001b[0m\u001b[0max_hist2\u001b[0m\u001b[0;34m,\u001b[0m \u001b[0mbins\u001b[0m\u001b[0;34m=\u001b[0m\u001b[0mbins\u001b[0m\u001b[0;34m)\u001b[0m \u001b[0;32mif\u001b[0m \u001b[0mbins\u001b[0m \u001b[0;32melse\u001b[0m \u001b[0msns\u001b[0m\u001b[0;34m.\u001b[0m\u001b[0mdistplot\u001b[0m\u001b[0;34m(\u001b[0m\u001b[0mdata\u001b[0m\u001b[0;34m,\u001b[0m \u001b[0max\u001b[0m\u001b[0;34m=\u001b[0m\u001b[0max_hist2\u001b[0m\u001b[0;34m)\u001b[0m\u001b[0;34m\u001b[0m\u001b[0m\n\u001b[0m\u001b[1;32m     17\u001b[0m     \u001b[0max_box2\u001b[0m\u001b[0;34m.\u001b[0m\u001b[0mset\u001b[0m\u001b[0;34m(\u001b[0m\u001b[0mxlabel\u001b[0m\u001b[0;34m=\u001b[0m\u001b[0;34m''\u001b[0m\u001b[0;34m)\u001b[0m\u001b[0;34m\u001b[0m\u001b[0m\n\u001b[1;32m     18\u001b[0m     \u001b[0;32mif\u001b[0m \u001b[0mxlabel\u001b[0m\u001b[0;34m:\u001b[0m \u001b[0max_hist2\u001b[0m\u001b[0;34m.\u001b[0m\u001b[0mset\u001b[0m\u001b[0;34m(\u001b[0m\u001b[0mxlabel\u001b[0m\u001b[0;34m=\u001b[0m\u001b[0mxlabel\u001b[0m\u001b[0;34m)\u001b[0m\u001b[0;34m\u001b[0m\u001b[0m\n",
      "\u001b[0;32m/Users/fanchang/Library/Python/2.7/lib/python/site-packages/seaborn/distributions.pyc\u001b[0m in \u001b[0;36mdistplot\u001b[0;34m(a, bins, hist, kde, rug, fit, hist_kws, kde_kws, rug_kws, fit_kws, color, vertical, norm_hist, axlabel, label, ax)\u001b[0m\n\u001b[1;32m    229\u001b[0m     \u001b[0;32mif\u001b[0m \u001b[0mkde\u001b[0m\u001b[0;34m:\u001b[0m\u001b[0;34m\u001b[0m\u001b[0m\n\u001b[1;32m    230\u001b[0m         \u001b[0mkde_color\u001b[0m \u001b[0;34m=\u001b[0m \u001b[0mkde_kws\u001b[0m\u001b[0;34m.\u001b[0m\u001b[0mpop\u001b[0m\u001b[0;34m(\u001b[0m\u001b[0;34m\"color\"\u001b[0m\u001b[0;34m,\u001b[0m \u001b[0mcolor\u001b[0m\u001b[0;34m)\u001b[0m\u001b[0;34m\u001b[0m\u001b[0m\n\u001b[0;32m--> 231\u001b[0;31m         \u001b[0mkdeplot\u001b[0m\u001b[0;34m(\u001b[0m\u001b[0ma\u001b[0m\u001b[0;34m,\u001b[0m \u001b[0mvertical\u001b[0m\u001b[0;34m=\u001b[0m\u001b[0mvertical\u001b[0m\u001b[0;34m,\u001b[0m \u001b[0max\u001b[0m\u001b[0;34m=\u001b[0m\u001b[0max\u001b[0m\u001b[0;34m,\u001b[0m \u001b[0mcolor\u001b[0m\u001b[0;34m=\u001b[0m\u001b[0mkde_color\u001b[0m\u001b[0;34m,\u001b[0m \u001b[0;34m**\u001b[0m\u001b[0mkde_kws\u001b[0m\u001b[0;34m)\u001b[0m\u001b[0;34m\u001b[0m\u001b[0m\n\u001b[0m\u001b[1;32m    232\u001b[0m         \u001b[0;32mif\u001b[0m \u001b[0mkde_color\u001b[0m \u001b[0;34m!=\u001b[0m \u001b[0mcolor\u001b[0m\u001b[0;34m:\u001b[0m\u001b[0;34m\u001b[0m\u001b[0m\n\u001b[1;32m    233\u001b[0m             \u001b[0mkde_kws\u001b[0m\u001b[0;34m[\u001b[0m\u001b[0;34m\"color\"\u001b[0m\u001b[0;34m]\u001b[0m \u001b[0;34m=\u001b[0m \u001b[0mkde_color\u001b[0m\u001b[0;34m\u001b[0m\u001b[0m\n",
      "\u001b[0;32m/Users/fanchang/Library/Python/2.7/lib/python/site-packages/seaborn/distributions.pyc\u001b[0m in \u001b[0;36mkdeplot\u001b[0;34m(data, data2, shade, vertical, kernel, bw, gridsize, cut, clip, legend, cumulative, shade_lowest, cbar, cbar_ax, cbar_kws, ax, **kwargs)\u001b[0m\n\u001b[1;32m    689\u001b[0m         ax = _univariate_kdeplot(data, shade, vertical, kernel, bw,\n\u001b[1;32m    690\u001b[0m                                  \u001b[0mgridsize\u001b[0m\u001b[0;34m,\u001b[0m \u001b[0mcut\u001b[0m\u001b[0;34m,\u001b[0m \u001b[0mclip\u001b[0m\u001b[0;34m,\u001b[0m \u001b[0mlegend\u001b[0m\u001b[0;34m,\u001b[0m \u001b[0max\u001b[0m\u001b[0;34m,\u001b[0m\u001b[0;34m\u001b[0m\u001b[0m\n\u001b[0;32m--> 691\u001b[0;31m                                  cumulative=cumulative, **kwargs)\n\u001b[0m\u001b[1;32m    692\u001b[0m \u001b[0;34m\u001b[0m\u001b[0m\n\u001b[1;32m    693\u001b[0m     \u001b[0;32mreturn\u001b[0m \u001b[0max\u001b[0m\u001b[0;34m\u001b[0m\u001b[0m\n",
      "\u001b[0;32m/Users/fanchang/Library/Python/2.7/lib/python/site-packages/seaborn/distributions.pyc\u001b[0m in \u001b[0;36m_univariate_kdeplot\u001b[0;34m(data, shade, vertical, kernel, bw, gridsize, cut, clip, legend, ax, cumulative, **kwargs)\u001b[0m\n\u001b[1;32m    292\u001b[0m                               \u001b[0;34m\"only implemented in statsmodels.\"\u001b[0m\u001b[0;34m\u001b[0m\u001b[0m\n\u001b[1;32m    293\u001b[0m                               \"Please install statsmodels.\")\n\u001b[0;32m--> 294\u001b[0;31m         \u001b[0mx\u001b[0m\u001b[0;34m,\u001b[0m \u001b[0my\u001b[0m \u001b[0;34m=\u001b[0m \u001b[0m_scipy_univariate_kde\u001b[0m\u001b[0;34m(\u001b[0m\u001b[0mdata\u001b[0m\u001b[0;34m,\u001b[0m \u001b[0mbw\u001b[0m\u001b[0;34m,\u001b[0m \u001b[0mgridsize\u001b[0m\u001b[0;34m,\u001b[0m \u001b[0mcut\u001b[0m\u001b[0;34m,\u001b[0m \u001b[0mclip\u001b[0m\u001b[0;34m)\u001b[0m\u001b[0;34m\u001b[0m\u001b[0m\n\u001b[0m\u001b[1;32m    295\u001b[0m \u001b[0;34m\u001b[0m\u001b[0m\n\u001b[1;32m    296\u001b[0m     \u001b[0;31m# Make sure the density is nonnegative\u001b[0m\u001b[0;34m\u001b[0m\u001b[0;34m\u001b[0m\u001b[0m\n",
      "\u001b[0;32m/Users/fanchang/Library/Python/2.7/lib/python/site-packages/seaborn/distributions.pyc\u001b[0m in \u001b[0;36m_scipy_univariate_kde\u001b[0;34m(data, bw, gridsize, cut, clip)\u001b[0m\n\u001b[1;32m    364\u001b[0m     \u001b[0;34m\"\"\"Compute a univariate kernel density estimate using scipy.\"\"\"\u001b[0m\u001b[0;34m\u001b[0m\u001b[0m\n\u001b[1;32m    365\u001b[0m     \u001b[0;32mtry\u001b[0m\u001b[0;34m:\u001b[0m\u001b[0;34m\u001b[0m\u001b[0m\n\u001b[0;32m--> 366\u001b[0;31m         \u001b[0mkde\u001b[0m \u001b[0;34m=\u001b[0m \u001b[0mstats\u001b[0m\u001b[0;34m.\u001b[0m\u001b[0mgaussian_kde\u001b[0m\u001b[0;34m(\u001b[0m\u001b[0mdata\u001b[0m\u001b[0;34m,\u001b[0m \u001b[0mbw_method\u001b[0m\u001b[0;34m=\u001b[0m\u001b[0mbw\u001b[0m\u001b[0;34m)\u001b[0m\u001b[0;34m\u001b[0m\u001b[0m\n\u001b[0m\u001b[1;32m    367\u001b[0m     \u001b[0;32mexcept\u001b[0m \u001b[0mTypeError\u001b[0m\u001b[0;34m:\u001b[0m\u001b[0;34m\u001b[0m\u001b[0m\n\u001b[1;32m    368\u001b[0m         \u001b[0mkde\u001b[0m \u001b[0;34m=\u001b[0m \u001b[0mstats\u001b[0m\u001b[0;34m.\u001b[0m\u001b[0mgaussian_kde\u001b[0m\u001b[0;34m(\u001b[0m\u001b[0mdata\u001b[0m\u001b[0;34m)\u001b[0m\u001b[0;34m\u001b[0m\u001b[0m\n",
      "\u001b[0;32m/Users/fanchang/Library/Python/2.7/lib/python/site-packages/scipy/stats/kde.pyc\u001b[0m in \u001b[0;36m__init__\u001b[0;34m(self, dataset, bw_method, weights)\u001b[0m\n\u001b[1;32m    206\u001b[0m             \u001b[0mself\u001b[0m\u001b[0;34m.\u001b[0m\u001b[0m_neff\u001b[0m \u001b[0;34m=\u001b[0m \u001b[0;36m1\u001b[0m\u001b[0;34m/\u001b[0m\u001b[0msum\u001b[0m\u001b[0;34m(\u001b[0m\u001b[0mself\u001b[0m\u001b[0;34m.\u001b[0m\u001b[0m_weights\u001b[0m\u001b[0;34m**\u001b[0m\u001b[0;36m2\u001b[0m\u001b[0;34m)\u001b[0m\u001b[0;34m\u001b[0m\u001b[0m\n\u001b[1;32m    207\u001b[0m \u001b[0;34m\u001b[0m\u001b[0m\n\u001b[0;32m--> 208\u001b[0;31m         \u001b[0mself\u001b[0m\u001b[0;34m.\u001b[0m\u001b[0mset_bandwidth\u001b[0m\u001b[0;34m(\u001b[0m\u001b[0mbw_method\u001b[0m\u001b[0;34m=\u001b[0m\u001b[0mbw_method\u001b[0m\u001b[0;34m)\u001b[0m\u001b[0;34m\u001b[0m\u001b[0m\n\u001b[0m\u001b[1;32m    209\u001b[0m \u001b[0;34m\u001b[0m\u001b[0m\n\u001b[1;32m    210\u001b[0m     \u001b[0;32mdef\u001b[0m \u001b[0mevaluate\u001b[0m\u001b[0;34m(\u001b[0m\u001b[0mself\u001b[0m\u001b[0;34m,\u001b[0m \u001b[0mpoints\u001b[0m\u001b[0;34m)\u001b[0m\u001b[0;34m:\u001b[0m\u001b[0;34m\u001b[0m\u001b[0m\n",
      "\u001b[0;32m/Users/fanchang/Library/Python/2.7/lib/python/site-packages/scipy/stats/kde.pyc\u001b[0m in \u001b[0;36mset_bandwidth\u001b[0;34m(self, bw_method)\u001b[0m\n\u001b[1;32m    538\u001b[0m             \u001b[0;32mraise\u001b[0m \u001b[0mValueError\u001b[0m\u001b[0;34m(\u001b[0m\u001b[0mmsg\u001b[0m\u001b[0;34m)\u001b[0m\u001b[0;34m\u001b[0m\u001b[0m\n\u001b[1;32m    539\u001b[0m \u001b[0;34m\u001b[0m\u001b[0m\n\u001b[0;32m--> 540\u001b[0;31m         \u001b[0mself\u001b[0m\u001b[0;34m.\u001b[0m\u001b[0m_compute_covariance\u001b[0m\u001b[0;34m(\u001b[0m\u001b[0;34m)\u001b[0m\u001b[0;34m\u001b[0m\u001b[0m\n\u001b[0m\u001b[1;32m    541\u001b[0m \u001b[0;34m\u001b[0m\u001b[0m\n\u001b[1;32m    542\u001b[0m     \u001b[0;32mdef\u001b[0m \u001b[0m_compute_covariance\u001b[0m\u001b[0;34m(\u001b[0m\u001b[0mself\u001b[0m\u001b[0;34m)\u001b[0m\u001b[0;34m:\u001b[0m\u001b[0;34m\u001b[0m\u001b[0m\n",
      "\u001b[0;32m/Users/fanchang/Library/Python/2.7/lib/python/site-packages/scipy/stats/kde.pyc\u001b[0m in \u001b[0;36m_compute_covariance\u001b[0;34m(self)\u001b[0m\n\u001b[1;32m    550\u001b[0m                                                \u001b[0mbias\u001b[0m\u001b[0;34m=\u001b[0m\u001b[0mFalse\u001b[0m\u001b[0;34m,\u001b[0m\u001b[0;34m\u001b[0m\u001b[0m\n\u001b[1;32m    551\u001b[0m                                                aweights=self.weights))\n\u001b[0;32m--> 552\u001b[0;31m             \u001b[0mself\u001b[0m\u001b[0;34m.\u001b[0m\u001b[0m_data_inv_cov\u001b[0m \u001b[0;34m=\u001b[0m \u001b[0mlinalg\u001b[0m\u001b[0;34m.\u001b[0m\u001b[0minv\u001b[0m\u001b[0;34m(\u001b[0m\u001b[0mself\u001b[0m\u001b[0;34m.\u001b[0m\u001b[0m_data_covariance\u001b[0m\u001b[0;34m)\u001b[0m\u001b[0;34m\u001b[0m\u001b[0m\n\u001b[0m\u001b[1;32m    553\u001b[0m \u001b[0;34m\u001b[0m\u001b[0m\n\u001b[1;32m    554\u001b[0m         \u001b[0mself\u001b[0m\u001b[0;34m.\u001b[0m\u001b[0mcovariance\u001b[0m \u001b[0;34m=\u001b[0m \u001b[0mself\u001b[0m\u001b[0;34m.\u001b[0m\u001b[0m_data_covariance\u001b[0m \u001b[0;34m*\u001b[0m \u001b[0mself\u001b[0m\u001b[0;34m.\u001b[0m\u001b[0mfactor\u001b[0m\u001b[0;34m**\u001b[0m\u001b[0;36m2\u001b[0m\u001b[0;34m\u001b[0m\u001b[0m\n",
      "\u001b[0;32m/Users/fanchang/Library/Python/2.7/lib/python/site-packages/scipy/linalg/basic.pyc\u001b[0m in \u001b[0;36minv\u001b[0;34m(a, overwrite_a, check_finite)\u001b[0m\n\u001b[1;32m    972\u001b[0m         \u001b[0minv_a\u001b[0m\u001b[0;34m,\u001b[0m \u001b[0minfo\u001b[0m \u001b[0;34m=\u001b[0m \u001b[0mgetri\u001b[0m\u001b[0;34m(\u001b[0m\u001b[0mlu\u001b[0m\u001b[0;34m,\u001b[0m \u001b[0mpiv\u001b[0m\u001b[0;34m,\u001b[0m \u001b[0mlwork\u001b[0m\u001b[0;34m=\u001b[0m\u001b[0mlwork\u001b[0m\u001b[0;34m,\u001b[0m \u001b[0moverwrite_lu\u001b[0m\u001b[0;34m=\u001b[0m\u001b[0;36m1\u001b[0m\u001b[0;34m)\u001b[0m\u001b[0;34m\u001b[0m\u001b[0m\n\u001b[1;32m    973\u001b[0m     \u001b[0;32mif\u001b[0m \u001b[0minfo\u001b[0m \u001b[0;34m>\u001b[0m \u001b[0;36m0\u001b[0m\u001b[0;34m:\u001b[0m\u001b[0;34m\u001b[0m\u001b[0m\n\u001b[0;32m--> 974\u001b[0;31m         \u001b[0;32mraise\u001b[0m \u001b[0mLinAlgError\u001b[0m\u001b[0;34m(\u001b[0m\u001b[0;34m\"singular matrix\"\u001b[0m\u001b[0;34m)\u001b[0m\u001b[0;34m\u001b[0m\u001b[0m\n\u001b[0m\u001b[1;32m    975\u001b[0m     \u001b[0;32mif\u001b[0m \u001b[0minfo\u001b[0m \u001b[0;34m<\u001b[0m \u001b[0;36m0\u001b[0m\u001b[0;34m:\u001b[0m\u001b[0;34m\u001b[0m\u001b[0m\n\u001b[1;32m    976\u001b[0m         raise ValueError('illegal value in %d-th argument of internal '\n",
      "\u001b[0;31mLinAlgError\u001b[0m: singular matrix"
     ]
    },
    {
     "data": {
      "image/png": "[encoded data removed]",
      "text/plain": [
       "<Figure size 576x432 with 2 Axes>"
      ]
     },
     "metadata": {},
     "output_type": "display_data"
    }
   ],
   "source": [
    "newdf=df[df['Measurement Name']=='SFR_110lp_Center_V']\n",
    "histogram_boxplot(newdf[newdf.columns[9]])"
   ]
  },
  {
   "cell_type": "code",
   "execution_count": null,
   "metadata": {},
   "outputs": [],
   "source": []
  }
 ],
 "metadata": {
  "kernelspec": {
   "display_name": "Python 2",
   "language": "python",
   "name": "python2"
  },
  "language_info": {
   "codemirror_mode": {
    "name": "ipython",
    "version": 2
   },
   "file_extension": ".py",
   "mimetype": "text/x-python",
   "name": "python",
   "nbconvert_exporter": "python",
   "pygments_lexer": "ipython2",
   "version": "2.7.10"
  }
 },
 "nbformat": 4,
 "nbformat_minor": 2
}
