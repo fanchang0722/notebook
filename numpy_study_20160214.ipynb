{
 "cells": [
  {
   "cell_type": "code",
   "execution_count": 2,
   "metadata": {
    "collapsed": false
   },
   "outputs": [
    {
     "name": "stdout",
     "output_type": "stream",
     "text": [
      "Populating the interactive namespace from numpy and matplotlib\n"
     ]
    }
   ],
   "source": [
    "%pylab inline\n",
    "import numpy as np"
   ]
  },
  {
   "cell_type": "code",
   "execution_count": 2,
   "metadata": {
    "collapsed": false
   },
   "outputs": [
    {
     "name": "stdout",
     "output_type": "stream",
     "text": [
      "0\n",
      "1\n",
      "2\n",
      "Three\n",
      "4\n"
     ]
    }
   ],
   "source": [
    "for i in range(5):\n",
    "    if i == 3:\n",
    "        print('Three')\n",
    "        continue\n",
    "    print(i)"
   ]
  },
  {
   "cell_type": "code",
   "execution_count": 3,
   "metadata": {
    "collapsed": false
   },
   "outputs": [
    {
     "name": "stdout",
     "output_type": "stream",
     "text": [
      "0\n",
      "1\n",
      "2\n",
      "3\n",
      "Three\n"
     ]
    }
   ],
   "source": [
    "for i in range(9):\n",
    "    print(i)\n",
    "    if i == 3:\n",
    "        print('Three')\n",
    "        break"
   ]
  },
  {
   "cell_type": "code",
   "execution_count": 4,
   "metadata": {
    "collapsed": false
   },
   "outputs": [
    {
     "name": "stdout",
     "output_type": "stream",
     "text": [
      "0\n",
      "1\n",
      "2\n",
      "3\n",
      "4\n",
      "(4, 'in else clause')\n"
     ]
    }
   ],
   "source": [
    "for i in range(5):\n",
    "    print(i)\n",
    "else:\n",
    "    print(i, 'in else clause')"
   ]
  },
  {
   "cell_type": "code",
   "execution_count": 5,
   "metadata": {
    "collapsed": false
   },
   "outputs": [
    {
     "data": {
      "text/plain": [
       "['__doc__',\n",
       " '__file__',\n",
       " '__name__',\n",
       " '__package__',\n",
       " 'acos',\n",
       " 'acosh',\n",
       " 'asin',\n",
       " 'asinh',\n",
       " 'atan',\n",
       " 'atan2',\n",
       " 'atanh',\n",
       " 'ceil',\n",
       " 'copysign',\n",
       " 'cos',\n",
       " 'cosh',\n",
       " 'degrees',\n",
       " 'e',\n",
       " 'erf',\n",
       " 'erfc',\n",
       " 'exp',\n",
       " 'expm1',\n",
       " 'fabs',\n",
       " 'factorial',\n",
       " 'floor',\n",
       " 'fmod',\n",
       " 'frexp',\n",
       " 'fsum',\n",
       " 'gamma',\n",
       " 'hypot',\n",
       " 'isinf',\n",
       " 'isnan',\n",
       " 'ldexp',\n",
       " 'lgamma',\n",
       " 'log',\n",
       " 'log10',\n",
       " 'log1p',\n",
       " 'modf',\n",
       " 'pi',\n",
       " 'pow',\n",
       " 'radians',\n",
       " 'sin',\n",
       " 'sinh',\n",
       " 'sqrt',\n",
       " 'tan',\n",
       " 'tanh',\n",
       " 'trunc']"
      ]
     },
     "execution_count": 5,
     "metadata": {},
     "output_type": "execute_result"
    }
   ],
   "source": [
    "import math\n",
    "dir(math)"
   ]
  },
  {
   "cell_type": "code",
   "execution_count": 7,
   "metadata": {
    "collapsed": false
   },
   "outputs": [
    {
     "data": {
      "text/plain": [
       "8.0"
      ]
     },
     "execution_count": 7,
     "metadata": {},
     "output_type": "execute_result"
    }
   ],
   "source": [
    "math.pow(2,3)"
   ]
  },
  {
   "cell_type": "code",
   "execution_count": 12,
   "metadata": {
    "collapsed": false
   },
   "outputs": [
    {
     "data": {
      "text/plain": [
       "array([ 0,  2, 12])"
      ]
     },
     "execution_count": 12,
     "metadata": {},
     "output_type": "execute_result"
    }
   ],
   "source": [
    "import numpy as np\n",
    "def numpysum(n):\n",
    "    a = np.arange(n) ** 2\n",
    "    b = np.arange(n) ** 3\n",
    "    c = a + b\n",
    "    return c\n",
    "numpysum(3)"
   ]
  },
  {
   "cell_type": "code",
   "execution_count": 4,
   "metadata": {
    "collapsed": false
   },
   "outputs": [
    {
     "name": "stdout",
     "output_type": "stream",
     "text": [
      "The last 2 elements of the sum [999995000007999996, 999998000001000000]\n",
      "PythonSum elapsed time in microseconds 431010\n",
      "The last 2 elements of the sum [999995000008000004 999998000000999937]\n",
      "NumPySum elapsed time in microseconds 55903\n"
     ]
    }
   ],
   "source": [
    "%run ch1_numpy_beginner.py 1000000"
   ]
  },
  {
   "cell_type": "code",
   "execution_count": 5,
   "metadata": {
    "collapsed": false
   },
   "outputs": [
    {
     "name": "stdout",
     "output_type": "stream",
     "text": [
      "Activating auto-logging. Current session state plus future input saved.\n",
      "Filename       : ipython_log.py\n",
      "Mode           : rotate\n",
      "Output logging : False\n",
      "Raw input log  : False\n",
      "Timestamping   : False\n",
      "State          : active\n"
     ]
    }
   ],
   "source": [
    "%logstart"
   ]
  },
  {
   "cell_type": "code",
   "execution_count": 8,
   "metadata": {
    "collapsed": false
   },
   "outputs": [
    {
     "name": "stdout",
     "output_type": "stream",
     "text": [
      "total 1432\r\n",
      "drwxr-xr-x   8 fanchang  5000     272 Feb 13 22:13 \u001b[34m.\u001b[m\u001b[m/\r\n",
      "drwxr-xr-x+ 47 fanchang  5000    1598 Feb 13 21:20 \u001b[34m..\u001b[m\u001b[m/\r\n",
      "drwxr-xr-x   4 fanchang  5000     136 Feb 13 21:45 \u001b[34m.ipynb_checkpoints\u001b[m\u001b[m/\r\n",
      "-rw-r--r--   1 fanchang  5000    1225 Feb 13 22:06 ch1_numpy_beginner.py\r\n",
      "-rw-r--r--   1 fanchang  5000     373 Feb 13 22:13 ipython_log.py\r\n",
      "-rw-r--r--   1 fanchang  5000  712080 Feb 13 21:53 ipython_study_20160213.ipynb\r\n",
      "-rw-r--r--   1 fanchang  5000     727 Feb 13 21:27 lorenz.py\r\n",
      "-rw-r--r--   1 fanchang  5000    5142 Feb 13 22:13 numpy_study_20160213.ipynb\r\n"
     ]
    }
   ],
   "source": [
    "ls -al"
   ]
  },
  {
   "cell_type": "code",
   "execution_count": 4,
   "metadata": {
    "collapsed": false
   },
   "outputs": [
    {
     "name": "stdout",
     "output_type": "stream",
     "text": [
      "The last 2 elements of the sum [995007996, 998001000]\n",
      "PythonSum elapsed time in microseconds 704\n",
      "The last 2 elements of the sum [995007996 998001000]\n",
      "NumPySum elapsed time in microseconds 95\n"
     ]
    }
   ],
   "source": [
    "%run -i ch1_numpy_beginner.py 1000"
   ]
  },
  {
   "cell_type": "code",
   "execution_count": 10,
   "metadata": {
    "collapsed": false
   },
   "outputs": [
    {
     "name": "stdout",
     "output_type": "stream",
     "text": [
      "%run ch1_numpy_beginner.py 1000\n",
      "%run ch1_numpy_beginner.py 1000000\n",
      "%run ch1_numpy_beginner.py 100000000\n",
      "%run ch1_numpy_beginner.py 1000000\n",
      "%logstart\n",
      "ls\n",
      "ls -l\n",
      "ls -al\n",
      "%run -i ch1_numpy_beginner.py 1000\n",
      "%hist\n"
     ]
    }
   ],
   "source": [
    "%hist"
   ]
  },
  {
   "cell_type": "code",
   "execution_count": 5,
   "metadata": {
    "collapsed": false
   },
   "outputs": [
    {
     "data": {
      "text/plain": [
       "dtype('int64')"
      ]
     },
     "execution_count": 5,
     "metadata": {},
     "output_type": "execute_result"
    }
   ],
   "source": [
    "a=arange(5)\n",
    "a.dtype"
   ]
  },
  {
   "cell_type": "code",
   "execution_count": 6,
   "metadata": {
    "collapsed": false
   },
   "outputs": [
    {
     "data": {
      "text/plain": [
       "array([0, 1, 2, 3, 4])"
      ]
     },
     "execution_count": 6,
     "metadata": {},
     "output_type": "execute_result"
    }
   ],
   "source": [
    "a"
   ]
  },
  {
   "cell_type": "code",
   "execution_count": 7,
   "metadata": {
    "collapsed": false
   },
   "outputs": [
    {
     "data": {
      "text/plain": [
       "(5,)"
      ]
     },
     "execution_count": 7,
     "metadata": {},
     "output_type": "execute_result"
    }
   ],
   "source": [
    "a.shape"
   ]
  },
  {
   "cell_type": "code",
   "execution_count": 13,
   "metadata": {
    "collapsed": false
   },
   "outputs": [
    {
     "name": "stdout",
     "output_type": "stream",
     "text": [
      "[array([0, 1]) array([0, 1, 2])]\n",
      "(2,)\n"
     ]
    }
   ],
   "source": [
    "m=np.array([np.arange(2),np.arange(3)])\n",
    "print m\n",
    "print m.shape"
   ]
  },
  {
   "cell_type": "code",
   "execution_count": 16,
   "metadata": {
    "collapsed": false
   },
   "outputs": [
    {
     "data": {
      "text/plain": [
       "array([[1, 2],\n",
       "       [3, 4]])"
      ]
     },
     "execution_count": 16,
     "metadata": {},
     "output_type": "execute_result"
    }
   ],
   "source": [
    "a=array([[1,2],[3,4]])\n",
    "a"
   ]
  },
  {
   "cell_type": "code",
   "execution_count": 17,
   "metadata": {
    "collapsed": false
   },
   "outputs": [
    {
     "data": {
      "text/plain": [
       "1"
      ]
     },
     "execution_count": 17,
     "metadata": {},
     "output_type": "execute_result"
    }
   ],
   "source": [
    "a[0,0]"
   ]
  },
  {
   "cell_type": "code",
   "execution_count": 18,
   "metadata": {
    "collapsed": false
   },
   "outputs": [
    {
     "data": {
      "text/plain": [
       "finfo(resolution=0.0010004, min=-6.55040e+04, max=6.55040e+04, dtype=float16)"
      ]
     },
     "execution_count": 18,
     "metadata": {},
     "output_type": "execute_result"
    }
   ],
   "source": [
    "finfo(float16)"
   ]
  },
  {
   "cell_type": "code",
   "execution_count": 19,
   "metadata": {
    "collapsed": false
   },
   "outputs": [
    {
     "data": {
      "text/plain": [
       "finfo(resolution=1e-06, min=-3.4028235e+38, max=3.4028235e+38, dtype=float32)"
      ]
     },
     "execution_count": 19,
     "metadata": {},
     "output_type": "execute_result"
    }
   ],
   "source": [
    "finfo(float32)"
   ]
  },
  {
   "cell_type": "code",
   "execution_count": 22,
   "metadata": {
    "collapsed": false
   },
   "outputs": [
    {
     "data": {
      "text/plain": [
       "(1.2+1j)"
      ]
     },
     "execution_count": 22,
     "metadata": {},
     "output_type": "execute_result"
    }
   ],
   "source": [
    "complex(1.2,1.0)"
   ]
  },
  {
   "cell_type": "code",
   "execution_count": 23,
   "metadata": {
    "collapsed": false
   },
   "outputs": [
    {
     "data": {
      "text/plain": [
       "dtype([('name', 'S40'), ('numitems', '<i4'), ('price', '<f4')])"
      ]
     },
     "execution_count": 23,
     "metadata": {},
     "output_type": "execute_result"
    }
   ],
   "source": [
    "t = dtype([('name', str_, 40), ('numitems', int32), ('price', float32)])\n",
    "t"
   ]
  },
  {
   "cell_type": "code",
   "execution_count": 24,
   "metadata": {
    "collapsed": false
   },
   "outputs": [
    {
     "data": {
      "text/plain": [
       "array([3, 4, 5, 6])"
      ]
     },
     "execution_count": 24,
     "metadata": {},
     "output_type": "execute_result"
    }
   ],
   "source": [
    "a=arange(9)\n",
    "a[3:7]"
   ]
  },
  {
   "cell_type": "code",
   "execution_count": 25,
   "metadata": {
    "collapsed": false
   },
   "outputs": [
    {
     "data": {
      "text/plain": [
       "array([0, 2, 4, 6])"
      ]
     },
     "execution_count": 25,
     "metadata": {},
     "output_type": "execute_result"
    }
   ],
   "source": [
    "a[:7:2]"
   ]
  },
  {
   "cell_type": "code",
   "execution_count": 26,
   "metadata": {
    "collapsed": false
   },
   "outputs": [
    {
     "data": {
      "text/plain": [
       "array([8, 7, 6, 5, 4, 3, 2, 1, 0])"
      ]
     },
     "execution_count": 26,
     "metadata": {},
     "output_type": "execute_result"
    }
   ],
   "source": [
    "a[::-1]"
   ]
  },
  {
   "cell_type": "code",
   "execution_count": 27,
   "metadata": {
    "collapsed": false
   },
   "outputs": [
    {
     "data": {
      "text/plain": [
       "array([[[ 0,  1,  2,  3],\n",
       "        [ 4,  5,  6,  7],\n",
       "        [ 8,  9, 10, 11]],\n",
       "\n",
       "       [[12, 13, 14, 15],\n",
       "        [16, 17, 18, 19],\n",
       "        [20, 21, 22, 23]]])"
      ]
     },
     "execution_count": 27,
     "metadata": {},
     "output_type": "execute_result"
    }
   ],
   "source": [
    "b=arange(24).reshape(2,3,4)\n",
    "b"
   ]
  },
  {
   "cell_type": "code",
   "execution_count": 28,
   "metadata": {
    "collapsed": false
   },
   "outputs": [
    {
     "data": {
      "text/plain": [
       "(2, 3, 4)"
      ]
     },
     "execution_count": 28,
     "metadata": {},
     "output_type": "execute_result"
    }
   ],
   "source": [
    "b.shape "
   ]
  },
  {
   "cell_type": "code",
   "execution_count": 29,
   "metadata": {
    "collapsed": false
   },
   "outputs": [
    {
     "data": {
      "text/plain": [
       "array([ 0,  1,  2,  3,  4,  5,  6,  7,  8,  9, 10, 11, 12, 13, 14, 15, 16,\n",
       "       17, 18, 19, 20, 21, 22, 23])"
      ]
     },
     "execution_count": 29,
     "metadata": {},
     "output_type": "execute_result"
    }
   ],
   "source": [
    "b.ravel()"
   ]
  },
  {
   "cell_type": "code",
   "execution_count": 30,
   "metadata": {
    "collapsed": false
   },
   "outputs": [
    {
     "data": {
      "text/plain": [
       "array([[ 0,  1,  2,  3],\n",
       "       [ 4,  5,  6,  7],\n",
       "       [ 8,  9, 10, 11],\n",
       "       [12, 13, 14, 15],\n",
       "       [16, 17, 18, 19],\n",
       "       [20, 21, 22, 23]])"
      ]
     },
     "execution_count": 30,
     "metadata": {},
     "output_type": "execute_result"
    }
   ],
   "source": [
    "b.shape=(6,4)\n",
    "b"
   ]
  },
  {
   "cell_type": "code",
   "execution_count": 31,
   "metadata": {
    "collapsed": false
   },
   "outputs": [
    {
     "data": {
      "text/plain": [
       "array([[ 0,  1,  2,  3],\n",
       "       [ 4,  5,  6,  7],\n",
       "       [ 8,  9, 10, 11],\n",
       "       [12, 13, 14, 15],\n",
       "       [16, 17, 18, 19],\n",
       "       [20, 21, 22, 23]])"
      ]
     },
     "execution_count": 31,
     "metadata": {},
     "output_type": "execute_result"
    }
   ],
   "source": [
    "b"
   ]
  },
  {
   "cell_type": "code",
   "execution_count": 32,
   "metadata": {
    "collapsed": true
   },
   "outputs": [],
   "source": [
    "b.resize((2,12))"
   ]
  },
  {
   "cell_type": "code",
   "execution_count": 33,
   "metadata": {
    "collapsed": false
   },
   "outputs": [
    {
     "data": {
      "text/plain": [
       "array([[ 0,  1,  2,  3,  4,  5,  6,  7,  8,  9, 10, 11],\n",
       "       [12, 13, 14, 15, 16, 17, 18, 19, 20, 21, 22, 23]])"
      ]
     },
     "execution_count": 33,
     "metadata": {},
     "output_type": "execute_result"
    }
   ],
   "source": [
    "b"
   ]
  },
  {
   "cell_type": "code",
   "execution_count": 34,
   "metadata": {
    "collapsed": false
   },
   "outputs": [
    {
     "data": {
      "text/plain": [
       "array([[0, 1, 2],\n",
       "       [3, 4, 5],\n",
       "       [6, 7, 8]])"
      ]
     },
     "execution_count": 34,
     "metadata": {},
     "output_type": "execute_result"
    }
   ],
   "source": [
    "a=arange(9).reshape(3,3)\n",
    "a"
   ]
  },
  {
   "cell_type": "code",
   "execution_count": 35,
   "metadata": {
    "collapsed": false
   },
   "outputs": [
    {
     "data": {
      "text/plain": [
       "array([[ 0,  2,  4],\n",
       "       [ 6,  8, 10],\n",
       "       [12, 14, 16]])"
      ]
     },
     "execution_count": 35,
     "metadata": {},
     "output_type": "execute_result"
    }
   ],
   "source": [
    "b=2*a\n",
    "b"
   ]
  },
  {
   "cell_type": "code",
   "execution_count": 40,
   "metadata": {
    "collapsed": false
   },
   "outputs": [
    {
     "data": {
      "text/plain": [
       "array([[ 0,  1,  2],\n",
       "       [ 3,  4,  5],\n",
       "       [ 6,  7,  8],\n",
       "       [ 0,  2,  4],\n",
       "       [ 6,  8, 10],\n",
       "       [12, 14, 16]])"
      ]
     },
     "execution_count": 40,
     "metadata": {},
     "output_type": "execute_result"
    }
   ],
   "source": [
    "vstack((a,b))"
   ]
  },
  {
   "cell_type": "code",
   "execution_count": 41,
   "metadata": {
    "collapsed": false
   },
   "outputs": [
    {
     "data": {
      "text/plain": [
       "array([[ 0,  1,  2,  0,  2,  4],\n",
       "       [ 3,  4,  5,  6,  8, 10],\n",
       "       [ 6,  7,  8, 12, 14, 16]])"
      ]
     },
     "execution_count": 41,
     "metadata": {},
     "output_type": "execute_result"
    }
   ],
   "source": [
    "concatenate((a,b),axis=1)"
   ]
  },
  {
   "cell_type": "code",
   "execution_count": 42,
   "metadata": {
    "collapsed": false
   },
   "outputs": [
    {
     "data": {
      "text/plain": [
       "array([[ 0,  1,  2],\n",
       "       [ 3,  4,  5],\n",
       "       [ 6,  7,  8],\n",
       "       [ 0,  2,  4],\n",
       "       [ 6,  8, 10],\n",
       "       [12, 14, 16]])"
      ]
     },
     "execution_count": 42,
     "metadata": {},
     "output_type": "execute_result"
    }
   ],
   "source": [
    "concatenate((a,b),axis=0)"
   ]
  },
  {
   "cell_type": "code",
   "execution_count": 43,
   "metadata": {
    "collapsed": false
   },
   "outputs": [
    {
     "name": "stdout",
     "output_type": "stream",
     "text": [
      "[[[ 0  0]\n",
      "  [ 1  2]\n",
      "  [ 2  4]]\n",
      "\n",
      " [[ 3  6]\n",
      "  [ 4  8]\n",
      "  [ 5 10]]\n",
      "\n",
      " [[ 6 12]\n",
      "  [ 7 14]\n",
      "  [ 8 16]]]\n",
      "(3, 3, 2)\n"
     ]
    }
   ],
   "source": [
    "c=dstack((a,b))\n",
    "print c\n",
    "print c.shape"
   ]
  },
  {
   "cell_type": "code",
   "execution_count": 44,
   "metadata": {
    "collapsed": false
   },
   "outputs": [
    {
     "name": "stdout",
     "output_type": "stream",
     "text": [
      "[[0 1 2]\n",
      " [3 4 5]\n",
      " [6 7 8]]\n"
     ]
    },
    {
     "data": {
      "text/plain": [
       "[array([[0],\n",
       "        [3],\n",
       "        [6]]), array([[1],\n",
       "        [4],\n",
       "        [7]]), array([[2],\n",
       "        [5],\n",
       "        [8]])]"
      ]
     },
     "execution_count": 44,
     "metadata": {},
     "output_type": "execute_result"
    }
   ],
   "source": [
    "print a\n",
    "hsplit(a,3)"
   ]
  },
  {
   "cell_type": "code",
   "execution_count": 45,
   "metadata": {
    "collapsed": false
   },
   "outputs": [
    {
     "data": {
      "text/plain": [
       "[array([[0, 1, 2]]), array([[3, 4, 5]]), array([[6, 7, 8]])]"
      ]
     },
     "execution_count": 45,
     "metadata": {},
     "output_type": "execute_result"
    }
   ],
   "source": [
    "vsplit(a,3)"
   ]
  },
  {
   "cell_type": "code",
   "execution_count": 46,
   "metadata": {
    "collapsed": false
   },
   "outputs": [
    {
     "data": {
      "text/plain": [
       "[array([[0],\n",
       "        [3],\n",
       "        [6]]), array([[1],\n",
       "        [4],\n",
       "        [7]]), array([[2],\n",
       "        [5],\n",
       "        [8]])]"
      ]
     },
     "execution_count": 46,
     "metadata": {},
     "output_type": "execute_result"
    }
   ],
   "source": [
    "split(a,3,axis=1)"
   ]
  },
  {
   "cell_type": "code",
   "execution_count": 47,
   "metadata": {
    "collapsed": false
   },
   "outputs": [
    {
     "data": {
      "text/plain": [
       "[array([[0, 1, 2]]), array([[3, 4, 5]]), array([[6, 7, 8]])]"
      ]
     },
     "execution_count": 47,
     "metadata": {},
     "output_type": "execute_result"
    }
   ],
   "source": [
    "split(a,3,axis=0)"
   ]
  },
  {
   "cell_type": "code",
   "execution_count": 48,
   "metadata": {
    "collapsed": false
   },
   "outputs": [
    {
     "data": {
      "text/plain": [
       "array([[ 0,  2,  4],\n",
       "       [ 6,  8, 10],\n",
       "       [12, 14, 16]])"
      ]
     },
     "execution_count": 48,
     "metadata": {},
     "output_type": "execute_result"
    }
   ],
   "source": [
    "b"
   ]
  },
  {
   "cell_type": "code",
   "execution_count": 49,
   "metadata": {
    "collapsed": false
   },
   "outputs": [
    {
     "data": {
      "text/plain": [
       "2"
      ]
     },
     "execution_count": 49,
     "metadata": {},
     "output_type": "execute_result"
    }
   ],
   "source": [
    "b.ndim"
   ]
  },
  {
   "cell_type": "code",
   "execution_count": 50,
   "metadata": {
    "collapsed": false
   },
   "outputs": [
    {
     "data": {
      "text/plain": [
       "9"
      ]
     },
     "execution_count": 50,
     "metadata": {},
     "output_type": "execute_result"
    }
   ],
   "source": [
    "b.size"
   ]
  },
  {
   "cell_type": "code",
   "execution_count": 51,
   "metadata": {
    "collapsed": false
   },
   "outputs": [
    {
     "data": {
      "text/plain": [
       "(3, 3)"
      ]
     },
     "execution_count": 51,
     "metadata": {},
     "output_type": "execute_result"
    }
   ],
   "source": [
    "b.shape"
   ]
  },
  {
   "cell_type": "code",
   "execution_count": 52,
   "metadata": {
    "collapsed": false
   },
   "outputs": [
    {
     "data": {
      "text/plain": [
       "8"
      ]
     },
     "execution_count": 52,
     "metadata": {},
     "output_type": "execute_result"
    }
   ],
   "source": [
    "b.itemsize"
   ]
  },
  {
   "cell_type": "code",
   "execution_count": 59,
   "metadata": {
    "collapsed": false
   },
   "outputs": [
    {
     "data": {
      "text/plain": [
       "array([ 1.+1.j,  3.+2.j])"
      ]
     },
     "execution_count": 59,
     "metadata": {},
     "output_type": "execute_result"
    }
   ],
   "source": [
    "b=array([1+1j,complex(3,2)])\n",
    "b"
   ]
  },
  {
   "cell_type": "code",
   "execution_count": 60,
   "metadata": {
    "collapsed": false
   },
   "outputs": [
    {
     "data": {
      "text/plain": [
       "[(1+1j), (3+2j)]"
      ]
     },
     "execution_count": 60,
     "metadata": {},
     "output_type": "execute_result"
    }
   ],
   "source": [
    "b.tolist()"
   ]
  },
  {
   "cell_type": "code",
   "execution_count": 61,
   "metadata": {
    "collapsed": false
   },
   "outputs": [
    {
     "name": "stdout",
     "output_type": "stream",
     "text": [
      "[[ 1.  0.]\n",
      " [ 0.  1.]]\n"
     ]
    }
   ],
   "source": [
    "i2=np.eye(2)\n",
    "print i2"
   ]
  },
  {
   "cell_type": "code",
   "execution_count": 62,
   "metadata": {
    "collapsed": true
   },
   "outputs": [],
   "source": [
    "np.savetxt(\"eye.txt\",i2)"
   ]
  },
  {
   "cell_type": "code",
   "execution_count": 16,
   "metadata": {
    "collapsed": false
   },
   "outputs": [
    {
     "name": "stdout",
     "output_type": "stream",
     "text": [
      "[ 336.1   339.32  345.03  344.32  343.44  346.5   351.88  355.2   358.16\n",
      "  354.54  356.85  359.18  359.9   363.13  358.3   350.56  338.61  342.62\n",
      "  342.88  348.16  353.21  349.31  352.12  359.56  360.    355.36  355.76\n",
      "  352.47  346.67  351.99]\n",
      "[ 21144800.  13473000.  15236800.   9242600.  14064100.  11494200.\n",
      "  17322100.  13608500.  17240800.  33162400.  13127500.  11086200.\n",
      "  10149000.  17184100.  18949000.  29144500.  31162200.  23994700.\n",
      "  17853500.  13572000.  14395400.  16290300.  21521000.  17885200.\n",
      "  16188000.  19504300.  12718000.  16192700.  18138800.  16824200.]\n"
     ]
    }
   ],
   "source": [
    "c, v=np.loadtxt('/Users/fanchang/my_notebook/data.csv',\n",
    "                delimiter=',', usecols=(6,7),unpack=True)\n",
    "print c\n",
    "print v"
   ]
  },
  {
   "cell_type": "code",
   "execution_count": 17,
   "metadata": {
    "collapsed": false
   },
   "outputs": [
    {
     "name": "stdout",
     "output_type": "stream",
     "text": [
      "('VWAP =', 350.58954935320088)\n"
     ]
    }
   ],
   "source": [
    "vwap=np.average(c,weights=v)\n",
    "print (\"VWAP =\", vwap)"
   ]
  },
  {
   "cell_type": "code",
   "execution_count": 18,
   "metadata": {
    "collapsed": false
   },
   "outputs": [
    {
     "data": {
      "text/plain": [
       "350.58954935320088"
      ]
     },
     "execution_count": 18,
     "metadata": {},
     "output_type": "execute_result"
    }
   ],
   "source": [
    "np.dot(c,v)/np.sum(v)"
   ]
  },
  {
   "cell_type": "code",
   "execution_count": 19,
   "metadata": {
    "collapsed": false
   },
   "outputs": [
    {
     "data": {
      "text/plain": [
       "350.58954935320088"
      ]
     },
     "execution_count": 19,
     "metadata": {},
     "output_type": "execute_result"
    }
   ],
   "source": [
    "np.sum(c*v)/np.sum(v)"
   ]
  },
  {
   "cell_type": "code",
   "execution_count": 20,
   "metadata": {
    "collapsed": false
   },
   "outputs": [
    {
     "name": "stdout",
     "output_type": "stream",
     "text": [
      "[ 344.4   340.04  345.65  345.25  344.24  346.7   353.25  355.52  359.\n",
      "  360.    357.8   359.48  359.97  364.9   360.27  359.5   345.4   344.64\n",
      "  345.15  348.43  355.05  355.72  354.35  359.79  360.29  361.67  357.4\n",
      "  354.76  349.77  352.32]\n",
      "[ 333.53  334.3   340.98  343.55  338.55  343.51  347.64  352.15  354.87\n",
      "  348.    353.54  356.71  357.55  360.5   356.52  349.52  337.72  338.61\n",
      "  338.37  344.8   351.12  347.68  348.4   355.92  357.75  351.31  352.25\n",
      "  350.6   344.9   345.  ]\n"
     ]
    }
   ],
   "source": [
    "h,l=np.loadtxt('/Users/fanchang/my_notebook/data.csv',\n",
    "               delimiter=',', usecols=(4,5),unpack=True)\n",
    "print h\n",
    "print l"
   ]
  },
  {
   "cell_type": "code",
   "execution_count": 21,
   "metadata": {
    "collapsed": false
   },
   "outputs": [
    {
     "name": "stdout",
     "output_type": "stream",
     "text": [
      "364.9\n",
      "333.53\n"
     ]
    }
   ],
   "source": [
    "print np.max(h)\n",
    "print np.min(l)"
   ]
  },
  {
   "cell_type": "code",
   "execution_count": 22,
   "metadata": {
    "collapsed": false
   },
   "outputs": [
    {
     "name": "stdout",
     "output_type": "stream",
     "text": [
      "24.86\n",
      "26.97\n"
     ]
    }
   ],
   "source": [
    "print np.ptp(h)\n",
    "print np.ptp(l)"
   ]
  },
  {
   "cell_type": "code",
   "execution_count": 82,
   "metadata": {
    "collapsed": false
   },
   "outputs": [
    {
     "name": "stdout",
     "output_type": "stream",
     "text": [
      "352.055\n"
     ]
    }
   ],
   "source": [
    "c=np.loadtxt('/Users/fanchang/Downloads/CODE/Chapter3/data.csv',\n",
    "                delimiter=',', usecols=(6,),unpack=True)\n",
    "print np.median(c)"
   ]
  },
  {
   "cell_type": "code",
   "execution_count": 84,
   "metadata": {
    "collapsed": false
   },
   "outputs": [
    {
     "name": "stdout",
     "output_type": "stream",
     "text": [
      "[ 336.1   339.32  345.03  344.32  343.44  346.5   351.88  355.2   358.16\n",
      "  354.54  356.85  359.18  359.9   363.13  358.3   350.56  338.61  342.62\n",
      "  342.88  348.16  353.21  349.31  352.12  359.56  360.    355.36  355.76\n",
      "  352.47  346.67  351.99]\n",
      "[ 336.1   338.61  339.32  342.62  342.88  343.44  344.32  345.03  346.5\n",
      "  346.67  348.16  349.31  350.56  351.88  351.99  352.12  352.47  353.21\n",
      "  354.54  355.2   355.36  355.76  356.85  358.16  358.3   359.18  359.56\n",
      "  359.9   360.    363.13]\n"
     ]
    }
   ],
   "source": [
    "print c\n",
    "print np.sort(c)"
   ]
  },
  {
   "cell_type": "code",
   "execution_count": 87,
   "metadata": {
    "collapsed": false
   },
   "outputs": [
    {
     "name": "stdout",
     "output_type": "stream",
     "text": [
      "50.1265178889\n",
      "7.08000832548\n"
     ]
    }
   ],
   "source": [
    "print np.var(c)\n",
    "print np.std(c)"
   ]
  },
  {
   "cell_type": "code",
   "execution_count": 89,
   "metadata": {
    "collapsed": false
   },
   "outputs": [
    {
     "name": "stdout",
     "output_type": "stream",
     "text": [
      "('Standard deviation =', 0.012922134436826306)\n"
     ]
    }
   ],
   "source": [
    "returns = np.diff( c ) / c[ : -1]\n",
    "print(\"Standard deviation =\", np.std(returns))"
   ]
  },
  {
   "cell_type": "code",
   "execution_count": 90,
   "metadata": {
    "collapsed": false
   },
   "outputs": [
    {
     "data": {
      "text/plain": [
       "array([  3.22,   5.71,  -0.71,  -0.88,   3.06,   5.38,   3.32,   2.96,\n",
       "        -3.62,   2.31,   2.33,   0.72,   3.23,  -4.83,  -7.74, -11.95,\n",
       "         4.01,   0.26,   5.28,   5.05,  -3.9 ,   2.81,   7.44,   0.44,\n",
       "        -4.64,   0.4 ,  -3.29,  -5.8 ,   5.32])"
      ]
     },
     "execution_count": 90,
     "metadata": {},
     "output_type": "execute_result"
    }
   ],
   "source": [
    "np.diff( c )"
   ]
  },
  {
   "cell_type": "code",
   "execution_count": 91,
   "metadata": {
    "collapsed": false
   },
   "outputs": [
    {
     "data": {
      "text/plain": [
       "array([ 336.1 ,  339.32,  345.03,  344.32,  343.44,  346.5 ,  351.88,\n",
       "        355.2 ,  358.16,  354.54,  356.85,  359.18,  359.9 ,  363.13,\n",
       "        358.3 ,  350.56,  338.61,  342.62,  342.88,  348.16,  353.21,\n",
       "        349.31,  352.12,  359.56,  360.  ,  355.36,  355.76,  352.47,\n",
       "        346.67])"
      ]
     },
     "execution_count": 91,
     "metadata": {},
     "output_type": "execute_result"
    }
   ],
   "source": [
    "c[ : -1]"
   ]
  },
  {
   "cell_type": "code",
   "execution_count": 12,
   "metadata": {
    "collapsed": false
   },
   "outputs": [
    {
     "data": {
      "text/plain": [
       "336.10000000000002"
      ]
     },
     "execution_count": 12,
     "metadata": {},
     "output_type": "execute_result"
    }
   ],
   "source": [
    "c"
   ]
  },
  {
   "cell_type": "code",
   "execution_count": 93,
   "metadata": {
    "collapsed": false
   },
   "outputs": [
    {
     "data": {
      "text/plain": [
       "array([ 0.00958048,  0.01682777, -0.00205779, -0.00255576,  0.00890985,\n",
       "        0.0155267 ,  0.00943503,  0.00833333, -0.01010721,  0.00651548,\n",
       "        0.00652935,  0.00200457,  0.00897472, -0.01330102, -0.02160201,\n",
       "       -0.03408832,  0.01184253,  0.00075886,  0.01539897,  0.01450483,\n",
       "       -0.01104159,  0.00804443,  0.02112916,  0.00122372, -0.01288889,\n",
       "        0.00112562, -0.00924781, -0.0164553 ,  0.01534601])"
      ]
     },
     "execution_count": 93,
     "metadata": {},
     "output_type": "execute_result"
    }
   ],
   "source": [
    "returns"
   ]
  },
  {
   "cell_type": "code",
   "execution_count": 95,
   "metadata": {
    "collapsed": false
   },
   "outputs": [
    {
     "name": "stdout",
     "output_type": "stream",
     "text": [
      "[ 0.00953488  0.01668775 -0.00205991 -0.00255903  0.00887039  0.01540739\n",
      "  0.0093908   0.0082988  -0.01015864  0.00649435  0.00650813  0.00200256\n",
      "  0.00893468 -0.01339027 -0.02183875 -0.03468287  0.01177296  0.00075857\n",
      "  0.01528161  0.01440064 -0.011103    0.00801225  0.02090904  0.00122297\n",
      " -0.01297267  0.00112499 -0.00929083 -0.01659219  0.01522945]\n"
     ]
    }
   ],
   "source": [
    "logreturns = np.diff( np.log(c) )\n",
    "print logreturns"
   ]
  },
  {
   "cell_type": "code",
   "execution_count": 96,
   "metadata": {
    "collapsed": false
   },
   "outputs": [
    {
     "data": {
      "text/plain": [
       "array([ 0.00958048,  0.01682777, -0.00205779, -0.00255576,  0.00890985,\n",
       "        0.0155267 ,  0.00943503,  0.00833333, -0.01010721,  0.00651548,\n",
       "        0.00652935,  0.00200457,  0.00897472, -0.01330102, -0.02160201,\n",
       "       -0.03408832,  0.01184253,  0.00075886,  0.01539897,  0.01450483,\n",
       "       -0.01104159,  0.00804443,  0.02112916,  0.00122372, -0.01288889,\n",
       "        0.00112562, -0.00924781, -0.0164553 ,  0.01534601])"
      ]
     },
     "execution_count": 96,
     "metadata": {},
     "output_type": "execute_result"
    }
   ],
   "source": [
    "returns"
   ]
  },
  {
   "cell_type": "code",
   "execution_count": 97,
   "metadata": {
    "collapsed": false
   },
   "outputs": [
    {
     "name": "stdout",
     "output_type": "stream",
     "text": [
      "(array([ 0,  1,  4,  5,  6,  7,  9, 10, 11, 12, 16, 17, 18, 19, 21, 22, 23,\n",
      "       25, 28]),)\n"
     ]
    }
   ],
   "source": [
    "posretindices = np.where(returns > 0)\n",
    "print posretindices"
   ]
  },
  {
   "cell_type": "code",
   "execution_count": 101,
   "metadata": {
    "collapsed": false
   },
   "outputs": [
    {
     "data": {
      "text/plain": [
       "array([ 0.00958048,  0.01682777,  0.00890985,  0.0155267 ,  0.00943503,\n",
       "        0.00833333,  0.00651548,  0.00652935,  0.00200457,  0.00897472,\n",
       "        0.01184253,  0.00075886,  0.01539897,  0.01450483,  0.00804443,\n",
       "        0.02112916,  0.00122372,  0.00112562,  0.01534601])"
      ]
     },
     "execution_count": 101,
     "metadata": {},
     "output_type": "execute_result"
    }
   ],
   "source": [
    "returns[posretindices]"
   ]
  },
  {
   "cell_type": "code",
   "execution_count": 106,
   "metadata": {
    "collapsed": false
   },
   "outputs": [],
   "source": [
    "import datetime\n",
    "def datestr2num(s):\n",
    "    return datetime.datetime.strptime(s,\"%d-%m-%Y\").date().weekday()\n",
    "\n",
    "dates, close=np.loadtxt('/Users/fanchang/Downloads/CODE/Chapter3/data.csv', \n",
    "                        delimiter=',',usecols=(1,6), \n",
    "                        converters={1: datestr2num},\n",
    "                        unpack=True)"
   ]
  },
  {
   "cell_type": "code",
   "execution_count": 107,
   "metadata": {
    "collapsed": false
   },
   "outputs": [
    {
     "data": {
      "text/plain": [
       "array([ 4.,  0.,  1.,  2.,  3.,  4.,  0.,  1.,  2.,  3.,  4.,  0.,  1.,\n",
       "        2.,  3.,  4.,  1.,  2.,  3.,  4.,  0.,  1.,  2.,  3.,  4.,  0.,\n",
       "        1.,  2.,  3.,  4.])"
      ]
     },
     "execution_count": 107,
     "metadata": {},
     "output_type": "execute_result"
    }
   ],
   "source": [
    "dates"
   ]
  },
  {
   "cell_type": "code",
   "execution_count": 108,
   "metadata": {
    "collapsed": false
   },
   "outputs": [
    {
     "data": {
      "text/plain": [
       "336.10000000000002"
      ]
     },
     "execution_count": 108,
     "metadata": {},
     "output_type": "execute_result"
    }
   ],
   "source": [
    "np.take(close,0)"
   ]
  },
  {
   "cell_type": "code",
   "execution_count": 109,
   "metadata": {
    "collapsed": false
   },
   "outputs": [
    {
     "data": {
      "text/plain": [
       "array([ 336.1 ,  339.32,  345.03,  344.32,  343.44,  346.5 ,  351.88,\n",
       "        355.2 ,  358.16,  354.54,  356.85,  359.18,  359.9 ,  363.13,\n",
       "        358.3 ,  350.56,  338.61,  342.62,  342.88,  348.16,  353.21,\n",
       "        349.31,  352.12,  359.56,  360.  ,  355.36,  355.76,  352.47,\n",
       "        346.67,  351.99])"
      ]
     },
     "execution_count": 109,
     "metadata": {},
     "output_type": "execute_result"
    }
   ],
   "source": [
    "close"
   ]
  },
  {
   "cell_type": "code",
   "execution_count": 111,
   "metadata": {
    "collapsed": false
   },
   "outputs": [
    {
     "data": {
      "text/plain": [
       "array([ 4.,  0.,  1.,  2.,  3.,  4.,  0.,  1.,  2.,  3.,  4.,  0.,  1.,\n",
       "        2.,  3.,  4.,  1.,  2.,  3.,  4.,  0.,  1.,  2.,  3.,  4.,  0.,\n",
       "        1.,  2.,  3.,  4.])"
      ]
     },
     "execution_count": 111,
     "metadata": {},
     "output_type": "execute_result"
    }
   ],
   "source": [
    "dates"
   ]
  },
  {
   "cell_type": "code",
   "execution_count": 126,
   "metadata": {
    "collapsed": false
   },
   "outputs": [
    {
     "name": "stdout",
     "output_type": "stream",
     "text": [
      "('Day', 0, 'prices', array([[ 339.32,  351.88,  359.18,  353.21,  355.36]]), 'Average', 351.79000000000008)\n",
      "('Day', 1, 'prices', array([[ 345.03,  355.2 ,  359.9 ,  338.61,  349.31,  355.76]]), 'Average', 350.63500000000005)\n",
      "('Day', 2, 'prices', array([[ 344.32,  358.16,  363.13,  342.62,  352.12,  352.47]]), 'Average', 352.1366666666666)\n",
      "('Day', 3, 'prices', array([[ 343.44,  354.54,  358.3 ,  342.88,  359.56,  346.67]]), 'Average', 350.89833333333331)\n",
      "('Day', 4, 'prices', array([[ 336.1 ,  346.5 ,  356.85,  350.56,  348.16,  360.  ,  351.99]]), 'Average', 350.02285714285711)\n"
     ]
    }
   ],
   "source": [
    "averages=np.zeros([5,])\n",
    "for i in range(5):\n",
    "    indices = np.where(dates == i)\n",
    "    prices = np.take(close, indices)\n",
    "    avg = np.mean(prices)\n",
    "    print(\"Day\", i, \"prices\", prices, \"Average\", avg)\n",
    "    averages[i] = avg"
   ]
  },
  {
   "cell_type": "code",
   "execution_count": 115,
   "metadata": {
    "collapsed": false
   },
   "outputs": [
    {
     "name": "stdout",
     "output_type": "stream",
     "text": [
      "(array([ 1,  6, 11, 20, 25]),)\n"
     ]
    }
   ],
   "source": [
    "indices = np.where(dates == 0)\n",
    "print indices"
   ]
  },
  {
   "cell_type": "code",
   "execution_count": 124,
   "metadata": {
    "collapsed": false
   },
   "outputs": [
    {
     "data": {
      "text/plain": [
       "array([[   0.  ,    0.  ,    0.  ,    0.  ,    0.  ],\n",
       "       [ 339.32,  351.88,  359.18,  353.21,  355.36]])"
      ]
     },
     "execution_count": 124,
     "metadata": {},
     "output_type": "execute_result"
    }
   ],
   "source": [
    "np.array([dates[indices],close[indices]])"
   ]
  },
  {
   "cell_type": "code",
   "execution_count": 127,
   "metadata": {
    "collapsed": false
   },
   "outputs": [
    {
     "data": {
      "text/plain": [
       "array([ 351.79      ,  350.635     ,  352.13666667,  350.89833333,\n",
       "        350.02285714])"
      ]
     },
     "execution_count": 127,
     "metadata": {},
     "output_type": "execute_result"
    }
   ],
   "source": [
    "averages"
   ]
  },
  {
   "cell_type": "code",
   "execution_count": 128,
   "metadata": {
    "collapsed": false
   },
   "outputs": [
    {
     "data": {
      "text/plain": [
       "array(['2015-04-22', '2015-04-29', '2015-05-06', '2015-05-13', '2015-05-20'], dtype='datetime64[D]')"
      ]
     },
     "execution_count": 128,
     "metadata": {},
     "output_type": "execute_result"
    }
   ],
   "source": [
    "np.arange('2015-04-22', '2015-05-22', 7, dtype='datetime64')"
   ]
  },
  {
   "cell_type": "code",
   "execution_count": 137,
   "metadata": {
    "collapsed": false
   },
   "outputs": [
    {
     "data": {
      "text/plain": [
       "array([ 345.03,  355.2 ,  359.9 ,  338.61,  349.31,  355.76])"
      ]
     },
     "execution_count": 137,
     "metadata": {},
     "output_type": "execute_result"
    }
   ],
   "source": [
    "close[np.where(dates == 1)]"
   ]
  },
  {
   "cell_type": "code",
   "execution_count": 136,
   "metadata": {
    "collapsed": false
   },
   "outputs": [
    {
     "name": "stdout",
     "output_type": "stream",
     "text": [
      "(array([ 1,  6, 11, 20, 25]),)\n"
     ]
    }
   ],
   "source": [
    "indices = np.where(dates == 0)\n",
    "print indices"
   ]
  },
  {
   "cell_type": "code",
   "execution_count": 156,
   "metadata": {
    "collapsed": false,
    "scrolled": true
   },
   "outputs": [
    {
     "name": "stdout",
     "output_type": "stream",
     "text": [
      "('The first Monday index is', 1)\n",
      "('The last Friday index is', 15)\n",
      "('Weeks indices initial', array([ 1,  2,  3,  4,  5,  6,  7,  8,  9, 10, 11, 12, 13, 14, 15]))\n",
      "('Weeks indices after split', [array([1, 2, 3, 4, 5]), array([ 6,  7,  8,  9, 10]), array([11, 12, 13, 14, 15])])\n",
      "('Week summary', array([['APPL', '335.8', '346.7', '334.3', '346.5'],\n",
      "       ['APPL', '347.8', '360.0', '347.6', '356.8'],\n",
      "       ['APPL', '356.7', '364.9', '349.5', '350.5']], \n",
      "      dtype='|S5'))\n"
     ]
    }
   ],
   "source": [
    "import datetime\n",
    "def datestr2num(s):\n",
    "    return datetime.datetime.strptime(s,\"%d-%m-%Y\").date().weekday()\n",
    "\n",
    "def summarize(a, o, h, l, c):\n",
    "    monday_open = o[a[0]]\n",
    "    week_high = np.max( np.take(h, a) )\n",
    "    week_low = np.min( np.take(l, a) )\n",
    "    friday_close = c[a[-1]]\n",
    "    return(\"APPL\", monday_open, week_high, week_low, friday_close)\n",
    "\n",
    "dates,opened,high,low,close=np.loadtxt('/Users/fanchang/Downloads/CODE/Chapter3/data.csv', \n",
    "                        delimiter=',',usecols=(1,3,4,5,6), \n",
    "                        converters={1: datestr2num},\n",
    "                        unpack=True)\n",
    "dates=dates[:16]\n",
    "opened=opened[:16]\n",
    "high=high[:16]\n",
    "low=low[:16]\n",
    "close=close[:16]\n",
    "\n",
    "# get first Monday\n",
    "first_monday = np.ravel(np.where(dates == 0))[0]\n",
    "print(\"The first Monday index is\", first_monday)\n",
    "# get last Friday\n",
    "last_friday = np.ravel(np.where(dates == 4))[-1]\n",
    "print(\"The last Friday index is\", last_friday)\n",
    "\n",
    "weeks_indices = np.arange(first_monday, last_friday + 1)\n",
    "print(\"Weeks indices initial\", weeks_indices)\n",
    "\n",
    "weeks_indices = np.split(weeks_indices, 3)\n",
    "print(\"Weeks indices after split\", weeks_indices)\n",
    "\n",
    "weeksummary = np.apply_along_axis(summarize, 1, weeks_indices, \n",
    "                                  opened, high, low, close)\n",
    "\n",
    "print(\"Week summary\", weeksummary)\n",
    "\n",
    "np.savetxt(\"weeksummary.csv\", weeksummary, delimiter=\",\", fmt=\"%s\")"
   ]
  },
  {
   "cell_type": "code",
   "execution_count": 151,
   "metadata": {
    "collapsed": false,
    "scrolled": true
   },
   "outputs": [
    {
     "name": "stdout",
     "output_type": "stream",
     "text": [
      "[ 4.  0.  1.  2.  3.  4.  0.  1.  2.  3.  4.  0.  1.  2.  3.  4.  1.  2.\n",
      "  3.  4.  0.  1.  2.  3.  4.  0.  1.  2.  3.  4.] [ 344.17  335.8   341.3   344.45  343.8   343.61  347.89  353.68  355.19\n",
      "  357.39  354.75  356.79  359.19  360.8   357.1   358.21  342.05  338.77\n",
      "  344.02  345.29  351.21  355.47  349.96  357.2   360.07  361.11  354.91\n",
      "  354.69  349.69  345.4 ] [ 344.4   340.04  345.65  345.25  344.24  346.7   353.25  355.52  359.\n",
      "  360.    357.8   359.48  359.97  364.9   360.27  359.5   345.4   344.64\n",
      "  345.15  348.43  355.05  355.72  354.35  359.79  360.29  361.67  357.4\n",
      "  354.76  349.77  352.32] [ 333.53  334.3   340.98  343.55  338.55  343.51  347.64  352.15  354.87\n",
      "  348.    353.54  356.71  357.55  360.5   356.52  349.52  337.72  338.61\n",
      "  338.37  344.8   351.12  347.68  348.4   355.92  357.75  351.31  352.25\n",
      "  350.6   344.9   345.  ] [ 336.1   339.32  345.03  344.32  343.44  346.5   351.88  355.2   358.16\n",
      "  354.54  356.85  359.18  359.9   363.13  358.3   350.56  338.61  342.62\n",
      "  342.88  348.16  353.21  349.31  352.12  359.56  360.    355.36  355.76\n",
      "  352.47  346.67  351.99]\n"
     ]
    }
   ],
   "source": [
    "import datetime\n",
    "def datestr2num(s):\n",
    "    return datetime.datetime.strptime(s,\"%d-%m-%Y\").date().weekday()\n",
    "\n",
    "dates,opened,high,low,close=np.loadtxt('/Users/fanchang/Downloads/CODE/Chapter3/data.csv', \n",
    "                        delimiter=',',usecols=(1,3,4,5,6), \n",
    "                        converters={1: datestr2num},\n",
    "                        unpack=True)\n",
    "print dates,opened,high,low,close"
   ]
  },
  {
   "cell_type": "code",
   "execution_count": null,
   "metadata": {
    "collapsed": true
   },
   "outputs": [],
   "source": []
  }
 ],
 "metadata": {
  "kernelspec": {
   "display_name": "Python 2",
   "language": "python",
   "name": "python2"
  },
  "language_info": {
   "codemirror_mode": {
    "name": "ipython",
    "version": 2
   },
   "file_extension": ".py",
   "mimetype": "text/x-python",
   "name": "python",
   "nbconvert_exporter": "python",
   "pygments_lexer": "ipython2",
   "version": "2.7.11"
  }
 },
 "nbformat": 4,
 "nbformat_minor": 0
}
