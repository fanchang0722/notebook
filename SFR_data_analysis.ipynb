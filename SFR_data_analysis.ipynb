{
 "cells": [
  {
   "cell_type": "code",
   "execution_count": 1,
   "metadata": {
    "collapsed": false
   },
   "outputs": [
    {
     "name": "stderr",
     "output_type": "stream",
     "text": [
      "//anaconda/lib/python2.7/site-packages/matplotlib/font_manager.py:273: UserWarning: Matplotlib is building the font cache using fc-list. This may take a moment.\n",
      "  warnings.warn('Matplotlib is building the font cache using fc-list. This may take a moment.')\n"
     ]
    },
    {
     "name": "stdout",
     "output_type": "stream",
     "text": [
      "Populating the interactive namespace from numpy and matplotlib\n"
     ]
    },
    {
     "data": {
      "text/plain": [
       "<matplotlib.figure.Figure at 0x10631ad50>"
      ]
     },
     "execution_count": 1,
     "metadata": {},
     "output_type": "execute_result"
    },
    {
     "data": {
      "text/plain": [
       "<matplotlib.figure.Figure at 0x10631ad50>"
      ]
     },
     "metadata": {},
     "output_type": "display_data"
    }
   ],
   "source": [
    "%pylab inline\n",
    "import numpy as np\n",
    "import matplotlib.pyplot as plt\n",
    "import pandas as pd\n",
    "plt.figure(figsize=(12,9))"
   ]
  },
  {
   "cell_type": "code",
   "execution_count": 2,
   "metadata": {
    "collapsed": true
   },
   "outputs": [],
   "source": [
    "df=pd.read_csv('/Users/fanchang/Downloads/measures/Camera_SFR_Pos_6-15-2016.csv')"
   ]
  },
  {
   "cell_type": "code",
   "execution_count": 68,
   "metadata": {
    "collapsed": false
   },
   "outputs": [
    {
     "data": {
      "text/plain": [
       "0        SFR_NQ4_50F_V\n",
       "1              TV_Dist\n",
       "2        SFR_NQ4_50F_V\n",
       "3              TV_Dist\n",
       "4        SFR_NQ4_70F_V\n",
       "5        SFR_NQ4_00F_V\n",
       "6     Tilt_lens2snsr_H\n",
       "7             Rotation\n",
       "8                 VFOV\n",
       "9        SFR_NQ4_30F_H\n",
       "10       SFR_NQ4_70F_V\n",
       "11       SFR_NQ4_00F_V\n",
       "12    Tilt_lens2snsr_H\n",
       "13            Rotation\n",
       "14                VFOV\n",
       "15       SFR_NQ4_30F_H\n",
       "16       SFR_NQ4_50F_V\n",
       "17             TV_Dist\n",
       "18       SFR_NQ4_70F_V\n",
       "19       SFR_NQ4_00F_V\n",
       "Name: Metrics, dtype: object"
      ]
     },
     "execution_count": 68,
     "metadata": {},
     "output_type": "execute_result"
    }
   ],
   "source": [
    "df['Metrics'][:20]"
   ]
  },
  {
   "cell_type": "code",
   "execution_count": 3,
   "metadata": {
    "collapsed": false
   },
   "outputs": [
    {
     "data": {
      "text/html": [
       "<div>\n",
       "<table border=\"1\" class=\"dataframe\">\n",
       "  <thead>\n",
       "    <tr style=\"text-align: right;\">\n",
       "      <th></th>\n",
       "      <th>Test station</th>\n",
       "      <th>FF_SID</th>\n",
       "      <th>Test Result</th>\n",
       "      <th>Test Start</th>\n",
       "      <th>Test End</th>\n",
       "      <th>Function</th>\n",
       "      <th>Result</th>\n",
       "      <th>Metrics</th>\n",
       "      <th>Value</th>\n",
       "      <th>Validator</th>\n",
       "    </tr>\n",
       "  </thead>\n",
       "  <tbody>\n",
       "    <tr>\n",
       "      <th>26</th>\n",
       "      <td>Camera_SFR_Pos</td>\n",
       "      <td>BSJ1P0M216190440</td>\n",
       "      <td>PASS</td>\n",
       "      <td>5/16/16 17:45</td>\n",
       "      <td>5/16/16 17:45</td>\n",
       "      <td>Camera_IQ</td>\n",
       "      <td>PASS</td>\n",
       "      <td>SFR_NQ4_00F_H</td>\n",
       "      <td>0.5437</td>\n",
       "      <td>0.37 &lt;= x &lt;= 1</td>\n",
       "    </tr>\n",
       "    <tr>\n",
       "      <th>36</th>\n",
       "      <td>Camera_SFR_Pos</td>\n",
       "      <td>BSJ1P0M116190340</td>\n",
       "      <td>PASS</td>\n",
       "      <td>5/16/16 14:11</td>\n",
       "      <td>5/16/16 14:12</td>\n",
       "      <td>Camera_IQ</td>\n",
       "      <td>PASS</td>\n",
       "      <td>SFR_NQ4_00F_H</td>\n",
       "      <td>0.6528</td>\n",
       "      <td>0.37 &lt;= x &lt;= 1</td>\n",
       "    </tr>\n",
       "    <tr>\n",
       "      <th>54</th>\n",
       "      <td>Camera_SFR_Pos</td>\n",
       "      <td>BSJ1P0M116190323</td>\n",
       "      <td>PASS</td>\n",
       "      <td>5/14/16 18:23</td>\n",
       "      <td>5/14/16 18:24</td>\n",
       "      <td>Camera_IQ</td>\n",
       "      <td>PASS</td>\n",
       "      <td>SFR_NQ4_00F_H</td>\n",
       "      <td>0.5293</td>\n",
       "      <td>0.37 &lt;= x &lt;= 1</td>\n",
       "    </tr>\n",
       "    <tr>\n",
       "      <th>64</th>\n",
       "      <td>Camera_SFR_Pos</td>\n",
       "      <td>BSJ1P0M116190323</td>\n",
       "      <td>FAIL</td>\n",
       "      <td>5/13/16 9:46</td>\n",
       "      <td>5/13/16 9:47</td>\n",
       "      <td>Camera_IQ</td>\n",
       "      <td>PASS</td>\n",
       "      <td>SFR_NQ4_00F_H</td>\n",
       "      <td>0.5482</td>\n",
       "      <td>0.37 &lt;= x &lt;= 1</td>\n",
       "    </tr>\n",
       "    <tr>\n",
       "      <th>74</th>\n",
       "      <td>Camera_SFR_Pos</td>\n",
       "      <td>BSJ1P0M216190409</td>\n",
       "      <td>PASS</td>\n",
       "      <td>5/16/16 15:49</td>\n",
       "      <td>5/16/16 15:50</td>\n",
       "      <td>Camera_IQ</td>\n",
       "      <td>PASS</td>\n",
       "      <td>SFR_NQ4_00F_H</td>\n",
       "      <td>0.4803</td>\n",
       "      <td>0.37 &lt;= x &lt;= 1</td>\n",
       "    </tr>\n",
       "  </tbody>\n",
       "</table>\n",
       "</div>"
      ],
      "text/plain": [
       "      Test station            FF_SID Test Result     Test Start  \\\n",
       "26  Camera_SFR_Pos  BSJ1P0M216190440        PASS  5/16/16 17:45   \n",
       "36  Camera_SFR_Pos  BSJ1P0M116190340        PASS  5/16/16 14:11   \n",
       "54  Camera_SFR_Pos  BSJ1P0M116190323        PASS  5/14/16 18:23   \n",
       "64  Camera_SFR_Pos  BSJ1P0M116190323        FAIL   5/13/16 9:46   \n",
       "74  Camera_SFR_Pos  BSJ1P0M216190409        PASS  5/16/16 15:49   \n",
       "\n",
       "         Test End   Function Result        Metrics   Value       Validator  \n",
       "26  5/16/16 17:45  Camera_IQ   PASS  SFR_NQ4_00F_H  0.5437  0.37 <= x <= 1  \n",
       "36  5/16/16 14:12  Camera_IQ   PASS  SFR_NQ4_00F_H  0.6528  0.37 <= x <= 1  \n",
       "54  5/14/16 18:24  Camera_IQ   PASS  SFR_NQ4_00F_H  0.5293  0.37 <= x <= 1  \n",
       "64   5/13/16 9:47  Camera_IQ   PASS  SFR_NQ4_00F_H  0.5482  0.37 <= x <= 1  \n",
       "74  5/16/16 15:50  Camera_IQ   PASS  SFR_NQ4_00F_H  0.4803  0.37 <= x <= 1  "
      ]
     },
     "execution_count": 3,
     "metadata": {},
     "output_type": "execute_result"
    }
   ],
   "source": [
    "SFR_0H=df[df['Metrics']=='SFR_NQ4_00F_H']\n",
    "SFR_0H.head(5)"
   ]
  },
  {
   "cell_type": "code",
   "execution_count": 4,
   "metadata": {
    "collapsed": false
   },
   "outputs": [
    {
     "data": {
      "text/html": [
       "<div>\n",
       "<table border=\"1\" class=\"dataframe\">\n",
       "  <thead>\n",
       "    <tr style=\"text-align: right;\">\n",
       "      <th></th>\n",
       "      <th>Value</th>\n",
       "    </tr>\n",
       "  </thead>\n",
       "  <tbody>\n",
       "    <tr>\n",
       "      <th>count</th>\n",
       "      <td>433.000000</td>\n",
       "    </tr>\n",
       "    <tr>\n",
       "      <th>mean</th>\n",
       "      <td>0.625369</td>\n",
       "    </tr>\n",
       "    <tr>\n",
       "      <th>std</th>\n",
       "      <td>0.074137</td>\n",
       "    </tr>\n",
       "    <tr>\n",
       "      <th>min</th>\n",
       "      <td>0.423200</td>\n",
       "    </tr>\n",
       "    <tr>\n",
       "      <th>25%</th>\n",
       "      <td>0.571900</td>\n",
       "    </tr>\n",
       "    <tr>\n",
       "      <th>50%</th>\n",
       "      <td>0.637600</td>\n",
       "    </tr>\n",
       "    <tr>\n",
       "      <th>75%</th>\n",
       "      <td>0.683500</td>\n",
       "    </tr>\n",
       "    <tr>\n",
       "      <th>max</th>\n",
       "      <td>0.767300</td>\n",
       "    </tr>\n",
       "  </tbody>\n",
       "</table>\n",
       "</div>"
      ],
      "text/plain": [
       "            Value\n",
       "count  433.000000\n",
       "mean     0.625369\n",
       "std      0.074137\n",
       "min      0.423200\n",
       "25%      0.571900\n",
       "50%      0.637600\n",
       "75%      0.683500\n",
       "max      0.767300"
      ]
     },
     "execution_count": 4,
     "metadata": {},
     "output_type": "execute_result"
    }
   ],
   "source": [
    "df1=SFR_0H.dropna()\n",
    "df1.describe()"
   ]
  },
  {
   "cell_type": "code",
   "execution_count": 5,
   "metadata": {
    "collapsed": false
   },
   "outputs": [
    {
     "data": {
      "text/plain": [
       "<matplotlib.axes._subplots.AxesSubplot at 0x114771690>"
      ]
     },
     "execution_count": 5,
     "metadata": {},
     "output_type": "execute_result"
    },
    {
     "data": {
      "image/png": "[encoded data removed]",
      "text/plain": [
       "<matplotlib.figure.Figure at 0x1063296d0>"
      ]
     },
     "metadata": {},
     "output_type": "display_data"
    }
   ],
   "source": [
    "plt.figure(figsize=(12,9))\n",
    "plt.xlabel('SFR', fontsize=16)\n",
    "plt.ylabel('Frequency', fontsize=16)\n",
    "df1['Value'].hist(bins=20,color='green')"
   ]
  },
  {
   "cell_type": "code",
   "execution_count": 6,
   "metadata": {
    "collapsed": false
   },
   "outputs": [
    {
     "name": "stdout",
     "output_type": "stream",
     "text": [
      "count    327.000000\n",
      "mean       0.638086\n",
      "std        0.067574\n",
      "min        0.423200\n",
      "25%        0.594350\n",
      "50%        0.650300\n",
      "75%        0.690600\n",
      "max        0.767300\n",
      "Name: Value, dtype: float64\n"
     ]
    },
    {
     "data": {
      "image/png": "[encoded data removed]",
      "text/plain": [
       "<matplotlib.figure.Figure at 0x117939c10>"
      ]
     },
     "metadata": {},
     "output_type": "display_data"
    }
   ],
   "source": [
    "plt.figure(figsize=(12,9))\n",
    "df1['Value'].groupby(df['FF_SID']).mean().hist(bins=10,color=[0,.5,0.5])\n",
    "print (df1['Value'].groupby(df['FF_SID']).mean().describe())"
   ]
  },
  {
   "cell_type": "code",
   "execution_count": 65,
   "metadata": {
    "collapsed": false
   },
   "outputs": [],
   "source": [
    "plt.figure(figsize=(12,9))"
   ]
  },
  {
   "cell_type": "code",
   "execution_count": 7,
   "metadata": {
    "collapsed": false
   },
   "outputs": [
    {
     "name": "stdout",
     "output_type": "stream",
     "text": [
      "FF_SID\n",
      "BSJ1P0D116231101             0.723500\n",
      "BSJ1P0D116231102             0.638000\n",
      "BSJ1P0D116231103             0.673700\n",
      "BSJ1P0D116231104             0.721300\n",
      "BSJ1P0D116231105             0.702100\n",
      "BSJ1P0D116231106             0.637600\n",
      "BSJ1P0D116231107             0.602200\n",
      "BSJ1P0D116231108             0.676300\n",
      "BSJ1P0D916241901             0.677400\n",
      "BSJ1P0D916241902             0.621200\n",
      "BSJ1P0D916241903             0.583200\n",
      "BSJ1P0DA16232001             0.643100\n",
      "BSJ1P0DA16232002             0.578900\n",
      "BSJ1P0M116190301             0.568417\n",
      "BSJ1P0M116190302             0.517550\n",
      "BSJ1P0M116190303             0.501900\n",
      "BSJ1P0M116190304             0.613900\n",
      "BSJ1P0M116190305             0.598300\n",
      "BSJ1P0M116190306             0.502100\n",
      "BSJ1P0M116190308             0.624600\n",
      "BSJ1P0M116190309             0.546100\n",
      "BSJ1P0M116190311             0.560900\n",
      "BSJ1P0M116190312             0.547000\n",
      "BSJ1P0M116190313             0.486900\n",
      "BSJ1P0M116190314             0.575550\n",
      "BSJ1P0M116190316             0.704250\n",
      "BSJ1P0M116190317             0.558233\n",
      "BSJ1P0M116190318             0.473300\n",
      "BSJ1P0M116190319             0.577500\n",
      "BSJ1P0M116190320             0.631700\n",
      "                               ...   \n",
      "BSJ1P0N316222502             0.586800\n",
      "BSJ1P0N316222503             0.702300\n",
      "BSJ1P0N316222504             0.711350\n",
      "BSJ1P0N316222505             0.584900\n",
      "BSJ1P0N316222506             0.461800\n",
      "BSJ1P0N316222507             0.734600\n",
      "BSJ1P0N316222508             0.639600\n",
      "BSJ1P0N316222509             0.708200\n",
      "BSJ1P0N316222510             0.656800\n",
      "BSJ1P0N316222511             0.652300\n",
      "BSJ1P0N316222512             0.570800\n",
      "BSJ1P0N316222513             0.767300\n",
      "BSJ1P0N316222514             0.611250\n",
      "BSJ1P0N316222515             0.692100\n",
      "BSJ1P0N416222601             0.657000\n",
      "BSJ1P0N416222602             0.551100\n",
      "BSJ1P0N416222603             0.590500\n",
      "BSJ1P0N416222604             0.655000\n",
      "BSJ1P0N416222605             0.559000\n",
      "BSJ1P0N416222606             0.704600\n",
      "BSJ1P0N416222607             0.590700\n",
      "BSJ1P0N416222608             0.649500\n",
      "BSJ1P0N416222609             0.691000\n",
      "BSJ1P0N416222610             0.691200\n",
      "BSJ1P0N416222611             0.636700\n",
      "BSJ1P0N416222612             0.647600\n",
      "BSJ1P0N416222613             0.558600\n",
      "BSJ1P0N416222614             0.611600\n",
      "BSJ1P0N416222615             0.522800\n",
      "LIST OF DEVICES ATTACHED     0.641537\n",
      "Name: Value, dtype: float64\n"
     ]
    }
   ],
   "source": [
    "print df1['Value'].groupby(df['FF_SID']).mean()"
   ]
  },
  {
   "cell_type": "code",
   "execution_count": 78,
   "metadata": {
    "collapsed": true
   },
   "outputs": [],
   "source": [
    "SFR_0H.to_excel('/Users/fanchang/Desktop/fan2.xlsx')"
   ]
  },
  {
   "cell_type": "code",
   "execution_count": null,
   "metadata": {
    "collapsed": true
   },
   "outputs": [],
   "source": []
  }
 ],
 "metadata": {
  "kernelspec": {
   "display_name": "Python 2",
   "language": "python",
   "name": "python2"
  },
  "language_info": {
   "codemirror_mode": {
    "name": "ipython",
    "version": 2
   },
   "file_extension": ".py",
   "mimetype": "text/x-python",
   "name": "python",
   "nbconvert_exporter": "python",
   "pygments_lexer": "ipython2",
   "version": "2.7.11"
  }
 },
 "nbformat": 4,
 "nbformat_minor": 0
}
