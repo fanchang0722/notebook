{
 "cells": [
  {
   "cell_type": "code",
   "execution_count": 1,
   "metadata": {
    "collapsed": false
   },
   "outputs": [
    {
     "name": "stdout",
     "output_type": "stream",
     "text": [
      "Activating auto-logging. Current session state plus future input saved.\n",
      "Filename       : ipython_log.py\n",
      "Mode           : rotate\n",
      "Output logging : True\n",
      "Raw input log  : False\n",
      "Timestamping   : False\n",
      "State          : active\n",
      "none\n"
     ]
    }
   ],
   "source": [
    "%logstart -o\n",
    "data={'red':[1,2,3],'green':2,'blue':3}\n",
    "print data.get('abc','none')"
   ]
  },
  {
   "cell_type": "code",
   "execution_count": 2,
   "metadata": {
    "collapsed": false
   },
   "outputs": [
    {
     "name": "stdout",
     "output_type": "stream",
     "text": [
      "{'blue': 3, 'green': 2, 'red': 1}\n",
      "<type 'dict'>\n"
     ]
    }
   ],
   "source": [
    "# fancy way to create dictionary\n",
    "def makedict(**kwargs):\n",
    "    return kwargs\n",
    "data2=makedict(red=1,green=2,blue=3)\n",
    "print data2\n",
    "print type(data2)"
   ]
  },
  {
   "cell_type": "code",
   "execution_count": 4,
   "metadata": {
    "collapsed": false
   },
   "outputs": [
    {
     "data": {
      "text/plain": [
       "True"
      ]
     },
     "execution_count": 4,
     "metadata": {},
     "output_type": "execute_result"
    }
   ],
   "source": [
    "data==data2"
   ]
  },
  {
   "cell_type": "code",
   "execution_count": 23,
   "metadata": {
    "collapsed": false
   },
   "outputs": [
    {
     "name": "stdout",
     "output_type": "stream",
     "text": [
      "{'a': 3, 'b': 5}\n",
      "{'a': 3, 'c': 3, 'b': 5}\n",
      "{'blue': 3, 'green': 4, 'yellow': 4, 'red': 1}\n"
     ]
    }
   ],
   "source": [
    "# fancy way to create dictionary\n",
    "def dodict(*args,**kwds):\n",
    "    d={}\n",
    "    for k,v in args:\n",
    "        d[k]=v\n",
    "    d.update(kwds)\n",
    "    return d\n",
    "tada=dodict(*data2.items(),yellow=4,green=4)\n",
    "test=dodict(a=3,b=5)\n",
    "test2=dodict(*test.items(),c=3)\n",
    "print test\n",
    "print test2\n",
    "print tada"
   ]
  },
  {
   "cell_type": "code",
   "execution_count": 14,
   "metadata": {
    "collapsed": false
   },
   "outputs": [
    {
     "name": "stdout",
     "output_type": "stream",
     "text": [
      "4\n"
     ]
    }
   ],
   "source": [
    "# get value from dictionary\n",
    "print tada.get('green','not found')"
   ]
  },
  {
   "cell_type": "code",
   "execution_count": 26,
   "metadata": {
    "collapsed": false
   },
   "outputs": [
    {
     "name": "stdout",
     "output_type": "stream",
     "text": [
      "True\n"
     ]
    }
   ],
   "source": [
    "print 'green' in tada.keys()"
   ]
  },
  {
   "cell_type": "code",
   "execution_count": 27,
   "metadata": {
    "collapsed": false
   },
   "outputs": [
    {
     "data": {
      "text/plain": [
       "4"
      ]
     },
     "execution_count": 27,
     "metadata": {},
     "output_type": "execute_result"
    }
   ],
   "source": [
    "tada['green']"
   ]
  },
  {
   "cell_type": "code",
   "execution_count": 28,
   "metadata": {
    "collapsed": false
   },
   "outputs": [
    {
     "data": {
      "text/plain": [
       "4"
      ]
     },
     "execution_count": 28,
     "metadata": {},
     "output_type": "execute_result"
    }
   ],
   "source": [
    "tada.get('green')"
   ]
  },
  {
   "cell_type": "code",
   "execution_count": 29,
   "metadata": {
    "collapsed": false
   },
   "outputs": [
    {
     "data": {
      "text/plain": [
       "True"
      ]
     },
     "execution_count": 29,
     "metadata": {},
     "output_type": "execute_result"
    }
   ],
   "source": [
    "tada.has_key('green')"
   ]
  },
  {
   "cell_type": "code",
   "execution_count": 34,
   "metadata": {
    "collapsed": false
   },
   "outputs": [
    {
     "name": "stdout",
     "output_type": "stream",
     "text": [
      " intersect: ['a', 'b']\n"
     ]
    }
   ],
   "source": [
    "# find the intersection of two dict\n",
    "print \"intersect:\", filter(test.has_key,test2.keys())"
   ]
  },
  {
   "cell_type": "code",
   "execution_count": 41,
   "metadata": {
    "collapsed": false
   },
   "outputs": [
    {
     "name": "stdout",
     "output_type": "stream",
     "text": [
      "9\n"
     ]
    }
   ],
   "source": [
    "class bunch:\n",
    "    def __init__(self,**kwds):\n",
    "        self.__dict__.update(kwds)\n",
    "x,y=1,3   \n",
    "point=bunch(datum=y,squared=y*y,coord=x)\n",
    "print point.squared"
   ]
  },
  {
   "cell_type": "code",
   "execution_count": 6,
   "metadata": {
    "collapsed": false
   },
   "outputs": [
    {
     "name": "stdout",
     "output_type": "stream",
     "text": [
      "simpleway: 0.39\n",
      "pyth22way: 0.19\n",
      "filterway: 0.11\n",
      "badslowway: 18.57\n"
     ]
    }
   ],
   "source": [
    "import time\n",
    "def timeo(fun, n = 1000):\n",
    "    def void():\n",
    "        pass\n",
    "    \n",
    "    start = time.clock()\n",
    "    \n",
    "    for i in range(n):\n",
    "        void()\n",
    "    \n",
    "    stend = time.clock()\n",
    "    overhead = stend-start\n",
    "    \n",
    "    start = time.clock()\n",
    "    for i in range(n):\n",
    "        fun()\n",
    "    \n",
    "    stend = time.clock()\n",
    "    thetime = stend-start\n",
    "    return fun.__name__, thetime-overhead\n",
    "\n",
    "to500 = {}\n",
    "for i in range(500):\n",
    "    to500[i] = 1\n",
    "\n",
    "evens = {}\n",
    "for i in range(0, 1000, 2):\n",
    "    evens[i] = 1\n",
    "    \n",
    "def simpleway():\n",
    "    result = []\n",
    "    for k in to500.keys():\n",
    "        if evens.has_key(k):\n",
    "            result.append(k)\n",
    "    return result\n",
    "\n",
    "def pyth22way():\n",
    "    return [k for k in to500 if k in evens]\n",
    "\n",
    "def filterway():\n",
    "    return filter(to500.has_key, evens.keys())\n",
    "\n",
    "def badslowway():\n",
    "    result = []\n",
    "    for k in to500.keys():\n",
    "        if k in evens.keys():\n",
    "            result.append(k)\n",
    "    return result\n",
    "\n",
    "for f in simpleway, pyth22way, filterway, badslowway:\n",
    "    print \"%s: %.2f\"%timeo(f,5000)\n",
    "    \n"
   ]
  },
  {
   "cell_type": "code",
   "execution_count": 7,
   "metadata": {
    "collapsed": false
   },
   "outputs": [
    {
     "name": "stdout",
     "output_type": "stream",
     "text": [
      "{0: 1, 2: 1, 4: 1, 6: 1, 8: 1, 10: 1, 12: 1, 14: 1, 16: 1, 18: 1, 20: 1, 22: 1, 24: 1, 26: 1, 28: 1, 30: 1, 32: 1, 34: 1, 36: 1, 38: 1, 40: 1, 42: 1, 44: 1, 46: 1, 48: 1, 50: 1, 52: 1, 54: 1, 56: 1, 58: 1, 60: 1, 62: 1, 64: 1, 66: 1, 68: 1, 70: 1, 72: 1, 74: 1, 76: 1, 78: 1, 80: 1, 82: 1, 84: 1, 86: 1, 88: 1, 90: 1, 92: 1, 94: 1, 96: 1, 98: 1, 100: 1, 102: 1, 104: 1, 106: 1, 108: 1, 110: 1, 112: 1, 114: 1, 116: 1, 118: 1, 120: 1, 122: 1, 124: 1, 126: 1, 128: 1, 130: 1, 132: 1, 134: 1, 136: 1, 138: 1, 140: 1, 142: 1, 144: 1, 146: 1, 148: 1, 150: 1, 152: 1, 154: 1, 156: 1, 158: 1, 160: 1, 162: 1, 164: 1, 166: 1, 168: 1, 170: 1, 172: 1, 174: 1, 176: 1, 178: 1, 180: 1, 182: 1, 184: 1, 186: 1, 188: 1, 190: 1, 192: 1, 194: 1, 196: 1, 198: 1, 200: 1, 202: 1, 204: 1, 206: 1, 208: 1, 210: 1, 212: 1, 214: 1, 216: 1, 218: 1, 220: 1, 222: 1, 224: 1, 226: 1, 228: 1, 230: 1, 232: 1, 234: 1, 236: 1, 238: 1, 240: 1, 242: 1, 244: 1, 246: 1, 248: 1, 250: 1, 252: 1, 254: 1, 256: 1, 258: 1, 260: 1, 262: 1, 264: 1, 266: 1, 268: 1, 270: 1, 272: 1, 274: 1, 276: 1, 278: 1, 280: 1, 282: 1, 284: 1, 286: 1, 288: 1, 290: 1, 292: 1, 294: 1, 296: 1, 298: 1, 300: 1, 302: 1, 304: 1, 306: 1, 308: 1, 310: 1, 312: 1, 314: 1, 316: 1, 318: 1, 320: 1, 322: 1, 324: 1, 326: 1, 328: 1, 330: 1, 332: 1, 334: 1, 336: 1, 338: 1, 340: 1, 342: 1, 344: 1, 346: 1, 348: 1, 350: 1, 352: 1, 354: 1, 356: 1, 358: 1, 360: 1, 362: 1, 364: 1, 366: 1, 368: 1, 370: 1, 372: 1, 374: 1, 376: 1, 378: 1, 380: 1, 382: 1, 384: 1, 386: 1, 388: 1, 390: 1, 392: 1, 394: 1, 396: 1, 398: 1, 400: 1, 402: 1, 404: 1, 406: 1, 408: 1, 410: 1, 412: 1, 414: 1, 416: 1, 418: 1, 420: 1, 422: 1, 424: 1, 426: 1, 428: 1, 430: 1, 432: 1, 434: 1, 436: 1, 438: 1, 440: 1, 442: 1, 444: 1, 446: 1, 448: 1, 450: 1, 452: 1, 454: 1, 456: 1, 458: 1, 460: 1, 462: 1, 464: 1, 466: 1, 468: 1, 470: 1, 472: 1, 474: 1, 476: 1, 478: 1, 480: 1, 482: 1, 484: 1, 486: 1, 488: 1, 490: 1, 492: 1, 494: 1, 496: 1, 498: 1, 500: 1, 502: 1, 504: 1, 506: 1, 508: 1, 510: 1, 512: 1, 514: 1, 516: 1, 518: 1, 520: 1, 522: 1, 524: 1, 526: 1, 528: 1, 530: 1, 532: 1, 534: 1, 536: 1, 538: 1, 540: 1, 542: 1, 544: 1, 546: 1, 548: 1, 550: 1, 552: 1, 554: 1, 556: 1, 558: 1, 560: 1, 562: 1, 564: 1, 566: 1, 568: 1, 570: 1, 572: 1, 574: 1, 576: 1, 578: 1, 580: 1, 582: 1, 584: 1, 586: 1, 588: 1, 590: 1, 592: 1, 594: 1, 596: 1, 598: 1, 600: 1, 602: 1, 604: 1, 606: 1, 608: 1, 610: 1, 612: 1, 614: 1, 616: 1, 618: 1, 620: 1, 622: 1, 624: 1, 626: 1, 628: 1, 630: 1, 632: 1, 634: 1, 636: 1, 638: 1, 640: 1, 642: 1, 644: 1, 646: 1, 648: 1, 650: 1, 652: 1, 654: 1, 656: 1, 658: 1, 660: 1, 662: 1, 664: 1, 666: 1, 668: 1, 670: 1, 672: 1, 674: 1, 676: 1, 678: 1, 680: 1, 682: 1, 684: 1, 686: 1, 688: 1, 690: 1, 692: 1, 694: 1, 696: 1, 698: 1, 700: 1, 702: 1, 704: 1, 706: 1, 708: 1, 710: 1, 712: 1, 714: 1, 716: 1, 718: 1, 720: 1, 722: 1, 724: 1, 726: 1, 728: 1, 730: 1, 732: 1, 734: 1, 736: 1, 738: 1, 740: 1, 742: 1, 744: 1, 746: 1, 748: 1, 750: 1, 752: 1, 754: 1, 756: 1, 758: 1, 760: 1, 762: 1, 764: 1, 766: 1, 768: 1, 770: 1, 772: 1, 774: 1, 776: 1, 778: 1, 780: 1, 782: 1, 784: 1, 786: 1, 788: 1, 790: 1, 792: 1, 794: 1, 796: 1, 798: 1, 800: 1, 802: 1, 804: 1, 806: 1, 808: 1, 810: 1, 812: 1, 814: 1, 816: 1, 818: 1, 820: 1, 822: 1, 824: 1, 826: 1, 828: 1, 830: 1, 832: 1, 834: 1, 836: 1, 838: 1, 840: 1, 842: 1, 844: 1, 846: 1, 848: 1, 850: 1, 852: 1, 854: 1, 856: 1, 858: 1, 860: 1, 862: 1, 864: 1, 866: 1, 868: 1, 870: 1, 872: 1, 874: 1, 876: 1, 878: 1, 880: 1, 882: 1, 884: 1, 886: 1, 888: 1, 890: 1, 892: 1, 894: 1, 896: 1, 898: 1, 900: 1, 902: 1, 904: 1, 906: 1, 908: 1, 910: 1, 912: 1, 914: 1, 916: 1, 918: 1, 920: 1, 922: 1, 924: 1, 926: 1, 928: 1, 930: 1, 932: 1, 934: 1, 936: 1, 938: 1, 940: 1, 942: 1, 944: 1, 946: 1, 948: 1, 950: 1, 952: 1, 954: 1, 956: 1, 958: 1, 960: 1, 962: 1, 964: 1, 966: 1, 968: 1, 970: 1, 972: 1, 974: 1, 976: 1, 978: 1, 980: 1, 982: 1, 984: 1, 986: 1, 988: 1, 990: 1, 992: 1, 994: 1, 996: 1, 998: 1}\n"
     ]
    }
   ],
   "source": [
    "print evens"
   ]
  },
  {
   "cell_type": "code",
   "execution_count": 58,
   "metadata": {
    "collapsed": false
   },
   "outputs": [
    {
     "ename": "SyntaxError",
     "evalue": "invalid syntax (<ipython-input-58-c2fbcd40c44d>, line 1)",
     "output_type": "error",
     "traceback": [
      "\u001b[0;36m  File \u001b[0;32m\"<ipython-input-58-c2fbcd40c44d>\"\u001b[0;36m, line \u001b[0;32m1\u001b[0m\n\u001b[0;31m    *trailing, current = [10, 8, 7, 1, 9, 5, 10, 3]\u001b[0m\n\u001b[0m    ^\u001b[0m\n\u001b[0;31mSyntaxError\u001b[0m\u001b[0;31m:\u001b[0m invalid syntax\n"
     ]
    }
   ],
   "source": [
    "*trailing, current = [10, 8, 7, 1, 9, 5, 10, 3]"
   ]
  },
  {
   "cell_type": "code",
   "execution_count": 63,
   "metadata": {
    "collapsed": false
   },
   "outputs": [
    {
     "name": "stdout",
     "output_type": "stream",
     "text": [
      "773-555-1212\n"
     ]
    }
   ],
   "source": [
    "record = ('Dave', 'dave@example.com', ['773-555-1212', '847-555-1212'])\n",
    "name, email, phone=record\n",
    "print phone[0]"
   ]
  },
  {
   "cell_type": "code",
   "execution_count": 1,
   "metadata": {
    "collapsed": false
   },
   "outputs": [
    {
     "name": "stdout",
     "output_type": "stream",
     "text": [
      "Map:\n",
      "a1 b1\n",
      "a2 b2\n",
      "a3 None\n"
     ]
    }
   ],
   "source": [
    "a = ['a1', 'a2', 'a3']\n",
    "b = ['b1', 'b2']\n",
    "print \"Map:\"\n",
    "for x, y in map(None, a, b):\n",
    "    print x, y"
   ]
  },
  {
   "cell_type": "code",
   "execution_count": 2,
   "metadata": {
    "collapsed": false
   },
   "outputs": [
    {
     "name": "stdout",
     "output_type": "stream",
     "text": [
      "zip:\n",
      "a1 b1\n",
      "a2 b2\n"
     ]
    }
   ],
   "source": [
    "print \"zip:\"\n",
    "for x, y in zip(a, b):\n",
    "    print x, y"
   ]
  },
  {
   "cell_type": "code",
   "execution_count": 3,
   "metadata": {
    "collapsed": false
   },
   "outputs": [
    {
     "name": "stdout",
     "output_type": "stream",
     "text": [
      "list comprehesion:\n",
      "a1 b1\n",
      "a1 b2\n",
      "a2 b1\n",
      "a2 b2\n",
      "a3 b1\n",
      "a3 b2\n"
     ]
    }
   ],
   "source": [
    "print \"list comprehesion:\"\n",
    "for x, y in [(x, y) for x in a for y in b]:\n",
    "    print x, y"
   ]
  },
  {
   "cell_type": "code",
   "execution_count": 10,
   "metadata": {
    "collapsed": false
   },
   "outputs": [],
   "source": [
    "list1={'a':1, 'b':2, 'c':3}"
   ]
  },
  {
   "cell_type": "code",
   "execution_count": 11,
   "metadata": {
    "collapsed": false
   },
   "outputs": [
    {
     "data": {
      "text/plain": [
       "{'a': 1, 'b': 2, 'c': 3}"
      ]
     },
     "execution_count": 11,
     "metadata": {},
     "output_type": "execute_result"
    }
   ],
   "source": [
    "list1"
   ]
  },
  {
   "cell_type": "code",
   "execution_count": null,
   "metadata": {
    "collapsed": true
   },
   "outputs": [],
   "source": []
  }
 ],
 "metadata": {
  "kernelspec": {
   "display_name": "Python 2",
   "language": "python",
   "name": "python2"
  },
  "language_info": {
   "codemirror_mode": {
    "name": "ipython",
    "version": 2
   },
   "file_extension": ".py",
   "mimetype": "text/x-python",
   "name": "python",
   "nbconvert_exporter": "python",
   "pygments_lexer": "ipython2",
   "version": "2.7.11"
  }
 },
 "nbformat": 4,
 "nbformat_minor": 0
}
