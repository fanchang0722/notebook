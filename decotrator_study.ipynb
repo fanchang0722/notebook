{
 "cells": [
  {
   "cell_type": "code",
   "execution_count": 8,
   "metadata": {
    "collapsed": false
   },
   "outputs": [],
   "source": [
    "def foo(bar):\n",
    "    return bar+1"
   ]
  },
  {
   "cell_type": "code",
   "execution_count": 5,
   "metadata": {
    "collapsed": false
   },
   "outputs": [
    {
     "name": "stdout",
     "output_type": "stream",
     "text": [
      "foo\n"
     ]
    }
   ],
   "source": [
    "print foo.__name__"
   ]
  },
  {
   "cell_type": "code",
   "execution_count": 4,
   "metadata": {
    "collapsed": false
   },
   "outputs": [
    {
     "name": "stdout",
     "output_type": "stream",
     "text": [
      "3\n"
     ]
    }
   ],
   "source": [
    "print foo(2)"
   ]
  },
  {
   "cell_type": "code",
   "execution_count": 6,
   "metadata": {
    "collapsed": false
   },
   "outputs": [
    {
     "name": "stdout",
     "output_type": "stream",
     "text": [
      "<function foo at 0x10614bc08>\n",
      "<type 'function'>\n"
     ]
    }
   ],
   "source": [
    "print foo\n",
    "print type(foo)"
   ]
  },
  {
   "cell_type": "code",
   "execution_count": 7,
   "metadata": {
    "collapsed": true
   },
   "outputs": [],
   "source": [
    "def call_foo_with_arg(foo,arg):\n",
    "    return foo(arg)"
   ]
  },
  {
   "cell_type": "code",
   "execution_count": 9,
   "metadata": {
    "collapsed": false
   },
   "outputs": [
    {
     "name": "stdout",
     "output_type": "stream",
     "text": [
      "True\n"
     ]
    }
   ],
   "source": [
    "print foo(2)==3"
   ]
  },
  {
   "cell_type": "code",
   "execution_count": 10,
   "metadata": {
    "collapsed": false
   },
   "outputs": [
    {
     "name": "stdout",
     "output_type": "stream",
     "text": [
      "4\n"
     ]
    }
   ],
   "source": [
    "print call_foo_with_arg(foo,3)"
   ]
  },
  {
   "cell_type": "code",
   "execution_count": 3,
   "metadata": {
    "collapsed": false
   },
   "outputs": [],
   "source": [
    "def parent():\n",
    "    print(\"Printing from the parent() function.\")\n",
    "    \n",
    "    def first_child():\n",
    "        return \"Printing from the first_child() function.\"\n",
    "    \n",
    "    def second_child():\n",
    "        return \"Printing from the second_child() function.\"\n",
    "\n",
    "    print(first_child())\n",
    "    print(second_child())"
   ]
  },
  {
   "cell_type": "code",
   "execution_count": 4,
   "metadata": {
    "collapsed": false
   },
   "outputs": [
    {
     "name": "stdout",
     "output_type": "stream",
     "text": [
      "Printing from the parent() function.\n",
      "Printing from the first_child() function.\n",
      "Printing from the second_child() function.\n"
     ]
    }
   ],
   "source": [
    "parent()"
   ]
  },
  {
   "cell_type": "code",
   "execution_count": 16,
   "metadata": {
    "collapsed": false
   },
   "outputs": [
    {
     "name": "stdout",
     "output_type": "stream",
     "text": [
      "<function first_child at 0x1061bd7d0>\n",
      "<function second_child at 0x1061bdb18>\n",
      "Printing from the first_child() function.\n",
      "Printing from the second_child() function.\n"
     ]
    }
   ],
   "source": [
    "def parent(num):\n",
    "    \n",
    "    def first_child():\n",
    "        return \"Printing from the first_child() function.\"\n",
    "\n",
    "    def second_child():\n",
    "        return \"Printing from the second_child() function.\"\n",
    "\n",
    "    try:\n",
    "        assert num == 10\n",
    "        return first_child\n",
    "    except AssertionError:\n",
    "        return second_child\n",
    "\n",
    "foo = parent(10)\n",
    "bar = parent(11)\n",
    "\n",
    "print(foo)\n",
    "print(bar)\n",
    "\n",
    "print(foo())\n",
    "print(bar())"
   ]
  },
  {
   "cell_type": "code",
   "execution_count": 25,
   "metadata": {
    "collapsed": false
   },
   "outputs": [
    {
     "name": "stdout",
     "output_type": "stream",
     "text": [
      "<function second_child at 0x1061bd9b0>\n"
     ]
    }
   ],
   "source": [
    "print parent(11)"
   ]
  },
  {
   "cell_type": "code",
   "execution_count": 31,
   "metadata": {
    "collapsed": false
   },
   "outputs": [
    {
     "name": "stdout",
     "output_type": "stream",
     "text": [
      "Something is happening before some_function() is called.\n",
      "Wheee!\n",
      "Something is happening after some_function() is called.\n",
      "None\n"
     ]
    }
   ],
   "source": [
    "def my_decorator(some_function):\n",
    "    def wrapper():\n",
    "        print(\"Something is happening before some_function() is called.\")\n",
    "        some_function()\n",
    "        print(\"Something is happening after some_function() is called.\")\n",
    "    return wrapper\n",
    "\n",
    "\n",
    "def just_some_function():\n",
    "    print(\"Wheee!\")\n",
    "\n",
    "print my_decorator(just_some_function)()"
   ]
  },
  {
   "cell_type": "code",
   "execution_count": 33,
   "metadata": {
    "collapsed": false
   },
   "outputs": [
    {
     "name": "stdout",
     "output_type": "stream",
     "text": [
      "Yes!\n",
      "Wheee!\n",
      "Something is happening after some_function() is called.\n"
     ]
    }
   ],
   "source": [
    "def my_decorator(some_function):\n",
    "    def wrapper():\n",
    "        num = 10\n",
    "        if num == 10:print(\"Yes!\")\n",
    "        else:print(\"No!\")\n",
    "        some_function()\n",
    "        print(\"Something is happening after some_function() is called.\")\n",
    "    return wrapper\n",
    "\n",
    "\n",
    "def just_some_function():\n",
    "    print(\"Wheee!\")\n",
    "\n",
    "my_decorator(just_some_function)()"
   ]
  },
  {
   "cell_type": "code",
   "execution_count": 34,
   "metadata": {
    "collapsed": false
   },
   "outputs": [
    {
     "name": "stdout",
     "output_type": "stream",
     "text": [
      "Yes!\n",
      "Wheee!\n",
      "Something is happening after some_function() is called.\n"
     ]
    }
   ],
   "source": [
    "def my_decorator(some_function):\n",
    "    def wrapper():\n",
    "        num = 10\n",
    "        if num == 10:\n",
    "            print(\"Yes!\")\n",
    "        else:\n",
    "            print(\"No!\")\n",
    "        some_function()\n",
    "        print(\"Something is happening after some_function() is called.\")\n",
    "    return wrapper\n",
    "\n",
    "\n",
    "@my_decorator\n",
    "def just_some_function():\n",
    "    print(\"Wheee!\")\n",
    "\n",
    "just_some_function()"
   ]
  },
  {
   "cell_type": "code",
   "execution_count": 62,
   "metadata": {
    "collapsed": false
   },
   "outputs": [
    {
     "name": "stdout",
     "output_type": "stream",
     "text": [
      "\n",
      "Sum of all the numbers: 499500\n",
      "Time it took to run my_function: 185.966491699 us \n",
      "\n"
     ]
    }
   ],
   "source": [
    "import time\n",
    "\n",
    "\n",
    "def timing_function(some_function):\n",
    "\n",
    "    \"\"\"\n",
    "    Outputs the time a function takes\n",
    "    to execute.\n",
    "    \"\"\"\n",
    "\n",
    "    def wrapper():\n",
    "        t1 = time.time()\n",
    "        some_function()\n",
    "        t2 = time.time()\n",
    "        return \"Time it took to run {0}: {1} us \\n\".format(some_function.__name__, 1e6*(t2 - t1))\n",
    "    return wrapper\n",
    "\n",
    "\n",
    "@timing_function\n",
    "def my_function():\n",
    "    num_list = []\n",
    "    for num in (range(0, 1000)):\n",
    "        num_list.append(num)\n",
    "    print(\"\\nSum of all the numbers: \" + str((sum(num_list))))\n",
    "\n",
    "print my_function()"
   ]
  },
  {
   "cell_type": "code",
   "execution_count": 67,
   "metadata": {
    "collapsed": false
   },
   "outputs": [
    {
     "name": "stdout",
     "output_type": "stream",
     "text": [
      "(1457542066.222926, 2.231974)\n",
      "(1457542066.223007, 2.23206)\n"
     ]
    }
   ],
   "source": [
    "print(time.time(), time.clock())\n",
    "#time.sleep(1)\n",
    "print(time.time(), time.clock())"
   ]
  },
  {
   "cell_type": "code",
   "execution_count": 68,
   "metadata": {
    "collapsed": false
   },
   "outputs": [
    {
     "name": "stdout",
     "output_type": "stream",
     "text": [
      "222\n",
      "1\n",
      "2\n",
      "3\n",
      "4\n",
      "5\n"
     ]
    }
   ],
   "source": [
    "from time import sleep\n",
    "\n",
    "\n",
    "def sleep_decorator(function):\n",
    "    \"\"\"\n",
    "    Limits how fast the function is\n",
    "    called.\n",
    "    \"\"\"\n",
    "    def wrapper(*args, **kwargs):\n",
    "        sleep(2)\n",
    "        return function(*args, **kwargs)\n",
    "    return wrapper\n",
    "\n",
    "\n",
    "@sleep_decorator\n",
    "def print_number(num):\n",
    "    return num\n",
    "\n",
    "print(print_number(222))\n",
    "for num in range(1, 6):\n",
    "    print(print_number(num))"
   ]
  },
  {
   "cell_type": "code",
   "execution_count": 80,
   "metadata": {
    "collapsed": false
   },
   "outputs": [
    {
     "name": "stdout",
     "output_type": "stream",
     "text": [
      "222\n",
      "1\n",
      "2\n",
      "3\n",
      "4\n",
      "5\n"
     ]
    }
   ],
   "source": [
    "def sleep_decorator(function):\n",
    "    \"\"\"\n",
    "    Limits how fast the function is\n",
    "    called.\n",
    "    \"\"\"\n",
    "    def wrapper(*args, **kwargs):\n",
    "        sleep(.5)\n",
    "        return function(*args, **kwargs)\n",
    "    return wrapper\n",
    "\n",
    "\n",
    "@sleep_decorator\n",
    "def print_number(num):\n",
    "    return num\n",
    "\n",
    "print(print_number(222))\n",
    "for num in range(1, 6):\n",
    "    print(print_number(num))"
   ]
  },
  {
   "cell_type": "code",
   "execution_count": null,
   "metadata": {
    "collapsed": true
   },
   "outputs": [],
   "source": []
  }
 ],
 "metadata": {
  "kernelspec": {
   "display_name": "Python 2",
   "language": "python",
   "name": "python2"
  },
  "language_info": {
   "codemirror_mode": {
    "name": "ipython",
    "version": 2
   },
   "file_extension": ".py",
   "mimetype": "text/x-python",
   "name": "python",
   "nbconvert_exporter": "python",
   "pygments_lexer": "ipython2",
   "version": "2.7.11"
  }
 },
 "nbformat": 4,
 "nbformat_minor": 0
}
