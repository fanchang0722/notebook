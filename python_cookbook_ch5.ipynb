{
 "cells": [
  {
   "cell_type": "code",
   "execution_count": 4,
   "metadata": {
    "collapsed": false
   },
   "outputs": [
    {
     "name": "stdout",
     "output_type": "stream",
     "text": [
      "<__main__.SomeName instance at 0x1062d5170>\n"
     ]
    }
   ],
   "source": [
    "class SomeName:\n",
    "    \"\"\"You ususally define data and code here\"\"\"\n",
    "\n",
    "asInstance=SomeName()\n",
    "print asInstance"
   ]
  },
  {
   "cell_type": "code",
   "execution_count": 11,
   "metadata": {
    "collapsed": false
   },
   "outputs": [],
   "source": [
    "class Behave(object):\n",
    "    def __init__(self, name):\n",
    "        self.name = name\n",
    "    \n",
    "    def once(self):\n",
    "        print \"Hello, \", self.name\n",
    "        \n",
    "    def rename(self,newName):\n",
    "        self.name = newName\n",
    "        \n",
    "    def repeat(self, N):\n",
    "        for i in range(N):self.once()"
   ]
  },
  {
   "cell_type": "code",
   "execution_count": 18,
   "metadata": {
    "collapsed": false
   },
   "outputs": [
    {
     "name": "stdout",
     "output_type": "stream",
     "text": [
      "Queen Bee\n",
      "Hello,  Queen Bee\n",
      "Hello,  Queen Bee\n",
      "Hello,  Queen Bee\n"
     ]
    }
   ],
   "source": [
    "beehive=Behave(\"Queen Bee\")\n",
    "print beehive.name\n",
    "beehive.repeat(3)"
   ]
  },
  {
   "cell_type": "code",
   "execution_count": 20,
   "metadata": {
    "collapsed": false
   },
   "outputs": [
    {
     "name": "stdout",
     "output_type": "stream",
     "text": [
      "Hello,  Stinger\n"
     ]
    }
   ],
   "source": [
    "beehive.rename(\"Stinger\")\n",
    "beehive.once()"
   ]
  },
  {
   "cell_type": "code",
   "execution_count": 21,
   "metadata": {
    "collapsed": false
   },
   "outputs": [
    {
     "name": "stdout",
     "output_type": "stream",
     "text": [
      "Stinger\n"
     ]
    }
   ],
   "source": [
    "print beehive.name"
   ]
  },
  {
   "cell_type": "code",
   "execution_count": 22,
   "metadata": {
    "collapsed": false
   },
   "outputs": [
    {
     "name": "stdout",
     "output_type": "stream",
     "text": [
      "Hello,  Stinger\n",
      "Hello,  Stinger\n"
     ]
    }
   ],
   "source": [
    "beehive.repeat(2)"
   ]
  },
  {
   "cell_type": "code",
   "execution_count": null,
   "metadata": {
    "collapsed": true
   },
   "outputs": [],
   "source": []
  }
 ],
 "metadata": {
  "kernelspec": {
   "display_name": "Python 2",
   "language": "python",
   "name": "python2"
  },
  "language_info": {
   "codemirror_mode": {
    "name": "ipython",
    "version": 2
   },
   "file_extension": ".py",
   "mimetype": "text/x-python",
   "name": "python",
   "nbconvert_exporter": "python",
   "pygments_lexer": "ipython2",
   "version": "2.7.11"
  }
 },
 "nbformat": 4,
 "nbformat_minor": 0
}
