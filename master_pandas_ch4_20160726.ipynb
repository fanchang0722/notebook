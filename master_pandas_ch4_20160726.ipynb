{
 "cells": [
  {
   "cell_type": "code",
   "execution_count": 1,
   "metadata": {
    "collapsed": false,
    "deletable": true,
    "editable": true
   },
   "outputs": [],
   "source": [
    "import numpy as np\n",
    "import pandas as pd\n",
    "import matplotlib.pyplot as plt\n",
    "import seaborn as sns"
   ]
  },
  {
   "cell_type": "code",
   "execution_count": 2,
   "metadata": {
    "collapsed": true,
    "deletable": true,
    "editable": true
   },
   "outputs": [],
   "source": [
    "SpotCrudePrices_2013_Data={\n",
    "                'U.K. Brent' : {'2013-Q1':112.9, '2013-Q2':103.0, '2013-Q3':110.1, '2013-Q4':109.4},\n",
    "                'Dubai':{'2013-Q1':108.1, '2013-Q2':100.8, '2013-Q3':106.1,'2013-Q4':106.7},\n",
    "                'West Texas Intermediate':{'2013-Q1':94.4, '2013-Q2':94.2, '2013-Q3':105.8,'2013-Q4':97.4}}"
   ]
  },
  {
   "cell_type": "code",
   "execution_count": 3,
   "metadata": {
    "collapsed": false,
    "deletable": true,
    "editable": true
   },
   "outputs": [
    {
     "data": {
      "text/html": [
       "<div>\n",
       "<table border=\"1\" class=\"dataframe\">\n",
       "  <thead>\n",
       "    <tr style=\"text-align: right;\">\n",
       "      <th></th>\n",
       "      <th>Dubai</th>\n",
       "      <th>U.K. Brent</th>\n",
       "      <th>West Texas Intermediate</th>\n",
       "    </tr>\n",
       "  </thead>\n",
       "  <tbody>\n",
       "    <tr>\n",
       "      <th>2013-Q1</th>\n",
       "      <td>108.1</td>\n",
       "      <td>112.9</td>\n",
       "      <td>94.4</td>\n",
       "    </tr>\n",
       "    <tr>\n",
       "      <th>2013-Q2</th>\n",
       "      <td>100.8</td>\n",
       "      <td>103.0</td>\n",
       "      <td>94.2</td>\n",
       "    </tr>\n",
       "    <tr>\n",
       "      <th>2013-Q3</th>\n",
       "      <td>106.1</td>\n",
       "      <td>110.1</td>\n",
       "      <td>105.8</td>\n",
       "    </tr>\n",
       "    <tr>\n",
       "      <th>2013-Q4</th>\n",
       "      <td>106.7</td>\n",
       "      <td>109.4</td>\n",
       "      <td>97.4</td>\n",
       "    </tr>\n",
       "  </tbody>\n",
       "</table>\n",
       "</div>"
      ],
      "text/plain": [
       "         Dubai  U.K. Brent  West Texas Intermediate\n",
       "2013-Q1  108.1       112.9                     94.4\n",
       "2013-Q2  100.8       103.0                     94.2\n",
       "2013-Q3  106.1       110.1                    105.8\n",
       "2013-Q4  106.7       109.4                     97.4"
      ]
     },
     "execution_count": 3,
     "metadata": {},
     "output_type": "execute_result"
    }
   ],
   "source": [
    "SpotCrudePrices_2013=pd.DataFrame(SpotCrudePrices_2013_Data)\n",
    "SpotCrudePrices_2013"
   ]
  },
  {
   "cell_type": "code",
   "execution_count": 4,
   "metadata": {
    "collapsed": false
   },
   "outputs": [
    {
     "data": {
      "text/plain": [
       "108.09999999999999"
      ]
     },
     "execution_count": 4,
     "metadata": {},
     "output_type": "execute_result"
    }
   ],
   "source": [
    "SpotCrudePrices_2013.at['2013-Q1','Dubai']"
   ]
  },
  {
   "cell_type": "code",
   "execution_count": 5,
   "metadata": {
    "collapsed": false
   },
   "outputs": [
    {
     "data": {
      "text/plain": [
       "'West Texas Intermediate'"
      ]
     },
     "execution_count": 5,
     "metadata": {},
     "output_type": "execute_result"
    }
   ],
   "source": [
    "SpotCrudePrices_2013.columns[2]"
   ]
  },
  {
   "cell_type": "code",
   "execution_count": 6,
   "metadata": {
    "collapsed": false,
    "deletable": true,
    "editable": true
   },
   "outputs": [
    {
     "data": {
      "image/png": "[encoded data removed]",
      "text/plain": [
       "<matplotlib.figure.Figure at 0x11b178dd0>"
      ]
     },
     "metadata": {},
     "output_type": "display_data"
    }
   ],
   "source": [
    "idx=SpotCrudePrices_2013.columns\n",
    "SpotCrudePrices_2013[SpotCrudePrices_2013.columns[0:2]]\n",
    "SpotCrudePrices_2013.boxplot()\n",
    "plt.show()"
   ]
  },
  {
   "cell_type": "code",
   "execution_count": 7,
   "metadata": {
    "collapsed": false,
    "deletable": true,
    "editable": true
   },
   "outputs": [
    {
     "data": {
      "text/plain": [
       "2013-Q1    108.1\n",
       "2013-Q2    100.8\n",
       "2013-Q3    106.1\n",
       "2013-Q4    106.7\n",
       "Name: Dubai, dtype: float64"
      ]
     },
     "execution_count": 7,
     "metadata": {},
     "output_type": "execute_result"
    }
   ],
   "source": [
    "dubaiPrices=SpotCrudePrices_2013['Dubai'];\n",
    "dubaiPrices"
   ]
  },
  {
   "cell_type": "code",
   "execution_count": 8,
   "metadata": {
    "collapsed": false,
    "deletable": true,
    "editable": true
   },
   "outputs": [
    {
     "data": {
      "text/html": [
       "<div>\n",
       "<table border=\"1\" class=\"dataframe\">\n",
       "  <thead>\n",
       "    <tr style=\"text-align: right;\">\n",
       "      <th></th>\n",
       "      <th>2013-Q1</th>\n",
       "    </tr>\n",
       "  </thead>\n",
       "  <tbody>\n",
       "    <tr>\n",
       "      <th>Dubai</th>\n",
       "      <td>108.1</td>\n",
       "    </tr>\n",
       "    <tr>\n",
       "      <th>U.K. Brent</th>\n",
       "      <td>112.9</td>\n",
       "    </tr>\n",
       "    <tr>\n",
       "      <th>West Texas Intermediate</th>\n",
       "      <td>94.4</td>\n",
       "    </tr>\n",
       "  </tbody>\n",
       "</table>\n",
       "</div>"
      ],
      "text/plain": [
       "                         2013-Q1\n",
       "Dubai                      108.1\n",
       "U.K. Brent                 112.9\n",
       "West Texas Intermediate     94.4"
      ]
     },
     "execution_count": 8,
     "metadata": {},
     "output_type": "execute_result"
    }
   ],
   "source": [
    "SpotCrudePrices_2013.T[['2013-Q1']]"
   ]
  },
  {
   "cell_type": "code",
   "execution_count": 9,
   "metadata": {
    "collapsed": false,
    "deletable": true,
    "editable": true
   },
   "outputs": [
    {
     "data": {
      "text/plain": [
       "pandas.core.series.Series"
      ]
     },
     "execution_count": 9,
     "metadata": {},
     "output_type": "execute_result"
    }
   ],
   "source": [
    "type(SpotCrudePrices_2013.ix[0])"
   ]
  },
  {
   "cell_type": "code",
   "execution_count": 10,
   "metadata": {
    "collapsed": false,
    "deletable": true,
    "editable": true
   },
   "outputs": [
    {
     "data": {
      "text/plain": [
       "{'Avg Low Temp. (F)': [27, 29, 35, 45, 42, 32],\n",
       " 'Avg Precip. (cm)': [17.8, 22.4, 9.1, 1.5, 0.8, 12.2],\n",
       " 'Avg SnowDays': [4.0, 2.7, 1.7, 0.2, 0.2, 2.3],\n",
       " 'Months': ['January', 'February', 'March', 'April', 'November', 'December']}"
      ]
     },
     "execution_count": 10,
     "metadata": {},
     "output_type": "execute_result"
    }
   ],
   "source": [
    "NYC_SnowAvgsData={'Months' :\n",
    "['January','February','March', \n",
    "'April', 'November', 'December'],\n",
    "'Avg SnowDays' : [4.0,2.7,1.7,0.2,0.2,2.3],\n",
    "'Avg Precip. (cm)' : [17.8,22.4,9.1,1.5,0.8,12.2],\n",
    "'Avg Low Temp. (F)' : [27,29,35,45,42,32] }\n",
    "NYC_SnowAvgsData"
   ]
  },
  {
   "cell_type": "code",
   "execution_count": 11,
   "metadata": {
    "collapsed": false,
    "deletable": true,
    "editable": true
   },
   "outputs": [
    {
     "data": {
      "text/html": [
       "<div>\n",
       "<table border=\"1\" class=\"dataframe\">\n",
       "  <thead>\n",
       "    <tr style=\"text-align: right;\">\n",
       "      <th></th>\n",
       "      <th>Avg SnowDays</th>\n",
       "      <th>Avg Precip. (cm)</th>\n",
       "      <th>Avg Low Temp. (F)</th>\n",
       "    </tr>\n",
       "  </thead>\n",
       "  <tbody>\n",
       "    <tr>\n",
       "      <th>January</th>\n",
       "      <td>4.0</td>\n",
       "      <td>17.8</td>\n",
       "      <td>27</td>\n",
       "    </tr>\n",
       "    <tr>\n",
       "      <th>February</th>\n",
       "      <td>2.7</td>\n",
       "      <td>22.4</td>\n",
       "      <td>29</td>\n",
       "    </tr>\n",
       "    <tr>\n",
       "      <th>March</th>\n",
       "      <td>1.7</td>\n",
       "      <td>9.1</td>\n",
       "      <td>35</td>\n",
       "    </tr>\n",
       "    <tr>\n",
       "      <th>April</th>\n",
       "      <td>0.2</td>\n",
       "      <td>1.5</td>\n",
       "      <td>45</td>\n",
       "    </tr>\n",
       "    <tr>\n",
       "      <th>November</th>\n",
       "      <td>0.2</td>\n",
       "      <td>0.8</td>\n",
       "      <td>42</td>\n",
       "    </tr>\n",
       "    <tr>\n",
       "      <th>December</th>\n",
       "      <td>2.3</td>\n",
       "      <td>12.2</td>\n",
       "      <td>32</td>\n",
       "    </tr>\n",
       "  </tbody>\n",
       "</table>\n",
       "</div>"
      ],
      "text/plain": [
       "          Avg SnowDays  Avg Precip. (cm)  Avg Low Temp. (F)\n",
       "January            4.0              17.8                 27\n",
       "February           2.7              22.4                 29\n",
       "March              1.7               9.1                 35\n",
       "April              0.2               1.5                 45\n",
       "November           0.2               0.8                 42\n",
       "December           2.3              12.2                 32"
      ]
     },
     "execution_count": 11,
     "metadata": {},
     "output_type": "execute_result"
    }
   ],
   "source": [
    "NYC_SnowAvgs=pd.DataFrame(NYC_SnowAvgsData,index=NYC_SnowAvgsData['Months'],\n",
    "                         columns=['Avg SnowDays','Avg Precip. (cm)','Avg Low Temp. (F)' ]);\n",
    "NYC_SnowAvgs"
   ]
  },
  {
   "cell_type": "code",
   "execution_count": 12,
   "metadata": {
    "collapsed": false,
    "deletable": true,
    "editable": true
   },
   "outputs": [
    {
     "data": {
      "text/html": [
       "<div>\n",
       "<table border=\"1\" class=\"dataframe\">\n",
       "  <thead>\n",
       "    <tr style=\"text-align: right;\">\n",
       "      <th></th>\n",
       "      <th>Avg SnowDays</th>\n",
       "      <th>Avg Precip. (cm)</th>\n",
       "      <th>Avg Low Temp. (F)</th>\n",
       "    </tr>\n",
       "  </thead>\n",
       "  <tbody>\n",
       "    <tr>\n",
       "      <th>February</th>\n",
       "      <td>2.7</td>\n",
       "      <td>22.4</td>\n",
       "      <td>29</td>\n",
       "    </tr>\n",
       "    <tr>\n",
       "      <th>March</th>\n",
       "      <td>1.7</td>\n",
       "      <td>9.1</td>\n",
       "      <td>35</td>\n",
       "    </tr>\n",
       "  </tbody>\n",
       "</table>\n",
       "</div>"
      ],
      "text/plain": [
       "          Avg SnowDays  Avg Precip. (cm)  Avg Low Temp. (F)\n",
       "February           2.7              22.4                 29\n",
       "March              1.7               9.1                 35"
      ]
     },
     "execution_count": 12,
     "metadata": {},
     "output_type": "execute_result"
    }
   ],
   "source": [
    "NYC_SnowAvgs.iloc[1:3]"
   ]
  },
  {
   "cell_type": "code",
   "execution_count": 13,
   "metadata": {
    "collapsed": false,
    "deletable": true,
    "editable": true
   },
   "outputs": [
    {
     "data": {
      "text/html": [
       "<div>\n",
       "<table border=\"1\" class=\"dataframe\">\n",
       "  <thead>\n",
       "    <tr style=\"text-align: right;\">\n",
       "      <th></th>\n",
       "      <th>Avg SnowDays</th>\n",
       "      <th>Avg Precip. (cm)</th>\n",
       "      <th>Avg Low Temp. (F)</th>\n",
       "    </tr>\n",
       "  </thead>\n",
       "  <tbody>\n",
       "    <tr>\n",
       "      <th>January</th>\n",
       "      <td>4.0</td>\n",
       "      <td>17.8</td>\n",
       "      <td>27</td>\n",
       "    </tr>\n",
       "    <tr>\n",
       "      <th>April</th>\n",
       "      <td>0.2</td>\n",
       "      <td>1.5</td>\n",
       "      <td>45</td>\n",
       "    </tr>\n",
       "  </tbody>\n",
       "</table>\n",
       "</div>"
      ],
      "text/plain": [
       "         Avg SnowDays  Avg Precip. (cm)  Avg Low Temp. (F)\n",
       "January           4.0              17.8                 27\n",
       "April             0.2               1.5                 45"
      ]
     },
     "execution_count": 13,
     "metadata": {},
     "output_type": "execute_result"
    }
   ],
   "source": [
    "NYC_SnowAvgs.loc[['January','April']]"
   ]
  },
  {
   "cell_type": "code",
   "execution_count": 14,
   "metadata": {
    "collapsed": false,
    "deletable": true,
    "editable": true
   },
   "outputs": [
    {
     "data": {
      "text/plain": [
       "January     4.0\n",
       "February    2.7\n",
       "March       1.7\n",
       "April       0.2\n",
       "November    0.2\n",
       "December    2.3\n",
       "Name: Avg SnowDays, dtype: float64"
      ]
     },
     "execution_count": 14,
     "metadata": {},
     "output_type": "execute_result"
    }
   ],
   "source": [
    "NYC_SnowAvgs['Avg SnowDays']"
   ]
  },
  {
   "cell_type": "code",
   "execution_count": 15,
   "metadata": {
    "collapsed": false,
    "deletable": true,
    "editable": true
   },
   "outputs": [
    {
     "data": {
      "text/plain": [
       "Index([u'Avg SnowDays', u'Avg Precip. (cm)', u'Avg Low Temp. (F)'], dtype='object')"
      ]
     },
     "execution_count": 15,
     "metadata": {},
     "output_type": "execute_result"
    }
   ],
   "source": [
    "NYC_SnowAvgs.columns"
   ]
  },
  {
   "cell_type": "code",
   "execution_count": 16,
   "metadata": {
    "collapsed": false,
    "deletable": true,
    "editable": true
   },
   "outputs": [
    {
     "data": {
      "text/plain": [
       "Index([u'January', u'February', u'March', u'April', u'November', u'December'], dtype='object')"
      ]
     },
     "execution_count": 16,
     "metadata": {},
     "output_type": "execute_result"
    }
   ],
   "source": [
    "NYC_SnowAvgs.index"
   ]
  },
  {
   "cell_type": "code",
   "execution_count": 17,
   "metadata": {
    "collapsed": true,
    "deletable": true,
    "editable": true
   },
   "outputs": [],
   "source": [
    "import scipy.constants as phys\n",
    "import math"
   ]
  },
  {
   "cell_type": "code",
   "execution_count": 18,
   "metadata": {
    "collapsed": false,
    "deletable": true,
    "editable": true
   },
   "outputs": [
    {
     "data": {
      "text/html": [
       "<div>\n",
       "<table border=\"1\" class=\"dataframe\">\n",
       "  <thead>\n",
       "    <tr style=\"text-align: right;\">\n",
       "      <th></th>\n",
       "      <th>0</th>\n",
       "      <th>1</th>\n",
       "      <th>2</th>\n",
       "    </tr>\n",
       "  </thead>\n",
       "  <tbody>\n",
       "    <tr>\n",
       "      <th>0</th>\n",
       "      <td>3.141593e+00</td>\n",
       "      <td>1.224647e-16</td>\n",
       "      <td>-1.000000e+00</td>\n",
       "    </tr>\n",
       "    <tr>\n",
       "      <th>5</th>\n",
       "      <td>2.718282e+00</td>\n",
       "      <td>1.000000e+00</td>\n",
       "      <td>1.618034e+00</td>\n",
       "    </tr>\n",
       "    <tr>\n",
       "      <th>10</th>\n",
       "      <td>2.997925e+08</td>\n",
       "      <td>9.806650e+00</td>\n",
       "      <td>1.602177e-19</td>\n",
       "    </tr>\n",
       "    <tr>\n",
       "      <th>15</th>\n",
       "      <td>9.109384e-31</td>\n",
       "      <td>1.672622e-27</td>\n",
       "      <td>1.674927e-27</td>\n",
       "    </tr>\n",
       "  </tbody>\n",
       "</table>\n",
       "</div>"
      ],
      "text/plain": [
       "               0             1             2\n",
       "0   3.141593e+00  1.224647e-16 -1.000000e+00\n",
       "5   2.718282e+00  1.000000e+00  1.618034e+00\n",
       "10  2.997925e+08  9.806650e+00  1.602177e-19\n",
       "15  9.109384e-31  1.672622e-27  1.674927e-27"
      ]
     },
     "execution_count": 18,
     "metadata": {},
     "output_type": "execute_result"
    }
   ],
   "source": [
    "sci_values=pd.DataFrame([[math.pi, math.sin(math.pi), \n",
    "                                    math.cos(math.pi)],\n",
    "                                   [math.e,math.log(math.e), \n",
    "                                    phys.golden],\n",
    "                                   [phys.c,phys.g,phys.e],\n",
    "                                   [phys.m_e,phys.m_p,phys.m_n]],\n",
    "                                   index=list(range(0,20,5)))\n",
    "sci_values"
   ]
  },
  {
   "cell_type": "code",
   "execution_count": 19,
   "metadata": {
    "collapsed": false,
    "deletable": true,
    "editable": true
   },
   "outputs": [
    {
     "data": {
      "text/html": [
       "<div>\n",
       "<table border=\"1\" class=\"dataframe\">\n",
       "  <thead>\n",
       "    <tr style=\"text-align: right;\">\n",
       "      <th></th>\n",
       "      <th>TradingDate</th>\n",
       "      <th>Nasdaq</th>\n",
       "      <th>S&amp;P 500</th>\n",
       "      <th>Russell 2000</th>\n",
       "    </tr>\n",
       "  </thead>\n",
       "  <tbody>\n",
       "    <tr>\n",
       "      <th>0</th>\n",
       "      <td>2014/01/30</td>\n",
       "      <td>4123.13</td>\n",
       "      <td>1794.19</td>\n",
       "      <td>1139.36</td>\n",
       "    </tr>\n",
       "    <tr>\n",
       "      <th>1</th>\n",
       "      <td>2014/01/31</td>\n",
       "      <td>4103.88</td>\n",
       "      <td>1782.59</td>\n",
       "      <td>1130.88</td>\n",
       "    </tr>\n",
       "    <tr>\n",
       "      <th>2</th>\n",
       "      <td>2014/02/03</td>\n",
       "      <td>3996.96</td>\n",
       "      <td>1741.89</td>\n",
       "      <td>1094.58</td>\n",
       "    </tr>\n",
       "    <tr>\n",
       "      <th>3</th>\n",
       "      <td>2014/02/04</td>\n",
       "      <td>4031.52</td>\n",
       "      <td>1755.20</td>\n",
       "      <td>1102.84</td>\n",
       "    </tr>\n",
       "    <tr>\n",
       "      <th>4</th>\n",
       "      <td>2014/02/05</td>\n",
       "      <td>4011.55</td>\n",
       "      <td>1751.64</td>\n",
       "      <td>1093.59</td>\n",
       "    </tr>\n",
       "    <tr>\n",
       "      <th>5</th>\n",
       "      <td>2014/02/06</td>\n",
       "      <td>4057.12</td>\n",
       "      <td>1773.43</td>\n",
       "      <td>1103.93</td>\n",
       "    </tr>\n",
       "  </tbody>\n",
       "</table>\n",
       "</div>"
      ],
      "text/plain": [
       "  TradingDate   Nasdaq  S&P 500  Russell 2000\n",
       "0  2014/01/30  4123.13  1794.19       1139.36\n",
       "1  2014/01/31  4103.88  1782.59       1130.88\n",
       "2  2014/02/03  3996.96  1741.89       1094.58\n",
       "3  2014/02/04  4031.52  1755.20       1102.84\n",
       "4  2014/02/05  4011.55  1751.64       1093.59\n",
       "5  2014/02/06  4057.12  1773.43       1103.93"
      ]
     },
     "execution_count": 19,
     "metadata": {},
     "output_type": "execute_result"
    }
   ],
   "source": [
    "stockIndexDataDF=pd.read_csv('stock_index_closing.csv');\n",
    "stockIndexDataDF"
   ]
  },
  {
   "cell_type": "code",
   "execution_count": 20,
   "metadata": {
    "collapsed": false,
    "deletable": true,
    "editable": true
   },
   "outputs": [
    {
     "data": {
      "text/html": [
       "<div>\n",
       "<table border=\"1\" class=\"dataframe\">\n",
       "  <thead>\n",
       "    <tr style=\"text-align: right;\">\n",
       "      <th></th>\n",
       "      <th>Nasdaq</th>\n",
       "      <th>S&amp;P 500</th>\n",
       "      <th>Russell 2000</th>\n",
       "    </tr>\n",
       "    <tr>\n",
       "      <th>TradingDate</th>\n",
       "      <th></th>\n",
       "      <th></th>\n",
       "      <th></th>\n",
       "    </tr>\n",
       "  </thead>\n",
       "  <tbody>\n",
       "    <tr>\n",
       "      <th>2014/01/30</th>\n",
       "      <td>4123.13</td>\n",
       "      <td>1794.19</td>\n",
       "      <td>1139.36</td>\n",
       "    </tr>\n",
       "    <tr>\n",
       "      <th>2014/01/31</th>\n",
       "      <td>4103.88</td>\n",
       "      <td>1782.59</td>\n",
       "      <td>1130.88</td>\n",
       "    </tr>\n",
       "    <tr>\n",
       "      <th>2014/02/03</th>\n",
       "      <td>3996.96</td>\n",
       "      <td>1741.89</td>\n",
       "      <td>1094.58</td>\n",
       "    </tr>\n",
       "    <tr>\n",
       "      <th>2014/02/04</th>\n",
       "      <td>4031.52</td>\n",
       "      <td>1755.20</td>\n",
       "      <td>1102.84</td>\n",
       "    </tr>\n",
       "    <tr>\n",
       "      <th>2014/02/05</th>\n",
       "      <td>4011.55</td>\n",
       "      <td>1751.64</td>\n",
       "      <td>1093.59</td>\n",
       "    </tr>\n",
       "    <tr>\n",
       "      <th>2014/02/06</th>\n",
       "      <td>4057.12</td>\n",
       "      <td>1773.43</td>\n",
       "      <td>1103.93</td>\n",
       "    </tr>\n",
       "  </tbody>\n",
       "</table>\n",
       "</div>"
      ],
      "text/plain": [
       "              Nasdaq  S&P 500  Russell 2000\n",
       "TradingDate                                \n",
       "2014/01/30   4123.13  1794.19       1139.36\n",
       "2014/01/31   4103.88  1782.59       1130.88\n",
       "2014/02/03   3996.96  1741.89       1094.58\n",
       "2014/02/04   4031.52  1755.20       1102.84\n",
       "2014/02/05   4011.55  1751.64       1093.59\n",
       "2014/02/06   4057.12  1773.43       1103.93"
      ]
     },
     "execution_count": 20,
     "metadata": {},
     "output_type": "execute_result"
    }
   ],
   "source": [
    "stockIndexDataDF=stockIndexDataDF.set_index('TradingDate');\n",
    "stockIndexDataDF"
   ]
  },
  {
   "cell_type": "code",
   "execution_count": 21,
   "metadata": {
    "collapsed": false,
    "deletable": true,
    "editable": true
   },
   "outputs": [
    {
     "data": {
      "text/html": [
       "<div>\n",
       "<table border=\"1\" class=\"dataframe\">\n",
       "  <thead>\n",
       "    <tr style=\"text-align: right;\">\n",
       "      <th></th>\n",
       "      <th>Nasdaq</th>\n",
       "      <th>S&amp;P 500</th>\n",
       "      <th>Russell 2000</th>\n",
       "    </tr>\n",
       "    <tr>\n",
       "      <th>TradingDate</th>\n",
       "      <th></th>\n",
       "      <th></th>\n",
       "      <th></th>\n",
       "    </tr>\n",
       "  </thead>\n",
       "  <tbody>\n",
       "    <tr>\n",
       "      <th>2014/01/30</th>\n",
       "      <td>4123.13</td>\n",
       "      <td>1794.19</td>\n",
       "      <td>1139.36</td>\n",
       "    </tr>\n",
       "    <tr>\n",
       "      <th>2014/01/31</th>\n",
       "      <td>4103.88</td>\n",
       "      <td>1782.59</td>\n",
       "      <td>1130.88</td>\n",
       "    </tr>\n",
       "    <tr>\n",
       "      <th>2014/02/04</th>\n",
       "      <td>4031.52</td>\n",
       "      <td>1755.20</td>\n",
       "      <td>1102.84</td>\n",
       "    </tr>\n",
       "    <tr>\n",
       "      <th>2014/02/06</th>\n",
       "      <td>4057.12</td>\n",
       "      <td>1773.43</td>\n",
       "      <td>1103.93</td>\n",
       "    </tr>\n",
       "  </tbody>\n",
       "</table>\n",
       "</div>"
      ],
      "text/plain": [
       "              Nasdaq  S&P 500  Russell 2000\n",
       "TradingDate                                \n",
       "2014/01/30   4123.13  1794.19       1139.36\n",
       "2014/01/31   4103.88  1782.59       1130.88\n",
       "2014/02/04   4031.52  1755.20       1102.84\n",
       "2014/02/06   4057.12  1773.43       1103.93"
      ]
     },
     "execution_count": 21,
     "metadata": {},
     "output_type": "execute_result"
    }
   ],
   "source": [
    "stockIndexDataDF.ix[stockIndexDataDF['Russell 2000']>1100]"
   ]
  },
  {
   "cell_type": "code",
   "execution_count": 22,
   "metadata": {
    "collapsed": false,
    "deletable": true,
    "editable": true
   },
   "outputs": [],
   "source": [
    "# sharesIndexDF=sharesIndexDataDF.set_index(['TradingDate','PriceType'])"
   ]
  },
  {
   "cell_type": "code",
   "execution_count": 23,
   "metadata": {
    "collapsed": false,
    "deletable": true,
    "editable": true
   },
   "outputs": [],
   "source": [
    "# sharesIndexDF"
   ]
  },
  {
   "cell_type": "code",
   "execution_count": 24,
   "metadata": {
    "collapsed": false,
    "deletable": true,
    "editable": true
   },
   "outputs": [],
   "source": [
    "# mIndex=sharesIndexDF.index;\n",
    "# mIndex"
   ]
  },
  {
   "cell_type": "code",
   "execution_count": 25,
   "metadata": {
    "collapsed": false,
    "deletable": true,
    "editable": true
   },
   "outputs": [],
   "source": [
    "# sharesIndexDF.ix[0:4]['Nasdaq']"
   ]
  },
  {
   "cell_type": "code",
   "execution_count": 26,
   "metadata": {
    "collapsed": false,
    "deletable": true,
    "editable": true
   },
   "outputs": [],
   "source": [
    "# sharesIndexDF.ix[['2014/02/21','2014/02/24']]"
   ]
  },
  {
   "cell_type": "code",
   "execution_count": 27,
   "metadata": {
    "collapsed": false,
    "deletable": true,
    "editable": true
   },
   "outputs": [],
   "source": [
    "# sharesIndexDF.xs('open',level='PriceType')"
   ]
  },
  {
   "cell_type": "code",
   "execution_count": 28,
   "metadata": {
    "collapsed": false,
    "deletable": true,
    "editable": true
   },
   "outputs": [],
   "source": [
    "# sharesIndexDF[:7].swaplevel(0, 1, axis=0)"
   ]
  },
  {
   "cell_type": "code",
   "execution_count": 29,
   "metadata": {
    "collapsed": false,
    "deletable": true,
    "editable": true
   },
   "outputs": [
    {
     "data": {
      "text/html": [
       "<div>\n",
       "<table border=\"1\" class=\"dataframe\">\n",
       "  <thead>\n",
       "    <tr style=\"text-align: right;\">\n",
       "      <th></th>\n",
       "      <th>Test station</th>\n",
       "      <th>FF_SID</th>\n",
       "      <th>Test Result</th>\n",
       "      <th>Test Start</th>\n",
       "      <th>Test End</th>\n",
       "      <th>Function</th>\n",
       "      <th>Result</th>\n",
       "      <th>Metrics</th>\n",
       "      <th>Value</th>\n",
       "      <th>Validator</th>\n",
       "    </tr>\n",
       "  </thead>\n",
       "  <tbody>\n",
       "    <tr>\n",
       "      <th>0</th>\n",
       "      <td>Camera_SFR_Pos</td>\n",
       "      <td>BSJ1P0M116190305</td>\n",
       "      <td>PASS</td>\n",
       "      <td>5/13/16 18:11</td>\n",
       "      <td>5/13/16 18:11</td>\n",
       "      <td>Camera_IQ</td>\n",
       "      <td>PASS</td>\n",
       "      <td>SFR_NQ4_50F_V</td>\n",
       "      <td>0.3956</td>\n",
       "      <td>0.21 &lt;= x &lt;= 1</td>\n",
       "    </tr>\n",
       "    <tr>\n",
       "      <th>1</th>\n",
       "      <td>Camera_SFR_Pos</td>\n",
       "      <td>BSJ1P0M116190305</td>\n",
       "      <td>PASS</td>\n",
       "      <td>5/13/16 18:11</td>\n",
       "      <td>5/13/16 18:11</td>\n",
       "      <td>Camera_IQ</td>\n",
       "      <td>PASS</td>\n",
       "      <td>TV_Dist</td>\n",
       "      <td>-3.4870</td>\n",
       "      <td>#NAME?</td>\n",
       "    </tr>\n",
       "    <tr>\n",
       "      <th>2</th>\n",
       "      <td>Camera_SFR_Pos</td>\n",
       "      <td>BSJ1P0M216190428</td>\n",
       "      <td>PASS</td>\n",
       "      <td>5/17/16 16:01</td>\n",
       "      <td>5/17/16 16:02</td>\n",
       "      <td>Camera_IQ</td>\n",
       "      <td>PASS</td>\n",
       "      <td>SFR_NQ4_50F_V</td>\n",
       "      <td>0.4731</td>\n",
       "      <td>0.21 &lt;= x &lt;= 1</td>\n",
       "    </tr>\n",
       "    <tr>\n",
       "      <th>3</th>\n",
       "      <td>Camera_SFR_Pos</td>\n",
       "      <td>BSJ1P0M216190428</td>\n",
       "      <td>PASS</td>\n",
       "      <td>5/17/16 16:01</td>\n",
       "      <td>5/17/16 16:02</td>\n",
       "      <td>Camera_IQ</td>\n",
       "      <td>PASS</td>\n",
       "      <td>TV_Dist</td>\n",
       "      <td>-3.6740</td>\n",
       "      <td>#NAME?</td>\n",
       "    </tr>\n",
       "    <tr>\n",
       "      <th>4</th>\n",
       "      <td>Camera_SFR_Pos</td>\n",
       "      <td>BSJ1P0M216190428</td>\n",
       "      <td>PASS</td>\n",
       "      <td>5/17/16 16:01</td>\n",
       "      <td>5/17/16 16:02</td>\n",
       "      <td>Camera_IQ</td>\n",
       "      <td>PASS</td>\n",
       "      <td>SFR_NQ4_70F_V</td>\n",
       "      <td>0.5232</td>\n",
       "      <td>0.2 &lt;= x &lt;= 1</td>\n",
       "    </tr>\n",
       "    <tr>\n",
       "      <th>5</th>\n",
       "      <td>Camera_SFR_Pos</td>\n",
       "      <td>BSJ1P0M216190428</td>\n",
       "      <td>PASS</td>\n",
       "      <td>5/17/16 16:01</td>\n",
       "      <td>5/17/16 16:02</td>\n",
       "      <td>Camera_IQ</td>\n",
       "      <td>PASS</td>\n",
       "      <td>SFR_NQ4_00F_V</td>\n",
       "      <td>0.5756</td>\n",
       "      <td>0.37 &lt;= x &lt;= 1</td>\n",
       "    </tr>\n",
       "    <tr>\n",
       "      <th>6</th>\n",
       "      <td>Camera_SFR_Pos</td>\n",
       "      <td>BSJ1P0M216190428</td>\n",
       "      <td>PASS</td>\n",
       "      <td>5/17/16 16:01</td>\n",
       "      <td>5/17/16 16:02</td>\n",
       "      <td>Camera_IQ</td>\n",
       "      <td>PASS</td>\n",
       "      <td>Tilt_lens2snsr_H</td>\n",
       "      <td>0.1660</td>\n",
       "      <td>#NAME?</td>\n",
       "    </tr>\n",
       "    <tr>\n",
       "      <th>7</th>\n",
       "      <td>Camera_SFR_Pos</td>\n",
       "      <td>BSJ1P0M216190428</td>\n",
       "      <td>PASS</td>\n",
       "      <td>5/17/16 16:01</td>\n",
       "      <td>5/17/16 16:02</td>\n",
       "      <td>Camera_IQ</td>\n",
       "      <td>PASS</td>\n",
       "      <td>Rotation</td>\n",
       "      <td>-1.1070</td>\n",
       "      <td>#NAME?</td>\n",
       "    </tr>\n",
       "    <tr>\n",
       "      <th>8</th>\n",
       "      <td>Camera_SFR_Pos</td>\n",
       "      <td>BSJ1P0M216190428</td>\n",
       "      <td>PASS</td>\n",
       "      <td>5/17/16 16:01</td>\n",
       "      <td>5/17/16 16:02</td>\n",
       "      <td>Camera_IQ</td>\n",
       "      <td>PASS</td>\n",
       "      <td>VFOV</td>\n",
       "      <td>60.1600</td>\n",
       "      <td>59.1 &lt;= x &lt;= 62.1</td>\n",
       "    </tr>\n",
       "    <tr>\n",
       "      <th>9</th>\n",
       "      <td>Camera_SFR_Pos</td>\n",
       "      <td>BSJ1P0M216190428</td>\n",
       "      <td>PASS</td>\n",
       "      <td>5/17/16 16:01</td>\n",
       "      <td>5/17/16 16:02</td>\n",
       "      <td>Camera_IQ</td>\n",
       "      <td>PASS</td>\n",
       "      <td>SFR_NQ4_30F_H</td>\n",
       "      <td>0.6803</td>\n",
       "      <td>0.3 &lt;= x &lt;= 1</td>\n",
       "    </tr>\n",
       "  </tbody>\n",
       "</table>\n",
       "</div>"
      ],
      "text/plain": [
       "     Test station            FF_SID Test Result     Test Start       Test End  \\\n",
       "0  Camera_SFR_Pos  BSJ1P0M116190305        PASS  5/13/16 18:11  5/13/16 18:11   \n",
       "1  Camera_SFR_Pos  BSJ1P0M116190305        PASS  5/13/16 18:11  5/13/16 18:11   \n",
       "2  Camera_SFR_Pos  BSJ1P0M216190428        PASS  5/17/16 16:01  5/17/16 16:02   \n",
       "3  Camera_SFR_Pos  BSJ1P0M216190428        PASS  5/17/16 16:01  5/17/16 16:02   \n",
       "4  Camera_SFR_Pos  BSJ1P0M216190428        PASS  5/17/16 16:01  5/17/16 16:02   \n",
       "5  Camera_SFR_Pos  BSJ1P0M216190428        PASS  5/17/16 16:01  5/17/16 16:02   \n",
       "6  Camera_SFR_Pos  BSJ1P0M216190428        PASS  5/17/16 16:01  5/17/16 16:02   \n",
       "7  Camera_SFR_Pos  BSJ1P0M216190428        PASS  5/17/16 16:01  5/17/16 16:02   \n",
       "8  Camera_SFR_Pos  BSJ1P0M216190428        PASS  5/17/16 16:01  5/17/16 16:02   \n",
       "9  Camera_SFR_Pos  BSJ1P0M216190428        PASS  5/17/16 16:01  5/17/16 16:02   \n",
       "\n",
       "    Function Result           Metrics    Value          Validator  \n",
       "0  Camera_IQ   PASS     SFR_NQ4_50F_V   0.3956     0.21 <= x <= 1  \n",
       "1  Camera_IQ   PASS           TV_Dist  -3.4870             #NAME?  \n",
       "2  Camera_IQ   PASS     SFR_NQ4_50F_V   0.4731     0.21 <= x <= 1  \n",
       "3  Camera_IQ   PASS           TV_Dist  -3.6740             #NAME?  \n",
       "4  Camera_IQ   PASS     SFR_NQ4_70F_V   0.5232      0.2 <= x <= 1  \n",
       "5  Camera_IQ   PASS     SFR_NQ4_00F_V   0.5756     0.37 <= x <= 1  \n",
       "6  Camera_IQ   PASS  Tilt_lens2snsr_H   0.1660             #NAME?  \n",
       "7  Camera_IQ   PASS          Rotation  -1.1070             #NAME?  \n",
       "8  Camera_IQ   PASS              VFOV  60.1600  59.1 <= x <= 62.1  \n",
       "9  Camera_IQ   PASS     SFR_NQ4_30F_H   0.6803      0.3 <= x <= 1  "
      ]
     },
     "execution_count": 29,
     "metadata": {},
     "output_type": "execute_result"
    }
   ],
   "source": [
    "SFR_DF=pd.read_csv(r'/Users/fanchang/Downloads/measures/Camera_SFR_Pos_6-15-2016.csv');\n",
    "SFR_DF.head(10)\n",
    "# SFR_DF=SFR_DF.set_index(['FF_SID']);\n",
    "# SFR_DF.head(50)\n",
    "# SFR_50F=SFR_DF[SFR_DF['Metrics']=='SFR_NQ4_50F_V']"
   ]
  },
  {
   "cell_type": "code",
   "execution_count": 30,
   "metadata": {
    "collapsed": false,
    "deletable": true,
    "editable": true
   },
   "outputs": [],
   "source": [
    "SFR_NQ4_50F_V=SFR_DF[SFR_DF['Metrics']=='SFR_NQ4_50F_V']\n",
    "SFR_NQ4_50F_H=SFR_DF[SFR_DF['Metrics']=='SFR_NQ4_50F_H']\n",
    "SFR_NQ4_50F=pd.merge(left=SFR_NQ4_50F_V, right=SFR_NQ4_50F_H, how='inner', left_on='FF_SID',right_on='FF_SID')"
   ]
  },
  {
   "cell_type": "code",
   "execution_count": 31,
   "metadata": {
    "collapsed": false
   },
   "outputs": [
    {
     "data": {
      "text/plain": [
       "array(['SFR_NQ4_50F_V', 'TV_Dist', 'SFR_NQ4_70F_V', 'SFR_NQ4_00F_V',\n",
       "       'Tilt_lens2snsr_H', 'Rotation', 'VFOV', 'SFR_NQ4_30F_H',\n",
       "       'SFR_NQ4_30F_V', 'DFOV', 'SFR_NQ4_00F_H', 'Tilt_lens2snsr_V',\n",
       "       'Tilt_over_V', 'HFOV', 'SFR_NQ4_70F_H', 'Tilt_over_H', 'CHR_ABBR',\n",
       "       'SFR_NQ4_50F_H', nan], dtype=object)"
      ]
     },
     "execution_count": 31,
     "metadata": {},
     "output_type": "execute_result"
    }
   ],
   "source": [
    "pd.unique(SFR_DF['Metrics'])"
   ]
  },
  {
   "cell_type": "code",
   "execution_count": 32,
   "metadata": {
    "collapsed": false
   },
   "outputs": [],
   "source": [
    "SFR_NQ4_50F_H_dropna=SFR_NQ4_50F_H['Value'].dropna()\n",
    "SFR_NQ4_50F_V_dropna=SFR_NQ4_50F_V['Value'].dropna()\n",
    "# pd.DataFrame([SFR_NQ4_50F_H_dropna,SFR_NQ4_50F_V_dropna]).boxplot()\n",
    "# plt.show()\n",
    "# data=[np.array(SFR_NQ4_50F_H['Value']),np.array(SFR_NQ4_50F_V['Value'])]\n",
    "# print type(np.array(SFR_NQ4_50F_H['Value'])\n",
    "# plt.boxplot(np.array(SFR_NQ4_50F_H['Value']).dropna())\n",
    "# plt.show()"
   ]
  },
  {
   "cell_type": "code",
   "execution_count": 33,
   "metadata": {
    "collapsed": false,
    "deletable": true,
    "editable": true
   },
   "outputs": [
    {
     "data": {
      "text/plain": [
       "0   -1.749765\n",
       "1    0.342680\n",
       "2    1.153036\n",
       "3   -0.252436\n",
       "4    0.981321\n",
       "5    0.514219\n",
       "6    0.221180\n",
       "7   -1.070043\n",
       "8   -0.189496\n",
       "9    0.255001\n",
       "dtype: float64"
      ]
     },
     "execution_count": 33,
     "metadata": {},
     "output_type": "execute_result"
    }
   ],
   "source": [
    "np.random.seed(100);\n",
    "normvals=pd.Series([np.random.normal() for i in np.arange(10)]);\n",
    "normvals"
   ]
  },
  {
   "cell_type": "code",
   "execution_count": 34,
   "metadata": {
    "collapsed": false,
    "deletable": true,
    "editable": true
   },
   "outputs": [
    {
     "data": {
      "text/plain": [
       "1    0.342680\n",
       "2    1.153036\n",
       "4    0.981321\n",
       "5    0.514219\n",
       "6    0.221180\n",
       "9    0.255001\n",
       "dtype: float64"
      ]
     },
     "execution_count": 34,
     "metadata": {},
     "output_type": "execute_result"
    }
   ],
   "source": [
    "normvals[normvals>0]"
   ]
  },
  {
   "cell_type": "code",
   "execution_count": 35,
   "metadata": {
    "collapsed": false,
    "deletable": true,
    "editable": true
   },
   "outputs": [
    {
     "data": {
      "text/plain": [
       "0         NaN\n",
       "1    0.342680\n",
       "2    1.153036\n",
       "3         NaN\n",
       "4    0.981321\n",
       "5    0.514219\n",
       "6    0.221180\n",
       "7         NaN\n",
       "8         NaN\n",
       "9    0.255001\n",
       "dtype: float64"
      ]
     },
     "execution_count": 35,
     "metadata": {},
     "output_type": "execute_result"
    }
   ],
   "source": [
    "normvals.where(normvals>0)"
   ]
  },
  {
   "cell_type": "code",
   "execution_count": 36,
   "metadata": {
    "collapsed": false,
    "deletable": true,
    "editable": true
   },
   "outputs": [
    {
     "data": {
      "text/html": [
       "<div>\n",
       "<table border=\"1\" class=\"dataframe\">\n",
       "  <thead>\n",
       "    <tr style=\"text-align: right;\">\n",
       "      <th></th>\n",
       "      <th>0</th>\n",
       "      <th>30</th>\n",
       "      <th>60</th>\n",
       "      <th>90</th>\n",
       "      <th>120</th>\n",
       "    </tr>\n",
       "  </thead>\n",
       "  <tbody>\n",
       "    <tr>\n",
       "      <th>0</th>\n",
       "      <td>-1.750</td>\n",
       "      <td>0.343</td>\n",
       "      <td>1.153</td>\n",
       "      <td>-0.252</td>\n",
       "      <td>0.981</td>\n",
       "    </tr>\n",
       "    <tr>\n",
       "      <th>1</th>\n",
       "      <td>0.514</td>\n",
       "      <td>0.221</td>\n",
       "      <td>-1.070</td>\n",
       "      <td>-0.189</td>\n",
       "      <td>0.255</td>\n",
       "    </tr>\n",
       "    <tr>\n",
       "      <th>2</th>\n",
       "      <td>-0.458</td>\n",
       "      <td>0.435</td>\n",
       "      <td>-0.584</td>\n",
       "      <td>0.817</td>\n",
       "      <td>0.673</td>\n",
       "    </tr>\n",
       "  </tbody>\n",
       "</table>\n",
       "</div>"
      ],
      "text/plain": [
       "       0     30     60     90    120\n",
       "0 -1.750  0.343  1.153 -0.252  0.981\n",
       "1  0.514  0.221 -1.070 -0.189  0.255\n",
       "2 -0.458  0.435 -0.584  0.817  0.673"
      ]
     },
     "execution_count": 36,
     "metadata": {},
     "output_type": "execute_result"
    }
   ],
   "source": [
    "np.random.seed(100);\n",
    "normDF=pd.DataFrame([[round(np.random.normal(),3) for i in np.arange(5)] for j in range(3)], \n",
    "             columns=['0','30','60','90','120']);\n",
    "normDF"
   ]
  },
  {
   "cell_type": "code",
   "execution_count": 37,
   "metadata": {
    "collapsed": false,
    "deletable": true,
    "editable": true
   },
   "outputs": [
    {
     "data": {
      "text/html": [
       "<div>\n",
       "<table border=\"1\" class=\"dataframe\">\n",
       "  <thead>\n",
       "    <tr style=\"text-align: right;\">\n",
       "      <th></th>\n",
       "      <th>0</th>\n",
       "      <th>30</th>\n",
       "      <th>60</th>\n",
       "      <th>90</th>\n",
       "      <th>120</th>\n",
       "    </tr>\n",
       "  </thead>\n",
       "  <tbody>\n",
       "    <tr>\n",
       "      <th>0</th>\n",
       "      <td>NaN</td>\n",
       "      <td>0.343</td>\n",
       "      <td>1.153</td>\n",
       "      <td>NaN</td>\n",
       "      <td>0.981</td>\n",
       "    </tr>\n",
       "    <tr>\n",
       "      <th>1</th>\n",
       "      <td>0.514</td>\n",
       "      <td>0.221</td>\n",
       "      <td>NaN</td>\n",
       "      <td>NaN</td>\n",
       "      <td>0.255</td>\n",
       "    </tr>\n",
       "    <tr>\n",
       "      <th>2</th>\n",
       "      <td>NaN</td>\n",
       "      <td>0.435</td>\n",
       "      <td>NaN</td>\n",
       "      <td>0.817</td>\n",
       "      <td>0.673</td>\n",
       "    </tr>\n",
       "  </tbody>\n",
       "</table>\n",
       "</div>"
      ],
      "text/plain": [
       "       0     30     60     90    120\n",
       "0    NaN  0.343  1.153    NaN  0.981\n",
       "1  0.514  0.221    NaN    NaN  0.255\n",
       "2    NaN  0.435    NaN  0.817  0.673"
      ]
     },
     "execution_count": 37,
     "metadata": {},
     "output_type": "execute_result"
    }
   ],
   "source": [
    "normDF[normDF>0]"
   ]
  },
  {
   "cell_type": "code",
   "execution_count": 38,
   "metadata": {
    "collapsed": false,
    "deletable": true,
    "editable": true
   },
   "outputs": [
    {
     "data": {
      "text/html": [
       "<div>\n",
       "<table border=\"1\" class=\"dataframe\">\n",
       "  <thead>\n",
       "    <tr style=\"text-align: right;\">\n",
       "      <th></th>\n",
       "      <th>0</th>\n",
       "      <th>30</th>\n",
       "      <th>60</th>\n",
       "      <th>90</th>\n",
       "      <th>120</th>\n",
       "    </tr>\n",
       "  </thead>\n",
       "  <tbody>\n",
       "    <tr>\n",
       "      <th>0</th>\n",
       "      <td>NaN</td>\n",
       "      <td>0.343</td>\n",
       "      <td>1.153</td>\n",
       "      <td>NaN</td>\n",
       "      <td>0.981</td>\n",
       "    </tr>\n",
       "    <tr>\n",
       "      <th>1</th>\n",
       "      <td>0.514</td>\n",
       "      <td>0.221</td>\n",
       "      <td>NaN</td>\n",
       "      <td>NaN</td>\n",
       "      <td>0.255</td>\n",
       "    </tr>\n",
       "    <tr>\n",
       "      <th>2</th>\n",
       "      <td>NaN</td>\n",
       "      <td>0.435</td>\n",
       "      <td>NaN</td>\n",
       "      <td>0.817</td>\n",
       "      <td>0.673</td>\n",
       "    </tr>\n",
       "  </tbody>\n",
       "</table>\n",
       "</div>"
      ],
      "text/plain": [
       "       0     30     60     90    120\n",
       "0    NaN  0.343  1.153    NaN  0.981\n",
       "1  0.514  0.221    NaN    NaN  0.255\n",
       "2    NaN  0.435    NaN  0.817  0.673"
      ]
     },
     "execution_count": 38,
     "metadata": {},
     "output_type": "execute_result"
    }
   ],
   "source": [
    "normDF.where(normDF>0)"
   ]
  },
  {
   "cell_type": "code",
   "execution_count": 39,
   "metadata": {
    "collapsed": false,
    "deletable": true,
    "editable": true
   },
   "outputs": [
    {
     "data": {
      "text/html": [
       "<div>\n",
       "<table border=\"1\" class=\"dataframe\">\n",
       "  <thead>\n",
       "    <tr style=\"text-align: right;\">\n",
       "      <th></th>\n",
       "      <th>0</th>\n",
       "      <th>30</th>\n",
       "      <th>60</th>\n",
       "      <th>90</th>\n",
       "      <th>120</th>\n",
       "    </tr>\n",
       "  </thead>\n",
       "  <tbody>\n",
       "    <tr>\n",
       "      <th>0</th>\n",
       "      <td>-1.750</td>\n",
       "      <td>NaN</td>\n",
       "      <td>NaN</td>\n",
       "      <td>-0.252</td>\n",
       "      <td>NaN</td>\n",
       "    </tr>\n",
       "    <tr>\n",
       "      <th>1</th>\n",
       "      <td>NaN</td>\n",
       "      <td>NaN</td>\n",
       "      <td>-1.070</td>\n",
       "      <td>-0.189</td>\n",
       "      <td>NaN</td>\n",
       "    </tr>\n",
       "    <tr>\n",
       "      <th>2</th>\n",
       "      <td>-0.458</td>\n",
       "      <td>NaN</td>\n",
       "      <td>-0.584</td>\n",
       "      <td>NaN</td>\n",
       "      <td>NaN</td>\n",
       "    </tr>\n",
       "  </tbody>\n",
       "</table>\n",
       "</div>"
      ],
      "text/plain": [
       "       0  30     60     90  120\n",
       "0 -1.750 NaN    NaN -0.252  NaN\n",
       "1    NaN NaN -1.070 -0.189  NaN\n",
       "2 -0.458 NaN -0.584    NaN  NaN"
      ]
     },
     "execution_count": 39,
     "metadata": {},
     "output_type": "execute_result"
    }
   ],
   "source": [
    "normDF.mask(normDF>0)"
   ]
  },
  {
   "cell_type": "code",
   "execution_count": 40,
   "metadata": {
    "collapsed": false,
    "deletable": true,
    "editable": true
   },
   "outputs": [
    {
     "data": {
      "text/html": [
       "<div>\n",
       "<table border=\"1\" class=\"dataframe\">\n",
       "  <thead>\n",
       "    <tr style=\"text-align: right;\">\n",
       "      <th></th>\n",
       "      <th>0</th>\n",
       "      <th>30</th>\n",
       "      <th>60</th>\n",
       "      <th>90</th>\n",
       "      <th>120</th>\n",
       "    </tr>\n",
       "  </thead>\n",
       "  <tbody>\n",
       "    <tr>\n",
       "      <th>0</th>\n",
       "      <td>False</td>\n",
       "      <td>True</td>\n",
       "      <td>True</td>\n",
       "      <td>False</td>\n",
       "      <td>True</td>\n",
       "    </tr>\n",
       "    <tr>\n",
       "      <th>1</th>\n",
       "      <td>True</td>\n",
       "      <td>True</td>\n",
       "      <td>False</td>\n",
       "      <td>False</td>\n",
       "      <td>True</td>\n",
       "    </tr>\n",
       "    <tr>\n",
       "      <th>2</th>\n",
       "      <td>False</td>\n",
       "      <td>True</td>\n",
       "      <td>False</td>\n",
       "      <td>True</td>\n",
       "      <td>True</td>\n",
       "    </tr>\n",
       "  </tbody>\n",
       "</table>\n",
       "</div>"
      ],
      "text/plain": [
       "       0    30     60     90   120\n",
       "0  False  True   True  False  True\n",
       "1   True  True  False  False  True\n",
       "2  False  True  False   True  True"
      ]
     },
     "execution_count": 40,
     "metadata": {},
     "output_type": "execute_result"
    }
   ],
   "source": [
    "normDF>0"
   ]
  },
  {
   "cell_type": "code",
   "execution_count": 41,
   "metadata": {
    "collapsed": true,
    "deletable": true,
    "editable": true
   },
   "outputs": [],
   "source": [
    "SFR_DF=pd.read_csv(r'/Users/fanchang/Downloads/measures/Camera_SFR_Pos_6-15-2016.csv');"
   ]
  },
  {
   "cell_type": "code",
   "execution_count": 42,
   "metadata": {
    "collapsed": false,
    "deletable": true,
    "editable": true
   },
   "outputs": [],
   "source": [
    "result=SFR_DF.groupby('Metrics')"
   ]
  },
  {
   "cell_type": "code",
   "execution_count": 43,
   "metadata": {
    "collapsed": false,
    "deletable": true,
    "editable": true
   },
   "outputs": [
    {
     "data": {
      "text/plain": [
       "18"
      ]
     },
     "execution_count": 43,
     "metadata": {},
     "output_type": "execute_result"
    }
   ],
   "source": [
    "len(result.size())"
   ]
  },
  {
   "cell_type": "code",
   "execution_count": 44,
   "metadata": {
    "collapsed": false,
    "deletable": true,
    "editable": true
   },
   "outputs": [
    {
     "data": {
      "text/plain": [
       "<pandas.core.groupby.DataFrameGroupBy object at 0x11e723890>"
      ]
     },
     "execution_count": 44,
     "metadata": {},
     "output_type": "execute_result"
    }
   ],
   "source": [
    "result"
   ]
  },
  {
   "cell_type": "code",
   "execution_count": 45,
   "metadata": {
    "collapsed": false
   },
   "outputs": [
    {
     "data": {
      "text/plain": [
       "CHR_ABBR                  Axes(0.1,0.77069;0.173913x0.12931)\n",
       "DFOV                 Axes(0.308696,0.77069;0.173913x0.12931)\n",
       "HFOV                 Axes(0.517391,0.77069;0.173913x0.12931)\n",
       "Rotation             Axes(0.726087,0.77069;0.173913x0.12931)\n",
       "SFR_NQ4_00F_H            Axes(0.1,0.615517;0.173913x0.12931)\n",
       "SFR_NQ4_00F_V       Axes(0.308696,0.615517;0.173913x0.12931)\n",
       "SFR_NQ4_30F_H       Axes(0.517391,0.615517;0.173913x0.12931)\n",
       "SFR_NQ4_30F_V       Axes(0.726087,0.615517;0.173913x0.12931)\n",
       "SFR_NQ4_50F_H            Axes(0.1,0.460345;0.173913x0.12931)\n",
       "SFR_NQ4_50F_V       Axes(0.308696,0.460345;0.173913x0.12931)\n",
       "SFR_NQ4_70F_H       Axes(0.517391,0.460345;0.173913x0.12931)\n",
       "SFR_NQ4_70F_V       Axes(0.726087,0.460345;0.173913x0.12931)\n",
       "TV_Dist                  Axes(0.1,0.305172;0.173913x0.12931)\n",
       "Tilt_lens2snsr_H    Axes(0.308696,0.305172;0.173913x0.12931)\n",
       "Tilt_lens2snsr_V    Axes(0.517391,0.305172;0.173913x0.12931)\n",
       "Tilt_over_H         Axes(0.726087,0.305172;0.173913x0.12931)\n",
       "Tilt_over_V                  Axes(0.1,0.15;0.173913x0.12931)\n",
       "VFOV                    Axes(0.308696,0.15;0.173913x0.12931)\n",
       "dtype: object"
      ]
     },
     "execution_count": 45,
     "metadata": {},
     "output_type": "execute_result"
    }
   ],
   "source": [
    "result.boxplot()"
   ]
  },
  {
   "cell_type": "code",
   "execution_count": 47,
   "metadata": {
    "collapsed": true
   },
   "outputs": [],
   "source": [
    "from time import sleep"
   ]
  },
  {
   "cell_type": "code",
   "execution_count": 48,
   "metadata": {
    "collapsed": true
   },
   "outputs": [],
   "source": [
    "def foo(): sleep(1)"
   ]
  },
  {
   "cell_type": "code",
   "execution_count": 49,
   "metadata": {
    "collapsed": true
   },
   "outputs": [],
   "source": [
    "def bar(): sleep(2)"
   ]
  },
  {
   "cell_type": "code",
   "execution_count": 50,
   "metadata": {
    "collapsed": true
   },
   "outputs": [],
   "source": [
    "def baz(): foo(), bar()"
   ]
  },
  {
   "cell_type": "code",
   "execution_count": 51,
   "metadata": {
    "collapsed": false
   },
   "outputs": [
    {
     "name": "stdout",
     "output_type": "stream",
     "text": [
      " "
     ]
    }
   ],
   "source": [
    "%prun baz()"
   ]
  },
  {
   "cell_type": "code",
   "execution_count": null,
   "metadata": {
    "collapsed": true
   },
   "outputs": [],
   "source": []
  }
 ],
 "metadata": {
  "kernelspec": {
   "display_name": "Python 2",
   "language": "python",
   "name": "python2"
  },
  "language_info": {
   "codemirror_mode": {
    "name": "ipython",
    "version": 2
   },
   "file_extension": ".py",
   "mimetype": "text/x-python",
   "name": "python",
   "nbconvert_exporter": "python",
   "pygments_lexer": "ipython2",
   "version": "2.7.13"
  }
 },
 "nbformat": 4,
 "nbformat_minor": 0
}
