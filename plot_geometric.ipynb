{
  "nbformat": 4,
  "nbformat_minor": 0,
  "cells": [
    {
      "metadata": {
        "collapsed": false
      },
      "execution_count": null,
      "source": [
        "%matplotlib inline"
      ],
      "outputs": [],
      "cell_type": "code"
    },
    {
      "metadata": {},
      "source": [
        "\n# Using geometric transformations\n\n\nIn this example, we will see how to use geometric transformations in the context\nof image processing.\n\n"
      ],
      "cell_type": "markdown"
    },
    {
      "metadata": {
        "collapsed": false
      },
      "execution_count": null,
      "source": [
        "from __future__ import print_function\n\nimport math\nimport numpy as np\nimport matplotlib.pyplot as plt\n\nfrom skimage import data\nfrom skimage import transform as tf"
      ],
      "outputs": [],
      "cell_type": "code"
    },
    {
      "metadata": {},
      "source": [
        "Basics\n======\n\nSeveral different geometric transformation types are supported: similarity,\naffine, projective and polynomial.\n\nGeometric transformations can either be created using the explicit\nparameters (e.g. scale, shear, rotation and translation) or the\ntransformation matrix:\n\nFirst we create a transformation using explicit parameters:\n\n"
      ],
      "cell_type": "markdown"
    },
    {
      "metadata": {
        "collapsed": false
      },
      "execution_count": null,
      "source": [
        "tform = tf.SimilarityTransform(scale=1, rotation=math.pi/2,\n                               translation=(0, 1))\nprint(tform.params)"
      ],
      "outputs": [],
      "cell_type": "code"
    },
    {
      "metadata": {},
      "source": [
        "Alternatively you can define a transformation by the transformation matrix\nitself:\n\n"
      ],
      "cell_type": "markdown"
    },
    {
      "metadata": {
        "collapsed": false
      },
      "execution_count": null,
      "source": [
        "matrix = tform.params.copy()\nmatrix[1, 2] = 2\ntform2 = tf.SimilarityTransform(matrix)"
      ],
      "outputs": [],
      "cell_type": "code"
    },
    {
      "metadata": {},
      "source": [
        "These transformation objects can then be used to apply forward and inverse\ncoordinate transformations between the source and destination coordinate\nsystems:\n\n"
      ],
      "cell_type": "markdown"
    },
    {
      "metadata": {
        "collapsed": false
      },
      "execution_count": null,
      "source": [
        "coord = [1, 0]\nprint(tform2(coord))\nprint(tform2.inverse(tform(coord)))"
      ],
      "outputs": [],
      "cell_type": "code"
    },
    {
      "metadata": {},
      "source": [
        "Image warping\n=============\n\nGeometric transformations can also be used to warp images:\n\n"
      ],
      "cell_type": "markdown"
    },
    {
      "metadata": {
        "collapsed": false
      },
      "execution_count": null,
      "source": [
        "text = data.text()\n\ntform = tf.SimilarityTransform(scale=1, rotation=math.pi/4,\n                               translation=(text.shape[0]/2, -100))\n\nrotated = tf.warp(text, tform)\nback_rotated = tf.warp(rotated, tform.inverse)\n\nfig, ax = plt.subplots(nrows=3)\n\nax[0].imshow(text, cmap=plt.cm.gray)\nax[1].imshow(rotated, cmap=plt.cm.gray)\nax[2].imshow(back_rotated, cmap=plt.cm.gray)\n\nfor a in ax:\n    a.axis('off')\n\nplt.tight_layout()"
      ],
      "outputs": [],
      "cell_type": "code"
    },
    {
      "metadata": {},
      "source": [
        "Parameter estimation\n====================\n\nIn addition to the basic functionality mentioned above you can also\nestimate the parameters of a geometric transformation using the least-\nsquares method.\n\nThis can amongst other things be used for image registration or\nrectification, where you have a set of control points or\nhomologous/corresponding points in two images.\n\nLet's assume we want to recognize letters on a photograph which was not\ntaken from the front but at a certain angle. In the simplest case of a\nplane paper surface the letters are projectively distorted. Simple matching\nalgorithms would not be able to match such symbols. One solution to this\nproblem would be to warp the image so that the distortion is removed and\nthen apply a matching algorithm:\n\n"
      ],
      "cell_type": "markdown"
    },
    {
      "metadata": {
        "collapsed": false
      },
      "execution_count": null,
      "source": [
        "text = data.text()\n\nsrc = np.array([[0, 0], [0, 50], [300, 50], [300, 0]])\ndst = np.array([[155, 15], [65, 40], [260, 130], [360, 95]])\n\ntform3 = tf.ProjectiveTransform()\ntform3.estimate(src, dst)\nwarped = tf.warp(text, tform3, output_shape=(50, 300))\n\nfig, ax = plt.subplots(nrows=2, figsize=(8, 3))\n\nax[0].imshow(text, cmap=plt.cm.gray)\nax[0].plot(dst[:, 0], dst[:, 1], '.r')\nax[1].imshow(warped, cmap=plt.cm.gray)\n\nfor a in ax:\n    a.axis('off')\n\nplt.tight_layout()"
      ],
      "outputs": [],
      "cell_type": "code"
    }
  ],
  "metadata": {
    "kernelspec": {
      "display_name": "Python 3",
      "language": "python",
      "name": "python3"
    },
    "language_info": {
      "file_extension": ".py",
      "mimetype": "text/x-python",
      "nbconvert_exporter": "python",
      "version": "3.4.2",
      "name": "python",
      "pygments_lexer": "ipython3",
      "codemirror_mode": {
        "version": 3,
        "name": "ipython"
      }
    }
  }
}