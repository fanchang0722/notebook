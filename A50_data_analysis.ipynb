{
 "cells": [
  {
   "cell_type": "code",
   "execution_count": 1,
   "metadata": {},
   "outputs": [
    {
     "name": "stdout",
     "output_type": "stream",
     "text": [
      "Populating the interactive namespace from numpy and matplotlib\n"
     ]
    }
   ],
   "source": [
    "%pylab inline\n",
    "import seaborn\n",
    "import os\n",
    "import numpy as np\n",
    "from scipy import stats\n",
    "import matplotlib.pylab as plt\n",
    "from scipy.optimize import curve_fit\n",
    "import pandas as pd"
   ]
  },
  {
   "cell_type": "code",
   "execution_count": 2,
   "metadata": {},
   "outputs": [
    {
     "data": {
      "text/html": [
       "<div>\n",
       "<table border=\"1\" class=\"dataframe\">\n",
       "  <thead>\n",
       "    <tr style=\"text-align: right;\">\n",
       "      <th></th>\n",
       "      <th>SeqNO</th>\n",
       "      <th>CT</th>\n",
       "      <th>LB</th>\n",
       "      <th>LT</th>\n",
       "      <th>RT</th>\n",
       "      <th>RB</th>\n",
       "      <th>CornerDiff</th>\n",
       "      <th>Loc</th>\n",
       "    </tr>\n",
       "  </thead>\n",
       "  <tbody>\n",
       "    <tr>\n",
       "      <th>0</th>\n",
       "      <td>LOE65001063010A6BP0022BAI06BF12000</td>\n",
       "      <td>0.806094</td>\n",
       "      <td>0.622383</td>\n",
       "      <td>0.524463</td>\n",
       "      <td>0.511161</td>\n",
       "      <td>0.662095</td>\n",
       "      <td>15.395820</td>\n",
       "      <td>Center</td>\n",
       "    </tr>\n",
       "    <tr>\n",
       "      <th>1</th>\n",
       "      <td>LOE65001063010A6BP000FEAI06BF12000</td>\n",
       "      <td>0.789305</td>\n",
       "      <td>0.622370</td>\n",
       "      <td>0.616376</td>\n",
       "      <td>0.688213</td>\n",
       "      <td>0.699849</td>\n",
       "      <td>13.408290</td>\n",
       "      <td>Center</td>\n",
       "    </tr>\n",
       "    <tr>\n",
       "      <th>2</th>\n",
       "      <td>LOE65001063010A6BP002CFAI06BF12000</td>\n",
       "      <td>0.745218</td>\n",
       "      <td>0.616164</td>\n",
       "      <td>0.625213</td>\n",
       "      <td>0.618304</td>\n",
       "      <td>0.603441</td>\n",
       "      <td>13.713090</td>\n",
       "      <td>Center</td>\n",
       "    </tr>\n",
       "    <tr>\n",
       "      <th>3</th>\n",
       "      <td>LOE65001063010A6BP0027AAI06BF12000</td>\n",
       "      <td>0.760705</td>\n",
       "      <td>0.587206</td>\n",
       "      <td>0.602691</td>\n",
       "      <td>0.684595</td>\n",
       "      <td>0.689652</td>\n",
       "      <td>10.593440</td>\n",
       "      <td>Center</td>\n",
       "    </tr>\n",
       "    <tr>\n",
       "      <th>4</th>\n",
       "      <td>LOE65001063010A6BP001DDAI06BF12000</td>\n",
       "      <td>0.684967</td>\n",
       "      <td>0.691632</td>\n",
       "      <td>0.692526</td>\n",
       "      <td>0.664549</td>\n",
       "      <td>0.715759</td>\n",
       "      <td>5.120934</td>\n",
       "      <td>Center</td>\n",
       "    </tr>\n",
       "  </tbody>\n",
       "</table>\n",
       "</div>"
      ],
      "text/plain": [
       "                                SeqNO        CT        LB        LT        RT  \\\n",
       "0  LOE65001063010A6BP0022BAI06BF12000  0.806094  0.622383  0.524463  0.511161   \n",
       "1  LOE65001063010A6BP000FEAI06BF12000  0.789305  0.622370  0.616376  0.688213   \n",
       "2  LOE65001063010A6BP002CFAI06BF12000  0.745218  0.616164  0.625213  0.618304   \n",
       "3  LOE65001063010A6BP0027AAI06BF12000  0.760705  0.587206  0.602691  0.684595   \n",
       "4  LOE65001063010A6BP001DDAI06BF12000  0.684967  0.691632  0.692526  0.664549   \n",
       "\n",
       "         RB  CornerDiff     Loc  \n",
       "0  0.662095   15.395820  Center  \n",
       "1  0.699849   13.408290  Center  \n",
       "2  0.603441   13.713090  Center  \n",
       "3  0.689652   10.593440  Center  \n",
       "4  0.715759    5.120934  Center  "
      ]
     },
     "execution_count": 2,
     "metadata": {},
     "output_type": "execute_result"
    }
   ],
   "source": [
    "file_loc = r'/Users/fanchang/Desktop/A50/LiteOn_module'\n",
    "file_name = r'P1_13pc_liteon.csv'\n",
    "df_module = pd.read_csv(os.path.join(file_loc, file_name))\n",
    "df_module.head(5)"
   ]
  },
  {
   "cell_type": "code",
   "execution_count": 3,
   "metadata": {},
   "outputs": [
    {
     "data": {
      "text/html": [
       "<div>\n",
       "<table border=\"1\" class=\"dataframe\">\n",
       "  <thead>\n",
       "    <tr style=\"text-align: right;\">\n",
       "      <th></th>\n",
       "      <th>SN</th>\n",
       "      <th>Time</th>\n",
       "      <th>Test_Time</th>\n",
       "      <th>Result</th>\n",
       "      <th>Max_Y</th>\n",
       "      <th>V_MTF50P_C</th>\n",
       "      <th>V_MTF50P_UL</th>\n",
       "      <th>V_MTF50P_LL</th>\n",
       "      <th>V_MTF50P_UR</th>\n",
       "      <th>V_MTF50P_LR</th>\n",
       "      <th>...</th>\n",
       "      <th>H_SFR@0.125C/P_UL</th>\n",
       "      <th>H_SFR@0.125C/P_LL</th>\n",
       "      <th>H_SFR@0.125C/P_UR</th>\n",
       "      <th>H_SFR@0.125C/P_LR</th>\n",
       "      <th>X_Shift</th>\n",
       "      <th>Y_Shift</th>\n",
       "      <th>Rotation</th>\n",
       "      <th>FOV-D</th>\n",
       "      <th>FOV-H</th>\n",
       "      <th>FOV-V</th>\n",
       "    </tr>\n",
       "  </thead>\n",
       "  <tbody>\n",
       "    <tr>\n",
       "      <th>0</th>\n",
       "      <td>LOE65001063010A6BP003E6AI06BF12000</td>\n",
       "      <td>#20161224171803</td>\n",
       "      <td>8.69</td>\n",
       "      <td>1</td>\n",
       "      <td>220.90</td>\n",
       "      <td>0.1323</td>\n",
       "      <td>0.0973</td>\n",
       "      <td>0.1067</td>\n",
       "      <td>0.1188</td>\n",
       "      <td>0.1250</td>\n",
       "      <td>...</td>\n",
       "      <td>0.4600</td>\n",
       "      <td>0.2391</td>\n",
       "      <td>0.5446</td>\n",
       "      <td>0.3109</td>\n",
       "      <td>-0.2</td>\n",
       "      <td>-22.0</td>\n",
       "      <td>179.816</td>\n",
       "      <td>80.34</td>\n",
       "      <td>72.64</td>\n",
       "      <td>44.90</td>\n",
       "    </tr>\n",
       "    <tr>\n",
       "      <th>1</th>\n",
       "      <td>LOE65001063010A6BP001D1AI06BF12000</td>\n",
       "      <td>#20161224171845</td>\n",
       "      <td>8.43</td>\n",
       "      <td>1</td>\n",
       "      <td>183.12</td>\n",
       "      <td>0.1301</td>\n",
       "      <td>0.0915</td>\n",
       "      <td>0.1221</td>\n",
       "      <td>0.1631</td>\n",
       "      <td>0.1968</td>\n",
       "      <td>...</td>\n",
       "      <td>0.3416</td>\n",
       "      <td>0.3579</td>\n",
       "      <td>0.4880</td>\n",
       "      <td>0.4893</td>\n",
       "      <td>-13.4</td>\n",
       "      <td>10.0</td>\n",
       "      <td>179.777</td>\n",
       "      <td>80.62</td>\n",
       "      <td>72.55</td>\n",
       "      <td>44.75</td>\n",
       "    </tr>\n",
       "    <tr>\n",
       "      <th>2</th>\n",
       "      <td>LOE65001063010A6BP002E6AI06BF12000</td>\n",
       "      <td>#20161224171928</td>\n",
       "      <td>8.30</td>\n",
       "      <td>1</td>\n",
       "      <td>181.06</td>\n",
       "      <td>0.1986</td>\n",
       "      <td>0.1178</td>\n",
       "      <td>0.1170</td>\n",
       "      <td>0.1844</td>\n",
       "      <td>0.1900</td>\n",
       "      <td>...</td>\n",
       "      <td>0.4168</td>\n",
       "      <td>0.4555</td>\n",
       "      <td>0.6140</td>\n",
       "      <td>0.6172</td>\n",
       "      <td>-9.2</td>\n",
       "      <td>-7.0</td>\n",
       "      <td>179.840</td>\n",
       "      <td>80.24</td>\n",
       "      <td>72.46</td>\n",
       "      <td>44.73</td>\n",
       "    </tr>\n",
       "    <tr>\n",
       "      <th>3</th>\n",
       "      <td>LOE65001063010A6BP00378AI06BF12000</td>\n",
       "      <td>#20161224172010</td>\n",
       "      <td>8.31</td>\n",
       "      <td>1</td>\n",
       "      <td>187.32</td>\n",
       "      <td>0.2062</td>\n",
       "      <td>0.1097</td>\n",
       "      <td>0.1063</td>\n",
       "      <td>0.1809</td>\n",
       "      <td>0.1836</td>\n",
       "      <td>...</td>\n",
       "      <td>0.4457</td>\n",
       "      <td>0.4355</td>\n",
       "      <td>0.5374</td>\n",
       "      <td>0.5595</td>\n",
       "      <td>-0.6</td>\n",
       "      <td>0.5</td>\n",
       "      <td>179.868</td>\n",
       "      <td>80.39</td>\n",
       "      <td>72.56</td>\n",
       "      <td>44.74</td>\n",
       "    </tr>\n",
       "    <tr>\n",
       "      <th>4</th>\n",
       "      <td>LOE65001063010A6BP00029AI06BF12000</td>\n",
       "      <td>#20161224172057</td>\n",
       "      <td>8.47</td>\n",
       "      <td>1</td>\n",
       "      <td>219.21</td>\n",
       "      <td>0.1934</td>\n",
       "      <td>0.1692</td>\n",
       "      <td>0.1780</td>\n",
       "      <td>0.1007</td>\n",
       "      <td>0.0965</td>\n",
       "      <td>...</td>\n",
       "      <td>0.5561</td>\n",
       "      <td>0.5380</td>\n",
       "      <td>0.4876</td>\n",
       "      <td>0.4160</td>\n",
       "      <td>-4.7</td>\n",
       "      <td>-18.0</td>\n",
       "      <td>179.996</td>\n",
       "      <td>79.73</td>\n",
       "      <td>72.21</td>\n",
       "      <td>44.67</td>\n",
       "    </tr>\n",
       "  </tbody>\n",
       "</table>\n",
       "<p>5 rows × 41 columns</p>\n",
       "</div>"
      ],
      "text/plain": [
       "                                   SN              Time   Test_Time   Result  \\\n",
       "0  LOE65001063010A6BP003E6AI06BF12000   #20161224171803        8.69        1   \n",
       "1  LOE65001063010A6BP001D1AI06BF12000   #20161224171845        8.43        1   \n",
       "2  LOE65001063010A6BP002E6AI06BF12000   #20161224171928        8.30        1   \n",
       "3  LOE65001063010A6BP00378AI06BF12000   #20161224172010        8.31        1   \n",
       "4  LOE65001063010A6BP00029AI06BF12000   #20161224172057        8.47        1   \n",
       "\n",
       "   Max_Y\\t\\t\\t  V_MTF50P_C  V_MTF50P_UL  V_MTF50P_LL  V_MTF50P_UR  \\\n",
       "0       220.90      0.1323       0.0973       0.1067       0.1188   \n",
       "1       183.12      0.1301       0.0915       0.1221       0.1631   \n",
       "2       181.06      0.1986       0.1178       0.1170       0.1844   \n",
       "3       187.32      0.2062       0.1097       0.1063       0.1809   \n",
       "4       219.21      0.1934       0.1692       0.1780       0.1007   \n",
       "\n",
       "   V_MTF50P_LR\\t\\t\\t   ...    H_SFR@0.125C/P_UL  H_SFR@0.125C/P_LL  \\\n",
       "0             0.1250   ...               0.4600             0.2391   \n",
       "1             0.1968   ...               0.3416             0.3579   \n",
       "2             0.1900   ...               0.4168             0.4555   \n",
       "3             0.1836   ...               0.4457             0.4355   \n",
       "4             0.0965   ...               0.5561             0.5380   \n",
       "\n",
       "   H_SFR@0.125C/P_UR  H_SFR@0.125C/P_LR\\t\\t  X_Shift  Y_Shift  Rotation  \\\n",
       "0             0.5446                 0.3109     -0.2    -22.0   179.816   \n",
       "1             0.4880                 0.4893    -13.4     10.0   179.777   \n",
       "2             0.6140                 0.6172     -9.2     -7.0   179.840   \n",
       "3             0.5374                 0.5595     -0.6      0.5   179.868   \n",
       "4             0.4876                 0.4160     -4.7    -18.0   179.996   \n",
       "\n",
       "   FOV-D   FOV-H   FOV-V  \n",
       "0  80.34   72.64   44.90  \n",
       "1  80.62   72.55   44.75  \n",
       "2  80.24   72.46   44.73  \n",
       "3  80.39   72.56   44.74  \n",
       "4  79.73   72.21   44.67  \n",
       "\n",
       "[5 rows x 41 columns]"
      ]
     },
     "execution_count": 3,
     "metadata": {},
     "output_type": "execute_result"
    }
   ],
   "source": [
    "file_loc = r'/Users/fanchang/Desktop/A50/IQC_correlation'\n",
    "file_name = r'13pcs_tracking_focus_iq_off.csv'\n",
    "df_IQC = pd.read_csv(os.path.join(file_loc, file_name))\n",
    "df_IQC.head(5)"
   ]
  },
  {
   "cell_type": "code",
   "execution_count": 4,
   "metadata": {},
   "outputs": [],
   "source": [
    "df_module_IQC = df_module.merge(df_IQC, left_on='SeqNO', right_on='SN', how='inner')"
   ]
  },
  {
   "cell_type": "code",
   "execution_count": 13,
   "metadata": {},
   "outputs": [
    {
     "name": "stdout",
     "output_type": "stream",
     "text": [
      "R-squared: 0.850851608483\n",
      "MSE: 0.139435384433\n"
     ]
    }
   ],
   "source": [
    "x = np.array(df_module_IQC['CT'])\n",
    "y = np.array(df_module_IQC['V_SFR@0.125C/P_C'])\n",
    "slope, intercept, r_value, p_value, std_err = stats.linregress(x, y)\n",
    "p = np.poly1d([slope,intercept])\n",
    "print \"R-squared:\", r_value**2\n",
    "#print p\n",
    "print \"MSE:\", std_err"
   ]
  },
  {
   "cell_type": "code",
   "execution_count": 35,
   "metadata": {},
   "outputs": [
    {
     "data": {
      "text/plain": [
       "<matplotlib.text.Text at 0x11b060e50>"
      ]
     },
     "execution_count": 35,
     "metadata": {},
     "output_type": "execute_result"
    },
    {
     "data": {
      "image/png": "[encoded data removed]",
      "text/plain": [
       "<matplotlib.figure.Figure at 0x11b184b50>"
      ]
     },
     "metadata": {},
     "output_type": "display_data"
    }
   ],
   "source": [
    "plt.figure(figsize=[12,9])\n",
    "plt.plot(df_module_IQC['CT'],df_module_IQC['V_SFR@0.125C/P_C'],'o',markersize=8)\n",
    "plt.plot(np.sort(df_module_IQC['CT']),p(np.sort(df_module_IQC['CT'])),'-',lw=2)\n",
    "plt.grid(True)\n",
    "plt.xlabel('Module center SFR')\n",
    "plt.ylabel('IQC center SFR')"
   ]
  },
  {
   "cell_type": "code",
   "execution_count": 15,
   "metadata": {},
   "outputs": [
    {
     "data": {
      "text/plain": [
       "0.13256351686138487"
      ]
     },
     "execution_count": 15,
     "metadata": {},
     "output_type": "execute_result"
    }
   ],
   "source": [
    "np.sqrt(sum((p(np.sort(df_module_IQC['CT']))-df_module_IQC['V_SFR@0.125C/P_C'])**2)/12)"
   ]
  },
  {
   "cell_type": "code",
   "execution_count": 32,
   "metadata": {},
   "outputs": [
    {
     "data": {
      "text/plain": [
       "(array([ 2.,  0.,  1.,  0.,  0.,  2.,  1.,  2.,  3.,  2.]),\n",
       " array([ 0.5188 ,  0.54257,  0.56634,  0.59011,  0.61388,  0.63765,\n",
       "         0.66142,  0.68519,  0.70896,  0.73273,  0.7565 ]),\n",
       " <a list of 10 Patch objects>)"
      ]
     },
     "execution_count": 32,
     "metadata": {},
     "output_type": "execute_result"
    },
    {
     "data": {
      "image/png": "[encoded data removed]",
      "text/plain": [
       "<matplotlib.figure.Figure at 0x11a4014d0>"
      ]
     },
     "metadata": {},
     "output_type": "display_data"
    }
   ],
   "source": [
    "plt.hist(df_module_IQC['V_SFR@0.125C/P_C'])"
   ]
  },
  {
   "cell_type": "code",
   "execution_count": 18,
   "metadata": {},
   "outputs": [
    {
     "data": {
      "text/html": [
       "<div>\n",
       "<table border=\"1\" class=\"dataframe\">\n",
       "  <thead>\n",
       "    <tr style=\"text-align: right;\">\n",
       "      <th></th>\n",
       "      <th>SN</th>\n",
       "      <th>FFSID</th>\n",
       "      <th>Time</th>\n",
       "      <th>Test_Time</th>\n",
       "      <th>IQ</th>\n",
       "      <th>Result</th>\n",
       "      <th>Center_Y</th>\n",
       "      <th>V_MTF50P_C</th>\n",
       "      <th>V_MTF50P_UL</th>\n",
       "      <th>V_MTF50P_LL</th>\n",
       "      <th>...</th>\n",
       "      <th>H_SFR@0.25C/P_LL</th>\n",
       "      <th>H_SFR@0.25C/P_UR</th>\n",
       "      <th>H_SFR@0.25C/P_LR</th>\n",
       "      <th>X_Shift</th>\n",
       "      <th>Y_Shift</th>\n",
       "      <th>Rotation</th>\n",
       "      <th>FOV-D</th>\n",
       "      <th>FOV-H</th>\n",
       "      <th>FOV-V</th>\n",
       "      <th>LED</th>\n",
       "    </tr>\n",
       "  </thead>\n",
       "  <tbody>\n",
       "    <tr>\n",
       "      <th>0</th>\n",
       "      <td>#LOE65001063010A6BP001E1AI06BF12000</td>\n",
       "      <td>#716G0004T</td>\n",
       "      <td>#20170109094211</td>\n",
       "      <td>19.17</td>\n",
       "      <td>0</td>\n",
       "      <td>1</td>\n",
       "      <td>132.29</td>\n",
       "      <td>0.3949</td>\n",
       "      <td>0.3520</td>\n",
       "      <td>0.3455</td>\n",
       "      <td>...</td>\n",
       "      <td>1.1010</td>\n",
       "      <td>1.1830</td>\n",
       "      <td>0.9910</td>\n",
       "      <td>-9.2</td>\n",
       "      <td>11.5</td>\n",
       "      <td>179.553</td>\n",
       "      <td>76.47</td>\n",
       "      <td>68.66</td>\n",
       "      <td>41.84</td>\n",
       "      <td>0</td>\n",
       "    </tr>\n",
       "    <tr>\n",
       "      <th>1</th>\n",
       "      <td>#LOE65001063010A6BP001E1AI06BF12000</td>\n",
       "      <td>#716G0004T</td>\n",
       "      <td>#20170109101445</td>\n",
       "      <td>18.82</td>\n",
       "      <td>0</td>\n",
       "      <td>1</td>\n",
       "      <td>132.02</td>\n",
       "      <td>0.4206</td>\n",
       "      <td>0.3566</td>\n",
       "      <td>0.3502</td>\n",
       "      <td>...</td>\n",
       "      <td>0.9932</td>\n",
       "      <td>1.1020</td>\n",
       "      <td>0.9726</td>\n",
       "      <td>-9.3</td>\n",
       "      <td>10.5</td>\n",
       "      <td>179.547</td>\n",
       "      <td>76.48</td>\n",
       "      <td>68.69</td>\n",
       "      <td>41.86</td>\n",
       "      <td>0</td>\n",
       "    </tr>\n",
       "    <tr>\n",
       "      <th>2</th>\n",
       "      <td>#LOE65001063010A6BP001E1AI06BF12000</td>\n",
       "      <td>#716G0004T</td>\n",
       "      <td>#20170109101613</td>\n",
       "      <td>18.77</td>\n",
       "      <td>0</td>\n",
       "      <td>1</td>\n",
       "      <td>131.27</td>\n",
       "      <td>0.4124</td>\n",
       "      <td>0.3686</td>\n",
       "      <td>0.3546</td>\n",
       "      <td>...</td>\n",
       "      <td>0.9697</td>\n",
       "      <td>1.2590</td>\n",
       "      <td>0.9626</td>\n",
       "      <td>-9.3</td>\n",
       "      <td>10.5</td>\n",
       "      <td>179.547</td>\n",
       "      <td>76.49</td>\n",
       "      <td>68.69</td>\n",
       "      <td>41.85</td>\n",
       "      <td>0</td>\n",
       "    </tr>\n",
       "    <tr>\n",
       "      <th>3</th>\n",
       "      <td>#LOE65001063010A6BP00381AI06BF12000</td>\n",
       "      <td>#716G0004P</td>\n",
       "      <td>#20170109102752</td>\n",
       "      <td>19.14</td>\n",
       "      <td>0</td>\n",
       "      <td>1</td>\n",
       "      <td>117.99</td>\n",
       "      <td>0.5009</td>\n",
       "      <td>0.3579</td>\n",
       "      <td>0.3480</td>\n",
       "      <td>...</td>\n",
       "      <td>0.9240</td>\n",
       "      <td>0.6899</td>\n",
       "      <td>0.7792</td>\n",
       "      <td>14.7</td>\n",
       "      <td>16.0</td>\n",
       "      <td>179.590</td>\n",
       "      <td>76.07</td>\n",
       "      <td>68.24</td>\n",
       "      <td>41.57</td>\n",
       "      <td>0</td>\n",
       "    </tr>\n",
       "    <tr>\n",
       "      <th>4</th>\n",
       "      <td>#LOE65001063010A6BP00306AI06BF12000</td>\n",
       "      <td>#716G0004E</td>\n",
       "      <td>#20170109103933</td>\n",
       "      <td>19.25</td>\n",
       "      <td>0</td>\n",
       "      <td>1</td>\n",
       "      <td>123.67</td>\n",
       "      <td>0.3950</td>\n",
       "      <td>0.3715</td>\n",
       "      <td>0.3547</td>\n",
       "      <td>...</td>\n",
       "      <td>1.1800</td>\n",
       "      <td>1.1420</td>\n",
       "      <td>0.9540</td>\n",
       "      <td>-1.5</td>\n",
       "      <td>17.0</td>\n",
       "      <td>179.442</td>\n",
       "      <td>75.83</td>\n",
       "      <td>68.12</td>\n",
       "      <td>41.57</td>\n",
       "      <td>0</td>\n",
       "    </tr>\n",
       "  </tbody>\n",
       "</table>\n",
       "<p>5 rows × 44 columns</p>\n",
       "</div>"
      ],
      "text/plain": [
       "                                    SN        FFSID              Time  \\\n",
       "0  #LOE65001063010A6BP001E1AI06BF12000   #716G0004T   #20170109094211   \n",
       "1  #LOE65001063010A6BP001E1AI06BF12000   #716G0004T   #20170109101445   \n",
       "2  #LOE65001063010A6BP001E1AI06BF12000   #716G0004T   #20170109101613   \n",
       "3  #LOE65001063010A6BP00381AI06BF12000   #716G0004P   #20170109102752   \n",
       "4  #LOE65001063010A6BP00306AI06BF12000   #716G0004E   #20170109103933   \n",
       "\n",
       "    Test_Time   IQ   Result  Center_Y\\t\\t\\t  V_MTF50P_C  V_MTF50P_UL  \\\n",
       "0       19.17    0        1          132.29      0.3949       0.3520   \n",
       "1       18.82    0        1          132.02      0.4206       0.3566   \n",
       "2       18.77    0        1          131.27      0.4124       0.3686   \n",
       "3       19.14    0        1          117.99      0.5009       0.3579   \n",
       "4       19.25    0        1          123.67      0.3950       0.3715   \n",
       "\n",
       "   V_MTF50P_LL  ...   H_SFR@0.25C/P_LL  H_SFR@0.25C/P_UR  \\\n",
       "0       0.3455  ...             1.1010            1.1830   \n",
       "1       0.3502  ...             0.9932            1.1020   \n",
       "2       0.3546  ...             0.9697            1.2590   \n",
       "3       0.3480  ...             0.9240            0.6899   \n",
       "4       0.3547  ...             1.1800            1.1420   \n",
       "\n",
       "   H_SFR@0.25C/P_LR\\t\\t\\t  X_Shift  Y_Shift  Rotation  FOV-D   FOV-H   FOV-V  \\\n",
       "0                  0.9910     -9.2     11.5   179.553  76.47   68.66   41.84   \n",
       "1                  0.9726     -9.3     10.5   179.547  76.48   68.69   41.86   \n",
       "2                  0.9626     -9.3     10.5   179.547  76.49   68.69   41.85   \n",
       "3                  0.7792     14.7     16.0   179.590  76.07   68.24   41.57   \n",
       "4                  0.9540     -1.5     17.0   179.442  75.83   68.12   41.57   \n",
       "\n",
       "    LED  \n",
       "0     0  \n",
       "1     0  \n",
       "2     0  \n",
       "3     0  \n",
       "4     0  \n",
       "\n",
       "[5 rows x 44 columns]"
      ]
     },
     "execution_count": 18,
     "metadata": {},
     "output_type": "execute_result"
    }
   ],
   "source": [
    "cam_fatp = pd.read_csv(r'/Users/fanchang/Downloads/report_0109day/report_0109day/check_focus_pass_20170109.csv')\n",
    "cam_fatp.head(5)"
   ]
  },
  {
   "cell_type": "code",
   "execution_count": 33,
   "metadata": {},
   "outputs": [
    {
     "data": {
      "text/plain": [
       "([array([  0.,   0.,   1.,   0.,   3.,   5.,  11.,  38.,  30.,  14.]),\n",
       "  array([  2.,   1.,   0.,   3.,   5.,  11.,  39.,  31.,  10.,   0.])],\n",
       " array([ 1.04  ,  1.0804,  1.1208,  1.1612,  1.2016,  1.242 ,  1.2824,\n",
       "         1.3228,  1.3632,  1.4036,  1.444 ]),\n",
       " <a list of 2 Lists of Patches objects>)"
      ]
     },
     "execution_count": 33,
     "metadata": {},
     "output_type": "execute_result"
    },
    {
     "data": {
      "image/png": "[encoded data removed]",
      "text/plain": [
       "<matplotlib.figure.Figure at 0x11a568610>"
      ]
     },
     "metadata": {},
     "output_type": "display_data"
    }
   ],
   "source": [
    "plt.hist([cam_fatp['V_SFR@0.125C/P_C'],cam_fatp['H_SFR@0.125C/P_C']])"
   ]
  },
  {
   "cell_type": "code",
   "execution_count": 21,
   "metadata": {},
   "outputs": [
    {
     "data": {
      "text/plain": [
       "[<matplotlib.lines.Line2D at 0x119471250>]"
      ]
     },
     "execution_count": 21,
     "metadata": {},
     "output_type": "execute_result"
    },
    {
     "data": {
      "image/png": "[encoded data removed]",
      "text/plain": [
       "<matplotlib.figure.Figure at 0x117b75bd0>"
      ]
     },
     "metadata": {},
     "output_type": "display_data"
    }
   ],
   "source": [
    "plt.plot(cam_fatp['V_SFR@0.125C/P_C'],cam_fatp['H_SFR@0.125C/P_C'],'o')"
   ]
  },
  {
   "cell_type": "code",
   "execution_count": null,
   "metadata": {
    "collapsed": true
   },
   "outputs": [],
   "source": []
  }
 ],
 "metadata": {
  "kernelspec": {
   "display_name": "Python 2",
   "language": "python",
   "name": "python2"
  },
  "language_info": {
   "codemirror_mode": {
    "name": "ipython",
    "version": 2
   },
   "file_extension": ".py",
   "mimetype": "text/x-python",
   "name": "python",
   "nbconvert_exporter": "python",
   "pygments_lexer": "ipython2",
   "version": "2.7.14"
  }
 },
 "nbformat": 4,
 "nbformat_minor": 1
}
